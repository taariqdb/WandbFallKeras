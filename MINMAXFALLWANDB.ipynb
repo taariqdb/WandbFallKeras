{
  "nbformat": 4,
  "nbformat_minor": 0,
  "metadata": {
    "colab": {
      "name": "MINMAXFALLWANDB.ipynb",
      "provenance": []
    },
    "kernelspec": {
      "name": "python3",
      "display_name": "Python 3"
    },
    "language_info": {
      "name": "python"
    },
    "accelerator": "GPU"
  },
  "cells": [
    {
      "cell_type": "code",
      "execution_count": 1,
      "metadata": {
        "colab": {
          "base_uri": "https://localhost:8080/"
        },
        "id": "Vx0jg3i1ZMJe",
        "outputId": "7738e3a0-4000-46d5-d89d-0b976aebf2be"
      },
      "outputs": [
        {
          "output_type": "stream",
          "name": "stdout",
          "text": [
            "Mounted at /content/MyDrive/\n"
          ]
        }
      ],
      "source": [
        "from google.colab import drive\n",
        "drive.mount('/content/MyDrive/')"
      ]
    },
    {
      "cell_type": "code",
      "source": [
        "# Select TensorFlow 2.0\n",
        "%tensorflow_version 2.x"
      ],
      "metadata": {
        "id": "45Yh_W_OZwV6"
      },
      "execution_count": 2,
      "outputs": []
    },
    {
      "cell_type": "code",
      "source": [
        "# Install Weights and Biases\n",
        "!pip install wandb"
      ],
      "metadata": {
        "colab": {
          "base_uri": "https://localhost:8080/"
        },
        "id": "qJkIrWMuZ3Pf",
        "outputId": "dc2db133-521d-4745-d9bb-a7a789093733"
      },
      "execution_count": 3,
      "outputs": [
        {
          "output_type": "stream",
          "name": "stdout",
          "text": [
            "Collecting wandb\n",
            "  Downloading wandb-0.12.11-py2.py3-none-any.whl (1.7 MB)\n",
            "\u001b[?25l\r\u001b[K     |▏                               | 10 kB 4.7 MB/s eta 0:00:01\r\u001b[K     |▍                               | 20 kB 7.6 MB/s eta 0:00:01\r\u001b[K     |▋                               | 30 kB 10.0 MB/s eta 0:00:01\r\u001b[K     |▊                               | 40 kB 10.8 MB/s eta 0:00:01\r\u001b[K     |█                               | 51 kB 7.2 MB/s eta 0:00:01\r\u001b[K     |█▏                              | 61 kB 8.3 MB/s eta 0:00:01\r\u001b[K     |█▎                              | 71 kB 7.2 MB/s eta 0:00:01\r\u001b[K     |█▌                              | 81 kB 4.8 MB/s eta 0:00:01\r\u001b[K     |█▊                              | 92 kB 5.3 MB/s eta 0:00:01\r\u001b[K     |█▉                              | 102 kB 5.8 MB/s eta 0:00:01\r\u001b[K     |██                              | 112 kB 5.8 MB/s eta 0:00:01\r\u001b[K     |██▎                             | 122 kB 5.8 MB/s eta 0:00:01\r\u001b[K     |██▍                             | 133 kB 5.8 MB/s eta 0:00:01\r\u001b[K     |██▋                             | 143 kB 5.8 MB/s eta 0:00:01\r\u001b[K     |██▉                             | 153 kB 5.8 MB/s eta 0:00:01\r\u001b[K     |███                             | 163 kB 5.8 MB/s eta 0:00:01\r\u001b[K     |███▏                            | 174 kB 5.8 MB/s eta 0:00:01\r\u001b[K     |███▍                            | 184 kB 5.8 MB/s eta 0:00:01\r\u001b[K     |███▋                            | 194 kB 5.8 MB/s eta 0:00:01\r\u001b[K     |███▊                            | 204 kB 5.8 MB/s eta 0:00:01\r\u001b[K     |████                            | 215 kB 5.8 MB/s eta 0:00:01\r\u001b[K     |████▏                           | 225 kB 5.8 MB/s eta 0:00:01\r\u001b[K     |████▎                           | 235 kB 5.8 MB/s eta 0:00:01\r\u001b[K     |████▌                           | 245 kB 5.8 MB/s eta 0:00:01\r\u001b[K     |████▊                           | 256 kB 5.8 MB/s eta 0:00:01\r\u001b[K     |████▉                           | 266 kB 5.8 MB/s eta 0:00:01\r\u001b[K     |█████                           | 276 kB 5.8 MB/s eta 0:00:01\r\u001b[K     |█████▎                          | 286 kB 5.8 MB/s eta 0:00:01\r\u001b[K     |█████▌                          | 296 kB 5.8 MB/s eta 0:00:01\r\u001b[K     |█████▋                          | 307 kB 5.8 MB/s eta 0:00:01\r\u001b[K     |█████▉                          | 317 kB 5.8 MB/s eta 0:00:01\r\u001b[K     |██████                          | 327 kB 5.8 MB/s eta 0:00:01\r\u001b[K     |██████▏                         | 337 kB 5.8 MB/s eta 0:00:01\r\u001b[K     |██████▍                         | 348 kB 5.8 MB/s eta 0:00:01\r\u001b[K     |██████▋                         | 358 kB 5.8 MB/s eta 0:00:01\r\u001b[K     |██████▊                         | 368 kB 5.8 MB/s eta 0:00:01\r\u001b[K     |███████                         | 378 kB 5.8 MB/s eta 0:00:01\r\u001b[K     |███████▏                        | 389 kB 5.8 MB/s eta 0:00:01\r\u001b[K     |███████▎                        | 399 kB 5.8 MB/s eta 0:00:01\r\u001b[K     |███████▌                        | 409 kB 5.8 MB/s eta 0:00:01\r\u001b[K     |███████▊                        | 419 kB 5.8 MB/s eta 0:00:01\r\u001b[K     |███████▉                        | 430 kB 5.8 MB/s eta 0:00:01\r\u001b[K     |████████                        | 440 kB 5.8 MB/s eta 0:00:01\r\u001b[K     |████████▎                       | 450 kB 5.8 MB/s eta 0:00:01\r\u001b[K     |████████▌                       | 460 kB 5.8 MB/s eta 0:00:01\r\u001b[K     |████████▋                       | 471 kB 5.8 MB/s eta 0:00:01\r\u001b[K     |████████▉                       | 481 kB 5.8 MB/s eta 0:00:01\r\u001b[K     |█████████                       | 491 kB 5.8 MB/s eta 0:00:01\r\u001b[K     |█████████▏                      | 501 kB 5.8 MB/s eta 0:00:01\r\u001b[K     |█████████▍                      | 512 kB 5.8 MB/s eta 0:00:01\r\u001b[K     |█████████▋                      | 522 kB 5.8 MB/s eta 0:00:01\r\u001b[K     |█████████▊                      | 532 kB 5.8 MB/s eta 0:00:01\r\u001b[K     |██████████                      | 542 kB 5.8 MB/s eta 0:00:01\r\u001b[K     |██████████▏                     | 552 kB 5.8 MB/s eta 0:00:01\r\u001b[K     |██████████▎                     | 563 kB 5.8 MB/s eta 0:00:01\r\u001b[K     |██████████▌                     | 573 kB 5.8 MB/s eta 0:00:01\r\u001b[K     |██████████▊                     | 583 kB 5.8 MB/s eta 0:00:01\r\u001b[K     |███████████                     | 593 kB 5.8 MB/s eta 0:00:01\r\u001b[K     |███████████                     | 604 kB 5.8 MB/s eta 0:00:01\r\u001b[K     |███████████▎                    | 614 kB 5.8 MB/s eta 0:00:01\r\u001b[K     |███████████▌                    | 624 kB 5.8 MB/s eta 0:00:01\r\u001b[K     |███████████▋                    | 634 kB 5.8 MB/s eta 0:00:01\r\u001b[K     |███████████▉                    | 645 kB 5.8 MB/s eta 0:00:01\r\u001b[K     |████████████                    | 655 kB 5.8 MB/s eta 0:00:01\r\u001b[K     |████████████▏                   | 665 kB 5.8 MB/s eta 0:00:01\r\u001b[K     |████████████▍                   | 675 kB 5.8 MB/s eta 0:00:01\r\u001b[K     |████████████▋                   | 686 kB 5.8 MB/s eta 0:00:01\r\u001b[K     |████████████▊                   | 696 kB 5.8 MB/s eta 0:00:01\r\u001b[K     |█████████████                   | 706 kB 5.8 MB/s eta 0:00:01\r\u001b[K     |█████████████▏                  | 716 kB 5.8 MB/s eta 0:00:01\r\u001b[K     |█████████████▍                  | 727 kB 5.8 MB/s eta 0:00:01\r\u001b[K     |█████████████▌                  | 737 kB 5.8 MB/s eta 0:00:01\r\u001b[K     |█████████████▊                  | 747 kB 5.8 MB/s eta 0:00:01\r\u001b[K     |██████████████                  | 757 kB 5.8 MB/s eta 0:00:01\r\u001b[K     |██████████████                  | 768 kB 5.8 MB/s eta 0:00:01\r\u001b[K     |██████████████▎                 | 778 kB 5.8 MB/s eta 0:00:01\r\u001b[K     |██████████████▌                 | 788 kB 5.8 MB/s eta 0:00:01\r\u001b[K     |██████████████▋                 | 798 kB 5.8 MB/s eta 0:00:01\r\u001b[K     |██████████████▉                 | 808 kB 5.8 MB/s eta 0:00:01\r\u001b[K     |███████████████                 | 819 kB 5.8 MB/s eta 0:00:01\r\u001b[K     |███████████████▏                | 829 kB 5.8 MB/s eta 0:00:01\r\u001b[K     |███████████████▍                | 839 kB 5.8 MB/s eta 0:00:01\r\u001b[K     |███████████████▋                | 849 kB 5.8 MB/s eta 0:00:01\r\u001b[K     |███████████████▊                | 860 kB 5.8 MB/s eta 0:00:01\r\u001b[K     |████████████████                | 870 kB 5.8 MB/s eta 0:00:01\r\u001b[K     |████████████████▏               | 880 kB 5.8 MB/s eta 0:00:01\r\u001b[K     |████████████████▍               | 890 kB 5.8 MB/s eta 0:00:01\r\u001b[K     |████████████████▌               | 901 kB 5.8 MB/s eta 0:00:01\r\u001b[K     |████████████████▊               | 911 kB 5.8 MB/s eta 0:00:01\r\u001b[K     |█████████████████               | 921 kB 5.8 MB/s eta 0:00:01\r\u001b[K     |█████████████████               | 931 kB 5.8 MB/s eta 0:00:01\r\u001b[K     |█████████████████▎              | 942 kB 5.8 MB/s eta 0:00:01\r\u001b[K     |█████████████████▌              | 952 kB 5.8 MB/s eta 0:00:01\r\u001b[K     |█████████████████▋              | 962 kB 5.8 MB/s eta 0:00:01\r\u001b[K     |█████████████████▉              | 972 kB 5.8 MB/s eta 0:00:01\r\u001b[K     |██████████████████              | 983 kB 5.8 MB/s eta 0:00:01\r\u001b[K     |██████████████████▏             | 993 kB 5.8 MB/s eta 0:00:01\r\u001b[K     |██████████████████▍             | 1.0 MB 5.8 MB/s eta 0:00:01\r\u001b[K     |██████████████████▋             | 1.0 MB 5.8 MB/s eta 0:00:01\r\u001b[K     |██████████████████▉             | 1.0 MB 5.8 MB/s eta 0:00:01\r\u001b[K     |███████████████████             | 1.0 MB 5.8 MB/s eta 0:00:01\r\u001b[K     |███████████████████▏            | 1.0 MB 5.8 MB/s eta 0:00:01\r\u001b[K     |███████████████████▍            | 1.1 MB 5.8 MB/s eta 0:00:01\r\u001b[K     |███████████████████▌            | 1.1 MB 5.8 MB/s eta 0:00:01\r\u001b[K     |███████████████████▊            | 1.1 MB 5.8 MB/s eta 0:00:01\r\u001b[K     |████████████████████            | 1.1 MB 5.8 MB/s eta 0:00:01\r\u001b[K     |████████████████████            | 1.1 MB 5.8 MB/s eta 0:00:01\r\u001b[K     |████████████████████▎           | 1.1 MB 5.8 MB/s eta 0:00:01\r\u001b[K     |████████████████████▌           | 1.1 MB 5.8 MB/s eta 0:00:01\r\u001b[K     |████████████████████▋           | 1.1 MB 5.8 MB/s eta 0:00:01\r\u001b[K     |████████████████████▉           | 1.1 MB 5.8 MB/s eta 0:00:01\r\u001b[K     |█████████████████████           | 1.1 MB 5.8 MB/s eta 0:00:01\r\u001b[K     |█████████████████████▏          | 1.2 MB 5.8 MB/s eta 0:00:01\r\u001b[K     |█████████████████████▍          | 1.2 MB 5.8 MB/s eta 0:00:01\r\u001b[K     |█████████████████████▋          | 1.2 MB 5.8 MB/s eta 0:00:01\r\u001b[K     |█████████████████████▉          | 1.2 MB 5.8 MB/s eta 0:00:01\r\u001b[K     |██████████████████████          | 1.2 MB 5.8 MB/s eta 0:00:01\r\u001b[K     |██████████████████████▏         | 1.2 MB 5.8 MB/s eta 0:00:01\r\u001b[K     |██████████████████████▍         | 1.2 MB 5.8 MB/s eta 0:00:01\r\u001b[K     |██████████████████████▌         | 1.2 MB 5.8 MB/s eta 0:00:01\r\u001b[K     |██████████████████████▊         | 1.2 MB 5.8 MB/s eta 0:00:01\r\u001b[K     |███████████████████████         | 1.2 MB 5.8 MB/s eta 0:00:01\r\u001b[K     |███████████████████████         | 1.3 MB 5.8 MB/s eta 0:00:01\r\u001b[K     |███████████████████████▎        | 1.3 MB 5.8 MB/s eta 0:00:01\r\u001b[K     |███████████████████████▌        | 1.3 MB 5.8 MB/s eta 0:00:01\r\u001b[K     |███████████████████████▋        | 1.3 MB 5.8 MB/s eta 0:00:01\r\u001b[K     |███████████████████████▉        | 1.3 MB 5.8 MB/s eta 0:00:01\r\u001b[K     |████████████████████████        | 1.3 MB 5.8 MB/s eta 0:00:01\r\u001b[K     |████████████████████████▎       | 1.3 MB 5.8 MB/s eta 0:00:01\r\u001b[K     |████████████████████████▍       | 1.3 MB 5.8 MB/s eta 0:00:01\r\u001b[K     |████████████████████████▋       | 1.3 MB 5.8 MB/s eta 0:00:01\r\u001b[K     |████████████████████████▉       | 1.4 MB 5.8 MB/s eta 0:00:01\r\u001b[K     |█████████████████████████       | 1.4 MB 5.8 MB/s eta 0:00:01\r\u001b[K     |█████████████████████████▏      | 1.4 MB 5.8 MB/s eta 0:00:01\r\u001b[K     |█████████████████████████▍      | 1.4 MB 5.8 MB/s eta 0:00:01\r\u001b[K     |█████████████████████████▌      | 1.4 MB 5.8 MB/s eta 0:00:01\r\u001b[K     |█████████████████████████▊      | 1.4 MB 5.8 MB/s eta 0:00:01\r\u001b[K     |██████████████████████████      | 1.4 MB 5.8 MB/s eta 0:00:01\r\u001b[K     |██████████████████████████      | 1.4 MB 5.8 MB/s eta 0:00:01\r\u001b[K     |██████████████████████████▎     | 1.4 MB 5.8 MB/s eta 0:00:01\r\u001b[K     |██████████████████████████▌     | 1.4 MB 5.8 MB/s eta 0:00:01\r\u001b[K     |██████████████████████████▊     | 1.5 MB 5.8 MB/s eta 0:00:01\r\u001b[K     |██████████████████████████▉     | 1.5 MB 5.8 MB/s eta 0:00:01\r\u001b[K     |███████████████████████████     | 1.5 MB 5.8 MB/s eta 0:00:01\r\u001b[K     |███████████████████████████▎    | 1.5 MB 5.8 MB/s eta 0:00:01\r\u001b[K     |███████████████████████████▍    | 1.5 MB 5.8 MB/s eta 0:00:01\r\u001b[K     |███████████████████████████▋    | 1.5 MB 5.8 MB/s eta 0:00:01\r\u001b[K     |███████████████████████████▉    | 1.5 MB 5.8 MB/s eta 0:00:01\r\u001b[K     |████████████████████████████    | 1.5 MB 5.8 MB/s eta 0:00:01\r\u001b[K     |████████████████████████████▏   | 1.5 MB 5.8 MB/s eta 0:00:01\r\u001b[K     |████████████████████████████▍   | 1.5 MB 5.8 MB/s eta 0:00:01\r\u001b[K     |████████████████████████████▌   | 1.6 MB 5.8 MB/s eta 0:00:01\r\u001b[K     |████████████████████████████▊   | 1.6 MB 5.8 MB/s eta 0:00:01\r\u001b[K     |█████████████████████████████   | 1.6 MB 5.8 MB/s eta 0:00:01\r\u001b[K     |█████████████████████████████   | 1.6 MB 5.8 MB/s eta 0:00:01\r\u001b[K     |█████████████████████████████▎  | 1.6 MB 5.8 MB/s eta 0:00:01\r\u001b[K     |█████████████████████████████▌  | 1.6 MB 5.8 MB/s eta 0:00:01\r\u001b[K     |█████████████████████████████▊  | 1.6 MB 5.8 MB/s eta 0:00:01\r\u001b[K     |█████████████████████████████▉  | 1.6 MB 5.8 MB/s eta 0:00:01\r\u001b[K     |██████████████████████████████  | 1.6 MB 5.8 MB/s eta 0:00:01\r\u001b[K     |██████████████████████████████▎ | 1.6 MB 5.8 MB/s eta 0:00:01\r\u001b[K     |██████████████████████████████▍ | 1.7 MB 5.8 MB/s eta 0:00:01\r\u001b[K     |██████████████████████████████▋ | 1.7 MB 5.8 MB/s eta 0:00:01\r\u001b[K     |██████████████████████████████▉ | 1.7 MB 5.8 MB/s eta 0:00:01\r\u001b[K     |███████████████████████████████ | 1.7 MB 5.8 MB/s eta 0:00:01\r\u001b[K     |███████████████████████████████▏| 1.7 MB 5.8 MB/s eta 0:00:01\r\u001b[K     |███████████████████████████████▍| 1.7 MB 5.8 MB/s eta 0:00:01\r\u001b[K     |███████████████████████████████▌| 1.7 MB 5.8 MB/s eta 0:00:01\r\u001b[K     |███████████████████████████████▊| 1.7 MB 5.8 MB/s eta 0:00:01\r\u001b[K     |████████████████████████████████| 1.7 MB 5.8 MB/s eta 0:00:01\r\u001b[K     |████████████████████████████████| 1.7 MB 5.8 MB/s \n",
            "\u001b[?25hCollecting yaspin>=1.0.0\n",
            "  Downloading yaspin-2.1.0-py3-none-any.whl (18 kB)\n",
            "Collecting docker-pycreds>=0.4.0\n",
            "  Downloading docker_pycreds-0.4.0-py2.py3-none-any.whl (9.0 kB)\n",
            "Requirement already satisfied: protobuf>=3.12.0 in /usr/local/lib/python3.7/dist-packages (from wandb) (3.17.3)\n",
            "Requirement already satisfied: six>=1.13.0 in /usr/local/lib/python3.7/dist-packages (from wandb) (1.15.0)\n",
            "Collecting sentry-sdk>=1.0.0\n",
            "  Downloading sentry_sdk-1.5.8-py2.py3-none-any.whl (144 kB)\n",
            "\u001b[K     |████████████████████████████████| 144 kB 33.6 MB/s \n",
            "\u001b[?25hRequirement already satisfied: promise<3,>=2.0 in /usr/local/lib/python3.7/dist-packages (from wandb) (2.3)\n",
            "Requirement already satisfied: psutil>=5.0.0 in /usr/local/lib/python3.7/dist-packages (from wandb) (5.4.8)\n",
            "Requirement already satisfied: python-dateutil>=2.6.1 in /usr/local/lib/python3.7/dist-packages (from wandb) (2.8.2)\n",
            "Collecting shortuuid>=0.5.0\n",
            "  Downloading shortuuid-1.0.8-py3-none-any.whl (9.5 kB)\n",
            "Collecting GitPython>=1.0.0\n",
            "  Downloading GitPython-3.1.27-py3-none-any.whl (181 kB)\n",
            "\u001b[K     |████████████████████████████████| 181 kB 44.9 MB/s \n",
            "\u001b[?25hRequirement already satisfied: PyYAML in /usr/local/lib/python3.7/dist-packages (from wandb) (3.13)\n",
            "Requirement already satisfied: Click!=8.0.0,>=7.0 in /usr/local/lib/python3.7/dist-packages (from wandb) (7.1.2)\n",
            "Collecting pathtools\n",
            "  Downloading pathtools-0.1.2.tar.gz (11 kB)\n",
            "Requirement already satisfied: requests<3,>=2.0.0 in /usr/local/lib/python3.7/dist-packages (from wandb) (2.23.0)\n",
            "Collecting setproctitle\n",
            "  Downloading setproctitle-1.2.2-cp37-cp37m-manylinux1_x86_64.whl (36 kB)\n",
            "Requirement already satisfied: typing-extensions>=3.7.4.3 in /usr/local/lib/python3.7/dist-packages (from GitPython>=1.0.0->wandb) (3.10.0.2)\n",
            "Collecting gitdb<5,>=4.0.1\n",
            "  Downloading gitdb-4.0.9-py3-none-any.whl (63 kB)\n",
            "\u001b[K     |████████████████████████████████| 63 kB 1.7 MB/s \n",
            "\u001b[?25hCollecting smmap<6,>=3.0.1\n",
            "  Downloading smmap-5.0.0-py3-none-any.whl (24 kB)\n",
            "Requirement already satisfied: chardet<4,>=3.0.2 in /usr/local/lib/python3.7/dist-packages (from requests<3,>=2.0.0->wandb) (3.0.4)\n",
            "Requirement already satisfied: urllib3!=1.25.0,!=1.25.1,<1.26,>=1.21.1 in /usr/local/lib/python3.7/dist-packages (from requests<3,>=2.0.0->wandb) (1.24.3)\n",
            "Requirement already satisfied: certifi>=2017.4.17 in /usr/local/lib/python3.7/dist-packages (from requests<3,>=2.0.0->wandb) (2021.10.8)\n",
            "Requirement already satisfied: idna<3,>=2.5 in /usr/local/lib/python3.7/dist-packages (from requests<3,>=2.0.0->wandb) (2.10)\n",
            "Requirement already satisfied: termcolor<2.0.0,>=1.1.0 in /usr/local/lib/python3.7/dist-packages (from yaspin>=1.0.0->wandb) (1.1.0)\n",
            "Building wheels for collected packages: pathtools\n",
            "  Building wheel for pathtools (setup.py) ... \u001b[?25l\u001b[?25hdone\n",
            "  Created wheel for pathtools: filename=pathtools-0.1.2-py3-none-any.whl size=8806 sha256=cf9992406a00e79e24ddbf049345be9a0d861e4128a7b798e9a8a1f72625501a\n",
            "  Stored in directory: /root/.cache/pip/wheels/3e/31/09/fa59cef12cdcfecc627b3d24273699f390e71828921b2cbba2\n",
            "Successfully built pathtools\n",
            "Installing collected packages: smmap, gitdb, yaspin, shortuuid, setproctitle, sentry-sdk, pathtools, GitPython, docker-pycreds, wandb\n",
            "Successfully installed GitPython-3.1.27 docker-pycreds-0.4.0 gitdb-4.0.9 pathtools-0.1.2 sentry-sdk-1.5.8 setproctitle-1.2.2 shortuuid-1.0.8 smmap-5.0.0 wandb-0.12.11 yaspin-2.1.0\n"
          ]
        }
      ]
    },
    {
      "cell_type": "code",
      "source": [
        "# Imports\n",
        "from tensorflow.keras.callbacks import TensorBoard\n",
        "\n",
        "import wandb\n",
        "from wandb.keras import WandbCallback"
      ],
      "metadata": {
        "id": "SAc2cbh6bx6D"
      },
      "execution_count": 4,
      "outputs": []
    },
    {
      "cell_type": "code",
      "source": [
        "# Login to your W&B account\n",
        "!wandb login"
      ],
      "metadata": {
        "colab": {
          "base_uri": "https://localhost:8080/"
        },
        "id": "YZbR0eOpb5tO",
        "outputId": "40be0340-8372-49f0-f79a-5ffe71dabd84"
      },
      "execution_count": 5,
      "outputs": [
        {
          "output_type": "stream",
          "name": "stdout",
          "text": [
            "\u001b[34m\u001b[1mwandb\u001b[0m: You can find your API key in your browser here: https://wandb.ai/authorize\n",
            "\u001b[34m\u001b[1mwandb\u001b[0m: Paste an API key from your profile and hit enter, or press ctrl+c to quit: \n",
            "\u001b[34m\u001b[1mwandb\u001b[0m: Appending key for api.wandb.ai to your netrc file: /root/.netrc\n"
          ]
        }
      ]
    },
    {
      "cell_type": "code",
      "source": [
        "# Initialize your W&B project allowing it to sync with TensorBoard\n",
        "wandb.init(project=\"tensorboardfall\", sync_tensorboard=True)\n",
        "config = wandb.config"
      ],
      "metadata": {
        "colab": {
          "base_uri": "https://localhost:8080/",
          "height": 88
        },
        "id": "DBj6Iaeub8uA",
        "outputId": "9753bb0a-0adf-4e0d-c61a-d069a001153c"
      },
      "execution_count": 6,
      "outputs": [
        {
          "output_type": "stream",
          "name": "stderr",
          "text": [
            "\u001b[34m\u001b[1mwandb\u001b[0m: Currently logged in as: \u001b[33mtaariqdb\u001b[0m (use `wandb login --relogin` to force relogin)\n"
          ]
        },
        {
          "output_type": "display_data",
          "data": {
            "text/plain": [
              "<IPython.core.display.HTML object>"
            ],
            "text/html": [
              "Tracking run with wandb version 0.12.11"
            ]
          },
          "metadata": {}
        },
        {
          "output_type": "display_data",
          "data": {
            "text/plain": [
              "<IPython.core.display.HTML object>"
            ],
            "text/html": [
              "Run data is saved locally in <code>/content/wandb/run-20220401_063232-2nwqzg2n</code>"
            ]
          },
          "metadata": {}
        },
        {
          "output_type": "display_data",
          "data": {
            "text/plain": [
              "<IPython.core.display.HTML object>"
            ],
            "text/html": [
              "Syncing run <strong><a href=\"https://wandb.ai/taariqdb/tensorboardfall/runs/2nwqzg2n\" target=\"_blank\">restful-wave-2</a></strong> to <a href=\"https://wandb.ai/taariqdb/tensorboardfall\" target=\"_blank\">Weights & Biases</a> (<a href=\"https://wandb.me/run\" target=\"_blank\">docs</a>)<br/>"
            ]
          },
          "metadata": {}
        }
      ]
    },
    {
      "cell_type": "code",
      "source": [
        "import pandas as pd\n",
        "import numpy as np\n",
        "import matplotlib.pyplot as plt\n",
        "%matplotlib inline"
      ],
      "metadata": {
        "id": "RhiXL-RfcEhu"
      },
      "execution_count": 7,
      "outputs": []
    },
    {
      "cell_type": "code",
      "source": [
        "df = pd.read_csv(\"/content/MyDrive/MyDrive/Allfalltypesnew.csv\")"
      ],
      "metadata": {
        "id": "meIxJ-2ScQS4"
      },
      "execution_count": 8,
      "outputs": []
    },
    {
      "cell_type": "code",
      "source": [
        "cols_to_scale = ['AccX','AccY','AccZ','GyrX','GyrY','GyrZ','EulerX','EulerY','EulerZ']\n",
        "\n",
        "from sklearn.preprocessing import MinMaxScaler \n",
        "scaler = MinMaxScaler()\n",
        "df[cols_to_scale] = scaler.fit_transform(df[cols_to_scale])"
      ],
      "metadata": {
        "id": "lnh2IRSPcSTD"
      },
      "execution_count": 9,
      "outputs": []
    },
    {
      "cell_type": "code",
      "source": [
        "for column in df:\n",
        "  print(f'{column} : {df[column].unique()}')"
      ],
      "metadata": {
        "colab": {
          "base_uri": "https://localhost:8080/"
        },
        "id": "q52UjnzVcW4y",
        "outputId": "dfb97deb-a1d5-4aac-8e8a-2a683a56d802"
      },
      "execution_count": 10,
      "outputs": [
        {
          "output_type": "stream",
          "name": "stdout",
          "text": [
            "AccX : [0.49480926 0.49493433 0.49405879 ... 0.22726704 0.18098812 0.20425266]\n",
            "AccY : [0.40885221 0.41010253 0.41135284 ... 0.967992   0.92498125 0.75493873]\n",
            "AccZ : [0.47992495 0.48205128 0.48280175 ... 0.09093183 0.87166979 0.80863039]\n",
            "GyrX : [0.36462854 0.3654879  0.36632579 ... 0.51076355 0.54015383 0.53501912]\n",
            "GyrY : [0.50659189 0.50642448 0.50830787 ... 0.72410329 0.34290378 0.37295442]\n",
            "GyrZ : [0.54384615 0.54302564 0.54276923 ... 0.28364103 0.70323077 0.82210256]\n",
            "EulerX : [0.5529026  0.55368257 0.55454213 ... 0.46618277 0.47124461 0.82041609]\n",
            "EulerY : [0.43238989 0.43245414 0.4326469  ... 0.76136473 0.76852893 0.87277926]\n",
            "EulerZ : [0.64456048 0.64451272 0.64448088 ... 0.29797192 0.30650451 0.31171002]\n",
            "TrialID : [1 2 3 4 5 6 7]\n",
            "TaskID : [20 21 22 23 24 25 26 27 28 29 30 31 32 33 34]\n",
            "Subject : ['SA06' 'SA07' 'SA08' 'SA09' 'SA10' 'SA11' 'SA12' 'SA13' 'SA14' 'SA15'\n",
            " 'SA17' 'SA24' 'SA29' 'SA35' 'SA36' 'SA37' 'SA38' 'SA30' 'SA16' 'SA21'\n",
            " 'SA25' 'SA31' 'SA18' 'SA27' 'SA19' 'SA22' 'SA26' 'SA32' 'SA20' 'SA23'\n",
            " 'SA28' 'SA33']\n",
            "DescriptionID : [ 1  2  3  4  5  6  7  8  9 10 11 12 13 14 15]\n",
            "Description : ['Forward fall when trying to sit down'\n",
            " 'Backward fall when trying to sit down'\n",
            " 'lateral fall when trying to sit down'\n",
            " 'Forward fall when trying to get up' 'lateral fall when trying to get up'\n",
            " 'Forward fall while sitting, caused by fainting'\n",
            " 'lateral fall while sitting, caused by fainting'\n",
            " 'Backward fall while sitting, caused by fainting'\n",
            " 'Vertical(forward) fall while walking caused by fainting'\n",
            " 'Fall while walking, with use of hands in a table to dampen fall, caused by fainting'\n",
            " 'Forward fall while walking caused by a trip'\n",
            " 'Forward fall while jogging caused by a trip'\n",
            " 'Forward fall while walking caused by a slip'\n",
            " ' Lateral fall while walking caused by a slip'\n",
            " 'Backward fall while walking caused by a slip']\n",
            "FTLabels : [0 2 1 3]\n",
            "FallTypes : ['Forward' 'Backward' 'Lateral' 'Dampen']\n"
          ]
        }
      ]
    },
    {
      "cell_type": "code",
      "source": [
        "df = pd.get_dummies(data = df, columns=['DescriptionID'])\n",
        "df = pd.get_dummies(data = df, columns=['FallTypes'])\n",
        "df.columns"
      ],
      "metadata": {
        "colab": {
          "base_uri": "https://localhost:8080/"
        },
        "id": "fKCepJxHeh6w",
        "outputId": "cada738a-1b29-4251-8b0d-2d71d8d997d9"
      },
      "execution_count": 11,
      "outputs": [
        {
          "output_type": "execute_result",
          "data": {
            "text/plain": [
              "Index(['AccX', 'AccY', 'AccZ', 'GyrX', 'GyrY', 'GyrZ', 'EulerX', 'EulerY',\n",
              "       'EulerZ', 'TrialID', 'TaskID', 'Subject', 'Description', 'FTLabels',\n",
              "       'DescriptionID_1', 'DescriptionID_2', 'DescriptionID_3',\n",
              "       'DescriptionID_4', 'DescriptionID_5', 'DescriptionID_6',\n",
              "       'DescriptionID_7', 'DescriptionID_8', 'DescriptionID_9',\n",
              "       'DescriptionID_10', 'DescriptionID_11', 'DescriptionID_12',\n",
              "       'DescriptionID_13', 'DescriptionID_14', 'DescriptionID_15',\n",
              "       'FallTypes_Backward', 'FallTypes_Dampen', 'FallTypes_Forward',\n",
              "       'FallTypes_Lateral'],\n",
              "      dtype='object')"
            ]
          },
          "metadata": {},
          "execution_count": 11
        }
      ]
    },
    {
      "cell_type": "code",
      "source": [
        "X = df[['AccX', 'AccY', 'AccZ', 'GyrX', 'GyrY', 'GyrZ', 'EulerX', 'EulerY','EulerZ',\n",
        "       'DescriptionID_1', 'DescriptionID_2', 'DescriptionID_3',\n",
        "       'DescriptionID_4', 'DescriptionID_5', 'DescriptionID_6',\n",
        "       'DescriptionID_7', 'DescriptionID_8', 'DescriptionID_9',\n",
        "       'DescriptionID_10', 'DescriptionID_11', 'DescriptionID_12',\n",
        "       'DescriptionID_13', 'DescriptionID_14', 'DescriptionID_15',]]\n",
        "X = np.asarray(X)"
      ],
      "metadata": {
        "id": "mWZjEiGmekSt"
      },
      "execution_count": 12,
      "outputs": []
    },
    {
      "cell_type": "code",
      "source": [
        "y = df[['FallTypes_Backward', 'FallTypes_Dampen', 'FallTypes_Forward','FallTypes_Lateral']]\n",
        "y = np.asarray(y)"
      ],
      "metadata": {
        "id": "NRL_roj4em7d"
      },
      "execution_count": 13,
      "outputs": []
    },
    {
      "cell_type": "code",
      "source": [
        "from sklearn.model_selection import train_test_split\n",
        "X_train, X_test, y_train, y_test = train_test_split(X, y, test_size=0.20)"
      ],
      "metadata": {
        "id": "Z0BPYaWdfUUJ"
      },
      "execution_count": 14,
      "outputs": []
    },
    {
      "cell_type": "code",
      "source": [
        "from keras.layers import Conv2D, MaxPooling2D\n",
        "from keras.layers import Activation, Dropout, Flatten, Dense\n",
        "import keras\n",
        "from keras.models import Sequential\n",
        "from keras.layers import Dense\n",
        "import warnings"
      ],
      "metadata": {
        "id": "Ydr414gifW1v"
      },
      "execution_count": 15,
      "outputs": []
    },
    {
      "cell_type": "code",
      "source": [
        "X.shape , y.shape"
      ],
      "metadata": {
        "colab": {
          "base_uri": "https://localhost:8080/"
        },
        "id": "aBfnxA7jfYmc",
        "outputId": "5c93a26b-2901-4f7b-96de-a81493f90f4a"
      },
      "execution_count": 16,
      "outputs": [
        {
          "output_type": "execute_result",
          "data": {
            "text/plain": [
              "((173649, 24), (173649, 4))"
            ]
          },
          "metadata": {},
          "execution_count": 16
        }
      ]
    },
    {
      "cell_type": "code",
      "source": [
        "from sklearn.metrics import confusion_matrix\n",
        "from datetime import datetime\n",
        "import matplotlib.pyplot as plt\n",
        "import tensorflow as tf\n",
        "import numpy as np\n",
        "import itertools\n",
        "import io"
      ],
      "metadata": {
        "id": "FZl_Me0tfg1F"
      },
      "execution_count": 17,
      "outputs": []
    },
    {
      "cell_type": "code",
      "source": [
        "labels = ['Backward','Dampen','Forward','Lateral']\n",
        "classlabel = ['Forward','Lateral','Backward','Dampen']"
      ],
      "metadata": {
        "id": "plZ_-4wPhisn"
      },
      "execution_count": 18,
      "outputs": []
    },
    {
      "cell_type": "code",
      "source": [
        "model = Sequential([\n",
        "                    Dense(11, input_shape=(24,), activation='relu'),\n",
        "                    Dense(4,activation='sigmoid')          \n",
        "])\n",
        "                    \n",
        "# Compiling the ANN\n",
        "model.compile(optimizer = 'adam', loss = 'binary_crossentropy', metrics = ['accuracy'])\n",
        "model.fit(X_train,y_train,epochs=200,validation_split=0.25,batch_size=40,verbose=2,callbacks=[WandbCallback(),TensorBoard(log_dir=wandb.run.dir)])"
      ],
      "metadata": {
        "colab": {
          "base_uri": "https://localhost:8080/"
        },
        "id": "77QcAHQHhlrR",
        "outputId": "98628848-ac5f-46ef-b4ab-8ebfd7e49b39"
      },
      "execution_count": 19,
      "outputs": [
        {
          "output_type": "stream",
          "name": "stdout",
          "text": [
            "Epoch 1/200\n"
          ]
        },
        {
          "output_type": "stream",
          "name": "stderr",
          "text": [
            "\u001b[34m\u001b[1mwandb\u001b[0m: \u001b[33mWARNING\u001b[0m When using several event log directories, please call wandb.tensorboard.patch(root_logdir=\"...\") before wandb.init\n"
          ]
        },
        {
          "output_type": "stream",
          "name": "stdout",
          "text": [
            "2605/2605 - 14s - loss: 0.0746 - accuracy: 0.9562 - val_loss: 0.0021 - val_accuracy: 1.0000 - _timestamp: 1648794776.0000 - _runtime: 24.0000 - 14s/epoch - 5ms/step\n",
            "Epoch 2/200\n",
            "2605/2605 - 9s - loss: 8.3057e-04 - accuracy: 1.0000 - val_loss: 2.6225e-04 - val_accuracy: 1.0000 - _timestamp: 1648794785.0000 - _runtime: 33.0000 - 9s/epoch - 4ms/step\n",
            "Epoch 3/200\n",
            "2605/2605 - 9s - loss: 1.2882e-04 - accuracy: 1.0000 - val_loss: 5.1899e-05 - val_accuracy: 1.0000 - _timestamp: 1648794795.0000 - _runtime: 43.0000 - 9s/epoch - 4ms/step\n",
            "Epoch 4/200\n",
            "2605/2605 - 10s - loss: 2.6966e-05 - accuracy: 1.0000 - val_loss: 1.1604e-05 - val_accuracy: 1.0000 - _timestamp: 1648794804.0000 - _runtime: 52.0000 - 10s/epoch - 4ms/step\n",
            "Epoch 5/200\n",
            "2605/2605 - 10s - loss: 6.1652e-06 - accuracy: 1.0000 - val_loss: 2.7339e-06 - val_accuracy: 1.0000 - _timestamp: 1648794815.0000 - _runtime: 63.0000 - 10s/epoch - 4ms/step\n",
            "Epoch 6/200\n",
            "2605/2605 - 10s - loss: 1.4715e-06 - accuracy: 1.0000 - val_loss: 6.6748e-07 - val_accuracy: 1.0000 - _timestamp: 1648794825.0000 - _runtime: 73.0000 - 10s/epoch - 4ms/step\n",
            "Epoch 7/200\n",
            "2605/2605 - 10s - loss: 3.6608e-07 - accuracy: 1.0000 - val_loss: 1.7240e-07 - val_accuracy: 1.0000 - _timestamp: 1648794835.0000 - _runtime: 83.0000 - 10s/epoch - 4ms/step\n",
            "Epoch 8/200\n",
            "2605/2605 - 10s - loss: 9.8369e-08 - accuracy: 1.0000 - val_loss: 5.0266e-08 - val_accuracy: 1.0000 - _timestamp: 1648794845.0000 - _runtime: 93.0000 - 10s/epoch - 4ms/step\n",
            "Epoch 9/200\n",
            "2605/2605 - 10s - loss: 3.1249e-08 - accuracy: 1.0000 - val_loss: 1.8548e-08 - val_accuracy: 1.0000 - _timestamp: 1648794855.0000 - _runtime: 103.0000 - 10s/epoch - 4ms/step\n",
            "Epoch 10/200\n",
            "2605/2605 - 10s - loss: 1.3392e-08 - accuracy: 1.0000 - val_loss: 9.9058e-09 - val_accuracy: 1.0000 - _timestamp: 1648794865.0000 - _runtime: 113.0000 - 10s/epoch - 4ms/step\n",
            "Epoch 11/200\n",
            "2605/2605 - 11s - loss: 8.3010e-09 - accuracy: 1.0000 - val_loss: 7.1028e-09 - val_accuracy: 1.0000 - _timestamp: 1648794876.0000 - _runtime: 124.0000 - 11s/epoch - 4ms/step\n",
            "Epoch 12/200\n",
            "2605/2605 - 10s - loss: 6.4125e-09 - accuracy: 1.0000 - val_loss: 5.8762e-09 - val_accuracy: 1.0000 - _timestamp: 1648794886.0000 - _runtime: 134.0000 - 10s/epoch - 4ms/step\n",
            "Epoch 13/200\n",
            "2605/2605 - 10s - loss: 5.4462e-09 - accuracy: 1.0000 - val_loss: 5.1072e-09 - val_accuracy: 1.0000 - _timestamp: 1648794897.0000 - _runtime: 145.0000 - 10s/epoch - 4ms/step\n",
            "Epoch 14/200\n",
            "2605/2605 - 10s - loss: 4.8546e-09 - accuracy: 1.0000 - val_loss: 4.6265e-09 - val_accuracy: 1.0000 - _timestamp: 1648794907.0000 - _runtime: 155.0000 - 10s/epoch - 4ms/step\n",
            "Epoch 15/200\n",
            "2605/2605 - 10s - loss: 4.4512e-09 - accuracy: 1.0000 - val_loss: 4.3008e-09 - val_accuracy: 1.0000 - _timestamp: 1648794916.0000 - _runtime: 164.0000 - 10s/epoch - 4ms/step\n",
            "Epoch 16/200\n",
            "2605/2605 - 10s - loss: 4.1327e-09 - accuracy: 1.0000 - val_loss: 4.0159e-09 - val_accuracy: 1.0000 - _timestamp: 1648794926.0000 - _runtime: 174.0000 - 10s/epoch - 4ms/step\n",
            "Epoch 17/200\n",
            "2605/2605 - 10s - loss: 3.8985e-09 - accuracy: 1.0000 - val_loss: 3.7895e-09 - val_accuracy: 1.0000 - _timestamp: 1648794936.0000 - _runtime: 184.0000 - 10s/epoch - 4ms/step\n",
            "Epoch 18/200\n",
            "2605/2605 - 9s - loss: 3.6944e-09 - accuracy: 1.0000 - val_loss: 3.6352e-09 - val_accuracy: 1.0000 - _timestamp: 1648794946.0000 - _runtime: 194.0000 - 9s/epoch - 4ms/step\n",
            "Epoch 19/200\n",
            "2605/2605 - 9s - loss: 3.5382e-09 - accuracy: 1.0000 - val_loss: 3.4814e-09 - val_accuracy: 1.0000 - _timestamp: 1648794955.0000 - _runtime: 203.0000 - 9s/epoch - 4ms/step\n",
            "Epoch 20/200\n",
            "2605/2605 - 10s - loss: 3.3929e-09 - accuracy: 1.0000 - val_loss: 3.3425e-09 - val_accuracy: 1.0000 - _timestamp: 1648794965.0000 - _runtime: 213.0000 - 10s/epoch - 4ms/step\n",
            "Epoch 21/200\n",
            "2605/2605 - 10s - loss: 3.2685e-09 - accuracy: 1.0000 - val_loss: 3.2426e-09 - val_accuracy: 1.0000 - _timestamp: 1648794975.0000 - _runtime: 223.0000 - 10s/epoch - 4ms/step\n",
            "Epoch 22/200\n",
            "2605/2605 - 10s - loss: 3.1798e-09 - accuracy: 1.0000 - val_loss: 3.1361e-09 - val_accuracy: 1.0000 - _timestamp: 1648794986.0000 - _runtime: 234.0000 - 10s/epoch - 4ms/step\n",
            "Epoch 23/200\n",
            "2605/2605 - 10s - loss: 3.0825e-09 - accuracy: 1.0000 - val_loss: 3.0364e-09 - val_accuracy: 1.0000 - _timestamp: 1648794995.0000 - _runtime: 243.0000 - 10s/epoch - 4ms/step\n",
            "Epoch 24/200\n",
            "2605/2605 - 10s - loss: 2.9880e-09 - accuracy: 1.0000 - val_loss: 2.9755e-09 - val_accuracy: 1.0000 - _timestamp: 1648795005.0000 - _runtime: 253.0000 - 10s/epoch - 4ms/step\n",
            "Epoch 25/200\n",
            "2605/2605 - 9s - loss: 2.9254e-09 - accuracy: 1.0000 - val_loss: 2.8959e-09 - val_accuracy: 1.0000 - _timestamp: 1648795015.0000 - _runtime: 263.0000 - 9s/epoch - 4ms/step\n",
            "Epoch 26/200\n",
            "2605/2605 - 9s - loss: 2.8699e-09 - accuracy: 1.0000 - val_loss: 2.8462e-09 - val_accuracy: 1.0000 - _timestamp: 1648795024.0000 - _runtime: 272.0000 - 9s/epoch - 4ms/step\n",
            "Epoch 27/200\n",
            "2605/2605 - 10s - loss: 2.8049e-09 - accuracy: 1.0000 - val_loss: 2.7993e-09 - val_accuracy: 1.0000 - _timestamp: 1648795035.0000 - _runtime: 283.0000 - 10s/epoch - 4ms/step\n",
            "Epoch 28/200\n",
            "2605/2605 - 10s - loss: 2.7592e-09 - accuracy: 1.0000 - val_loss: 2.7458e-09 - val_accuracy: 1.0000 - _timestamp: 1648795045.0000 - _runtime: 293.0000 - 10s/epoch - 4ms/step\n",
            "Epoch 29/200\n",
            "2605/2605 - 10s - loss: 2.7083e-09 - accuracy: 1.0000 - val_loss: 2.7025e-09 - val_accuracy: 1.0000 - _timestamp: 1648795055.0000 - _runtime: 303.0000 - 10s/epoch - 4ms/step\n",
            "Epoch 30/200\n",
            "2605/2605 - 9s - loss: 2.6624e-09 - accuracy: 1.0000 - val_loss: 2.6605e-09 - val_accuracy: 1.0000 - _timestamp: 1648795064.0000 - _runtime: 312.0000 - 9s/epoch - 4ms/step\n",
            "Epoch 31/200\n",
            "2605/2605 - 9s - loss: 2.6249e-09 - accuracy: 1.0000 - val_loss: 2.6060e-09 - val_accuracy: 1.0000 - _timestamp: 1648795074.0000 - _runtime: 322.0000 - 9s/epoch - 4ms/step\n",
            "Epoch 32/200\n",
            "2605/2605 - 9s - loss: 2.5767e-09 - accuracy: 1.0000 - val_loss: 2.5764e-09 - val_accuracy: 1.0000 - _timestamp: 1648795083.0000 - _runtime: 331.0000 - 9s/epoch - 4ms/step\n",
            "Epoch 33/200\n",
            "2605/2605 - 9s - loss: 2.5464e-09 - accuracy: 1.0000 - val_loss: 2.5423e-09 - val_accuracy: 1.0000 - _timestamp: 1648795092.0000 - _runtime: 340.0000 - 9s/epoch - 4ms/step\n",
            "Epoch 34/200\n",
            "2605/2605 - 10s - loss: 2.5143e-09 - accuracy: 1.0000 - val_loss: 2.5089e-09 - val_accuracy: 1.0000 - _timestamp: 1648795102.0000 - _runtime: 350.0000 - 10s/epoch - 4ms/step\n",
            "Epoch 35/200\n",
            "2605/2605 - 10s - loss: 2.4839e-09 - accuracy: 1.0000 - val_loss: 2.4773e-09 - val_accuracy: 1.0000 - _timestamp: 1648795113.0000 - _runtime: 361.0000 - 10s/epoch - 4ms/step\n",
            "Epoch 36/200\n",
            "2605/2605 - 10s - loss: 2.4518e-09 - accuracy: 1.0000 - val_loss: 2.4410e-09 - val_accuracy: 1.0000 - _timestamp: 1648795123.0000 - _runtime: 371.0000 - 10s/epoch - 4ms/step\n",
            "Epoch 37/200\n",
            "2605/2605 - 10s - loss: 2.4200e-09 - accuracy: 1.0000 - val_loss: 2.4111e-09 - val_accuracy: 1.0000 - _timestamp: 1648795133.0000 - _runtime: 381.0000 - 10s/epoch - 4ms/step\n",
            "Epoch 38/200\n",
            "2605/2605 - 10s - loss: 2.3858e-09 - accuracy: 1.0000 - val_loss: 2.3956e-09 - val_accuracy: 1.0000 - _timestamp: 1648795144.0000 - _runtime: 392.0000 - 10s/epoch - 4ms/step\n",
            "Epoch 39/200\n",
            "2605/2605 - 10s - loss: 2.3734e-09 - accuracy: 1.0000 - val_loss: 2.3671e-09 - val_accuracy: 1.0000 - _timestamp: 1648795154.0000 - _runtime: 402.0000 - 10s/epoch - 4ms/step\n",
            "Epoch 40/200\n",
            "2605/2605 - 10s - loss: 2.3444e-09 - accuracy: 1.0000 - val_loss: 2.3423e-09 - val_accuracy: 1.0000 - _timestamp: 1648795164.0000 - _runtime: 412.0000 - 10s/epoch - 4ms/step\n",
            "Epoch 41/200\n",
            "2605/2605 - 10s - loss: 2.3175e-09 - accuracy: 1.0000 - val_loss: 2.3246e-09 - val_accuracy: 1.0000 - _timestamp: 1648795174.0000 - _runtime: 422.0000 - 10s/epoch - 4ms/step\n",
            "Epoch 42/200\n",
            "2605/2605 - 10s - loss: 2.3028e-09 - accuracy: 1.0000 - val_loss: 2.3028e-09 - val_accuracy: 1.0000 - _timestamp: 1648795184.0000 - _runtime: 432.0000 - 10s/epoch - 4ms/step\n",
            "Epoch 43/200\n",
            "2605/2605 - 10s - loss: 2.2784e-09 - accuracy: 1.0000 - val_loss: 2.2832e-09 - val_accuracy: 1.0000 - _timestamp: 1648795193.0000 - _runtime: 441.0000 - 10s/epoch - 4ms/step\n",
            "Epoch 44/200\n",
            "2605/2605 - 10s - loss: 2.2654e-09 - accuracy: 1.0000 - val_loss: 2.2575e-09 - val_accuracy: 1.0000 - _timestamp: 1648795204.0000 - _runtime: 452.0000 - 10s/epoch - 4ms/step\n",
            "Epoch 45/200\n",
            "2605/2605 - 10s - loss: 2.2443e-09 - accuracy: 1.0000 - val_loss: 2.2381e-09 - val_accuracy: 1.0000 - _timestamp: 1648795213.0000 - _runtime: 461.0000 - 10s/epoch - 4ms/step\n",
            "Epoch 46/200\n",
            "2605/2605 - 10s - loss: 2.2179e-09 - accuracy: 1.0000 - val_loss: 2.2194e-09 - val_accuracy: 1.0000 - _timestamp: 1648795223.0000 - _runtime: 471.0000 - 10s/epoch - 4ms/step\n",
            "Epoch 47/200\n",
            "2605/2605 - 10s - loss: 2.1980e-09 - accuracy: 1.0000 - val_loss: 2.2023e-09 - val_accuracy: 1.0000 - _timestamp: 1648795233.0000 - _runtime: 481.0000 - 10s/epoch - 4ms/step\n",
            "Epoch 48/200\n",
            "2605/2605 - 9s - loss: 2.1845e-09 - accuracy: 1.0000 - val_loss: 2.1905e-09 - val_accuracy: 1.0000 - _timestamp: 1648795243.0000 - _runtime: 491.0000 - 9s/epoch - 4ms/step\n",
            "Epoch 49/200\n",
            "2605/2605 - 10s - loss: 2.1737e-09 - accuracy: 1.0000 - val_loss: 2.1712e-09 - val_accuracy: 1.0000 - _timestamp: 1648795253.0000 - _runtime: 501.0000 - 10s/epoch - 4ms/step\n",
            "Epoch 50/200\n",
            "2605/2605 - 10s - loss: 2.1516e-09 - accuracy: 1.0000 - val_loss: 2.1584e-09 - val_accuracy: 1.0000 - _timestamp: 1648795263.0000 - _runtime: 511.0000 - 10s/epoch - 4ms/step\n",
            "Epoch 51/200\n",
            "2605/2605 - 10s - loss: 2.1443e-09 - accuracy: 1.0000 - val_loss: 2.1405e-09 - val_accuracy: 1.0000 - _timestamp: 1648795273.0000 - _runtime: 521.0000 - 10s/epoch - 4ms/step\n",
            "Epoch 52/200\n",
            "2605/2605 - 10s - loss: 2.1263e-09 - accuracy: 1.0000 - val_loss: 2.1287e-09 - val_accuracy: 1.0000 - _timestamp: 1648795283.0000 - _runtime: 531.0000 - 10s/epoch - 4ms/step\n",
            "Epoch 53/200\n",
            "2605/2605 - 10s - loss: 2.1101e-09 - accuracy: 1.0000 - val_loss: 2.1134e-09 - val_accuracy: 1.0000 - _timestamp: 1648795294.0000 - _runtime: 542.0000 - 10s/epoch - 4ms/step\n",
            "Epoch 54/200\n",
            "2605/2605 - 10s - loss: 2.0965e-09 - accuracy: 1.0000 - val_loss: 2.1052e-09 - val_accuracy: 1.0000 - _timestamp: 1648795303.0000 - _runtime: 551.0000 - 10s/epoch - 4ms/step\n",
            "Epoch 55/200\n",
            "2605/2605 - 10s - loss: 2.0902e-09 - accuracy: 1.0000 - val_loss: 2.0952e-09 - val_accuracy: 1.0000 - _timestamp: 1648795313.0000 - _runtime: 561.0000 - 10s/epoch - 4ms/step\n",
            "Epoch 56/200\n",
            "2605/2605 - 9s - loss: 2.0764e-09 - accuracy: 1.0000 - val_loss: 2.0805e-09 - val_accuracy: 1.0000 - _timestamp: 1648795323.0000 - _runtime: 571.0000 - 9s/epoch - 4ms/step\n",
            "Epoch 57/200\n",
            "2605/2605 - 10s - loss: 2.0645e-09 - accuracy: 1.0000 - val_loss: 2.0690e-09 - val_accuracy: 1.0000 - _timestamp: 1648795333.0000 - _runtime: 581.0000 - 10s/epoch - 4ms/step\n",
            "Epoch 58/200\n",
            "2605/2605 - 10s - loss: 2.0550e-09 - accuracy: 1.0000 - val_loss: 2.0567e-09 - val_accuracy: 1.0000 - _timestamp: 1648795343.0000 - _runtime: 591.0000 - 10s/epoch - 4ms/step\n",
            "Epoch 59/200\n",
            "2605/2605 - 9s - loss: 2.0419e-09 - accuracy: 1.0000 - val_loss: 2.0459e-09 - val_accuracy: 1.0000 - _timestamp: 1648795352.0000 - _runtime: 600.0000 - 9s/epoch - 4ms/step\n",
            "Epoch 60/200\n",
            "2605/2605 - 10s - loss: 2.0254e-09 - accuracy: 1.0000 - val_loss: 2.0370e-09 - val_accuracy: 1.0000 - _timestamp: 1648795362.0000 - _runtime: 610.0000 - 10s/epoch - 4ms/step\n",
            "Epoch 61/200\n",
            "2605/2605 - 10s - loss: 2.0186e-09 - accuracy: 1.0000 - val_loss: 2.0178e-09 - val_accuracy: 1.0000 - _timestamp: 1648795372.0000 - _runtime: 620.0000 - 10s/epoch - 4ms/step\n",
            "Epoch 62/200\n",
            "2605/2605 - 10s - loss: 2.0045e-09 - accuracy: 1.0000 - val_loss: 2.0083e-09 - val_accuracy: 1.0000 - _timestamp: 1648795382.0000 - _runtime: 630.0000 - 10s/epoch - 4ms/step\n",
            "Epoch 63/200\n",
            "2605/2605 - 10s - loss: 1.9963e-09 - accuracy: 1.0000 - val_loss: 1.9988e-09 - val_accuracy: 1.0000 - _timestamp: 1648795392.0000 - _runtime: 640.0000 - 10s/epoch - 4ms/step\n",
            "Epoch 64/200\n",
            "2605/2605 - 10s - loss: 1.9864e-09 - accuracy: 1.0000 - val_loss: 1.9885e-09 - val_accuracy: 1.0000 - _timestamp: 1648795403.0000 - _runtime: 651.0000 - 10s/epoch - 4ms/step\n",
            "Epoch 65/200\n",
            "2605/2605 - 10s - loss: 1.9748e-09 - accuracy: 1.0000 - val_loss: 1.9760e-09 - val_accuracy: 1.0000 - _timestamp: 1648795413.0000 - _runtime: 661.0000 - 10s/epoch - 4ms/step\n",
            "Epoch 66/200\n",
            "2605/2605 - 10s - loss: 1.9616e-09 - accuracy: 1.0000 - val_loss: 1.9694e-09 - val_accuracy: 1.0000 - _timestamp: 1648795422.0000 - _runtime: 670.0000 - 10s/epoch - 4ms/step\n",
            "Epoch 67/200\n",
            "2605/2605 - 10s - loss: 1.9525e-09 - accuracy: 1.0000 - val_loss: 1.9634e-09 - val_accuracy: 1.0000 - _timestamp: 1648795432.0000 - _runtime: 680.0000 - 10s/epoch - 4ms/step\n",
            "Epoch 68/200\n",
            "2605/2605 - 10s - loss: 1.9481e-09 - accuracy: 1.0000 - val_loss: 1.9502e-09 - val_accuracy: 1.0000 - _timestamp: 1648795443.0000 - _runtime: 691.0000 - 10s/epoch - 4ms/step\n",
            "Epoch 69/200\n",
            "2605/2605 - 10s - loss: 1.9375e-09 - accuracy: 1.0000 - val_loss: 1.9397e-09 - val_accuracy: 1.0000 - _timestamp: 1648795452.0000 - _runtime: 700.0000 - 10s/epoch - 4ms/step\n",
            "Epoch 70/200\n",
            "2605/2605 - 10s - loss: 1.9276e-09 - accuracy: 1.0000 - val_loss: 1.9310e-09 - val_accuracy: 1.0000 - _timestamp: 1648795462.0000 - _runtime: 710.0000 - 10s/epoch - 4ms/step\n",
            "Epoch 71/200\n",
            "2605/2605 - 10s - loss: 1.9200e-09 - accuracy: 1.0000 - val_loss: 1.9247e-09 - val_accuracy: 1.0000 - _timestamp: 1648795472.0000 - _runtime: 720.0000 - 10s/epoch - 4ms/step\n",
            "Epoch 72/200\n",
            "2605/2605 - 10s - loss: 1.9112e-09 - accuracy: 1.0000 - val_loss: 1.9176e-09 - val_accuracy: 1.0000 - _timestamp: 1648795481.0000 - _runtime: 729.0000 - 10s/epoch - 4ms/step\n",
            "Epoch 73/200\n",
            "2605/2605 - 10s - loss: 1.9073e-09 - accuracy: 1.0000 - val_loss: 1.9080e-09 - val_accuracy: 1.0000 - _timestamp: 1648795492.0000 - _runtime: 740.0000 - 10s/epoch - 4ms/step\n",
            "Epoch 74/200\n",
            "2605/2605 - 9s - loss: 1.9007e-09 - accuracy: 1.0000 - val_loss: 1.9027e-09 - val_accuracy: 1.0000 - _timestamp: 1648795501.0000 - _runtime: 749.0000 - 9s/epoch - 4ms/step\n",
            "Epoch 75/200\n",
            "2605/2605 - 9s - loss: 1.8912e-09 - accuracy: 1.0000 - val_loss: 1.8991e-09 - val_accuracy: 1.0000 - _timestamp: 1648795511.0000 - _runtime: 759.0000 - 9s/epoch - 4ms/step\n",
            "Epoch 76/200\n",
            "2605/2605 - 10s - loss: 1.8851e-09 - accuracy: 1.0000 - val_loss: 1.8950e-09 - val_accuracy: 1.0000 - _timestamp: 1648795521.0000 - _runtime: 769.0000 - 10s/epoch - 4ms/step\n",
            "Epoch 77/200\n",
            "2605/2605 - 10s - loss: 1.8832e-09 - accuracy: 1.0000 - val_loss: 1.8854e-09 - val_accuracy: 1.0000 - _timestamp: 1648795531.0000 - _runtime: 779.0000 - 10s/epoch - 4ms/step\n",
            "Epoch 78/200\n",
            "2605/2605 - 10s - loss: 1.8756e-09 - accuracy: 1.0000 - val_loss: 1.8739e-09 - val_accuracy: 1.0000 - _timestamp: 1648795542.0000 - _runtime: 790.0000 - 10s/epoch - 4ms/step\n",
            "Epoch 79/200\n",
            "2605/2605 - 10s - loss: 1.8677e-09 - accuracy: 1.0000 - val_loss: 1.8663e-09 - val_accuracy: 1.0000 - _timestamp: 1648795552.0000 - _runtime: 800.0000 - 10s/epoch - 4ms/step\n",
            "Epoch 80/200\n",
            "2605/2605 - 10s - loss: 1.8518e-09 - accuracy: 1.0000 - val_loss: 1.8625e-09 - val_accuracy: 1.0000 - _timestamp: 1648795562.0000 - _runtime: 810.0000 - 10s/epoch - 4ms/step\n",
            "Epoch 81/200\n",
            "2605/2605 - 10s - loss: 1.8518e-09 - accuracy: 1.0000 - val_loss: 1.8542e-09 - val_accuracy: 1.0000 - _timestamp: 1648795572.0000 - _runtime: 820.0000 - 10s/epoch - 4ms/step\n",
            "Epoch 82/200\n",
            "2605/2605 - 10s - loss: 1.8428e-09 - accuracy: 1.0000 - val_loss: 1.8485e-09 - val_accuracy: 1.0000 - _timestamp: 1648795582.0000 - _runtime: 830.0000 - 10s/epoch - 4ms/step\n",
            "Epoch 83/200\n",
            "2605/2605 - 10s - loss: 1.8354e-09 - accuracy: 1.0000 - val_loss: 1.8404e-09 - val_accuracy: 1.0000 - _timestamp: 1648795592.0000 - _runtime: 840.0000 - 10s/epoch - 4ms/step\n",
            "Epoch 84/200\n",
            "2605/2605 - 10s - loss: 1.8255e-09 - accuracy: 1.0000 - val_loss: 1.8356e-09 - val_accuracy: 1.0000 - _timestamp: 1648795602.0000 - _runtime: 850.0000 - 10s/epoch - 4ms/step\n",
            "Epoch 85/200\n",
            "2605/2605 - 10s - loss: 1.8239e-09 - accuracy: 1.0000 - val_loss: 1.8303e-09 - val_accuracy: 1.0000 - _timestamp: 1648795613.0000 - _runtime: 861.0000 - 10s/epoch - 4ms/step\n",
            "Epoch 86/200\n",
            "2605/2605 - 10s - loss: 1.8155e-09 - accuracy: 1.0000 - val_loss: 1.8238e-09 - val_accuracy: 1.0000 - _timestamp: 1648795622.0000 - _runtime: 870.0000 - 10s/epoch - 4ms/step\n",
            "Epoch 87/200\n",
            "2605/2605 - 10s - loss: 1.8116e-09 - accuracy: 1.0000 - val_loss: 1.8166e-09 - val_accuracy: 1.0000 - _timestamp: 1648795632.0000 - _runtime: 880.0000 - 10s/epoch - 4ms/step\n",
            "Epoch 88/200\n",
            "2605/2605 - 10s - loss: 1.8080e-09 - accuracy: 1.0000 - val_loss: 1.8091e-09 - val_accuracy: 1.0000 - _timestamp: 1648795641.0000 - _runtime: 889.0000 - 10s/epoch - 4ms/step\n",
            "Epoch 89/200\n",
            "2605/2605 - 9s - loss: 1.7960e-09 - accuracy: 1.0000 - val_loss: 1.8005e-09 - val_accuracy: 1.0000 - _timestamp: 1648795651.0000 - _runtime: 899.0000 - 9s/epoch - 4ms/step\n",
            "Epoch 90/200\n",
            "2605/2605 - 10s - loss: 1.7884e-09 - accuracy: 1.0000 - val_loss: 1.7961e-09 - val_accuracy: 1.0000 - _timestamp: 1648795661.0000 - _runtime: 909.0000 - 10s/epoch - 4ms/step\n",
            "Epoch 91/200\n",
            "2605/2605 - 9s - loss: 1.7830e-09 - accuracy: 1.0000 - val_loss: 1.7917e-09 - val_accuracy: 1.0000 - _timestamp: 1648795671.0000 - _runtime: 919.0000 - 9s/epoch - 4ms/step\n",
            "Epoch 92/200\n",
            "2605/2605 - 10s - loss: 1.7799e-09 - accuracy: 1.0000 - val_loss: 1.7835e-09 - val_accuracy: 1.0000 - _timestamp: 1648795680.0000 - _runtime: 928.0000 - 10s/epoch - 4ms/step\n",
            "Epoch 93/200\n",
            "2605/2605 - 10s - loss: 1.7760e-09 - accuracy: 1.0000 - val_loss: 1.7766e-09 - val_accuracy: 1.0000 - _timestamp: 1648795690.0000 - _runtime: 938.0000 - 10s/epoch - 4ms/step\n",
            "Epoch 94/200\n",
            "2605/2605 - 10s - loss: 1.7654e-09 - accuracy: 1.0000 - val_loss: 1.7717e-09 - val_accuracy: 1.0000 - _timestamp: 1648795699.0000 - _runtime: 947.0000 - 10s/epoch - 4ms/step\n",
            "Epoch 95/200\n",
            "2605/2605 - 10s - loss: 1.7643e-09 - accuracy: 1.0000 - val_loss: 1.7671e-09 - val_accuracy: 1.0000 - _timestamp: 1648795710.0000 - _runtime: 958.0000 - 10s/epoch - 4ms/step\n",
            "Epoch 96/200\n",
            "2605/2605 - 10s - loss: 1.7605e-09 - accuracy: 1.0000 - val_loss: 1.7608e-09 - val_accuracy: 1.0000 - _timestamp: 1648795719.0000 - _runtime: 967.0000 - 10s/epoch - 4ms/step\n",
            "Epoch 97/200\n",
            "2605/2605 - 10s - loss: 1.7545e-09 - accuracy: 1.0000 - val_loss: 1.7556e-09 - val_accuracy: 1.0000 - _timestamp: 1648795729.0000 - _runtime: 977.0000 - 10s/epoch - 4ms/step\n",
            "Epoch 98/200\n",
            "2605/2605 - 10s - loss: 1.7461e-09 - accuracy: 1.0000 - val_loss: 1.7527e-09 - val_accuracy: 1.0000 - _timestamp: 1648795739.0000 - _runtime: 987.0000 - 10s/epoch - 4ms/step\n",
            "Epoch 99/200\n",
            "2605/2605 - 11s - loss: 1.7456e-09 - accuracy: 1.0000 - val_loss: 1.7493e-09 - val_accuracy: 1.0000 - _timestamp: 1648795750.0000 - _runtime: 998.0000 - 11s/epoch - 4ms/step\n",
            "Epoch 100/200\n",
            "2605/2605 - 10s - loss: 1.7374e-09 - accuracy: 1.0000 - val_loss: 1.7466e-09 - val_accuracy: 1.0000 - _timestamp: 1648795760.0000 - _runtime: 1008.0000 - 10s/epoch - 4ms/step\n",
            "Epoch 101/200\n",
            "2605/2605 - 10s - loss: 1.7388e-09 - accuracy: 1.0000 - val_loss: 1.7433e-09 - val_accuracy: 1.0000 - _timestamp: 1648795770.0000 - _runtime: 1018.0000 - 10s/epoch - 4ms/step\n",
            "Epoch 102/200\n",
            "2605/2605 - 10s - loss: 1.7321e-09 - accuracy: 1.0000 - val_loss: 1.7400e-09 - val_accuracy: 1.0000 - _timestamp: 1648795780.0000 - _runtime: 1028.0000 - 10s/epoch - 4ms/step\n",
            "Epoch 103/200\n",
            "2605/2605 - 10s - loss: 1.7288e-09 - accuracy: 1.0000 - val_loss: 1.7381e-09 - val_accuracy: 1.0000 - _timestamp: 1648795791.0000 - _runtime: 1039.0000 - 10s/epoch - 4ms/step\n",
            "Epoch 104/200\n",
            "2605/2605 - 10s - loss: 1.7312e-09 - accuracy: 1.0000 - val_loss: 1.7331e-09 - val_accuracy: 1.0000 - _timestamp: 1648795800.0000 - _runtime: 1048.0000 - 10s/epoch - 4ms/step\n",
            "Epoch 105/200\n",
            "2605/2605 - 10s - loss: 1.7238e-09 - accuracy: 1.0000 - val_loss: 1.7278e-09 - val_accuracy: 1.0000 - _timestamp: 1648795811.0000 - _runtime: 1059.0000 - 10s/epoch - 4ms/step\n",
            "Epoch 106/200\n",
            "2605/2605 - 10s - loss: 1.7184e-09 - accuracy: 1.0000 - val_loss: 1.7246e-09 - val_accuracy: 1.0000 - _timestamp: 1648795821.0000 - _runtime: 1069.0000 - 10s/epoch - 4ms/step\n",
            "Epoch 107/200\n",
            "2605/2605 - 10s - loss: 1.7176e-09 - accuracy: 1.0000 - val_loss: 1.7198e-09 - val_accuracy: 1.0000 - _timestamp: 1648795831.0000 - _runtime: 1079.0000 - 10s/epoch - 4ms/step\n",
            "Epoch 108/200\n",
            "2605/2605 - 10s - loss: 1.7082e-09 - accuracy: 1.0000 - val_loss: 1.7166e-09 - val_accuracy: 1.0000 - _timestamp: 1648795841.0000 - _runtime: 1089.0000 - 10s/epoch - 4ms/step\n",
            "Epoch 109/200\n",
            "2605/2605 - 10s - loss: 1.7055e-09 - accuracy: 1.0000 - val_loss: 1.7114e-09 - val_accuracy: 1.0000 - _timestamp: 1648795850.0000 - _runtime: 1098.0000 - 10s/epoch - 4ms/step\n",
            "Epoch 110/200\n",
            "2605/2605 - 10s - loss: 1.7016e-09 - accuracy: 1.0000 - val_loss: 1.7069e-09 - val_accuracy: 1.0000 - _timestamp: 1648795861.0000 - _runtime: 1109.0000 - 10s/epoch - 4ms/step\n",
            "Epoch 111/200\n",
            "2605/2605 - 10s - loss: 1.6971e-09 - accuracy: 1.0000 - val_loss: 1.7028e-09 - val_accuracy: 1.0000 - _timestamp: 1648795871.0000 - _runtime: 1119.0000 - 10s/epoch - 4ms/step\n",
            "Epoch 112/200\n",
            "2605/2605 - 10s - loss: 1.6938e-09 - accuracy: 1.0000 - val_loss: 1.6998e-09 - val_accuracy: 1.0000 - _timestamp: 1648795881.0000 - _runtime: 1129.0000 - 10s/epoch - 4ms/step\n",
            "Epoch 113/200\n",
            "2605/2605 - 9s - loss: 1.6929e-09 - accuracy: 1.0000 - val_loss: 1.6972e-09 - val_accuracy: 1.0000 - _timestamp: 1648795891.0000 - _runtime: 1139.0000 - 9s/epoch - 4ms/step\n",
            "Epoch 114/200\n",
            "2605/2605 - 10s - loss: 1.6856e-09 - accuracy: 1.0000 - val_loss: 1.6933e-09 - val_accuracy: 1.0000 - _timestamp: 1648795901.0000 - _runtime: 1149.0000 - 10s/epoch - 4ms/step\n",
            "Epoch 115/200\n",
            "2605/2605 - 10s - loss: 1.6860e-09 - accuracy: 1.0000 - val_loss: 1.6908e-09 - val_accuracy: 1.0000 - _timestamp: 1648795910.0000 - _runtime: 1158.0000 - 10s/epoch - 4ms/step\n",
            "Epoch 116/200\n",
            "2605/2605 - 10s - loss: 1.6804e-09 - accuracy: 1.0000 - val_loss: 1.6868e-09 - val_accuracy: 1.0000 - _timestamp: 1648795921.0000 - _runtime: 1169.0000 - 10s/epoch - 4ms/step\n",
            "Epoch 117/200\n",
            "2605/2605 - 10s - loss: 1.6768e-09 - accuracy: 1.0000 - val_loss: 1.6826e-09 - val_accuracy: 1.0000 - _timestamp: 1648795931.0000 - _runtime: 1179.0000 - 10s/epoch - 4ms/step\n",
            "Epoch 118/200\n",
            "2605/2605 - 9s - loss: 1.6729e-09 - accuracy: 1.0000 - val_loss: 1.6798e-09 - val_accuracy: 1.0000 - _timestamp: 1648795940.0000 - _runtime: 1188.0000 - 9s/epoch - 4ms/step\n",
            "Epoch 119/200\n",
            "2605/2605 - 10s - loss: 1.6720e-09 - accuracy: 1.0000 - val_loss: 1.6770e-09 - val_accuracy: 1.0000 - _timestamp: 1648795950.0000 - _runtime: 1198.0000 - 10s/epoch - 4ms/step\n",
            "Epoch 120/200\n",
            "2605/2605 - 10s - loss: 1.6693e-09 - accuracy: 1.0000 - val_loss: 1.6724e-09 - val_accuracy: 1.0000 - _timestamp: 1648795960.0000 - _runtime: 1208.0000 - 10s/epoch - 4ms/step\n",
            "Epoch 121/200\n",
            "2605/2605 - 10s - loss: 1.6662e-09 - accuracy: 1.0000 - val_loss: 1.6681e-09 - val_accuracy: 1.0000 - _timestamp: 1648795970.0000 - _runtime: 1218.0000 - 10s/epoch - 4ms/step\n",
            "Epoch 122/200\n",
            "2605/2605 - 9s - loss: 1.6614e-09 - accuracy: 1.0000 - val_loss: 1.6637e-09 - val_accuracy: 1.0000 - _timestamp: 1648795979.0000 - _runtime: 1227.0000 - 9s/epoch - 4ms/step\n",
            "Epoch 123/200\n",
            "2605/2605 - 9s - loss: 1.6543e-09 - accuracy: 1.0000 - val_loss: 1.6602e-09 - val_accuracy: 1.0000 - _timestamp: 1648795988.0000 - _runtime: 1236.0000 - 9s/epoch - 4ms/step\n",
            "Epoch 124/200\n",
            "2605/2605 - 10s - loss: 1.6495e-09 - accuracy: 1.0000 - val_loss: 1.6561e-09 - val_accuracy: 1.0000 - _timestamp: 1648795999.0000 - _runtime: 1247.0000 - 10s/epoch - 4ms/step\n",
            "Epoch 125/200\n",
            "2605/2605 - 9s - loss: 1.6460e-09 - accuracy: 1.0000 - val_loss: 1.6536e-09 - val_accuracy: 1.0000 - _timestamp: 1648796008.0000 - _runtime: 1256.0000 - 9s/epoch - 4ms/step\n",
            "Epoch 126/200\n",
            "2605/2605 - 10s - loss: 1.6422e-09 - accuracy: 1.0000 - val_loss: 1.6494e-09 - val_accuracy: 1.0000 - _timestamp: 1648796018.0000 - _runtime: 1266.0000 - 10s/epoch - 4ms/step\n",
            "Epoch 127/200\n",
            "2605/2605 - 10s - loss: 1.6426e-09 - accuracy: 1.0000 - val_loss: 1.6436e-09 - val_accuracy: 1.0000 - _timestamp: 1648796029.0000 - _runtime: 1277.0000 - 10s/epoch - 4ms/step\n",
            "Epoch 128/200\n",
            "2605/2605 - 10s - loss: 1.6331e-09 - accuracy: 1.0000 - val_loss: 1.6390e-09 - val_accuracy: 1.0000 - _timestamp: 1648796039.0000 - _runtime: 1287.0000 - 10s/epoch - 4ms/step\n",
            "Epoch 129/200\n",
            "2605/2605 - 10s - loss: 1.6325e-09 - accuracy: 1.0000 - val_loss: 1.6348e-09 - val_accuracy: 1.0000 - _timestamp: 1648796049.0000 - _runtime: 1297.0000 - 10s/epoch - 4ms/step\n",
            "Epoch 130/200\n",
            "2605/2605 - 10s - loss: 1.6286e-09 - accuracy: 1.0000 - val_loss: 1.6308e-09 - val_accuracy: 1.0000 - _timestamp: 1648796059.0000 - _runtime: 1307.0000 - 10s/epoch - 4ms/step\n",
            "Epoch 131/200\n",
            "2605/2605 - 10s - loss: 1.6219e-09 - accuracy: 1.0000 - val_loss: 1.6269e-09 - val_accuracy: 1.0000 - _timestamp: 1648796070.0000 - _runtime: 1318.0000 - 10s/epoch - 4ms/step\n",
            "Epoch 132/200\n",
            "2605/2605 - 10s - loss: 1.6187e-09 - accuracy: 1.0000 - val_loss: 1.6226e-09 - val_accuracy: 1.0000 - _timestamp: 1648796079.0000 - _runtime: 1327.0000 - 10s/epoch - 4ms/step\n",
            "Epoch 133/200\n",
            "2605/2605 - 10s - loss: 1.6148e-09 - accuracy: 1.0000 - val_loss: 1.6185e-09 - val_accuracy: 1.0000 - _timestamp: 1648796089.0000 - _runtime: 1337.0000 - 10s/epoch - 4ms/step\n",
            "Epoch 134/200\n",
            "2605/2605 - 9s - loss: 1.6091e-09 - accuracy: 1.0000 - val_loss: 1.6147e-09 - val_accuracy: 1.0000 - _timestamp: 1648796098.0000 - _runtime: 1346.0000 - 9s/epoch - 4ms/step\n",
            "Epoch 135/200\n",
            "2605/2605 - 9s - loss: 1.6034e-09 - accuracy: 1.0000 - val_loss: 1.6091e-09 - val_accuracy: 1.0000 - _timestamp: 1648796107.0000 - _runtime: 1355.0000 - 9s/epoch - 4ms/step\n",
            "Epoch 136/200\n",
            "2605/2605 - 9s - loss: 1.6009e-09 - accuracy: 1.0000 - val_loss: 1.6047e-09 - val_accuracy: 1.0000 - _timestamp: 1648796117.0000 - _runtime: 1365.0000 - 9s/epoch - 4ms/step\n",
            "Epoch 137/200\n",
            "2605/2605 - 9s - loss: 1.5974e-09 - accuracy: 1.0000 - val_loss: 1.5996e-09 - val_accuracy: 1.0000 - _timestamp: 1648796126.0000 - _runtime: 1374.0000 - 9s/epoch - 4ms/step\n",
            "Epoch 138/200\n",
            "2605/2605 - 9s - loss: 1.5909e-09 - accuracy: 1.0000 - val_loss: 1.5953e-09 - val_accuracy: 1.0000 - _timestamp: 1648796136.0000 - _runtime: 1384.0000 - 9s/epoch - 4ms/step\n",
            "Epoch 139/200\n",
            "2605/2605 - 10s - loss: 1.5844e-09 - accuracy: 1.0000 - val_loss: 1.5909e-09 - val_accuracy: 1.0000 - _timestamp: 1648796146.0000 - _runtime: 1394.0000 - 10s/epoch - 4ms/step\n",
            "Epoch 140/200\n",
            "2605/2605 - 10s - loss: 1.5806e-09 - accuracy: 1.0000 - val_loss: 1.5876e-09 - val_accuracy: 1.0000 - _timestamp: 1648796156.0000 - _runtime: 1404.0000 - 10s/epoch - 4ms/step\n",
            "Epoch 141/200\n",
            "2605/2605 - 10s - loss: 1.5782e-09 - accuracy: 1.0000 - val_loss: 1.5829e-09 - val_accuracy: 1.0000 - _timestamp: 1648796167.0000 - _runtime: 1415.0000 - 10s/epoch - 4ms/step\n",
            "Epoch 142/200\n",
            "2605/2605 - 10s - loss: 1.5750e-09 - accuracy: 1.0000 - val_loss: 1.5779e-09 - val_accuracy: 1.0000 - _timestamp: 1648796177.0000 - _runtime: 1425.0000 - 10s/epoch - 4ms/step\n",
            "Epoch 143/200\n",
            "2605/2605 - 10s - loss: 1.5708e-09 - accuracy: 1.0000 - val_loss: 1.5759e-09 - val_accuracy: 1.0000 - _timestamp: 1648796188.0000 - _runtime: 1436.0000 - 10s/epoch - 4ms/step\n",
            "Epoch 144/200\n",
            "2605/2605 - 10s - loss: 1.5676e-09 - accuracy: 1.0000 - val_loss: 1.5726e-09 - val_accuracy: 1.0000 - _timestamp: 1648796197.0000 - _runtime: 1445.0000 - 10s/epoch - 4ms/step\n",
            "Epoch 145/200\n",
            "2605/2605 - 10s - loss: 1.5629e-09 - accuracy: 1.0000 - val_loss: 1.5691e-09 - val_accuracy: 1.0000 - _timestamp: 1648796207.0000 - _runtime: 1455.0000 - 10s/epoch - 4ms/step\n",
            "Epoch 146/200\n",
            "2605/2605 - 10s - loss: 1.5555e-09 - accuracy: 1.0000 - val_loss: 1.5671e-09 - val_accuracy: 1.0000 - _timestamp: 1648796217.0000 - _runtime: 1465.0000 - 10s/epoch - 4ms/step\n",
            "Epoch 147/200\n",
            "2605/2605 - 10s - loss: 1.5582e-09 - accuracy: 1.0000 - val_loss: 1.5618e-09 - val_accuracy: 1.0000 - _timestamp: 1648796228.0000 - _runtime: 1476.0000 - 10s/epoch - 4ms/step\n",
            "Epoch 148/200\n",
            "2605/2605 - 10s - loss: 1.5546e-09 - accuracy: 1.0000 - val_loss: 1.5593e-09 - val_accuracy: 1.0000 - _timestamp: 1648796237.0000 - _runtime: 1485.0000 - 10s/epoch - 4ms/step\n",
            "Epoch 149/200\n",
            "2605/2605 - 10s - loss: 1.5517e-09 - accuracy: 1.0000 - val_loss: 1.5565e-09 - val_accuracy: 1.0000 - _timestamp: 1648796247.0000 - _runtime: 1495.0000 - 10s/epoch - 4ms/step\n",
            "Epoch 150/200\n",
            "2605/2605 - 10s - loss: 1.5495e-09 - accuracy: 1.0000 - val_loss: 1.5542e-09 - val_accuracy: 1.0000 - _timestamp: 1648796258.0000 - _runtime: 1506.0000 - 10s/epoch - 4ms/step\n",
            "Epoch 151/200\n",
            "2605/2605 - 10s - loss: 1.5443e-09 - accuracy: 1.0000 - val_loss: 1.5512e-09 - val_accuracy: 1.0000 - _timestamp: 1648796268.0000 - _runtime: 1516.0000 - 10s/epoch - 4ms/step\n",
            "Epoch 152/200\n",
            "2605/2605 - 10s - loss: 1.5459e-09 - accuracy: 1.0000 - val_loss: 1.5474e-09 - val_accuracy: 1.0000 - _timestamp: 1648796278.0000 - _runtime: 1526.0000 - 10s/epoch - 4ms/step\n",
            "Epoch 153/200\n",
            "2605/2605 - 10s - loss: 1.5397e-09 - accuracy: 1.0000 - val_loss: 1.5439e-09 - val_accuracy: 1.0000 - _timestamp: 1648796289.0000 - _runtime: 1537.0000 - 10s/epoch - 4ms/step\n",
            "Epoch 154/200\n",
            "2605/2605 - 10s - loss: 1.5361e-09 - accuracy: 1.0000 - val_loss: 1.5410e-09 - val_accuracy: 1.0000 - _timestamp: 1648796298.0000 - _runtime: 1546.0000 - 10s/epoch - 4ms/step\n",
            "Epoch 155/200\n",
            "2605/2605 - 10s - loss: 1.5305e-09 - accuracy: 1.0000 - val_loss: 1.5381e-09 - val_accuracy: 1.0000 - _timestamp: 1648796309.0000 - _runtime: 1557.0000 - 10s/epoch - 4ms/step\n",
            "Epoch 156/200\n",
            "2605/2605 - 10s - loss: 1.5323e-09 - accuracy: 1.0000 - val_loss: 1.5342e-09 - val_accuracy: 1.0000 - _timestamp: 1648796319.0000 - _runtime: 1567.0000 - 10s/epoch - 4ms/step\n",
            "Epoch 157/200\n",
            "2605/2605 - 10s - loss: 1.5268e-09 - accuracy: 1.0000 - val_loss: 1.5323e-09 - val_accuracy: 1.0000 - _timestamp: 1648796329.0000 - _runtime: 1577.0000 - 10s/epoch - 4ms/step\n",
            "Epoch 158/200\n",
            "2605/2605 - 10s - loss: 1.5269e-09 - accuracy: 1.0000 - val_loss: 1.5305e-09 - val_accuracy: 1.0000 - _timestamp: 1648796338.0000 - _runtime: 1586.0000 - 10s/epoch - 4ms/step\n",
            "Epoch 159/200\n",
            "2605/2605 - 10s - loss: 1.5253e-09 - accuracy: 1.0000 - val_loss: 1.5290e-09 - val_accuracy: 1.0000 - _timestamp: 1648796349.0000 - _runtime: 1597.0000 - 10s/epoch - 4ms/step\n",
            "Epoch 160/200\n",
            "2605/2605 - 10s - loss: 1.5201e-09 - accuracy: 1.0000 - val_loss: 1.5287e-09 - val_accuracy: 1.0000 - _timestamp: 1648796359.0000 - _runtime: 1607.0000 - 10s/epoch - 4ms/step\n",
            "Epoch 161/200\n",
            "2605/2605 - 10s - loss: 1.5214e-09 - accuracy: 1.0000 - val_loss: 1.5287e-09 - val_accuracy: 1.0000 - _timestamp: 1648796369.0000 - _runtime: 1617.0000 - 10s/epoch - 4ms/step\n",
            "Epoch 162/200\n",
            "2605/2605 - 10s - loss: 1.5221e-09 - accuracy: 1.0000 - val_loss: 1.5263e-09 - val_accuracy: 1.0000 - _timestamp: 1648796379.0000 - _runtime: 1627.0000 - 10s/epoch - 4ms/step\n",
            "Epoch 163/200\n",
            "2605/2605 - 10s - loss: 1.5202e-09 - accuracy: 1.0000 - val_loss: 1.5247e-09 - val_accuracy: 1.0000 - _timestamp: 1648796388.0000 - _runtime: 1636.0000 - 10s/epoch - 4ms/step\n",
            "Epoch 164/200\n",
            "2605/2605 - 10s - loss: 1.5194e-09 - accuracy: 1.0000 - val_loss: 1.5231e-09 - val_accuracy: 1.0000 - _timestamp: 1648796399.0000 - _runtime: 1647.0000 - 10s/epoch - 4ms/step\n",
            "Epoch 165/200\n",
            "2605/2605 - 10s - loss: 1.5147e-09 - accuracy: 1.0000 - val_loss: 1.5214e-09 - val_accuracy: 1.0000 - _timestamp: 1648796409.0000 - _runtime: 1657.0000 - 10s/epoch - 4ms/step\n",
            "Epoch 166/200\n",
            "2605/2605 - 10s - loss: 1.5121e-09 - accuracy: 1.0000 - val_loss: 1.5195e-09 - val_accuracy: 1.0000 - _timestamp: 1648796419.0000 - _runtime: 1667.0000 - 10s/epoch - 4ms/step\n",
            "Epoch 167/200\n",
            "2605/2605 - 10s - loss: 1.5117e-09 - accuracy: 1.0000 - val_loss: 1.5175e-09 - val_accuracy: 1.0000 - _timestamp: 1648796429.0000 - _runtime: 1677.0000 - 10s/epoch - 4ms/step\n",
            "Epoch 168/200\n",
            "2605/2605 - 10s - loss: 1.5098e-09 - accuracy: 1.0000 - val_loss: 1.5154e-09 - val_accuracy: 1.0000 - _timestamp: 1648796439.0000 - _runtime: 1687.0000 - 10s/epoch - 4ms/step\n",
            "Epoch 169/200\n",
            "2605/2605 - 10s - loss: 1.5070e-09 - accuracy: 1.0000 - val_loss: 1.5131e-09 - val_accuracy: 1.0000 - _timestamp: 1648796449.0000 - _runtime: 1697.0000 - 10s/epoch - 4ms/step\n",
            "Epoch 170/200\n",
            "2605/2605 - 10s - loss: 1.5081e-09 - accuracy: 1.0000 - val_loss: 1.5106e-09 - val_accuracy: 1.0000 - _timestamp: 1648796459.0000 - _runtime: 1707.0000 - 10s/epoch - 4ms/step\n",
            "Epoch 171/200\n",
            "2605/2605 - 10s - loss: 1.5046e-09 - accuracy: 1.0000 - val_loss: 1.5084e-09 - val_accuracy: 1.0000 - _timestamp: 1648796469.0000 - _runtime: 1717.0000 - 10s/epoch - 4ms/step\n",
            "Epoch 172/200\n",
            "2605/2605 - 10s - loss: 1.4982e-09 - accuracy: 1.0000 - val_loss: 1.5066e-09 - val_accuracy: 1.0000 - _timestamp: 1648796480.0000 - _runtime: 1728.0000 - 10s/epoch - 4ms/step\n",
            "Epoch 173/200\n",
            "2605/2605 - 10s - loss: 1.5013e-09 - accuracy: 1.0000 - val_loss: 1.5046e-09 - val_accuracy: 1.0000 - _timestamp: 1648796490.0000 - _runtime: 1738.0000 - 10s/epoch - 4ms/step\n",
            "Epoch 174/200\n",
            "2605/2605 - 10s - loss: 1.4952e-09 - accuracy: 1.0000 - val_loss: 1.5027e-09 - val_accuracy: 1.0000 - _timestamp: 1648796500.0000 - _runtime: 1748.0000 - 10s/epoch - 4ms/step\n",
            "Epoch 175/200\n",
            "2605/2605 - 10s - loss: 1.4972e-09 - accuracy: 1.0000 - val_loss: 1.4996e-09 - val_accuracy: 1.0000 - _timestamp: 1648796509.0000 - _runtime: 1757.0000 - 10s/epoch - 4ms/step\n",
            "Epoch 176/200\n",
            "2605/2605 - 10s - loss: 1.4915e-09 - accuracy: 1.0000 - val_loss: 1.4964e-09 - val_accuracy: 1.0000 - _timestamp: 1648796519.0000 - _runtime: 1767.0000 - 10s/epoch - 4ms/step\n",
            "Epoch 177/200\n",
            "2605/2605 - 10s - loss: 1.4878e-09 - accuracy: 1.0000 - val_loss: 1.4943e-09 - val_accuracy: 1.0000 - _timestamp: 1648796528.0000 - _runtime: 1776.0000 - 10s/epoch - 4ms/step\n",
            "Epoch 178/200\n",
            "2605/2605 - 10s - loss: 1.4861e-09 - accuracy: 1.0000 - val_loss: 1.4914e-09 - val_accuracy: 1.0000 - _timestamp: 1648796538.0000 - _runtime: 1786.0000 - 10s/epoch - 4ms/step\n",
            "Epoch 179/200\n",
            "2605/2605 - 10s - loss: 1.4823e-09 - accuracy: 1.0000 - val_loss: 1.4893e-09 - val_accuracy: 1.0000 - _timestamp: 1648796548.0000 - _runtime: 1796.0000 - 10s/epoch - 4ms/step\n",
            "Epoch 180/200\n",
            "2605/2605 - 10s - loss: 1.4809e-09 - accuracy: 1.0000 - val_loss: 1.4860e-09 - val_accuracy: 1.0000 - _timestamp: 1648796558.0000 - _runtime: 1806.0000 - 10s/epoch - 4ms/step\n",
            "Epoch 181/200\n",
            "2605/2605 - 10s - loss: 1.4761e-09 - accuracy: 1.0000 - val_loss: 1.4834e-09 - val_accuracy: 1.0000 - _timestamp: 1648796568.0000 - _runtime: 1816.0000 - 10s/epoch - 4ms/step\n",
            "Epoch 182/200\n",
            "2605/2605 - 10s - loss: 1.4780e-09 - accuracy: 1.0000 - val_loss: 1.4807e-09 - val_accuracy: 1.0000 - _timestamp: 1648796577.0000 - _runtime: 1825.0000 - 10s/epoch - 4ms/step\n",
            "Epoch 183/200\n",
            "2605/2605 - 10s - loss: 1.4715e-09 - accuracy: 1.0000 - val_loss: 1.4781e-09 - val_accuracy: 1.0000 - _timestamp: 1648796587.0000 - _runtime: 1835.0000 - 10s/epoch - 4ms/step\n",
            "Epoch 184/200\n",
            "2605/2605 - 10s - loss: 1.4706e-09 - accuracy: 1.0000 - val_loss: 1.4750e-09 - val_accuracy: 1.0000 - _timestamp: 1648796597.0000 - _runtime: 1845.0000 - 10s/epoch - 4ms/step\n",
            "Epoch 185/200\n",
            "2605/2605 - 10s - loss: 1.4665e-09 - accuracy: 1.0000 - val_loss: 1.4719e-09 - val_accuracy: 1.0000 - _timestamp: 1648796607.0000 - _runtime: 1855.0000 - 10s/epoch - 4ms/step\n",
            "Epoch 186/200\n",
            "2605/2605 - 10s - loss: 1.4644e-09 - accuracy: 1.0000 - val_loss: 1.4688e-09 - val_accuracy: 1.0000 - _timestamp: 1648796617.0000 - _runtime: 1865.0000 - 10s/epoch - 4ms/step\n",
            "Epoch 187/200\n",
            "2605/2605 - 10s - loss: 1.4637e-09 - accuracy: 1.0000 - val_loss: 1.4656e-09 - val_accuracy: 1.0000 - _timestamp: 1648796627.0000 - _runtime: 1875.0000 - 10s/epoch - 4ms/step\n",
            "Epoch 188/200\n",
            "2605/2605 - 10s - loss: 1.4576e-09 - accuracy: 1.0000 - val_loss: 1.4621e-09 - val_accuracy: 1.0000 - _timestamp: 1648796638.0000 - _runtime: 1886.0000 - 10s/epoch - 4ms/step\n",
            "Epoch 189/200\n",
            "2605/2605 - 10s - loss: 1.4535e-09 - accuracy: 1.0000 - val_loss: 1.4586e-09 - val_accuracy: 1.0000 - _timestamp: 1648796647.0000 - _runtime: 1895.0000 - 10s/epoch - 4ms/step\n",
            "Epoch 190/200\n",
            "2605/2605 - 10s - loss: 1.4528e-09 - accuracy: 1.0000 - val_loss: 1.4555e-09 - val_accuracy: 1.0000 - _timestamp: 1648796658.0000 - _runtime: 1906.0000 - 10s/epoch - 4ms/step\n",
            "Epoch 191/200\n",
            "2605/2605 - 10s - loss: 1.4484e-09 - accuracy: 1.0000 - val_loss: 1.4529e-09 - val_accuracy: 1.0000 - _timestamp: 1648796668.0000 - _runtime: 1916.0000 - 10s/epoch - 4ms/step\n",
            "Epoch 192/200\n",
            "2605/2605 - 11s - loss: 1.4451e-09 - accuracy: 1.0000 - val_loss: 1.4495e-09 - val_accuracy: 1.0000 - _timestamp: 1648796679.0000 - _runtime: 1927.0000 - 11s/epoch - 4ms/step\n",
            "Epoch 193/200\n",
            "2605/2605 - 10s - loss: 1.4422e-09 - accuracy: 1.0000 - val_loss: 1.4462e-09 - val_accuracy: 1.0000 - _timestamp: 1648796688.0000 - _runtime: 1936.0000 - 10s/epoch - 4ms/step\n",
            "Epoch 194/200\n",
            "2605/2605 - 10s - loss: 1.4395e-09 - accuracy: 1.0000 - val_loss: 1.4439e-09 - val_accuracy: 1.0000 - _timestamp: 1648796699.0000 - _runtime: 1947.0000 - 10s/epoch - 4ms/step\n",
            "Epoch 195/200\n",
            "2605/2605 - 10s - loss: 1.4379e-09 - accuracy: 1.0000 - val_loss: 1.4423e-09 - val_accuracy: 1.0000 - _timestamp: 1648796709.0000 - _runtime: 1957.0000 - 10s/epoch - 4ms/step\n",
            "Epoch 196/200\n",
            "2605/2605 - 10s - loss: 1.4365e-09 - accuracy: 1.0000 - val_loss: 1.4394e-09 - val_accuracy: 1.0000 - _timestamp: 1648796719.0000 - _runtime: 1967.0000 - 10s/epoch - 4ms/step\n",
            "Epoch 197/200\n",
            "2605/2605 - 10s - loss: 1.4337e-09 - accuracy: 1.0000 - val_loss: 1.4366e-09 - val_accuracy: 1.0000 - _timestamp: 1648796729.0000 - _runtime: 1977.0000 - 10s/epoch - 4ms/step\n",
            "Epoch 198/200\n",
            "2605/2605 - 10s - loss: 1.4290e-09 - accuracy: 1.0000 - val_loss: 1.4337e-09 - val_accuracy: 1.0000 - _timestamp: 1648796739.0000 - _runtime: 1987.0000 - 10s/epoch - 4ms/step\n",
            "Epoch 199/200\n",
            "2605/2605 - 10s - loss: 1.4249e-09 - accuracy: 1.0000 - val_loss: 1.4321e-09 - val_accuracy: 1.0000 - _timestamp: 1648796750.0000 - _runtime: 1998.0000 - 10s/epoch - 4ms/step\n",
            "Epoch 200/200\n",
            "2605/2605 - 10s - loss: 1.4212e-09 - accuracy: 1.0000 - val_loss: 1.4305e-09 - val_accuracy: 1.0000 - _timestamp: 1648796759.0000 - _runtime: 2007.0000 - 10s/epoch - 4ms/step\n"
          ]
        },
        {
          "output_type": "execute_result",
          "data": {
            "text/plain": [
              "<keras.callbacks.History at 0x7f26504f5710>"
            ]
          },
          "metadata": {},
          "execution_count": 19
        }
      ]
    },
    {
      "cell_type": "code",
      "source": [
        "#using lstm model\n",
        "from sklearn.metrics import confusion_matrix\n",
        "from sklearn.metrics import accuracy_score\n",
        "pred=model.predict(X_test)\n",
        "accuracy=model.evaluate(X_test,y_test)\n",
        "print(\"accuracy is {}\".format(accuracy[1]))\n",
        "wandb.sklearn.plot_confusion_matrix(y_test.argmax(axis=1), pred.argmax(axis=1),labels)\n",
        "wandb.termlog('Logged confusion matrix.')\n",
        "wandb.sklearn.plot_class_proportions(y_train.argmax(axis=1), y_test.argmax(axis=1),classlabel)\n",
        "wandb.termlog('Logged class proportions.')"
      ],
      "metadata": {
        "colab": {
          "base_uri": "https://localhost:8080/"
        },
        "id": "mNRwE5w7iAnX",
        "outputId": "985c9ecd-2ed3-449e-b659-d16242bb5727"
      },
      "execution_count": 20,
      "outputs": [
        {
          "output_type": "stream",
          "name": "stdout",
          "text": [
            "1086/1086 [==============================] - 3s 3ms/step - loss: 1.4333e-09 - accuracy: 1.0000\n",
            "accuracy is 1.0\n"
          ]
        },
        {
          "output_type": "stream",
          "name": "stderr",
          "text": [
            "\u001b[34m\u001b[1mwandb\u001b[0m: Logged confusion matrix.\n",
            "\u001b[34m\u001b[1mwandb\u001b[0m: Logged class proportions.\n"
          ]
        }
      ]
    },
    {
      "cell_type": "code",
      "source": [
        ""
      ],
      "metadata": {
        "id": "-QVngXF2nKzV"
      },
      "execution_count": 20,
      "outputs": []
    }
  ]
}