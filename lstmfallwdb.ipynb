{
  "nbformat": 4,
  "nbformat_minor": 0,
  "metadata": {
    "colab": {
      "name": "lstmfallwdb.ipynb",
      "provenance": [],
      "collapsed_sections": []
    },
    "kernelspec": {
      "name": "python3",
      "display_name": "Python 3"
    },
    "language_info": {
      "name": "python"
    },
    "accelerator": "GPU"
  },
  "cells": [
    {
      "cell_type": "code",
      "execution_count": null,
      "metadata": {
        "colab": {
          "base_uri": "https://localhost:8080/"
        },
        "id": "MxYlgK5KqhGM",
        "outputId": "dd482212-e306-43fe-99fb-9d9a8ca73c20"
      },
      "outputs": [
        {
          "output_type": "stream",
          "name": "stdout",
          "text": [
            "Drive already mounted at /content/MyDrive/; to attempt to forcibly remount, call drive.mount(\"/content/MyDrive/\", force_remount=True).\n"
          ]
        }
      ],
      "source": [
        "from google.colab import drive\n",
        "drive.mount(\"/content/MyDrive/\")"
      ]
    },
    {
      "cell_type": "code",
      "source": [
        "import pandas as pd\n",
        "import numpy as np\n",
        "import matplotlib.pyplot as plt\n",
        "import seaborn as sns"
      ],
      "metadata": {
        "id": "jQxcC7xiq9c0"
      },
      "execution_count": null,
      "outputs": []
    },
    {
      "cell_type": "code",
      "source": [
        "df = pd.read_csv(\"/content/MyDrive/MyDrive/Allfalltypesnew.csv\")"
      ],
      "metadata": {
        "id": "CQ92TY0IqrAp"
      },
      "execution_count": null,
      "outputs": []
    },
    {
      "cell_type": "code",
      "source": [
        "!pip install -q --upgrade wandb"
      ],
      "metadata": {
        "id": "ON9TePCgq44G"
      },
      "execution_count": null,
      "outputs": []
    },
    {
      "cell_type": "code",
      "source": [
        "import pandas as pd\n",
        "import numpy as np\n",
        "\n",
        "#Data Visualization\n",
        "import matplotlib.pyplot as plt\n",
        "\n",
        "#Text Color\n",
        "from termcolor import colored\n",
        "\n",
        "#Train Test Split\n",
        "from sklearn.model_selection import train_test_split\n",
        "\n",
        "#Model Evaluation\n",
        "from sklearn.metrics import confusion_matrix, precision_score, recall_score, accuracy_score\n",
        "from mlxtend.plotting import plot_confusion_matrix\n",
        "\n",
        "#Deep Learning\n",
        "from keras.models import Sequential\n",
        "from keras.layers import SimpleRNN,Embedding,Dense,LSTM,GRU"
      ],
      "metadata": {
        "id": "t2nvcqDErHZy"
      },
      "execution_count": null,
      "outputs": []
    },
    {
      "cell_type": "code",
      "source": [
        "import wandb\n",
        "from wandb.keras import WandbCallback\n",
        "\n",
        "# Login to wandb\n",
        "wandb.init()\n",
        "config=wandb.config"
      ],
      "metadata": {
        "colab": {
          "base_uri": "https://localhost:8080/",
          "height": 88
        },
        "id": "XWksDLnGrR2g",
        "outputId": "bfdbf849-8c38-4786-d21f-cb4456662706"
      },
      "execution_count": null,
      "outputs": [
        {
          "output_type": "stream",
          "name": "stderr",
          "text": [
            "\u001b[34m\u001b[1mwandb\u001b[0m: Currently logged in as: \u001b[33mtaariqdb\u001b[0m (use `wandb login --relogin` to force relogin)\n"
          ]
        },
        {
          "output_type": "display_data",
          "data": {
            "text/plain": [
              "<IPython.core.display.HTML object>"
            ],
            "text/html": [
              "Tracking run with wandb version 0.12.11"
            ]
          },
          "metadata": {}
        },
        {
          "output_type": "display_data",
          "data": {
            "text/plain": [
              "<IPython.core.display.HTML object>"
            ],
            "text/html": [
              "Run data is saved locally in <code>/content/wandb/run-20220330_104524-3jm40q2d</code>"
            ]
          },
          "metadata": {}
        },
        {
          "output_type": "display_data",
          "data": {
            "text/plain": [
              "<IPython.core.display.HTML object>"
            ],
            "text/html": [
              "Syncing run <strong><a href=\"https://wandb.ai/taariqdb/uncategorized/runs/3jm40q2d\" target=\"_blank\">rural-frost-113</a></strong> to <a href=\"https://wandb.ai/taariqdb/uncategorized\" target=\"_blank\">Weights & Biases</a> (<a href=\"https://wandb.me/run\" target=\"_blank\">docs</a>)<br/>"
            ]
          },
          "metadata": {}
        }
      ]
    },
    {
      "cell_type": "code",
      "source": [
        "config.epochs=3\n",
        "config.batch_size=60\n",
        "config.optimizer='adam'"
      ],
      "metadata": {
        "id": "PcN1I1_tt9vw"
      },
      "execution_count": null,
      "outputs": []
    },
    {
      "cell_type": "code",
      "source": [
        "cols_to_scale = ['AccX','AccY','AccZ','GyrX','GyrY','GyrZ','EulerX','EulerY','EulerZ']\n",
        "\n",
        "from sklearn.preprocessing import MinMaxScaler \n",
        "scaler = MinMaxScaler()\n",
        "df[cols_to_scale] = scaler.fit_transform(df[cols_to_scale])"
      ],
      "metadata": {
        "id": "l_AwiDpwr6ar"
      },
      "execution_count": null,
      "outputs": []
    },
    {
      "cell_type": "code",
      "source": [
        "df = pd.get_dummies(data = df, columns=['DescriptionID'])\n",
        "df = pd.get_dummies(data = df, columns=['FallTypes'])\n",
        "df.columns"
      ],
      "metadata": {
        "colab": {
          "base_uri": "https://localhost:8080/"
        },
        "id": "7WcLihmZr_EQ",
        "outputId": "7c5515a2-965d-4226-e82e-3e55e4daed5a"
      },
      "execution_count": null,
      "outputs": [
        {
          "output_type": "execute_result",
          "data": {
            "text/plain": [
              "Index(['AccX', 'AccY', 'AccZ', 'GyrX', 'GyrY', 'GyrZ', 'EulerX', 'EulerY',\n",
              "       'EulerZ', 'TrialID', 'TaskID', 'Subject', 'Description', 'FTLabels',\n",
              "       'DescriptionID_1', 'DescriptionID_2', 'DescriptionID_3',\n",
              "       'DescriptionID_4', 'DescriptionID_5', 'DescriptionID_6',\n",
              "       'DescriptionID_7', 'DescriptionID_8', 'DescriptionID_9',\n",
              "       'DescriptionID_10', 'DescriptionID_11', 'DescriptionID_12',\n",
              "       'DescriptionID_13', 'DescriptionID_14', 'DescriptionID_15',\n",
              "       'FallTypes_Backward', 'FallTypes_Dampen', 'FallTypes_Forward',\n",
              "       'FallTypes_Lateral'],\n",
              "      dtype='object')"
            ]
          },
          "metadata": {},
          "execution_count": 9
        }
      ]
    },
    {
      "cell_type": "code",
      "source": [
        "X = df[['AccX', 'AccY', 'AccZ', 'GyrX', 'GyrY', 'GyrZ', 'EulerX', 'EulerY','EulerZ',\n",
        "       'DescriptionID_1', 'DescriptionID_2', 'DescriptionID_3',\n",
        "       'DescriptionID_4', 'DescriptionID_5', 'DescriptionID_6',\n",
        "       'DescriptionID_7', 'DescriptionID_8', 'DescriptionID_9',\n",
        "       'DescriptionID_10', 'DescriptionID_11', 'DescriptionID_12',\n",
        "       'DescriptionID_13', 'DescriptionID_14', 'DescriptionID_15',]]\n",
        "X = np.asarray(X)\n",
        "y = df[['FallTypes_Backward', 'FallTypes_Dampen', 'FallTypes_Forward','FallTypes_Lateral']]\n",
        "y = np.asarray(y)"
      ],
      "metadata": {
        "id": "imHDvZ43sBoP"
      },
      "execution_count": null,
      "outputs": []
    },
    {
      "cell_type": "code",
      "source": [
        "y"
      ],
      "metadata": {
        "colab": {
          "base_uri": "https://localhost:8080/"
        },
        "id": "2PYJVl-9YZv5",
        "outputId": "06f21e02-f2cf-4ba1-9d62-12f061276c03"
      },
      "execution_count": null,
      "outputs": [
        {
          "output_type": "execute_result",
          "data": {
            "text/plain": [
              "array([[0, 0, 1, 0],\n",
              "       [0, 0, 1, 0],\n",
              "       [0, 0, 1, 0],\n",
              "       ...,\n",
              "       [1, 0, 0, 0],\n",
              "       [1, 0, 0, 0],\n",
              "       [1, 0, 0, 0]], dtype=uint8)"
            ]
          },
          "metadata": {},
          "execution_count": 11
        }
      ]
    },
    {
      "cell_type": "code",
      "source": [
        "X.shape, y.shape"
      ],
      "metadata": {
        "colab": {
          "base_uri": "https://localhost:8080/"
        },
        "id": "JAfA27EbtbCS",
        "outputId": "811f1ff4-8c8b-44dc-f1c2-e0667f2422e3"
      },
      "execution_count": null,
      "outputs": [
        {
          "output_type": "execute_result",
          "data": {
            "text/plain": [
              "((173649, 24), (173649, 4))"
            ]
          },
          "metadata": {},
          "execution_count": 12
        }
      ]
    },
    {
      "cell_type": "code",
      "source": [
        "from sklearn.model_selection import train_test_split\n",
        "X_train, X_test, y_train, y_test = train_test_split(X, y, test_size=0.20)"
      ],
      "metadata": {
        "id": "1_KvT4z5sIsF"
      },
      "execution_count": null,
      "outputs": []
    },
    {
      "cell_type": "code",
      "source": [
        "y_test.shape"
      ],
      "metadata": {
        "colab": {
          "base_uri": "https://localhost:8080/"
        },
        "id": "a7YxzHOe5-3c",
        "outputId": "107a5d86-0b41-4860-8a68-27f537386560"
      },
      "execution_count": null,
      "outputs": [
        {
          "output_type": "execute_result",
          "data": {
            "text/plain": [
              "(34730, 4)"
            ]
          },
          "metadata": {},
          "execution_count": 14
        }
      ]
    },
    {
      "cell_type": "code",
      "source": [
        "model1=Sequential()\n",
        "model1.add(Embedding(10000,24))\n",
        "model1.add(LSTM(24,activation='sigmoid'))\n",
        "model1.add(Dense(4,activation='softmax'))\n",
        "\n",
        "model1.compile(optimizer=config.optimizer,loss='categorical_crossentropy',metrics=['accuracy'])\n",
        "model1.fit(X_train,y_train,epochs=config.epochs,batch_size=config.batch_size,callbacks=[WandbCallback()])"
      ],
      "metadata": {
        "colab": {
          "base_uri": "https://localhost:8080/"
        },
        "id": "f4Mj3MTZsyLi",
        "outputId": "16ee40f0-1994-41a9-f235-d2e35d3d5952"
      },
      "execution_count": null,
      "outputs": [
        {
          "output_type": "stream",
          "name": "stdout",
          "text": [
            "WARNING:tensorflow:Layer lstm_1 will not use cuDNN kernels since it doesn't meet the criteria. It will use a generic GPU kernel as fallback when running on GPU.\n",
            "Epoch 1/3\n",
            "2316/2316 [==============================] - 249s 105ms/step - loss: 0.3670 - acc: 0.7180 - _timestamp: 1648637392.0000 - _runtime: 267.0000\n",
            "Epoch 2/3\n",
            "2316/2316 [==============================] - 277s 119ms/step - loss: 0.1938 - acc: 0.8545 - _timestamp: 1648637668.0000 - _runtime: 543.0000\n",
            "Epoch 3/3\n",
            "2316/2316 [==============================] - 225s 97ms/step - loss: 0.0522 - acc: 0.9797 - _timestamp: 1648637893.0000 - _runtime: 768.0000\n"
          ]
        },
        {
          "output_type": "execute_result",
          "data": {
            "text/plain": [
              "<keras.callbacks.History at 0x7f497015b910>"
            ]
          },
          "metadata": {},
          "execution_count": 16
        }
      ]
    },
    {
      "cell_type": "code",
      "source": [
        "#using lstm model\n",
        "from sklearn.metrics import confusion_matrix\n",
        "from sklearn.metrics import accuracy_score\n",
        "labels = ['Backward','Dampen','Forward','Lateral']\n",
        "pred=model1.predict(X_test)\n",
        "accuracy=model1.evaluate(X_test,y_test)\n",
        "print(\"accuracy is {}\".format(accuracy[1]))\n",
        "print(confusion_matrix(pred.argmax(axis=1),y_test.argmax(axis=1)))\n",
        "wandb.sklearn.plot_confusion_matrix(y_test.argmax(axis=1), pred.argmax(axis=1),labels)\n",
        "wandb.termlog('Logged confusion matrix.')\n",
        "wandb.sklearn.plot_class_proportions(y_train.argmax(axis=1), y_test.argmax(axis=1), ['Forward','Lateral','Backward','Dampen'])\n",
        "wandb.termlog('Logged class proportions.')"
      ],
      "metadata": {
        "colab": {
          "base_uri": "https://localhost:8080/"
        },
        "id": "V-c9bLh4u2cu",
        "outputId": "12d62956-f30a-417d-97ac-46408a8fd48b"
      },
      "execution_count": null,
      "outputs": [
        {
          "output_type": "stream",
          "name": "stdout",
          "text": [
            "1086/1086 [==============================] - 8s 8ms/step - loss: 0.0151 - acc: 0.9990\n",
            "accuracy is 0.9989922046661377\n",
            "[[ 4649     0    10     0]\n",
            " [    0  1612     0     0]\n",
            " [    0     0 21662    15]\n",
            " [    0     2     8  6772]]\n"
          ]
        },
        {
          "output_type": "stream",
          "name": "stderr",
          "text": [
            "\u001b[34m\u001b[1mwandb\u001b[0m: Logged confusion matrix.\n",
            "\u001b[34m\u001b[1mwandb\u001b[0m: Logged class proportions.\n"
          ]
        }
      ]
    },
    {
      "cell_type": "code",
      "source": [
        ""
      ],
      "metadata": {
        "id": "r7_SUML0S9HB"
      },
      "execution_count": null,
      "outputs": []
    }
  ]
}