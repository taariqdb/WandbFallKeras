{
  "nbformat": 4,
  "nbformat_minor": 0,
  "metadata": {
    "colab": {
      "name": "SSNormalfall.ipynb",
      "provenance": []
    },
    "kernelspec": {
      "name": "python3",
      "display_name": "Python 3"
    },
    "language_info": {
      "name": "python"
    },
    "accelerator": "GPU"
  },
  "cells": [
    {
      "cell_type": "code",
      "execution_count": 1,
      "metadata": {
        "colab": {
          "base_uri": "https://localhost:8080/"
        },
        "id": "SdH5zzoUzEUn",
        "outputId": "8fb7d527-2b5e-4fe6-dc24-71714b7b4c01"
      },
      "outputs": [
        {
          "output_type": "stream",
          "name": "stdout",
          "text": [
            "Drive already mounted at /content/MyDrive/; to attempt to forcibly remount, call drive.mount(\"/content/MyDrive/\", force_remount=True).\n"
          ]
        }
      ],
      "source": [
        "from google.colab import drive\n",
        "drive.mount('/content/MyDrive/')"
      ]
    },
    {
      "cell_type": "code",
      "source": [
        "import pandas as pd\n",
        "import numpy as np\n",
        "import matplotlib.pyplot as plt\n",
        "%matplotlib inline"
      ],
      "metadata": {
        "id": "kZMXjgTd3pb9"
      },
      "execution_count": 2,
      "outputs": []
    },
    {
      "cell_type": "code",
      "source": [
        "df = pd.read_csv(\"/content/MyDrive/MyDrive/Allfalltypesnew.csv\")"
      ],
      "metadata": {
        "id": "42zOvoJz4q5m"
      },
      "execution_count": 3,
      "outputs": []
    },
    {
      "cell_type": "code",
      "source": [
        "df.info()"
      ],
      "metadata": {
        "colab": {
          "base_uri": "https://localhost:8080/"
        },
        "id": "13qSEKLm40HV",
        "outputId": "83e93826-5bcc-4ca0-d81f-49c2309057b8"
      },
      "execution_count": 4,
      "outputs": [
        {
          "output_type": "stream",
          "name": "stdout",
          "text": [
            "<class 'pandas.core.frame.DataFrame'>\n",
            "RangeIndex: 173649 entries, 0 to 173648\n",
            "Data columns (total 16 columns):\n",
            " #   Column         Non-Null Count   Dtype  \n",
            "---  ------         --------------   -----  \n",
            " 0   AccX           173649 non-null  float64\n",
            " 1   AccY           173649 non-null  float64\n",
            " 2   AccZ           173649 non-null  float64\n",
            " 3   GyrX           173649 non-null  float64\n",
            " 4   GyrY           173649 non-null  float64\n",
            " 5   GyrZ           173649 non-null  float64\n",
            " 6   EulerX         173649 non-null  float64\n",
            " 7   EulerY         173649 non-null  float64\n",
            " 8   EulerZ         173649 non-null  float64\n",
            " 9   TrialID        173649 non-null  int64  \n",
            " 10  TaskID         173649 non-null  int64  \n",
            " 11  Subject        173649 non-null  object \n",
            " 12  DescriptionID  173649 non-null  int64  \n",
            " 13  Description    173649 non-null  object \n",
            " 14  FTLabels       173649 non-null  int64  \n",
            " 15  FallTypes      173649 non-null  object \n",
            "dtypes: float64(9), int64(4), object(3)\n",
            "memory usage: 21.2+ MB\n"
          ]
        }
      ]
    },
    {
      "cell_type": "code",
      "source": [
        "df.FallTypes.value_counts()"
      ],
      "metadata": {
        "colab": {
          "base_uri": "https://localhost:8080/"
        },
        "id": "6qXl2hRV42WB",
        "outputId": "54f2320c-5915-4abb-ad92-cbd58c9093a6"
      },
      "execution_count": 5,
      "outputs": [
        {
          "output_type": "execute_result",
          "data": {
            "text/plain": [
              "Forward     107817\n",
              "Lateral      33957\n",
              "Backward     23576\n",
              "Dampen        8299\n",
              "Name: FallTypes, dtype: int64"
            ]
          },
          "metadata": {},
          "execution_count": 5
        }
      ]
    },
    {
      "cell_type": "code",
      "source": [
        "for column in df:\n",
        "  print(f'{column} : {df[column].unique()}')"
      ],
      "metadata": {
        "colab": {
          "base_uri": "https://localhost:8080/"
        },
        "id": "3n6ovsCJ8Obe",
        "outputId": "4f242a08-df60-44cb-ae33-59fbc43b1c8f"
      },
      "execution_count": 6,
      "outputs": [
        {
          "output_type": "stream",
          "name": "stdout",
          "text": [
            "AccX : [-0.043 -0.042 -0.049 ... -2.182 -2.552 -2.366]\n",
            "AccY : [-0.729 -0.719 -0.709 ...  3.743  3.399  2.039]\n",
            "AccZ : [-0.159 -0.142 -0.136 ... -3.269  2.973  2.469]\n",
            "GyrX : [ 25.4393352  27.7311672  29.9657034 ... 415.1653668 493.5460212\n",
            " 479.852325 ]\n",
            "GyrY : [ 4.01070600e-01  1.71887400e-01  2.75019840e+00 ...  2.98167343e+02\n",
            " -2.23682803e+02 -1.82544419e+02]\n",
            "GyrZ : [  -0.8021412   -1.718874    -2.005353  ... -291.5210304  177.2732052\n",
            "  310.0848696]\n",
            "EulerX : [ 19.03366476  19.31441418  19.6238115  ... -12.18108708 -10.35908064\n",
            " 115.3249862 ]\n",
            "EulerY : [-12.16389834 -12.15243918 -12.1180617  ...  46.50700086  47.7846972\n",
            "  66.3771843 ]\n",
            "EulerZ : [ 51.9959385   51.97874976  51.9672906  ... -72.74847726 -69.67742238\n",
            " -67.80384972]\n",
            "TrialID : [1 2 3 4 5 6 7]\n",
            "TaskID : [20 21 22 23 24 25 26 27 28 29 30 31 32 33 34]\n",
            "Subject : ['SA06' 'SA07' 'SA08' 'SA09' 'SA10' 'SA11' 'SA12' 'SA13' 'SA14' 'SA15'\n",
            " 'SA17' 'SA24' 'SA29' 'SA35' 'SA36' 'SA37' 'SA38' 'SA30' 'SA16' 'SA21'\n",
            " 'SA25' 'SA31' 'SA18' 'SA27' 'SA19' 'SA22' 'SA26' 'SA32' 'SA20' 'SA23'\n",
            " 'SA28' 'SA33']\n",
            "DescriptionID : [ 1  2  3  4  5  6  7  8  9 10 11 12 13 14 15]\n",
            "Description : ['Forward fall when trying to sit down'\n",
            " 'Backward fall when trying to sit down'\n",
            " 'lateral fall when trying to sit down'\n",
            " 'Forward fall when trying to get up' 'lateral fall when trying to get up'\n",
            " 'Forward fall while sitting, caused by fainting'\n",
            " 'lateral fall while sitting, caused by fainting'\n",
            " 'Backward fall while sitting, caused by fainting'\n",
            " 'Vertical(forward) fall while walking caused by fainting'\n",
            " 'Fall while walking, with use of hands in a table to dampen fall, caused by fainting'\n",
            " 'Forward fall while walking caused by a trip'\n",
            " 'Forward fall while jogging caused by a trip'\n",
            " 'Forward fall while walking caused by a slip'\n",
            " ' Lateral fall while walking caused by a slip'\n",
            " 'Backward fall while walking caused by a slip']\n",
            "FTLabels : [0 2 1 3]\n",
            "FallTypes : ['Forward' 'Backward' 'Lateral' 'Dampen']\n"
          ]
        }
      ]
    },
    {
      "cell_type": "code",
      "source": [
        "df = pd.get_dummies(data = df, columns=['DescriptionID'])\n",
        "df = pd.get_dummies(data = df, columns=['FallTypes'])\n",
        "df.columns"
      ],
      "metadata": {
        "colab": {
          "base_uri": "https://localhost:8080/"
        },
        "id": "4vuJiE5w482-",
        "outputId": "241480c0-2c25-4b24-f879-26d442162c81"
      },
      "execution_count": 7,
      "outputs": [
        {
          "output_type": "execute_result",
          "data": {
            "text/plain": [
              "Index(['AccX', 'AccY', 'AccZ', 'GyrX', 'GyrY', 'GyrZ', 'EulerX', 'EulerY',\n",
              "       'EulerZ', 'TrialID', 'TaskID', 'Subject', 'Description', 'FTLabels',\n",
              "       'DescriptionID_1', 'DescriptionID_2', 'DescriptionID_3',\n",
              "       'DescriptionID_4', 'DescriptionID_5', 'DescriptionID_6',\n",
              "       'DescriptionID_7', 'DescriptionID_8', 'DescriptionID_9',\n",
              "       'DescriptionID_10', 'DescriptionID_11', 'DescriptionID_12',\n",
              "       'DescriptionID_13', 'DescriptionID_14', 'DescriptionID_15',\n",
              "       'FallTypes_Backward', 'FallTypes_Dampen', 'FallTypes_Forward',\n",
              "       'FallTypes_Lateral'],\n",
              "      dtype='object')"
            ]
          },
          "metadata": {},
          "execution_count": 7
        }
      ]
    },
    {
      "cell_type": "code",
      "source": [
        "for column in df:\n",
        "  print(f'{column} : {df[column].unique()}')"
      ],
      "metadata": {
        "colab": {
          "base_uri": "https://localhost:8080/"
        },
        "id": "MAcZ7Ohj5IG-",
        "outputId": "202583a4-023d-4372-fde2-f45586010f5e"
      },
      "execution_count": 8,
      "outputs": [
        {
          "output_type": "stream",
          "name": "stdout",
          "text": [
            "AccX : [-0.043 -0.042 -0.049 ... -2.182 -2.552 -2.366]\n",
            "AccY : [-0.729 -0.719 -0.709 ...  3.743  3.399  2.039]\n",
            "AccZ : [-0.159 -0.142 -0.136 ... -3.269  2.973  2.469]\n",
            "GyrX : [ 25.4393352  27.7311672  29.9657034 ... 415.1653668 493.5460212\n",
            " 479.852325 ]\n",
            "GyrY : [ 4.01070600e-01  1.71887400e-01  2.75019840e+00 ...  2.98167343e+02\n",
            " -2.23682803e+02 -1.82544419e+02]\n",
            "GyrZ : [  -0.8021412   -1.718874    -2.005353  ... -291.5210304  177.2732052\n",
            "  310.0848696]\n",
            "EulerX : [ 19.03366476  19.31441418  19.6238115  ... -12.18108708 -10.35908064\n",
            " 115.3249862 ]\n",
            "EulerY : [-12.16389834 -12.15243918 -12.1180617  ...  46.50700086  47.7846972\n",
            "  66.3771843 ]\n",
            "EulerZ : [ 51.9959385   51.97874976  51.9672906  ... -72.74847726 -69.67742238\n",
            " -67.80384972]\n",
            "TrialID : [1 2 3 4 5 6 7]\n",
            "TaskID : [20 21 22 23 24 25 26 27 28 29 30 31 32 33 34]\n",
            "Subject : ['SA06' 'SA07' 'SA08' 'SA09' 'SA10' 'SA11' 'SA12' 'SA13' 'SA14' 'SA15'\n",
            " 'SA17' 'SA24' 'SA29' 'SA35' 'SA36' 'SA37' 'SA38' 'SA30' 'SA16' 'SA21'\n",
            " 'SA25' 'SA31' 'SA18' 'SA27' 'SA19' 'SA22' 'SA26' 'SA32' 'SA20' 'SA23'\n",
            " 'SA28' 'SA33']\n",
            "Description : ['Forward fall when trying to sit down'\n",
            " 'Backward fall when trying to sit down'\n",
            " 'lateral fall when trying to sit down'\n",
            " 'Forward fall when trying to get up' 'lateral fall when trying to get up'\n",
            " 'Forward fall while sitting, caused by fainting'\n",
            " 'lateral fall while sitting, caused by fainting'\n",
            " 'Backward fall while sitting, caused by fainting'\n",
            " 'Vertical(forward) fall while walking caused by fainting'\n",
            " 'Fall while walking, with use of hands in a table to dampen fall, caused by fainting'\n",
            " 'Forward fall while walking caused by a trip'\n",
            " 'Forward fall while jogging caused by a trip'\n",
            " 'Forward fall while walking caused by a slip'\n",
            " ' Lateral fall while walking caused by a slip'\n",
            " 'Backward fall while walking caused by a slip']\n",
            "FTLabels : [0 2 1 3]\n",
            "DescriptionID_1 : [1 0]\n",
            "DescriptionID_2 : [0 1]\n",
            "DescriptionID_3 : [0 1]\n",
            "DescriptionID_4 : [0 1]\n",
            "DescriptionID_5 : [0 1]\n",
            "DescriptionID_6 : [0 1]\n",
            "DescriptionID_7 : [0 1]\n",
            "DescriptionID_8 : [0 1]\n",
            "DescriptionID_9 : [0 1]\n",
            "DescriptionID_10 : [0 1]\n",
            "DescriptionID_11 : [0 1]\n",
            "DescriptionID_12 : [0 1]\n",
            "DescriptionID_13 : [0 1]\n",
            "DescriptionID_14 : [0 1]\n",
            "DescriptionID_15 : [0 1]\n",
            "FallTypes_Backward : [0 1]\n",
            "FallTypes_Dampen : [0 1]\n",
            "FallTypes_Forward : [1 0]\n",
            "FallTypes_Lateral : [0 1]\n"
          ]
        }
      ]
    },
    {
      "cell_type": "code",
      "source": [
        "from sklearn.preprocessing import StandardScaler\n",
        "X = df[['AccX', 'AccY', 'AccZ', 'GyrX', 'GyrY', 'GyrZ', 'EulerX', 'EulerY','EulerZ',\n",
        "       'DescriptionID_1', 'DescriptionID_2', 'DescriptionID_3',\n",
        "       'DescriptionID_4', 'DescriptionID_5', 'DescriptionID_6',\n",
        "       'DescriptionID_7', 'DescriptionID_8', 'DescriptionID_9',\n",
        "       'DescriptionID_10', 'DescriptionID_11', 'DescriptionID_12',\n",
        "       'DescriptionID_13', 'DescriptionID_14', 'DescriptionID_15',]]\n",
        "scaler = StandardScaler()\n",
        "scaled_data = scaler.fit_transform(X)      \n",
        "X = np.asarray(X)"
      ],
      "metadata": {
        "id": "KrKAZJds79sF"
      },
      "execution_count": 9,
      "outputs": []
    },
    {
      "cell_type": "code",
      "source": [
        "X"
      ],
      "metadata": {
        "colab": {
          "base_uri": "https://localhost:8080/"
        },
        "id": "Sc3uaKD4BARN",
        "outputId": "88cd228b-92a9-46a8-f009-32aa6f38ba6f"
      },
      "execution_count": 10,
      "outputs": [
        {
          "output_type": "execute_result",
          "data": {
            "text/plain": [
              "array([[-0.043, -0.729, -0.159, ...,  0.   ,  0.   ,  0.   ],\n",
              "       [-0.043, -0.719, -0.142, ...,  0.   ,  0.   ,  0.   ],\n",
              "       [-0.042, -0.709, -0.136, ...,  0.   ,  0.   ,  0.   ],\n",
              "       ...,\n",
              "       [-2.366, -2.435, -1.663, ...,  0.   ,  0.   ,  1.   ],\n",
              "       [-1.429, -3.999,  1.589, ...,  0.   ,  0.   ,  1.   ],\n",
              "       [ 0.865, -3.999,  2.469, ...,  0.   ,  0.   ,  1.   ]])"
            ]
          },
          "metadata": {},
          "execution_count": 10
        }
      ]
    },
    {
      "cell_type": "code",
      "source": [
        "y = df[['FallTypes_Backward', 'FallTypes_Dampen', 'FallTypes_Forward','FallTypes_Lateral']]\n",
        "y = np.asarray(y)"
      ],
      "metadata": {
        "id": "63AGK8XH-htx"
      },
      "execution_count": 11,
      "outputs": []
    },
    {
      "cell_type": "code",
      "source": [
        "y"
      ],
      "metadata": {
        "colab": {
          "base_uri": "https://localhost:8080/"
        },
        "id": "hKcwImZ1_HPw",
        "outputId": "1893e85c-3c30-4549-c064-c2b145b31c89"
      },
      "execution_count": 12,
      "outputs": [
        {
          "output_type": "execute_result",
          "data": {
            "text/plain": [
              "array([[0, 0, 1, 0],\n",
              "       [0, 0, 1, 0],\n",
              "       [0, 0, 1, 0],\n",
              "       ...,\n",
              "       [1, 0, 0, 0],\n",
              "       [1, 0, 0, 0],\n",
              "       [1, 0, 0, 0]], dtype=uint8)"
            ]
          },
          "metadata": {},
          "execution_count": 12
        }
      ]
    },
    {
      "cell_type": "code",
      "source": [
        "from sklearn.model_selection import train_test_split\n",
        "X_train, X_test, y_train, y_test = train_test_split(X, y, test_size=0.20)"
      ],
      "metadata": {
        "id": "bWU-_Mm582r2"
      },
      "execution_count": 13,
      "outputs": []
    },
    {
      "cell_type": "code",
      "source": [
        "from tensorflow.keras.models import Sequential\n",
        "from tensorflow.keras.layers import Dense, BatchNormalization"
      ],
      "metadata": {
        "id": "9z2Cn_Az83fn"
      },
      "execution_count": 14,
      "outputs": []
    },
    {
      "cell_type": "code",
      "source": [
        "X.shape , y.shape"
      ],
      "metadata": {
        "colab": {
          "base_uri": "https://localhost:8080/"
        },
        "id": "_An2pByj88MC",
        "outputId": "3de352b4-8c4b-4e70-ee6f-e0462652f388"
      },
      "execution_count": 15,
      "outputs": [
        {
          "output_type": "execute_result",
          "data": {
            "text/plain": [
              "((173649, 24), (173649, 4))"
            ]
          },
          "metadata": {},
          "execution_count": 15
        }
      ]
    },
    {
      "cell_type": "code",
      "source": [
        "from tensorflow.keras.initializers import RandomNormal, Constant# Model with default batch normalization\n",
        "model = Sequential([\n",
        "    Dense(64, input_shape=(24,), activation=\"relu\"),\n",
        "    BatchNormalization(),\n",
        "    Dense(128, activation='relu'),\n",
        "    BatchNormalization(),\n",
        "    Dense(128, activation='relu'),\n",
        "    BatchNormalization(),\n",
        "    Dense(64, activation='relu'),\n",
        "    BatchNormalization(),\n",
        "    Dense(64, activation='relu'),\n",
        "    BatchNormalization(\n",
        "        momentum=0.95, \n",
        "        epsilon=0.005,\n",
        "        beta_initializer=RandomNormal(mean=0.0, stddev=0.05), \n",
        "        gamma_initializer=Constant(value=0.9)\n",
        "    ),\n",
        "    Dense(4, activation='softmax')\n",
        "]);"
      ],
      "metadata": {
        "id": "SWNHKneZ8-yB"
      },
      "execution_count": 16,
      "outputs": []
    },
    {
      "cell_type": "code",
      "source": [
        "model.summary()"
      ],
      "metadata": {
        "colab": {
          "base_uri": "https://localhost:8080/"
        },
        "id": "GJ87MjVu9C6R",
        "outputId": "f5563674-fb33-424b-e3c5-fca28fe5a45b"
      },
      "execution_count": 17,
      "outputs": [
        {
          "output_type": "stream",
          "name": "stdout",
          "text": [
            "Model: \"sequential\"\n",
            "_________________________________________________________________\n",
            " Layer (type)                Output Shape              Param #   \n",
            "=================================================================\n",
            " dense (Dense)               (None, 64)                1600      \n",
            "                                                                 \n",
            " batch_normalization (BatchN  (None, 64)               256       \n",
            " ormalization)                                                   \n",
            "                                                                 \n",
            " dense_1 (Dense)             (None, 128)               8320      \n",
            "                                                                 \n",
            " batch_normalization_1 (Batc  (None, 128)              512       \n",
            " hNormalization)                                                 \n",
            "                                                                 \n",
            " dense_2 (Dense)             (None, 128)               16512     \n",
            "                                                                 \n",
            " batch_normalization_2 (Batc  (None, 128)              512       \n",
            " hNormalization)                                                 \n",
            "                                                                 \n",
            " dense_3 (Dense)             (None, 64)                8256      \n",
            "                                                                 \n",
            " batch_normalization_3 (Batc  (None, 64)               256       \n",
            " hNormalization)                                                 \n",
            "                                                                 \n",
            " dense_4 (Dense)             (None, 64)                4160      \n",
            "                                                                 \n",
            " batch_normalization_4 (Batc  (None, 64)               256       \n",
            " hNormalization)                                                 \n",
            "                                                                 \n",
            " dense_5 (Dense)             (None, 4)                 260       \n",
            "                                                                 \n",
            "=================================================================\n",
            "Total params: 40,900\n",
            "Trainable params: 40,004\n",
            "Non-trainable params: 896\n",
            "_________________________________________________________________\n"
          ]
        }
      ]
    },
    {
      "cell_type": "code",
      "source": [
        "model.compile(\n",
        "    optimizer='adam', \n",
        "    loss='categorical_crossentropy', \n",
        "    metrics=['accuracy']\n",
        ")"
      ],
      "metadata": {
        "id": "KqDCUi5N9FVO"
      },
      "execution_count": 18,
      "outputs": []
    },
    {
      "cell_type": "code",
      "source": [
        "history = model.fit(\n",
        "    X_train, \n",
        "    y_train, \n",
        "    epochs=200, \n",
        "    validation_split=0.25, \n",
        "    batch_size=40, \n",
        "    verbose=2\n",
        ")"
      ],
      "metadata": {
        "colab": {
          "base_uri": "https://localhost:8080/"
        },
        "id": "xw-VOEem9HVs",
        "outputId": "c95ad988-5421-4239-bcbd-200c9e0fc87c"
      },
      "execution_count": 19,
      "outputs": [
        {
          "output_type": "stream",
          "name": "stdout",
          "text": [
            "Epoch 1/200\n",
            "2605/2605 - 22s - loss: 0.2301 - accuracy: 0.9164 - val_loss: 0.0137 - val_accuracy: 0.9961 - 22s/epoch - 8ms/step\n",
            "Epoch 2/200\n",
            "2605/2605 - 19s - loss: 0.0159 - accuracy: 0.9955 - val_loss: 0.0019 - val_accuracy: 0.9996 - 19s/epoch - 7ms/step\n",
            "Epoch 3/200\n",
            "2605/2605 - 19s - loss: 0.0122 - accuracy: 0.9966 - val_loss: 0.0126 - val_accuracy: 0.9960 - 19s/epoch - 7ms/step\n",
            "Epoch 4/200\n",
            "2605/2605 - 19s - loss: 0.0093 - accuracy: 0.9971 - val_loss: 0.0078 - val_accuracy: 0.9979 - 19s/epoch - 7ms/step\n",
            "Epoch 5/200\n",
            "2605/2605 - 20s - loss: 0.0082 - accuracy: 0.9976 - val_loss: 0.0023 - val_accuracy: 0.9993 - 20s/epoch - 8ms/step\n",
            "Epoch 6/200\n",
            "2605/2605 - 19s - loss: 0.0066 - accuracy: 0.9982 - val_loss: 0.0095 - val_accuracy: 0.9974 - 19s/epoch - 7ms/step\n",
            "Epoch 7/200\n",
            "2605/2605 - 19s - loss: 0.0054 - accuracy: 0.9986 - val_loss: 0.0025 - val_accuracy: 0.9993 - 19s/epoch - 7ms/step\n",
            "Epoch 8/200\n",
            "2605/2605 - 19s - loss: 0.0044 - accuracy: 0.9990 - val_loss: 0.0014 - val_accuracy: 0.9997 - 19s/epoch - 7ms/step\n",
            "Epoch 9/200\n",
            "2605/2605 - 19s - loss: 0.0038 - accuracy: 0.9991 - val_loss: 0.0015 - val_accuracy: 0.9997 - 19s/epoch - 7ms/step\n",
            "Epoch 10/200\n",
            "2605/2605 - 19s - loss: 0.0045 - accuracy: 0.9988 - val_loss: 0.0318 - val_accuracy: 0.9943 - 19s/epoch - 7ms/step\n",
            "Epoch 11/200\n",
            "2605/2605 - 19s - loss: 0.0037 - accuracy: 0.9991 - val_loss: 0.0018 - val_accuracy: 0.9997 - 19s/epoch - 7ms/step\n",
            "Epoch 12/200\n",
            "2605/2605 - 19s - loss: 0.0029 - accuracy: 0.9993 - val_loss: 5.9861e-04 - val_accuracy: 0.9998 - 19s/epoch - 7ms/step\n",
            "Epoch 13/200\n",
            "2605/2605 - 19s - loss: 0.0030 - accuracy: 0.9991 - val_loss: 5.2332e-04 - val_accuracy: 0.9999 - 19s/epoch - 7ms/step\n",
            "Epoch 14/200\n",
            "2605/2605 - 19s - loss: 3.7633e-04 - accuracy: 0.9999 - val_loss: 0.7094 - val_accuracy: 0.8686 - 19s/epoch - 7ms/step\n",
            "Epoch 15/200\n",
            "2605/2605 - 19s - loss: 0.0033 - accuracy: 0.9992 - val_loss: 0.0153 - val_accuracy: 0.9949 - 19s/epoch - 7ms/step\n",
            "Epoch 16/200\n",
            "2605/2605 - 19s - loss: 0.0016 - accuracy: 0.9995 - val_loss: 1.3764e-04 - val_accuracy: 0.9999 - 19s/epoch - 7ms/step\n",
            "Epoch 17/200\n",
            "2605/2605 - 19s - loss: 0.0028 - accuracy: 0.9993 - val_loss: 7.4327e-04 - val_accuracy: 0.9997 - 19s/epoch - 7ms/step\n",
            "Epoch 18/200\n",
            "2605/2605 - 19s - loss: 0.0021 - accuracy: 0.9995 - val_loss: 4.1219e-04 - val_accuracy: 0.9999 - 19s/epoch - 7ms/step\n",
            "Epoch 19/200\n",
            "2605/2605 - 19s - loss: 0.0028 - accuracy: 0.9993 - val_loss: 0.0062 - val_accuracy: 0.9980 - 19s/epoch - 7ms/step\n",
            "Epoch 20/200\n",
            "2605/2605 - 19s - loss: 0.0011 - accuracy: 0.9997 - val_loss: 2.3203e-04 - val_accuracy: 0.9999 - 19s/epoch - 7ms/step\n",
            "Epoch 21/200\n",
            "2605/2605 - 19s - loss: 0.0025 - accuracy: 0.9993 - val_loss: 0.0018 - val_accuracy: 0.9997 - 19s/epoch - 7ms/step\n",
            "Epoch 22/200\n",
            "2605/2605 - 19s - loss: 0.0012 - accuracy: 0.9997 - val_loss: 0.0011 - val_accuracy: 0.9997 - 19s/epoch - 7ms/step\n",
            "Epoch 23/200\n",
            "2605/2605 - 19s - loss: 8.2012e-04 - accuracy: 0.9998 - val_loss: 5.0976e-05 - val_accuracy: 1.0000 - 19s/epoch - 7ms/step\n",
            "Epoch 24/200\n",
            "2605/2605 - 19s - loss: 0.0021 - accuracy: 0.9995 - val_loss: 0.0010 - val_accuracy: 0.9996 - 19s/epoch - 7ms/step\n",
            "Epoch 25/200\n",
            "2605/2605 - 19s - loss: 0.0013 - accuracy: 0.9997 - val_loss: 0.0010 - val_accuracy: 0.9997 - 19s/epoch - 7ms/step\n",
            "Epoch 26/200\n",
            "2605/2605 - 19s - loss: 0.0013 - accuracy: 0.9997 - val_loss: 7.5120e-04 - val_accuracy: 0.9998 - 19s/epoch - 7ms/step\n",
            "Epoch 27/200\n",
            "2605/2605 - 19s - loss: 0.0018 - accuracy: 0.9995 - val_loss: 0.0013 - val_accuracy: 0.9997 - 19s/epoch - 7ms/step\n",
            "Epoch 28/200\n",
            "2605/2605 - 19s - loss: 0.0015 - accuracy: 0.9996 - val_loss: 4.6672e-04 - val_accuracy: 0.9999 - 19s/epoch - 7ms/step\n",
            "Epoch 29/200\n",
            "2605/2605 - 19s - loss: 0.0011 - accuracy: 0.9997 - val_loss: 5.5849e-04 - val_accuracy: 0.9998 - 19s/epoch - 7ms/step\n",
            "Epoch 30/200\n",
            "2605/2605 - 19s - loss: 1.3666e-05 - accuracy: 1.0000 - val_loss: 2.3431e-04 - val_accuracy: 0.9999 - 19s/epoch - 7ms/step\n",
            "Epoch 31/200\n",
            "2605/2605 - 19s - loss: 2.7659e-06 - accuracy: 1.0000 - val_loss: 1.9548e-04 - val_accuracy: 0.9999 - 19s/epoch - 7ms/step\n",
            "Epoch 32/200\n",
            "2605/2605 - 19s - loss: 0.0021 - accuracy: 0.9995 - val_loss: 9.0852e-05 - val_accuracy: 1.0000 - 19s/epoch - 7ms/step\n",
            "Epoch 33/200\n",
            "2605/2605 - 19s - loss: 0.0015 - accuracy: 0.9996 - val_loss: 8.8117e-05 - val_accuracy: 1.0000 - 19s/epoch - 7ms/step\n",
            "Epoch 34/200\n",
            "2605/2605 - 19s - loss: 8.4262e-04 - accuracy: 0.9998 - val_loss: 5.3164e-05 - val_accuracy: 1.0000 - 19s/epoch - 7ms/step\n",
            "Epoch 35/200\n",
            "2605/2605 - 19s - loss: 0.0025 - accuracy: 0.9993 - val_loss: 1.4177e-04 - val_accuracy: 1.0000 - 19s/epoch - 7ms/step\n",
            "Epoch 36/200\n",
            "2605/2605 - 19s - loss: 0.0015 - accuracy: 0.9996 - val_loss: 2.8477e-04 - val_accuracy: 0.9999 - 19s/epoch - 7ms/step\n",
            "Epoch 37/200\n",
            "2605/2605 - 19s - loss: 0.0017 - accuracy: 0.9995 - val_loss: 8.2310e-04 - val_accuracy: 0.9998 - 19s/epoch - 7ms/step\n",
            "Epoch 38/200\n",
            "2605/2605 - 19s - loss: 2.1263e-04 - accuracy: 0.9999 - val_loss: 4.0170e-05 - val_accuracy: 1.0000 - 19s/epoch - 7ms/step\n",
            "Epoch 39/200\n",
            "2605/2605 - 19s - loss: 0.0024 - accuracy: 0.9995 - val_loss: 0.0012 - val_accuracy: 0.9996 - 19s/epoch - 7ms/step\n",
            "Epoch 40/200\n",
            "2605/2605 - 19s - loss: 4.2836e-04 - accuracy: 0.9999 - val_loss: 1.4761e-04 - val_accuracy: 1.0000 - 19s/epoch - 7ms/step\n",
            "Epoch 41/200\n",
            "2605/2605 - 19s - loss: 9.4521e-04 - accuracy: 0.9997 - val_loss: 6.0602e-04 - val_accuracy: 0.9999 - 19s/epoch - 7ms/step\n",
            "Epoch 42/200\n",
            "2605/2605 - 19s - loss: 3.9392e-04 - accuracy: 0.9999 - val_loss: 2.6373e-04 - val_accuracy: 0.9999 - 19s/epoch - 7ms/step\n",
            "Epoch 43/200\n",
            "2605/2605 - 19s - loss: 0.0011 - accuracy: 0.9997 - val_loss: 3.5925e-04 - val_accuracy: 0.9998 - 19s/epoch - 7ms/step\n",
            "Epoch 44/200\n",
            "2605/2605 - 19s - loss: 0.0016 - accuracy: 0.9997 - val_loss: 2.3926e-04 - val_accuracy: 0.9999 - 19s/epoch - 7ms/step\n",
            "Epoch 45/200\n",
            "2605/2605 - 19s - loss: 4.1550e-04 - accuracy: 1.0000 - val_loss: 7.5156e-05 - val_accuracy: 1.0000 - 19s/epoch - 7ms/step\n",
            "Epoch 46/200\n",
            "2605/2605 - 19s - loss: 9.0681e-04 - accuracy: 0.9997 - val_loss: 5.6457e-04 - val_accuracy: 0.9997 - 19s/epoch - 7ms/step\n",
            "Epoch 47/200\n",
            "2605/2605 - 19s - loss: 8.2150e-05 - accuracy: 1.0000 - val_loss: 2.4735e-05 - val_accuracy: 1.0000 - 19s/epoch - 7ms/step\n",
            "Epoch 48/200\n",
            "2605/2605 - 19s - loss: 0.0022 - accuracy: 0.9995 - val_loss: 2.0545e-04 - val_accuracy: 0.9999 - 19s/epoch - 7ms/step\n",
            "Epoch 49/200\n",
            "2605/2605 - 19s - loss: 1.4782e-04 - accuracy: 1.0000 - val_loss: 4.6605e-05 - val_accuracy: 1.0000 - 19s/epoch - 7ms/step\n",
            "Epoch 50/200\n",
            "2605/2605 - 19s - loss: 4.8242e-06 - accuracy: 1.0000 - val_loss: 1.2187e-05 - val_accuracy: 1.0000 - 19s/epoch - 7ms/step\n",
            "Epoch 51/200\n",
            "2605/2605 - 19s - loss: 1.1084e-06 - accuracy: 1.0000 - val_loss: 1.0625e-05 - val_accuracy: 1.0000 - 19s/epoch - 7ms/step\n",
            "Epoch 52/200\n",
            "2605/2605 - 19s - loss: 0.0012 - accuracy: 0.9997 - val_loss: 3.3209e-04 - val_accuracy: 0.9999 - 19s/epoch - 7ms/step\n",
            "Epoch 53/200\n",
            "2605/2605 - 19s - loss: 9.8421e-04 - accuracy: 0.9998 - val_loss: 1.2780e-04 - val_accuracy: 1.0000 - 19s/epoch - 7ms/step\n",
            "Epoch 54/200\n",
            "2605/2605 - 19s - loss: 2.8582e-04 - accuracy: 0.9999 - val_loss: 4.4728e-04 - val_accuracy: 0.9999 - 19s/epoch - 7ms/step\n",
            "Epoch 55/200\n",
            "2605/2605 - 19s - loss: 0.0019 - accuracy: 0.9996 - val_loss: 0.0011 - val_accuracy: 0.9996 - 19s/epoch - 7ms/step\n",
            "Epoch 56/200\n",
            "2605/2605 - 19s - loss: 6.1860e-04 - accuracy: 0.9998 - val_loss: 2.6698e-04 - val_accuracy: 0.9999 - 19s/epoch - 7ms/step\n",
            "Epoch 57/200\n",
            "2605/2605 - 19s - loss: 9.1712e-04 - accuracy: 0.9998 - val_loss: 0.0266 - val_accuracy: 0.9933 - 19s/epoch - 7ms/step\n",
            "Epoch 58/200\n",
            "2605/2605 - 19s - loss: 0.0013 - accuracy: 0.9997 - val_loss: 0.0026 - val_accuracy: 0.9990 - 19s/epoch - 7ms/step\n",
            "Epoch 59/200\n",
            "2605/2605 - 19s - loss: 0.0011 - accuracy: 0.9997 - val_loss: 1.0591e-04 - val_accuracy: 1.0000 - 19s/epoch - 7ms/step\n",
            "Epoch 60/200\n",
            "2605/2605 - 19s - loss: 8.5917e-04 - accuracy: 0.9998 - val_loss: 0.0022 - val_accuracy: 0.9993 - 19s/epoch - 7ms/step\n",
            "Epoch 61/200\n",
            "2605/2605 - 19s - loss: 2.4293e-04 - accuracy: 0.9999 - val_loss: 5.4966e-06 - val_accuracy: 1.0000 - 19s/epoch - 7ms/step\n",
            "Epoch 62/200\n",
            "2605/2605 - 19s - loss: 0.0014 - accuracy: 0.9997 - val_loss: 2.3178e-04 - val_accuracy: 0.9999 - 19s/epoch - 7ms/step\n",
            "Epoch 63/200\n",
            "2605/2605 - 19s - loss: 0.0015 - accuracy: 0.9996 - val_loss: 1.3339e-04 - val_accuracy: 1.0000 - 19s/epoch - 7ms/step\n",
            "Epoch 64/200\n",
            "2605/2605 - 19s - loss: 0.0012 - accuracy: 0.9997 - val_loss: 0.0014 - val_accuracy: 0.9997 - 19s/epoch - 7ms/step\n",
            "Epoch 65/200\n",
            "2605/2605 - 19s - loss: 4.0900e-04 - accuracy: 0.9999 - val_loss: 1.3144e-05 - val_accuracy: 1.0000 - 19s/epoch - 7ms/step\n",
            "Epoch 66/200\n",
            "2605/2605 - 19s - loss: 4.6361e-06 - accuracy: 1.0000 - val_loss: 8.5041e-06 - val_accuracy: 1.0000 - 19s/epoch - 7ms/step\n",
            "Epoch 67/200\n",
            "2605/2605 - 19s - loss: 1.4275e-06 - accuracy: 1.0000 - val_loss: 5.9062e-06 - val_accuracy: 1.0000 - 19s/epoch - 7ms/step\n",
            "Epoch 68/200\n",
            "2605/2605 - 19s - loss: 7.5011e-04 - accuracy: 0.9998 - val_loss: 2.4302e-04 - val_accuracy: 0.9999 - 19s/epoch - 7ms/step\n",
            "Epoch 69/200\n",
            "2605/2605 - 19s - loss: 8.3525e-04 - accuracy: 0.9998 - val_loss: 5.0025e-04 - val_accuracy: 0.9999 - 19s/epoch - 7ms/step\n",
            "Epoch 70/200\n",
            "2605/2605 - 19s - loss: 0.0016 - accuracy: 0.9996 - val_loss: 7.0858e-05 - val_accuracy: 1.0000 - 19s/epoch - 7ms/step\n",
            "Epoch 71/200\n",
            "2605/2605 - 19s - loss: 1.7706e-05 - accuracy: 1.0000 - val_loss: 1.2961e-05 - val_accuracy: 1.0000 - 19s/epoch - 7ms/step\n",
            "Epoch 72/200\n",
            "2605/2605 - 19s - loss: 3.8230e-06 - accuracy: 1.0000 - val_loss: 5.4502e-06 - val_accuracy: 1.0000 - 19s/epoch - 7ms/step\n",
            "Epoch 73/200\n",
            "2605/2605 - 19s - loss: 1.6239e-06 - accuracy: 1.0000 - val_loss: 1.6337e-06 - val_accuracy: 1.0000 - 19s/epoch - 7ms/step\n",
            "Epoch 74/200\n",
            "2605/2605 - 19s - loss: 0.0016 - accuracy: 0.9997 - val_loss: 1.3487e-04 - val_accuracy: 0.9999 - 19s/epoch - 7ms/step\n",
            "Epoch 75/200\n",
            "2605/2605 - 19s - loss: 5.5930e-04 - accuracy: 0.9998 - val_loss: 5.6226e-04 - val_accuracy: 0.9999 - 19s/epoch - 7ms/step\n",
            "Epoch 76/200\n",
            "2605/2605 - 19s - loss: 5.0048e-04 - accuracy: 0.9999 - val_loss: 6.2214e-04 - val_accuracy: 0.9998 - 19s/epoch - 7ms/step\n",
            "Epoch 77/200\n",
            "2605/2605 - 19s - loss: 0.0012 - accuracy: 0.9997 - val_loss: 6.2391e-05 - val_accuracy: 1.0000 - 19s/epoch - 7ms/step\n",
            "Epoch 78/200\n",
            "2605/2605 - 19s - loss: 6.6180e-06 - accuracy: 1.0000 - val_loss: 7.3563e-05 - val_accuracy: 0.9999 - 19s/epoch - 7ms/step\n",
            "Epoch 79/200\n",
            "2605/2605 - 19s - loss: 0.0013 - accuracy: 0.9996 - val_loss: 7.1029e-04 - val_accuracy: 0.9997 - 19s/epoch - 7ms/step\n",
            "Epoch 80/200\n",
            "2605/2605 - 19s - loss: 1.3737e-05 - accuracy: 1.0000 - val_loss: 2.2927e-04 - val_accuracy: 1.0000 - 19s/epoch - 7ms/step\n",
            "Epoch 81/200\n",
            "2605/2605 - 19s - loss: 0.0014 - accuracy: 0.9997 - val_loss: 6.8059e-04 - val_accuracy: 0.9998 - 19s/epoch - 7ms/step\n",
            "Epoch 82/200\n",
            "2605/2605 - 19s - loss: 7.2046e-04 - accuracy: 0.9998 - val_loss: 1.2891e-04 - val_accuracy: 1.0000 - 19s/epoch - 7ms/step\n",
            "Epoch 83/200\n",
            "2605/2605 - 19s - loss: 2.0535e-05 - accuracy: 1.0000 - val_loss: 1.6381e-04 - val_accuracy: 1.0000 - 19s/epoch - 7ms/step\n",
            "Epoch 84/200\n",
            "2605/2605 - 19s - loss: 9.7781e-04 - accuracy: 0.9998 - val_loss: 0.0034 - val_accuracy: 0.9990 - 19s/epoch - 7ms/step\n",
            "Epoch 85/200\n",
            "2605/2605 - 19s - loss: 5.6460e-04 - accuracy: 0.9999 - val_loss: 6.7962e-04 - val_accuracy: 0.9999 - 19s/epoch - 7ms/step\n",
            "Epoch 86/200\n",
            "2605/2605 - 19s - loss: 4.1920e-04 - accuracy: 0.9999 - val_loss: 5.1223e-04 - val_accuracy: 0.9999 - 19s/epoch - 7ms/step\n",
            "Epoch 87/200\n",
            "2605/2605 - 19s - loss: 1.8008e-05 - accuracy: 1.0000 - val_loss: 1.0477e-04 - val_accuracy: 1.0000 - 19s/epoch - 7ms/step\n",
            "Epoch 88/200\n",
            "2605/2605 - 19s - loss: 0.0015 - accuracy: 0.9998 - val_loss: 2.0228e-04 - val_accuracy: 0.9999 - 19s/epoch - 7ms/step\n",
            "Epoch 89/200\n",
            "2605/2605 - 19s - loss: 7.0004e-04 - accuracy: 0.9999 - val_loss: 8.9139e-04 - val_accuracy: 0.9997 - 19s/epoch - 7ms/step\n",
            "Epoch 90/200\n",
            "2605/2605 - 19s - loss: 2.1341e-05 - accuracy: 1.0000 - val_loss: 2.7332e-04 - val_accuracy: 1.0000 - 19s/epoch - 7ms/step\n",
            "Epoch 91/200\n",
            "2605/2605 - 19s - loss: 1.9743e-06 - accuracy: 1.0000 - val_loss: 2.4557e-04 - val_accuracy: 1.0000 - 19s/epoch - 7ms/step\n",
            "Epoch 92/200\n",
            "2605/2605 - 19s - loss: 9.7586e-04 - accuracy: 0.9998 - val_loss: 7.2788e-04 - val_accuracy: 0.9997 - 19s/epoch - 7ms/step\n",
            "Epoch 93/200\n",
            "2605/2605 - 19s - loss: 7.0172e-06 - accuracy: 1.0000 - val_loss: 7.4521e-04 - val_accuracy: 0.9997 - 19s/epoch - 7ms/step\n",
            "Epoch 94/200\n",
            "2605/2605 - 19s - loss: 2.3043e-06 - accuracy: 1.0000 - val_loss: 4.9462e-04 - val_accuracy: 0.9998 - 19s/epoch - 7ms/step\n",
            "Epoch 95/200\n",
            "2605/2605 - 19s - loss: 0.0013 - accuracy: 0.9998 - val_loss: 3.2924e-04 - val_accuracy: 0.9999 - 19s/epoch - 7ms/step\n",
            "Epoch 96/200\n",
            "2605/2605 - 19s - loss: 3.9481e-05 - accuracy: 1.0000 - val_loss: 1.7164e-04 - val_accuracy: 0.9999 - 19s/epoch - 7ms/step\n",
            "Epoch 97/200\n",
            "2605/2605 - 19s - loss: 5.2328e-04 - accuracy: 0.9999 - val_loss: 0.0013 - val_accuracy: 0.9997 - 19s/epoch - 7ms/step\n",
            "Epoch 98/200\n",
            "2605/2605 - 19s - loss: 4.0073e-04 - accuracy: 0.9999 - val_loss: 5.8206e-04 - val_accuracy: 0.9997 - 19s/epoch - 7ms/step\n",
            "Epoch 99/200\n",
            "2605/2605 - 19s - loss: 4.6193e-04 - accuracy: 0.9999 - val_loss: 3.2687e-04 - val_accuracy: 0.9999 - 19s/epoch - 7ms/step\n",
            "Epoch 100/200\n",
            "2605/2605 - 19s - loss: 3.5383e-05 - accuracy: 1.0000 - val_loss: 0.0035 - val_accuracy: 0.9990 - 19s/epoch - 7ms/step\n",
            "Epoch 101/200\n",
            "2605/2605 - 19s - loss: 0.0013 - accuracy: 0.9997 - val_loss: 2.6840e-04 - val_accuracy: 0.9999 - 19s/epoch - 7ms/step\n",
            "Epoch 102/200\n",
            "2605/2605 - 19s - loss: 6.7652e-06 - accuracy: 1.0000 - val_loss: 3.6253e-04 - val_accuracy: 0.9999 - 19s/epoch - 7ms/step\n",
            "Epoch 103/200\n",
            "2605/2605 - 19s - loss: 2.0303e-06 - accuracy: 1.0000 - val_loss: 7.3667e-04 - val_accuracy: 0.9999 - 19s/epoch - 7ms/step\n",
            "Epoch 104/200\n",
            "2605/2605 - 19s - loss: 9.6910e-07 - accuracy: 1.0000 - val_loss: 7.8277e-05 - val_accuracy: 1.0000 - 19s/epoch - 7ms/step\n",
            "Epoch 105/200\n",
            "2605/2605 - 19s - loss: 0.0014 - accuracy: 0.9997 - val_loss: 2.6998e-04 - val_accuracy: 0.9999 - 19s/epoch - 7ms/step\n",
            "Epoch 106/200\n",
            "2605/2605 - 19s - loss: 1.4999e-05 - accuracy: 1.0000 - val_loss: 2.2948e-04 - val_accuracy: 1.0000 - 19s/epoch - 7ms/step\n",
            "Epoch 107/200\n",
            "2605/2605 - 19s - loss: 2.6041e-06 - accuracy: 1.0000 - val_loss: 7.2213e-04 - val_accuracy: 0.9998 - 19s/epoch - 7ms/step\n",
            "Epoch 108/200\n",
            "2605/2605 - 19s - loss: 8.1532e-07 - accuracy: 1.0000 - val_loss: 5.6371e-04 - val_accuracy: 0.9999 - 19s/epoch - 7ms/step\n",
            "Epoch 109/200\n",
            "2605/2605 - 19s - loss: 2.1040e-07 - accuracy: 1.0000 - val_loss: 5.2599e-04 - val_accuracy: 0.9999 - 19s/epoch - 7ms/step\n",
            "Epoch 110/200\n",
            "2605/2605 - 19s - loss: 8.1829e-08 - accuracy: 1.0000 - val_loss: 8.8598e-04 - val_accuracy: 0.9998 - 19s/epoch - 7ms/step\n",
            "Epoch 111/200\n",
            "2605/2605 - 19s - loss: 0.0010 - accuracy: 0.9998 - val_loss: 0.0016 - val_accuracy: 0.9998 - 19s/epoch - 7ms/step\n",
            "Epoch 112/200\n",
            "2605/2605 - 19s - loss: 7.3293e-04 - accuracy: 0.9998 - val_loss: 0.0014 - val_accuracy: 0.9996 - 19s/epoch - 7ms/step\n",
            "Epoch 113/200\n",
            "2605/2605 - 19s - loss: 5.1968e-04 - accuracy: 0.9999 - val_loss: 0.0023 - val_accuracy: 0.9997 - 19s/epoch - 7ms/step\n",
            "Epoch 114/200\n",
            "2605/2605 - 19s - loss: 9.5220e-06 - accuracy: 1.0000 - val_loss: 0.0015 - val_accuracy: 0.9998 - 19s/epoch - 7ms/step\n",
            "Epoch 115/200\n",
            "2605/2605 - 19s - loss: 4.1372e-04 - accuracy: 0.9999 - val_loss: 0.0020 - val_accuracy: 0.9996 - 19s/epoch - 7ms/step\n",
            "Epoch 116/200\n",
            "2605/2605 - 19s - loss: 1.4906e-06 - accuracy: 1.0000 - val_loss: 0.0013 - val_accuracy: 0.9997 - 19s/epoch - 7ms/step\n",
            "Epoch 117/200\n",
            "2605/2605 - 19s - loss: 8.0354e-04 - accuracy: 0.9999 - val_loss: 0.0022 - val_accuracy: 0.9997 - 19s/epoch - 7ms/step\n",
            "Epoch 118/200\n",
            "2605/2605 - 19s - loss: 7.4298e-04 - accuracy: 0.9998 - val_loss: 0.0015 - val_accuracy: 0.9997 - 19s/epoch - 7ms/step\n",
            "Epoch 119/200\n",
            "2605/2605 - 19s - loss: 0.0010 - accuracy: 0.9998 - val_loss: 0.0012 - val_accuracy: 0.9997 - 19s/epoch - 7ms/step\n",
            "Epoch 120/200\n",
            "2605/2605 - 19s - loss: 4.1582e-05 - accuracy: 1.0000 - val_loss: 6.8893e-04 - val_accuracy: 0.9998 - 19s/epoch - 7ms/step\n",
            "Epoch 121/200\n",
            "2605/2605 - 19s - loss: 5.5580e-06 - accuracy: 1.0000 - val_loss: 5.9009e-04 - val_accuracy: 0.9998 - 19s/epoch - 7ms/step\n",
            "Epoch 122/200\n",
            "2605/2605 - 19s - loss: 1.2462e-06 - accuracy: 1.0000 - val_loss: 2.7711e-04 - val_accuracy: 1.0000 - 19s/epoch - 7ms/step\n",
            "Epoch 123/200\n",
            "2605/2605 - 19s - loss: 0.0014 - accuracy: 0.9998 - val_loss: 0.0034 - val_accuracy: 0.9993 - 19s/epoch - 7ms/step\n",
            "Epoch 124/200\n",
            "2605/2605 - 19s - loss: 4.7409e-04 - accuracy: 0.9999 - val_loss: 0.0021 - val_accuracy: 0.9996 - 19s/epoch - 7ms/step\n",
            "Epoch 125/200\n",
            "2605/2605 - 19s - loss: 1.3764e-04 - accuracy: 1.0000 - val_loss: 9.8766e-04 - val_accuracy: 0.9997 - 19s/epoch - 7ms/step\n",
            "Epoch 126/200\n",
            "2605/2605 - 19s - loss: 1.5415e-06 - accuracy: 1.0000 - val_loss: 0.0010 - val_accuracy: 0.9997 - 19s/epoch - 7ms/step\n",
            "Epoch 127/200\n",
            "2605/2605 - 19s - loss: 7.1428e-04 - accuracy: 0.9999 - val_loss: 0.0012 - val_accuracy: 0.9998 - 19s/epoch - 7ms/step\n",
            "Epoch 128/200\n",
            "2605/2605 - 19s - loss: 6.0719e-06 - accuracy: 1.0000 - val_loss: 6.5891e-04 - val_accuracy: 0.9998 - 19s/epoch - 7ms/step\n",
            "Epoch 129/200\n",
            "2605/2605 - 19s - loss: 8.5007e-07 - accuracy: 1.0000 - val_loss: 9.1052e-04 - val_accuracy: 0.9998 - 19s/epoch - 7ms/step\n",
            "Epoch 130/200\n",
            "2605/2605 - 19s - loss: 5.9561e-04 - accuracy: 0.9999 - val_loss: 7.5264e-04 - val_accuracy: 0.9999 - 19s/epoch - 7ms/step\n",
            "Epoch 131/200\n",
            "2605/2605 - 19s - loss: 4.5786e-06 - accuracy: 1.0000 - val_loss: 5.5145e-04 - val_accuracy: 0.9999 - 19s/epoch - 7ms/step\n",
            "Epoch 132/200\n",
            "2605/2605 - 19s - loss: 6.6917e-04 - accuracy: 0.9999 - val_loss: 8.4942e-04 - val_accuracy: 0.9999 - 19s/epoch - 7ms/step\n",
            "Epoch 133/200\n",
            "2605/2605 - 19s - loss: 1.3263e-05 - accuracy: 1.0000 - val_loss: 0.0025 - val_accuracy: 0.9993 - 19s/epoch - 7ms/step\n",
            "Epoch 134/200\n",
            "2605/2605 - 19s - loss: 0.0013 - accuracy: 0.9997 - val_loss: 0.0199 - val_accuracy: 0.9972 - 19s/epoch - 7ms/step\n",
            "Epoch 135/200\n",
            "2605/2605 - 19s - loss: 3.8652e-04 - accuracy: 0.9999 - val_loss: 4.4254e-04 - val_accuracy: 0.9999 - 19s/epoch - 7ms/step\n",
            "Epoch 136/200\n",
            "2605/2605 - 19s - loss: 5.1886e-06 - accuracy: 1.0000 - val_loss: 3.4946e-04 - val_accuracy: 1.0000 - 19s/epoch - 7ms/step\n",
            "Epoch 137/200\n",
            "2605/2605 - 19s - loss: 7.3789e-04 - accuracy: 0.9998 - val_loss: 9.5184e-05 - val_accuracy: 1.0000 - 19s/epoch - 7ms/step\n",
            "Epoch 138/200\n",
            "2605/2605 - 19s - loss: 8.9864e-06 - accuracy: 1.0000 - val_loss: 2.9141e-05 - val_accuracy: 1.0000 - 19s/epoch - 7ms/step\n",
            "Epoch 139/200\n",
            "2605/2605 - 19s - loss: 5.5139e-04 - accuracy: 0.9999 - val_loss: 5.5040e-05 - val_accuracy: 1.0000 - 19s/epoch - 7ms/step\n",
            "Epoch 140/200\n",
            "2605/2605 - 18s - loss: 4.7892e-05 - accuracy: 1.0000 - val_loss: 8.7540e-05 - val_accuracy: 1.0000 - 18s/epoch - 7ms/step\n",
            "Epoch 141/200\n",
            "2605/2605 - 19s - loss: 2.4333e-04 - accuracy: 0.9999 - val_loss: 8.8417e-05 - val_accuracy: 1.0000 - 19s/epoch - 7ms/step\n",
            "Epoch 142/200\n",
            "2605/2605 - 19s - loss: 6.0421e-04 - accuracy: 0.9999 - val_loss: 1.8867e-04 - val_accuracy: 0.9999 - 19s/epoch - 7ms/step\n",
            "Epoch 143/200\n",
            "2605/2605 - 19s - loss: 1.3435e-04 - accuracy: 0.9999 - val_loss: 2.4620e-04 - val_accuracy: 0.9999 - 19s/epoch - 7ms/step\n",
            "Epoch 144/200\n",
            "2605/2605 - 19s - loss: 1.4666e-06 - accuracy: 1.0000 - val_loss: 2.3246e-04 - val_accuracy: 1.0000 - 19s/epoch - 7ms/step\n",
            "Epoch 145/200\n",
            "2605/2605 - 19s - loss: 6.5963e-04 - accuracy: 0.9998 - val_loss: 5.6569e-04 - val_accuracy: 0.9999 - 19s/epoch - 7ms/step\n",
            "Epoch 146/200\n",
            "2605/2605 - 19s - loss: 9.3897e-04 - accuracy: 0.9998 - val_loss: 4.6329e-04 - val_accuracy: 0.9999 - 19s/epoch - 7ms/step\n",
            "Epoch 147/200\n",
            "2605/2605 - 19s - loss: 1.4866e-05 - accuracy: 1.0000 - val_loss: 7.5112e-04 - val_accuracy: 0.9999 - 19s/epoch - 7ms/step\n",
            "Epoch 148/200\n",
            "2605/2605 - 19s - loss: 0.0010 - accuracy: 0.9998 - val_loss: 5.6393e-04 - val_accuracy: 0.9999 - 19s/epoch - 7ms/step\n",
            "Epoch 149/200\n",
            "2605/2605 - 19s - loss: 5.4936e-06 - accuracy: 1.0000 - val_loss: 3.6058e-04 - val_accuracy: 0.9999 - 19s/epoch - 7ms/step\n",
            "Epoch 150/200\n",
            "2605/2605 - 19s - loss: 1.4027e-06 - accuracy: 1.0000 - val_loss: 3.5456e-04 - val_accuracy: 1.0000 - 19s/epoch - 7ms/step\n",
            "Epoch 151/200\n",
            "2605/2605 - 19s - loss: 5.7411e-07 - accuracy: 1.0000 - val_loss: 2.8012e-04 - val_accuracy: 1.0000 - 19s/epoch - 7ms/step\n",
            "Epoch 152/200\n",
            "2605/2605 - 19s - loss: 7.2940e-04 - accuracy: 0.9999 - val_loss: 3.3526e-04 - val_accuracy: 0.9999 - 19s/epoch - 7ms/step\n",
            "Epoch 153/200\n",
            "2605/2605 - 19s - loss: 6.6680e-04 - accuracy: 0.9999 - val_loss: 1.4888e-04 - val_accuracy: 1.0000 - 19s/epoch - 7ms/step\n",
            "Epoch 154/200\n",
            "2605/2605 - 19s - loss: 6.0439e-06 - accuracy: 1.0000 - val_loss: 1.7513e-04 - val_accuracy: 1.0000 - 19s/epoch - 7ms/step\n",
            "Epoch 155/200\n",
            "2605/2605 - 19s - loss: 6.3650e-04 - accuracy: 0.9999 - val_loss: 0.0016 - val_accuracy: 0.9993 - 19s/epoch - 7ms/step\n",
            "Epoch 156/200\n",
            "2605/2605 - 19s - loss: 3.7474e-04 - accuracy: 0.9999 - val_loss: 1.0647e-04 - val_accuracy: 0.9999 - 19s/epoch - 7ms/step\n",
            "Epoch 157/200\n",
            "2605/2605 - 19s - loss: 5.0217e-04 - accuracy: 0.9998 - val_loss: 0.0356 - val_accuracy: 0.9939 - 19s/epoch - 7ms/step\n",
            "Epoch 158/200\n",
            "2605/2605 - 19s - loss: 0.0011 - accuracy: 0.9998 - val_loss: 0.0017 - val_accuracy: 0.9999 - 19s/epoch - 7ms/step\n",
            "Epoch 159/200\n",
            "2605/2605 - 19s - loss: 6.4253e-05 - accuracy: 1.0000 - val_loss: 2.1648e-04 - val_accuracy: 1.0000 - 19s/epoch - 7ms/step\n",
            "Epoch 160/200\n",
            "2605/2605 - 19s - loss: 1.3995e-06 - accuracy: 1.0000 - val_loss: 1.7735e-04 - val_accuracy: 1.0000 - 19s/epoch - 7ms/step\n",
            "Epoch 161/200\n",
            "2605/2605 - 19s - loss: 6.4578e-07 - accuracy: 1.0000 - val_loss: 1.8048e-04 - val_accuracy: 1.0000 - 19s/epoch - 7ms/step\n",
            "Epoch 162/200\n",
            "2605/2605 - 19s - loss: 1.9432e-07 - accuracy: 1.0000 - val_loss: 2.4553e-04 - val_accuracy: 1.0000 - 19s/epoch - 7ms/step\n",
            "Epoch 163/200\n",
            "2605/2605 - 21s - loss: 6.6028e-08 - accuracy: 1.0000 - val_loss: 1.8056e-04 - val_accuracy: 1.0000 - 21s/epoch - 8ms/step\n",
            "Epoch 164/200\n",
            "2605/2605 - 19s - loss: 2.0894e-08 - accuracy: 1.0000 - val_loss: 1.5769e-04 - val_accuracy: 1.0000 - 19s/epoch - 7ms/step\n",
            "Epoch 165/200\n",
            "2605/2605 - 19s - loss: 8.0455e-04 - accuracy: 0.9999 - val_loss: 8.6338e-04 - val_accuracy: 0.9998 - 19s/epoch - 7ms/step\n",
            "Epoch 166/200\n",
            "2605/2605 - 19s - loss: 7.2359e-04 - accuracy: 0.9999 - val_loss: 0.0045 - val_accuracy: 0.9995 - 19s/epoch - 7ms/step\n",
            "Epoch 167/200\n",
            "2605/2605 - 19s - loss: 8.4166e-04 - accuracy: 0.9998 - val_loss: 0.0015 - val_accuracy: 0.9996 - 19s/epoch - 7ms/step\n",
            "Epoch 168/200\n",
            "2605/2605 - 19s - loss: 4.3007e-05 - accuracy: 1.0000 - val_loss: 4.6816e-04 - val_accuracy: 0.9999 - 19s/epoch - 7ms/step\n",
            "Epoch 169/200\n",
            "2605/2605 - 19s - loss: 3.2798e-06 - accuracy: 1.0000 - val_loss: 2.3836e-04 - val_accuracy: 0.9999 - 19s/epoch - 7ms/step\n",
            "Epoch 170/200\n",
            "2605/2605 - 19s - loss: 5.3821e-07 - accuracy: 1.0000 - val_loss: 2.2189e-04 - val_accuracy: 1.0000 - 19s/epoch - 7ms/step\n",
            "Epoch 171/200\n",
            "2605/2605 - 19s - loss: 2.2734e-07 - accuracy: 1.0000 - val_loss: 7.0331e-04 - val_accuracy: 0.9999 - 19s/epoch - 7ms/step\n",
            "Epoch 172/200\n",
            "2605/2605 - 19s - loss: 1.2916e-07 - accuracy: 1.0000 - val_loss: 4.3032e-04 - val_accuracy: 0.9999 - 19s/epoch - 7ms/step\n",
            "Epoch 173/200\n",
            "2605/2605 - 19s - loss: 1.7611e-08 - accuracy: 1.0000 - val_loss: 2.9193e-04 - val_accuracy: 0.9999 - 19s/epoch - 7ms/step\n",
            "Epoch 174/200\n",
            "2605/2605 - 19s - loss: 3.6270e-09 - accuracy: 1.0000 - val_loss: 3.2959e-04 - val_accuracy: 0.9999 - 19s/epoch - 7ms/step\n",
            "Epoch 175/200\n",
            "2605/2605 - 19s - loss: 0.0012 - accuracy: 0.9998 - val_loss: 4.5652e-05 - val_accuracy: 1.0000 - 19s/epoch - 7ms/step\n",
            "Epoch 176/200\n",
            "2605/2605 - 19s - loss: 5.2473e-04 - accuracy: 0.9999 - val_loss: 7.9068e-04 - val_accuracy: 0.9998 - 19s/epoch - 7ms/step\n",
            "Epoch 177/200\n",
            "2605/2605 - 18s - loss: 3.8806e-04 - accuracy: 0.9999 - val_loss: 0.0011 - val_accuracy: 0.9998 - 18s/epoch - 7ms/step\n",
            "Epoch 178/200\n",
            "2605/2605 - 18s - loss: 4.8137e-04 - accuracy: 0.9999 - val_loss: 7.1792e-05 - val_accuracy: 1.0000 - 18s/epoch - 7ms/step\n",
            "Epoch 179/200\n",
            "2605/2605 - 18s - loss: 5.3620e-04 - accuracy: 0.9998 - val_loss: 1.8252e-04 - val_accuracy: 1.0000 - 18s/epoch - 7ms/step\n",
            "Epoch 180/200\n",
            "2605/2605 - 19s - loss: 1.1606e-05 - accuracy: 1.0000 - val_loss: 6.8681e-05 - val_accuracy: 1.0000 - 19s/epoch - 7ms/step\n",
            "Epoch 181/200\n",
            "2605/2605 - 19s - loss: 1.4806e-06 - accuracy: 1.0000 - val_loss: 4.3041e-05 - val_accuracy: 1.0000 - 19s/epoch - 7ms/step\n",
            "Epoch 182/200\n",
            "2605/2605 - 18s - loss: 9.1975e-04 - accuracy: 0.9998 - val_loss: 7.3196e-04 - val_accuracy: 0.9999 - 18s/epoch - 7ms/step\n",
            "Epoch 183/200\n",
            "2605/2605 - 19s - loss: 4.2794e-04 - accuracy: 0.9999 - val_loss: 4.6842e-04 - val_accuracy: 0.9999 - 19s/epoch - 7ms/step\n",
            "Epoch 184/200\n",
            "2605/2605 - 19s - loss: 1.8834e-05 - accuracy: 1.0000 - val_loss: 8.6836e-05 - val_accuracy: 1.0000 - 19s/epoch - 7ms/step\n",
            "Epoch 185/200\n",
            "2605/2605 - 19s - loss: 2.1771e-04 - accuracy: 0.9999 - val_loss: 1.9072e-04 - val_accuracy: 0.9999 - 19s/epoch - 7ms/step\n",
            "Epoch 186/200\n",
            "2605/2605 - 18s - loss: 4.1654e-04 - accuracy: 0.9999 - val_loss: 4.7532e-04 - val_accuracy: 0.9999 - 18s/epoch - 7ms/step\n",
            "Epoch 187/200\n",
            "2605/2605 - 19s - loss: 2.9261e-04 - accuracy: 1.0000 - val_loss: 4.4528e-04 - val_accuracy: 1.0000 - 19s/epoch - 7ms/step\n",
            "Epoch 188/200\n",
            "2605/2605 - 18s - loss: 6.6673e-05 - accuracy: 1.0000 - val_loss: 4.5438e-04 - val_accuracy: 0.9999 - 18s/epoch - 7ms/step\n",
            "Epoch 189/200\n",
            "2605/2605 - 19s - loss: 5.5550e-07 - accuracy: 1.0000 - val_loss: 3.2544e-04 - val_accuracy: 1.0000 - 19s/epoch - 7ms/step\n",
            "Epoch 190/200\n",
            "2605/2605 - 19s - loss: 1.8548e-07 - accuracy: 1.0000 - val_loss: 2.6794e-04 - val_accuracy: 1.0000 - 19s/epoch - 7ms/step\n",
            "Epoch 191/200\n",
            "2605/2605 - 19s - loss: 7.1669e-08 - accuracy: 1.0000 - val_loss: 2.4800e-04 - val_accuracy: 0.9999 - 19s/epoch - 7ms/step\n",
            "Epoch 192/200\n",
            "2605/2605 - 19s - loss: 2.5915e-08 - accuracy: 1.0000 - val_loss: 1.7874e-04 - val_accuracy: 1.0000 - 19s/epoch - 7ms/step\n",
            "Epoch 193/200\n",
            "2605/2605 - 19s - loss: 7.1041e-09 - accuracy: 1.0000 - val_loss: 1.2820e-04 - val_accuracy: 1.0000 - 19s/epoch - 7ms/step\n",
            "Epoch 194/200\n",
            "2605/2605 - 18s - loss: 0.0013 - accuracy: 0.9998 - val_loss: 3.7175e-04 - val_accuracy: 0.9999 - 18s/epoch - 7ms/step\n",
            "Epoch 195/200\n",
            "2605/2605 - 18s - loss: 4.1850e-04 - accuracy: 0.9999 - val_loss: 2.2421e-04 - val_accuracy: 0.9999 - 18s/epoch - 7ms/step\n",
            "Epoch 196/200\n",
            "2605/2605 - 18s - loss: 2.7595e-04 - accuracy: 0.9999 - val_loss: 0.0016 - val_accuracy: 0.9997 - 18s/epoch - 7ms/step\n",
            "Epoch 197/200\n",
            "2605/2605 - 18s - loss: 1.2501e-04 - accuracy: 1.0000 - val_loss: 0.0015 - val_accuracy: 0.9997 - 18s/epoch - 7ms/step\n",
            "Epoch 198/200\n",
            "2605/2605 - 18s - loss: 4.4515e-04 - accuracy: 0.9999 - val_loss: 6.0459e-04 - val_accuracy: 0.9999 - 18s/epoch - 7ms/step\n",
            "Epoch 199/200\n",
            "2605/2605 - 19s - loss: 1.1129e-06 - accuracy: 1.0000 - val_loss: 4.7150e-04 - val_accuracy: 0.9999 - 19s/epoch - 7ms/step\n",
            "Epoch 200/200\n",
            "2605/2605 - 19s - loss: 3.6073e-07 - accuracy: 1.0000 - val_loss: 4.4914e-04 - val_accuracy: 0.9999 - 19s/epoch - 7ms/step\n"
          ]
        }
      ]
    },
    {
      "cell_type": "code",
      "source": [
        "%matplotlib inline\n",
        "%config InlineBackend.figure_format = 'svg'\n",
        "def plot_metric(history, metric):\n",
        "    train_metrics = history.history[metric]\n",
        "    val_metrics = history.history['val_'+metric]\n",
        "    epochs = range(1, len(train_metrics) + 1)\n",
        "    plt.plot(epochs, train_metrics)\n",
        "    plt.plot(epochs, val_metrics)\n",
        "    plt.title('Training and validation '+ metric)\n",
        "    plt.xlabel(\"Epochs\")\n",
        "    plt.ylabel(metric)\n",
        "    plt.legend([\"train_\"+metric, 'val_'+metric])\n",
        "    plt.show()"
      ],
      "metadata": {
        "id": "kcFywIX09JSe"
      },
      "execution_count": 20,
      "outputs": []
    },
    {
      "cell_type": "code",
      "source": [
        "plot_metric(history, 'accuracy')"
      ],
      "metadata": {
        "colab": {
          "base_uri": "https://localhost:8080/",
          "height": 391
        },
        "id": "b1uzIVAoQmF4",
        "outputId": "f4ce8b47-26f1-457f-bc30-b0add2153044"
      },
      "execution_count": 21,
      "outputs": [
        {
          "output_type": "display_data",
          "data": {
            "text/plain": [
              "<Figure size 432x288 with 1 Axes>"
            ],
            "image/svg+xml": "<?xml version=\"1.0\" encoding=\"utf-8\" standalone=\"no\"?>\n<!DOCTYPE svg PUBLIC \"-//W3C//DTD SVG 1.1//EN\"\n  \"http://www.w3.org/Graphics/SVG/1.1/DTD/svg11.dtd\">\n<!-- Created with matplotlib (https://matplotlib.org/) -->\n<svg height=\"277.314375pt\" version=\"1.1\" viewBox=\"0 0 392.14375 277.314375\" width=\"392.14375pt\" xmlns=\"http://www.w3.org/2000/svg\" xmlns:xlink=\"http://www.w3.org/1999/xlink\">\n <defs>\n  <style type=\"text/css\">\n*{stroke-linecap:butt;stroke-linejoin:round;}\n  </style>\n </defs>\n <g id=\"figure_1\">\n  <g id=\"patch_1\">\n   <path d=\"M 0 277.314375 \nL 392.14375 277.314375 \nL 392.14375 0 \nL 0 0 \nz\n\" style=\"fill:none;\"/>\n  </g>\n  <g id=\"axes_1\">\n   <g id=\"patch_2\">\n    <path d=\"M 50.14375 239.758125 \nL 384.94375 239.758125 \nL 384.94375 22.318125 \nL 50.14375 22.318125 \nz\n\" style=\"fill:#ffffff;\"/>\n   </g>\n   <g id=\"matplotlib.axis_1\">\n    <g id=\"xtick_1\">\n     <g id=\"line2d_1\">\n      <defs>\n       <path d=\"M 0 0 \nL 0 3.5 \n\" id=\"m876f18c4fe\" style=\"stroke:#000000;stroke-width:0.8;\"/>\n      </defs>\n      <g>\n       <use style=\"stroke:#000000;stroke-width:0.8;\" x=\"63.832466\" xlink:href=\"#m876f18c4fe\" y=\"239.758125\"/>\n      </g>\n     </g>\n     <g id=\"text_1\">\n      <!-- 0 -->\n      <defs>\n       <path d=\"M 31.78125 66.40625 \nQ 24.171875 66.40625 20.328125 58.90625 \nQ 16.5 51.421875 16.5 36.375 \nQ 16.5 21.390625 20.328125 13.890625 \nQ 24.171875 6.390625 31.78125 6.390625 \nQ 39.453125 6.390625 43.28125 13.890625 \nQ 47.125 21.390625 47.125 36.375 \nQ 47.125 51.421875 43.28125 58.90625 \nQ 39.453125 66.40625 31.78125 66.40625 \nz\nM 31.78125 74.21875 \nQ 44.046875 74.21875 50.515625 64.515625 \nQ 56.984375 54.828125 56.984375 36.375 \nQ 56.984375 17.96875 50.515625 8.265625 \nQ 44.046875 -1.421875 31.78125 -1.421875 \nQ 19.53125 -1.421875 13.0625 8.265625 \nQ 6.59375 17.96875 6.59375 36.375 \nQ 6.59375 54.828125 13.0625 64.515625 \nQ 19.53125 74.21875 31.78125 74.21875 \nz\n\" id=\"DejaVuSans-48\"/>\n      </defs>\n      <g transform=\"translate(60.651216 254.356562)scale(0.1 -0.1)\">\n       <use xlink:href=\"#DejaVuSans-48\"/>\n      </g>\n     </g>\n    </g>\n    <g id=\"xtick_2\">\n     <g id=\"line2d_2\">\n      <g>\n       <use style=\"stroke:#000000;stroke-width:0.8;\" x=\"102.069104\" xlink:href=\"#m876f18c4fe\" y=\"239.758125\"/>\n      </g>\n     </g>\n     <g id=\"text_2\">\n      <!-- 25 -->\n      <defs>\n       <path d=\"M 19.1875 8.296875 \nL 53.609375 8.296875 \nL 53.609375 0 \nL 7.328125 0 \nL 7.328125 8.296875 \nQ 12.9375 14.109375 22.625 23.890625 \nQ 32.328125 33.6875 34.8125 36.53125 \nQ 39.546875 41.84375 41.421875 45.53125 \nQ 43.3125 49.21875 43.3125 52.78125 \nQ 43.3125 58.59375 39.234375 62.25 \nQ 35.15625 65.921875 28.609375 65.921875 \nQ 23.96875 65.921875 18.8125 64.3125 \nQ 13.671875 62.703125 7.8125 59.421875 \nL 7.8125 69.390625 \nQ 13.765625 71.78125 18.9375 73 \nQ 24.125 74.21875 28.421875 74.21875 \nQ 39.75 74.21875 46.484375 68.546875 \nQ 53.21875 62.890625 53.21875 53.421875 \nQ 53.21875 48.921875 51.53125 44.890625 \nQ 49.859375 40.875 45.40625 35.40625 \nQ 44.1875 33.984375 37.640625 27.21875 \nQ 31.109375 20.453125 19.1875 8.296875 \nz\n\" id=\"DejaVuSans-50\"/>\n       <path d=\"M 10.796875 72.90625 \nL 49.515625 72.90625 \nL 49.515625 64.59375 \nL 19.828125 64.59375 \nL 19.828125 46.734375 \nQ 21.96875 47.46875 24.109375 47.828125 \nQ 26.265625 48.1875 28.421875 48.1875 \nQ 40.625 48.1875 47.75 41.5 \nQ 54.890625 34.8125 54.890625 23.390625 \nQ 54.890625 11.625 47.5625 5.09375 \nQ 40.234375 -1.421875 26.90625 -1.421875 \nQ 22.3125 -1.421875 17.546875 -0.640625 \nQ 12.796875 0.140625 7.71875 1.703125 \nL 7.71875 11.625 \nQ 12.109375 9.234375 16.796875 8.0625 \nQ 21.484375 6.890625 26.703125 6.890625 \nQ 35.15625 6.890625 40.078125 11.328125 \nQ 45.015625 15.765625 45.015625 23.390625 \nQ 45.015625 31 40.078125 35.4375 \nQ 35.15625 39.890625 26.703125 39.890625 \nQ 22.75 39.890625 18.8125 39.015625 \nQ 14.890625 38.140625 10.796875 36.28125 \nz\n\" id=\"DejaVuSans-53\"/>\n      </defs>\n      <g transform=\"translate(95.706604 254.356562)scale(0.1 -0.1)\">\n       <use xlink:href=\"#DejaVuSans-50\"/>\n       <use x=\"63.623047\" xlink:href=\"#DejaVuSans-53\"/>\n      </g>\n     </g>\n    </g>\n    <g id=\"xtick_3\">\n     <g id=\"line2d_3\">\n      <g>\n       <use style=\"stroke:#000000;stroke-width:0.8;\" x=\"140.305742\" xlink:href=\"#m876f18c4fe\" y=\"239.758125\"/>\n      </g>\n     </g>\n     <g id=\"text_3\">\n      <!-- 50 -->\n      <g transform=\"translate(133.943242 254.356562)scale(0.1 -0.1)\">\n       <use xlink:href=\"#DejaVuSans-53\"/>\n       <use x=\"63.623047\" xlink:href=\"#DejaVuSans-48\"/>\n      </g>\n     </g>\n    </g>\n    <g id=\"xtick_4\">\n     <g id=\"line2d_4\">\n      <g>\n       <use style=\"stroke:#000000;stroke-width:0.8;\" x=\"178.54238\" xlink:href=\"#m876f18c4fe\" y=\"239.758125\"/>\n      </g>\n     </g>\n     <g id=\"text_4\">\n      <!-- 75 -->\n      <defs>\n       <path d=\"M 8.203125 72.90625 \nL 55.078125 72.90625 \nL 55.078125 68.703125 \nL 28.609375 0 \nL 18.3125 0 \nL 43.21875 64.59375 \nL 8.203125 64.59375 \nz\n\" id=\"DejaVuSans-55\"/>\n      </defs>\n      <g transform=\"translate(172.17988 254.356562)scale(0.1 -0.1)\">\n       <use xlink:href=\"#DejaVuSans-55\"/>\n       <use x=\"63.623047\" xlink:href=\"#DejaVuSans-53\"/>\n      </g>\n     </g>\n    </g>\n    <g id=\"xtick_5\">\n     <g id=\"line2d_5\">\n      <g>\n       <use style=\"stroke:#000000;stroke-width:0.8;\" x=\"216.779017\" xlink:href=\"#m876f18c4fe\" y=\"239.758125\"/>\n      </g>\n     </g>\n     <g id=\"text_5\">\n      <!-- 100 -->\n      <defs>\n       <path d=\"M 12.40625 8.296875 \nL 28.515625 8.296875 \nL 28.515625 63.921875 \nL 10.984375 60.40625 \nL 10.984375 69.390625 \nL 28.421875 72.90625 \nL 38.28125 72.90625 \nL 38.28125 8.296875 \nL 54.390625 8.296875 \nL 54.390625 0 \nL 12.40625 0 \nz\n\" id=\"DejaVuSans-49\"/>\n      </defs>\n      <g transform=\"translate(207.235267 254.356562)scale(0.1 -0.1)\">\n       <use xlink:href=\"#DejaVuSans-49\"/>\n       <use x=\"63.623047\" xlink:href=\"#DejaVuSans-48\"/>\n       <use x=\"127.246094\" xlink:href=\"#DejaVuSans-48\"/>\n      </g>\n     </g>\n    </g>\n    <g id=\"xtick_6\">\n     <g id=\"line2d_6\">\n      <g>\n       <use style=\"stroke:#000000;stroke-width:0.8;\" x=\"255.015655\" xlink:href=\"#m876f18c4fe\" y=\"239.758125\"/>\n      </g>\n     </g>\n     <g id=\"text_6\">\n      <!-- 125 -->\n      <g transform=\"translate(245.471905 254.356562)scale(0.1 -0.1)\">\n       <use xlink:href=\"#DejaVuSans-49\"/>\n       <use x=\"63.623047\" xlink:href=\"#DejaVuSans-50\"/>\n       <use x=\"127.246094\" xlink:href=\"#DejaVuSans-53\"/>\n      </g>\n     </g>\n    </g>\n    <g id=\"xtick_7\">\n     <g id=\"line2d_7\">\n      <g>\n       <use style=\"stroke:#000000;stroke-width:0.8;\" x=\"293.252293\" xlink:href=\"#m876f18c4fe\" y=\"239.758125\"/>\n      </g>\n     </g>\n     <g id=\"text_7\">\n      <!-- 150 -->\n      <g transform=\"translate(283.708543 254.356562)scale(0.1 -0.1)\">\n       <use xlink:href=\"#DejaVuSans-49\"/>\n       <use x=\"63.623047\" xlink:href=\"#DejaVuSans-53\"/>\n       <use x=\"127.246094\" xlink:href=\"#DejaVuSans-48\"/>\n      </g>\n     </g>\n    </g>\n    <g id=\"xtick_8\">\n     <g id=\"line2d_8\">\n      <g>\n       <use style=\"stroke:#000000;stroke-width:0.8;\" x=\"331.48893\" xlink:href=\"#m876f18c4fe\" y=\"239.758125\"/>\n      </g>\n     </g>\n     <g id=\"text_8\">\n      <!-- 175 -->\n      <g transform=\"translate(321.94518 254.356562)scale(0.1 -0.1)\">\n       <use xlink:href=\"#DejaVuSans-49\"/>\n       <use x=\"63.623047\" xlink:href=\"#DejaVuSans-55\"/>\n       <use x=\"127.246094\" xlink:href=\"#DejaVuSans-53\"/>\n      </g>\n     </g>\n    </g>\n    <g id=\"xtick_9\">\n     <g id=\"line2d_9\">\n      <g>\n       <use style=\"stroke:#000000;stroke-width:0.8;\" x=\"369.725568\" xlink:href=\"#m876f18c4fe\" y=\"239.758125\"/>\n      </g>\n     </g>\n     <g id=\"text_9\">\n      <!-- 200 -->\n      <g transform=\"translate(360.181818 254.356562)scale(0.1 -0.1)\">\n       <use xlink:href=\"#DejaVuSans-50\"/>\n       <use x=\"63.623047\" xlink:href=\"#DejaVuSans-48\"/>\n       <use x=\"127.246094\" xlink:href=\"#DejaVuSans-48\"/>\n      </g>\n     </g>\n    </g>\n    <g id=\"text_10\">\n     <!-- Epochs -->\n     <defs>\n      <path d=\"M 9.8125 72.90625 \nL 55.90625 72.90625 \nL 55.90625 64.59375 \nL 19.671875 64.59375 \nL 19.671875 43.015625 \nL 54.390625 43.015625 \nL 54.390625 34.71875 \nL 19.671875 34.71875 \nL 19.671875 8.296875 \nL 56.78125 8.296875 \nL 56.78125 0 \nL 9.8125 0 \nz\n\" id=\"DejaVuSans-69\"/>\n      <path d=\"M 18.109375 8.203125 \nL 18.109375 -20.796875 \nL 9.078125 -20.796875 \nL 9.078125 54.6875 \nL 18.109375 54.6875 \nL 18.109375 46.390625 \nQ 20.953125 51.265625 25.265625 53.625 \nQ 29.59375 56 35.59375 56 \nQ 45.5625 56 51.78125 48.09375 \nQ 58.015625 40.1875 58.015625 27.296875 \nQ 58.015625 14.40625 51.78125 6.484375 \nQ 45.5625 -1.421875 35.59375 -1.421875 \nQ 29.59375 -1.421875 25.265625 0.953125 \nQ 20.953125 3.328125 18.109375 8.203125 \nz\nM 48.6875 27.296875 \nQ 48.6875 37.203125 44.609375 42.84375 \nQ 40.53125 48.484375 33.40625 48.484375 \nQ 26.265625 48.484375 22.1875 42.84375 \nQ 18.109375 37.203125 18.109375 27.296875 \nQ 18.109375 17.390625 22.1875 11.75 \nQ 26.265625 6.109375 33.40625 6.109375 \nQ 40.53125 6.109375 44.609375 11.75 \nQ 48.6875 17.390625 48.6875 27.296875 \nz\n\" id=\"DejaVuSans-112\"/>\n      <path d=\"M 30.609375 48.390625 \nQ 23.390625 48.390625 19.1875 42.75 \nQ 14.984375 37.109375 14.984375 27.296875 \nQ 14.984375 17.484375 19.15625 11.84375 \nQ 23.34375 6.203125 30.609375 6.203125 \nQ 37.796875 6.203125 41.984375 11.859375 \nQ 46.1875 17.53125 46.1875 27.296875 \nQ 46.1875 37.015625 41.984375 42.703125 \nQ 37.796875 48.390625 30.609375 48.390625 \nz\nM 30.609375 56 \nQ 42.328125 56 49.015625 48.375 \nQ 55.71875 40.765625 55.71875 27.296875 \nQ 55.71875 13.875 49.015625 6.21875 \nQ 42.328125 -1.421875 30.609375 -1.421875 \nQ 18.84375 -1.421875 12.171875 6.21875 \nQ 5.515625 13.875 5.515625 27.296875 \nQ 5.515625 40.765625 12.171875 48.375 \nQ 18.84375 56 30.609375 56 \nz\n\" id=\"DejaVuSans-111\"/>\n      <path d=\"M 48.78125 52.59375 \nL 48.78125 44.1875 \nQ 44.96875 46.296875 41.140625 47.34375 \nQ 37.3125 48.390625 33.40625 48.390625 \nQ 24.65625 48.390625 19.8125 42.84375 \nQ 14.984375 37.3125 14.984375 27.296875 \nQ 14.984375 17.28125 19.8125 11.734375 \nQ 24.65625 6.203125 33.40625 6.203125 \nQ 37.3125 6.203125 41.140625 7.25 \nQ 44.96875 8.296875 48.78125 10.40625 \nL 48.78125 2.09375 \nQ 45.015625 0.34375 40.984375 -0.53125 \nQ 36.96875 -1.421875 32.421875 -1.421875 \nQ 20.0625 -1.421875 12.78125 6.34375 \nQ 5.515625 14.109375 5.515625 27.296875 \nQ 5.515625 40.671875 12.859375 48.328125 \nQ 20.21875 56 33.015625 56 \nQ 37.15625 56 41.109375 55.140625 \nQ 45.0625 54.296875 48.78125 52.59375 \nz\n\" id=\"DejaVuSans-99\"/>\n      <path d=\"M 54.890625 33.015625 \nL 54.890625 0 \nL 45.90625 0 \nL 45.90625 32.71875 \nQ 45.90625 40.484375 42.875 44.328125 \nQ 39.84375 48.1875 33.796875 48.1875 \nQ 26.515625 48.1875 22.3125 43.546875 \nQ 18.109375 38.921875 18.109375 30.90625 \nL 18.109375 0 \nL 9.078125 0 \nL 9.078125 75.984375 \nL 18.109375 75.984375 \nL 18.109375 46.1875 \nQ 21.34375 51.125 25.703125 53.5625 \nQ 30.078125 56 35.796875 56 \nQ 45.21875 56 50.046875 50.171875 \nQ 54.890625 44.34375 54.890625 33.015625 \nz\n\" id=\"DejaVuSans-104\"/>\n      <path d=\"M 44.28125 53.078125 \nL 44.28125 44.578125 \nQ 40.484375 46.53125 36.375 47.5 \nQ 32.28125 48.484375 27.875 48.484375 \nQ 21.1875 48.484375 17.84375 46.4375 \nQ 14.5 44.390625 14.5 40.28125 \nQ 14.5 37.15625 16.890625 35.375 \nQ 19.28125 33.59375 26.515625 31.984375 \nL 29.59375 31.296875 \nQ 39.15625 29.25 43.1875 25.515625 \nQ 47.21875 21.78125 47.21875 15.09375 \nQ 47.21875 7.46875 41.1875 3.015625 \nQ 35.15625 -1.421875 24.609375 -1.421875 \nQ 20.21875 -1.421875 15.453125 -0.5625 \nQ 10.6875 0.296875 5.421875 2 \nL 5.421875 11.28125 \nQ 10.40625 8.6875 15.234375 7.390625 \nQ 20.0625 6.109375 24.8125 6.109375 \nQ 31.15625 6.109375 34.5625 8.28125 \nQ 37.984375 10.453125 37.984375 14.40625 \nQ 37.984375 18.0625 35.515625 20.015625 \nQ 33.0625 21.96875 24.703125 23.78125 \nL 21.578125 24.515625 \nQ 13.234375 26.265625 9.515625 29.90625 \nQ 5.8125 33.546875 5.8125 39.890625 \nQ 5.8125 47.609375 11.28125 51.796875 \nQ 16.75 56 26.8125 56 \nQ 31.78125 56 36.171875 55.265625 \nQ 40.578125 54.546875 44.28125 53.078125 \nz\n\" id=\"DejaVuSans-115\"/>\n     </defs>\n     <g transform=\"translate(199.628125 268.034687)scale(0.1 -0.1)\">\n      <use xlink:href=\"#DejaVuSans-69\"/>\n      <use x=\"63.183594\" xlink:href=\"#DejaVuSans-112\"/>\n      <use x=\"126.660156\" xlink:href=\"#DejaVuSans-111\"/>\n      <use x=\"187.841797\" xlink:href=\"#DejaVuSans-99\"/>\n      <use x=\"242.822266\" xlink:href=\"#DejaVuSans-104\"/>\n      <use x=\"306.201172\" xlink:href=\"#DejaVuSans-115\"/>\n     </g>\n    </g>\n   </g>\n   <g id=\"matplotlib.axis_2\">\n    <g id=\"ytick_1\">\n     <g id=\"line2d_10\">\n      <defs>\n       <path d=\"M 0 0 \nL -3.5 0 \n\" id=\"m719fd300ab\" style=\"stroke:#000000;stroke-width:0.8;\"/>\n      </defs>\n      <g>\n       <use style=\"stroke:#000000;stroke-width:0.8;\" x=\"50.14375\" xlink:href=\"#m719fd300ab\" y=\"212.745453\"/>\n      </g>\n     </g>\n     <g id=\"text_11\">\n      <!-- 0.88 -->\n      <defs>\n       <path d=\"M 10.6875 12.40625 \nL 21 12.40625 \nL 21 0 \nL 10.6875 0 \nz\n\" id=\"DejaVuSans-46\"/>\n       <path d=\"M 31.78125 34.625 \nQ 24.75 34.625 20.71875 30.859375 \nQ 16.703125 27.09375 16.703125 20.515625 \nQ 16.703125 13.921875 20.71875 10.15625 \nQ 24.75 6.390625 31.78125 6.390625 \nQ 38.8125 6.390625 42.859375 10.171875 \nQ 46.921875 13.96875 46.921875 20.515625 \nQ 46.921875 27.09375 42.890625 30.859375 \nQ 38.875 34.625 31.78125 34.625 \nz\nM 21.921875 38.8125 \nQ 15.578125 40.375 12.03125 44.71875 \nQ 8.5 49.078125 8.5 55.328125 \nQ 8.5 64.0625 14.71875 69.140625 \nQ 20.953125 74.21875 31.78125 74.21875 \nQ 42.671875 74.21875 48.875 69.140625 \nQ 55.078125 64.0625 55.078125 55.328125 \nQ 55.078125 49.078125 51.53125 44.71875 \nQ 48 40.375 41.703125 38.8125 \nQ 48.828125 37.15625 52.796875 32.3125 \nQ 56.78125 27.484375 56.78125 20.515625 \nQ 56.78125 9.90625 50.3125 4.234375 \nQ 43.84375 -1.421875 31.78125 -1.421875 \nQ 19.734375 -1.421875 13.25 4.234375 \nQ 6.78125 9.90625 6.78125 20.515625 \nQ 6.78125 27.484375 10.78125 32.3125 \nQ 14.796875 37.15625 21.921875 38.8125 \nz\nM 18.3125 54.390625 \nQ 18.3125 48.734375 21.84375 45.5625 \nQ 25.390625 42.390625 31.78125 42.390625 \nQ 38.140625 42.390625 41.71875 45.5625 \nQ 45.3125 48.734375 45.3125 54.390625 \nQ 45.3125 60.0625 41.71875 63.234375 \nQ 38.140625 66.40625 31.78125 66.40625 \nQ 25.390625 66.40625 21.84375 63.234375 \nQ 18.3125 60.0625 18.3125 54.390625 \nz\n\" id=\"DejaVuSans-56\"/>\n      </defs>\n      <g transform=\"translate(20.878125 216.544672)scale(0.1 -0.1)\">\n       <use xlink:href=\"#DejaVuSans-48\"/>\n       <use x=\"63.623047\" xlink:href=\"#DejaVuSans-46\"/>\n       <use x=\"95.410156\" xlink:href=\"#DejaVuSans-56\"/>\n       <use x=\"159.033203\" xlink:href=\"#DejaVuSans-56\"/>\n      </g>\n     </g>\n    </g>\n    <g id=\"ytick_2\">\n     <g id=\"line2d_11\">\n      <g>\n       <use style=\"stroke:#000000;stroke-width:0.8;\" x=\"50.14375\" xlink:href=\"#m719fd300ab\" y=\"182.654838\"/>\n      </g>\n     </g>\n     <g id=\"text_12\">\n      <!-- 0.90 -->\n      <defs>\n       <path d=\"M 10.984375 1.515625 \nL 10.984375 10.5 \nQ 14.703125 8.734375 18.5 7.8125 \nQ 22.3125 6.890625 25.984375 6.890625 \nQ 35.75 6.890625 40.890625 13.453125 \nQ 46.046875 20.015625 46.78125 33.40625 \nQ 43.953125 29.203125 39.59375 26.953125 \nQ 35.25 24.703125 29.984375 24.703125 \nQ 19.046875 24.703125 12.671875 31.3125 \nQ 6.296875 37.9375 6.296875 49.421875 \nQ 6.296875 60.640625 12.9375 67.421875 \nQ 19.578125 74.21875 30.609375 74.21875 \nQ 43.265625 74.21875 49.921875 64.515625 \nQ 56.59375 54.828125 56.59375 36.375 \nQ 56.59375 19.140625 48.40625 8.859375 \nQ 40.234375 -1.421875 26.421875 -1.421875 \nQ 22.703125 -1.421875 18.890625 -0.6875 \nQ 15.09375 0.046875 10.984375 1.515625 \nz\nM 30.609375 32.421875 \nQ 37.25 32.421875 41.125 36.953125 \nQ 45.015625 41.5 45.015625 49.421875 \nQ 45.015625 57.28125 41.125 61.84375 \nQ 37.25 66.40625 30.609375 66.40625 \nQ 23.96875 66.40625 20.09375 61.84375 \nQ 16.21875 57.28125 16.21875 49.421875 \nQ 16.21875 41.5 20.09375 36.953125 \nQ 23.96875 32.421875 30.609375 32.421875 \nz\n\" id=\"DejaVuSans-57\"/>\n      </defs>\n      <g transform=\"translate(20.878125 186.454056)scale(0.1 -0.1)\">\n       <use xlink:href=\"#DejaVuSans-48\"/>\n       <use x=\"63.623047\" xlink:href=\"#DejaVuSans-46\"/>\n       <use x=\"95.410156\" xlink:href=\"#DejaVuSans-57\"/>\n       <use x=\"159.033203\" xlink:href=\"#DejaVuSans-48\"/>\n      </g>\n     </g>\n    </g>\n    <g id=\"ytick_3\">\n     <g id=\"line2d_12\">\n      <g>\n       <use style=\"stroke:#000000;stroke-width:0.8;\" x=\"50.14375\" xlink:href=\"#m719fd300ab\" y=\"152.564222\"/>\n      </g>\n     </g>\n     <g id=\"text_13\">\n      <!-- 0.92 -->\n      <g transform=\"translate(20.878125 156.363441)scale(0.1 -0.1)\">\n       <use xlink:href=\"#DejaVuSans-48\"/>\n       <use x=\"63.623047\" xlink:href=\"#DejaVuSans-46\"/>\n       <use x=\"95.410156\" xlink:href=\"#DejaVuSans-57\"/>\n       <use x=\"159.033203\" xlink:href=\"#DejaVuSans-50\"/>\n      </g>\n     </g>\n    </g>\n    <g id=\"ytick_4\">\n     <g id=\"line2d_13\">\n      <g>\n       <use style=\"stroke:#000000;stroke-width:0.8;\" x=\"50.14375\" xlink:href=\"#m719fd300ab\" y=\"122.473607\"/>\n      </g>\n     </g>\n     <g id=\"text_14\">\n      <!-- 0.94 -->\n      <defs>\n       <path d=\"M 37.796875 64.3125 \nL 12.890625 25.390625 \nL 37.796875 25.390625 \nz\nM 35.203125 72.90625 \nL 47.609375 72.90625 \nL 47.609375 25.390625 \nL 58.015625 25.390625 \nL 58.015625 17.1875 \nL 47.609375 17.1875 \nL 47.609375 0 \nL 37.796875 0 \nL 37.796875 17.1875 \nL 4.890625 17.1875 \nL 4.890625 26.703125 \nz\n\" id=\"DejaVuSans-52\"/>\n      </defs>\n      <g transform=\"translate(20.878125 126.272826)scale(0.1 -0.1)\">\n       <use xlink:href=\"#DejaVuSans-48\"/>\n       <use x=\"63.623047\" xlink:href=\"#DejaVuSans-46\"/>\n       <use x=\"95.410156\" xlink:href=\"#DejaVuSans-57\"/>\n       <use x=\"159.033203\" xlink:href=\"#DejaVuSans-52\"/>\n      </g>\n     </g>\n    </g>\n    <g id=\"ytick_5\">\n     <g id=\"line2d_14\">\n      <g>\n       <use style=\"stroke:#000000;stroke-width:0.8;\" x=\"50.14375\" xlink:href=\"#m719fd300ab\" y=\"92.382992\"/>\n      </g>\n     </g>\n     <g id=\"text_15\">\n      <!-- 0.96 -->\n      <defs>\n       <path d=\"M 33.015625 40.375 \nQ 26.375 40.375 22.484375 35.828125 \nQ 18.609375 31.296875 18.609375 23.390625 \nQ 18.609375 15.53125 22.484375 10.953125 \nQ 26.375 6.390625 33.015625 6.390625 \nQ 39.65625 6.390625 43.53125 10.953125 \nQ 47.40625 15.53125 47.40625 23.390625 \nQ 47.40625 31.296875 43.53125 35.828125 \nQ 39.65625 40.375 33.015625 40.375 \nz\nM 52.59375 71.296875 \nL 52.59375 62.3125 \nQ 48.875 64.0625 45.09375 64.984375 \nQ 41.3125 65.921875 37.59375 65.921875 \nQ 27.828125 65.921875 22.671875 59.328125 \nQ 17.53125 52.734375 16.796875 39.40625 \nQ 19.671875 43.65625 24.015625 45.921875 \nQ 28.375 48.1875 33.59375 48.1875 \nQ 44.578125 48.1875 50.953125 41.515625 \nQ 57.328125 34.859375 57.328125 23.390625 \nQ 57.328125 12.15625 50.6875 5.359375 \nQ 44.046875 -1.421875 33.015625 -1.421875 \nQ 20.359375 -1.421875 13.671875 8.265625 \nQ 6.984375 17.96875 6.984375 36.375 \nQ 6.984375 53.65625 15.1875 63.9375 \nQ 23.390625 74.21875 37.203125 74.21875 \nQ 40.921875 74.21875 44.703125 73.484375 \nQ 48.484375 72.75 52.59375 71.296875 \nz\n\" id=\"DejaVuSans-54\"/>\n      </defs>\n      <g transform=\"translate(20.878125 96.182211)scale(0.1 -0.1)\">\n       <use xlink:href=\"#DejaVuSans-48\"/>\n       <use x=\"63.623047\" xlink:href=\"#DejaVuSans-46\"/>\n       <use x=\"95.410156\" xlink:href=\"#DejaVuSans-57\"/>\n       <use x=\"159.033203\" xlink:href=\"#DejaVuSans-54\"/>\n      </g>\n     </g>\n    </g>\n    <g id=\"ytick_6\">\n     <g id=\"line2d_15\">\n      <g>\n       <use style=\"stroke:#000000;stroke-width:0.8;\" x=\"50.14375\" xlink:href=\"#m719fd300ab\" y=\"62.292377\"/>\n      </g>\n     </g>\n     <g id=\"text_16\">\n      <!-- 0.98 -->\n      <g transform=\"translate(20.878125 66.091595)scale(0.1 -0.1)\">\n       <use xlink:href=\"#DejaVuSans-48\"/>\n       <use x=\"63.623047\" xlink:href=\"#DejaVuSans-46\"/>\n       <use x=\"95.410156\" xlink:href=\"#DejaVuSans-57\"/>\n       <use x=\"159.033203\" xlink:href=\"#DejaVuSans-56\"/>\n      </g>\n     </g>\n    </g>\n    <g id=\"ytick_7\">\n     <g id=\"line2d_16\">\n      <g>\n       <use style=\"stroke:#000000;stroke-width:0.8;\" x=\"50.14375\" xlink:href=\"#m719fd300ab\" y=\"32.201761\"/>\n      </g>\n     </g>\n     <g id=\"text_17\">\n      <!-- 1.00 -->\n      <g transform=\"translate(20.878125 36.00098)scale(0.1 -0.1)\">\n       <use xlink:href=\"#DejaVuSans-49\"/>\n       <use x=\"63.623047\" xlink:href=\"#DejaVuSans-46\"/>\n       <use x=\"95.410156\" xlink:href=\"#DejaVuSans-48\"/>\n       <use x=\"159.033203\" xlink:href=\"#DejaVuSans-48\"/>\n      </g>\n     </g>\n    </g>\n    <g id=\"text_18\">\n     <!-- accuracy -->\n     <defs>\n      <path d=\"M 34.28125 27.484375 \nQ 23.390625 27.484375 19.1875 25 \nQ 14.984375 22.515625 14.984375 16.5 \nQ 14.984375 11.71875 18.140625 8.90625 \nQ 21.296875 6.109375 26.703125 6.109375 \nQ 34.1875 6.109375 38.703125 11.40625 \nQ 43.21875 16.703125 43.21875 25.484375 \nL 43.21875 27.484375 \nz\nM 52.203125 31.203125 \nL 52.203125 0 \nL 43.21875 0 \nL 43.21875 8.296875 \nQ 40.140625 3.328125 35.546875 0.953125 \nQ 30.953125 -1.421875 24.3125 -1.421875 \nQ 15.921875 -1.421875 10.953125 3.296875 \nQ 6 8.015625 6 15.921875 \nQ 6 25.140625 12.171875 29.828125 \nQ 18.359375 34.515625 30.609375 34.515625 \nL 43.21875 34.515625 \nL 43.21875 35.40625 \nQ 43.21875 41.609375 39.140625 45 \nQ 35.0625 48.390625 27.6875 48.390625 \nQ 23 48.390625 18.546875 47.265625 \nQ 14.109375 46.140625 10.015625 43.890625 \nL 10.015625 52.203125 \nQ 14.9375 54.109375 19.578125 55.046875 \nQ 24.21875 56 28.609375 56 \nQ 40.484375 56 46.34375 49.84375 \nQ 52.203125 43.703125 52.203125 31.203125 \nz\n\" id=\"DejaVuSans-97\"/>\n      <path d=\"M 8.5 21.578125 \nL 8.5 54.6875 \nL 17.484375 54.6875 \nL 17.484375 21.921875 \nQ 17.484375 14.15625 20.5 10.265625 \nQ 23.53125 6.390625 29.59375 6.390625 \nQ 36.859375 6.390625 41.078125 11.03125 \nQ 45.3125 15.671875 45.3125 23.6875 \nL 45.3125 54.6875 \nL 54.296875 54.6875 \nL 54.296875 0 \nL 45.3125 0 \nL 45.3125 8.40625 \nQ 42.046875 3.421875 37.71875 1 \nQ 33.40625 -1.421875 27.6875 -1.421875 \nQ 18.265625 -1.421875 13.375 4.4375 \nQ 8.5 10.296875 8.5 21.578125 \nz\nM 31.109375 56 \nz\n\" id=\"DejaVuSans-117\"/>\n      <path d=\"M 41.109375 46.296875 \nQ 39.59375 47.171875 37.8125 47.578125 \nQ 36.03125 48 33.890625 48 \nQ 26.265625 48 22.1875 43.046875 \nQ 18.109375 38.09375 18.109375 28.8125 \nL 18.109375 0 \nL 9.078125 0 \nL 9.078125 54.6875 \nL 18.109375 54.6875 \nL 18.109375 46.1875 \nQ 20.953125 51.171875 25.484375 53.578125 \nQ 30.03125 56 36.53125 56 \nQ 37.453125 56 38.578125 55.875 \nQ 39.703125 55.765625 41.0625 55.515625 \nz\n\" id=\"DejaVuSans-114\"/>\n      <path d=\"M 32.171875 -5.078125 \nQ 28.375 -14.84375 24.75 -17.8125 \nQ 21.140625 -20.796875 15.09375 -20.796875 \nL 7.90625 -20.796875 \nL 7.90625 -13.28125 \nL 13.1875 -13.28125 \nQ 16.890625 -13.28125 18.9375 -11.515625 \nQ 21 -9.765625 23.484375 -3.21875 \nL 25.09375 0.875 \nL 2.984375 54.6875 \nL 12.5 54.6875 \nL 29.59375 11.921875 \nL 46.6875 54.6875 \nL 56.203125 54.6875 \nz\n\" id=\"DejaVuSans-121\"/>\n     </defs>\n     <g transform=\"translate(14.798438 153.5975)rotate(-90)scale(0.1 -0.1)\">\n      <use xlink:href=\"#DejaVuSans-97\"/>\n      <use x=\"61.279297\" xlink:href=\"#DejaVuSans-99\"/>\n      <use x=\"116.259766\" xlink:href=\"#DejaVuSans-99\"/>\n      <use x=\"171.240234\" xlink:href=\"#DejaVuSans-117\"/>\n      <use x=\"234.619141\" xlink:href=\"#DejaVuSans-114\"/>\n      <use x=\"275.732422\" xlink:href=\"#DejaVuSans-97\"/>\n      <use x=\"337.011719\" xlink:href=\"#DejaVuSans-99\"/>\n      <use x=\"391.992188\" xlink:href=\"#DejaVuSans-121\"/>\n     </g>\n    </g>\n   </g>\n   <g id=\"line2d_17\">\n    <path clip-path=\"url(#pa15d928756)\" d=\"M 65.361932 158.035392 \nL 66.891397 39.032101 \nL 68.420863 37.313621 \nL 71.479794 35.884079 \nL 73.009259 34.844364 \nL 76.06819 33.746896 \nL 77.597656 33.544675 \nL 79.127121 34.050094 \nL 80.656587 33.544675 \nL 82.186052 33.313667 \nL 83.715518 33.544675 \nL 85.244983 32.331703 \nL 86.774449 33.458047 \nL 88.303914 32.923751 \nL 89.83338 33.299229 \nL 91.362845 32.981503 \nL 92.892311 33.299229 \nL 94.421776 32.678305 \nL 95.951242 33.212601 \nL 97.480708 32.678305 \nL 99.010173 32.447207 \nL 100.539639 32.981503 \nL 102.069104 32.678305 \nL 103.59857 32.591677 \nL 105.128035 32.967065 \nL 108.186966 32.692743 \nL 109.716432 32.201761 \nL 111.245897 32.201761 \nL 112.775363 32.923751 \nL 114.304828 32.793809 \nL 115.834294 32.548363 \nL 117.363759 33.198163 \nL 118.893225 32.851561 \nL 120.42269 32.967065 \nL 121.952156 32.288389 \nL 123.481621 32.981503 \nL 125.011087 32.360579 \nL 126.540552 32.620553 \nL 128.070018 32.375017 \nL 129.599483 32.649429 \nL 131.128949 32.721619 \nL 132.658414 32.273951 \nL 134.18788 32.634991 \nL 135.717345 32.259513 \nL 137.246811 33.024907 \nL 138.776276 32.273951 \nL 141.835207 32.201761 \nL 143.364673 32.663867 \nL 146.423604 32.331703 \nL 147.953069 32.865999 \nL 149.482535 32.476173 \nL 151.012 32.476173 \nL 152.541466 32.707181 \nL 154.070931 32.721619 \nL 157.129862 32.288389 \nL 158.659328 32.721619 \nL 160.188793 32.750495 \nL 161.718259 32.663867 \nL 164.77719 32.201761 \nL 166.306655 32.201761 \nL 167.836121 32.519487 \nL 169.365586 32.533925 \nL 170.895052 32.779371 \nL 172.424517 32.201761 \nL 175.483448 32.201761 \nL 177.012914 32.591677 \nL 180.071845 32.403893 \nL 181.601311 32.634991 \nL 183.130776 32.201761 \nL 184.660242 32.736057 \nL 186.189707 32.201761 \nL 187.719173 32.663867 \nL 189.248638 32.490611 \nL 190.778104 32.201761 \nL 192.307569 32.447207 \nL 196.895966 32.201761 \nL 198.425431 32.577239 \nL 201.484362 32.201761 \nL 203.013828 32.201761 \nL 204.543293 32.476173 \nL 206.072759 32.201761 \nL 207.602224 32.201761 \nL 209.13169 32.519487 \nL 210.661155 32.216199 \nL 212.190621 32.389455 \nL 216.779017 32.230637 \nL 218.308483 32.692743 \nL 219.837948 32.201761 \nL 222.896879 32.201761 \nL 224.426345 32.591677 \nL 225.95581 32.201761 \nL 232.073672 32.201761 \nL 233.603138 32.505049 \nL 235.132603 32.519487 \nL 238.191534 32.201761 \nL 239.721 32.418331 \nL 241.250465 32.201761 \nL 242.779931 32.403893 \nL 245.838862 32.490611 \nL 247.368327 32.216199 \nL 250.427258 32.201761 \nL 251.956724 32.577239 \nL 255.015655 32.259513 \nL 256.54512 32.201761 \nL 258.074586 32.375017 \nL 259.604052 32.201761 \nL 261.133517 32.201761 \nL 262.662983 32.418331 \nL 264.192448 32.201761 \nL 265.721914 32.418331 \nL 267.251379 32.201761 \nL 268.780845 32.606115 \nL 270.31031 32.331703 \nL 271.839776 32.201761 \nL 273.369241 32.461645 \nL 274.898707 32.201761 \nL 276.428172 32.418331 \nL 277.957638 32.216199 \nL 281.016569 32.389455 \nL 284.0755 32.201761 \nL 285.604965 32.432769 \nL 287.134431 32.432769 \nL 288.663896 32.201761 \nL 290.193362 32.548363 \nL 291.722827 32.201761 \nL 294.781758 32.201761 \nL 296.311224 32.403893 \nL 297.840689 32.418331 \nL 299.370155 32.201761 \nL 300.89962 32.360579 \nL 303.958551 32.432769 \nL 305.488017 32.461645 \nL 307.017482 32.245075 \nL 311.605879 32.201761 \nL 314.66481 32.201761 \nL 316.194275 32.418331 \nL 319.253206 32.490611 \nL 320.782672 32.230637 \nL 326.900534 32.201761 \nL 329.959465 32.201761 \nL 331.48893 32.548363 \nL 333.018396 32.389455 \nL 337.606792 32.461645 \nL 339.136258 32.201761 \nL 340.665724 32.201761 \nL 342.195189 32.490611 \nL 343.724655 32.403893 \nL 345.25412 32.201761 \nL 348.313051 32.375017 \nL 351.371982 32.216199 \nL 359.01931 32.201761 \nL 360.548775 32.476173 \nL 362.078241 32.331703 \nL 363.607706 32.375017 \nL 365.137172 32.259513 \nL 366.666637 32.360579 \nL 368.196103 32.201761 \nL 369.725568 32.201761 \nL 369.725568 32.201761 \n\" style=\"fill:none;stroke:#1f77b4;stroke-linecap:square;stroke-width:1.5;\"/>\n   </g>\n   <g id=\"line2d_18\">\n    <path clip-path=\"url(#pa15d928756)\" d=\"M 65.361932 38.136676 \nL 66.891397 32.851561 \nL 68.420863 38.223394 \nL 69.950328 35.320818 \nL 71.479794 33.241477 \nL 73.009259 36.100649 \nL 74.538725 33.241477 \nL 76.06819 32.721619 \nL 77.597656 32.678305 \nL 79.127121 40.735965 \nL 80.656587 32.721619 \nL 82.186052 32.505049 \nL 83.715518 32.418331 \nL 85.244983 229.874489 \nL 86.774449 39.869505 \nL 88.303914 32.288389 \nL 89.83338 32.591677 \nL 91.362845 32.418331 \nL 92.892311 35.190876 \nL 94.421776 32.375017 \nL 95.951242 32.678305 \nL 97.480708 32.721619 \nL 99.010173 32.245075 \nL 100.539639 32.764933 \nL 103.59857 32.461645 \nL 105.128035 32.591677 \nL 106.657501 32.418331 \nL 108.186966 32.461645 \nL 114.304828 32.201761 \nL 118.893225 32.288389 \nL 120.42269 32.461645 \nL 121.952156 32.245075 \nL 123.481621 32.808247 \nL 125.011087 32.245075 \nL 126.540552 32.418331 \nL 128.070018 32.331703 \nL 129.599483 32.461645 \nL 131.128949 32.288389 \nL 132.658414 32.245075 \nL 134.18788 32.591677 \nL 135.717345 32.201761 \nL 137.246811 32.288389 \nL 141.835207 32.201761 \nL 143.364673 32.375017 \nL 144.894138 32.245075 \nL 146.423604 32.331703 \nL 147.953069 32.764933 \nL 149.482535 32.288389 \nL 151.012 42.295538 \nL 152.541466 33.71802 \nL 154.070931 32.245075 \nL 155.600397 33.241477 \nL 157.129862 32.201761 \nL 158.659328 32.418331 \nL 160.188793 32.245075 \nL 161.718259 32.721619 \nL 163.247724 32.201761 \nL 166.306655 32.201761 \nL 167.836121 32.418331 \nL 169.365586 32.375017 \nL 170.895052 32.201761 \nL 177.012914 32.288389 \nL 180.071845 32.548363 \nL 181.601311 32.245075 \nL 183.130776 32.288389 \nL 184.660242 32.678305 \nL 186.189707 32.245075 \nL 187.719173 32.548363 \nL 189.248638 32.245075 \nL 190.778104 32.245075 \nL 192.307569 33.761334 \nL 193.837035 32.418331 \nL 198.425431 32.331703 \nL 199.954897 32.634991 \nL 201.484362 32.245075 \nL 203.013828 32.245075 \nL 204.543293 32.591677 \nL 206.072759 32.678305 \nL 207.602224 32.461645 \nL 210.661155 32.331703 \nL 212.190621 32.721619 \nL 213.720086 32.634991 \nL 215.249552 32.418331 \nL 216.779017 33.631303 \nL 218.308483 32.375017 \nL 221.367414 32.418331 \nL 222.896879 32.245075 \nL 224.426345 32.331703 \nL 225.95581 32.245075 \nL 227.485276 32.461645 \nL 229.014741 32.331703 \nL 230.544207 32.331703 \nL 232.073672 32.505049 \nL 233.603138 32.505049 \nL 235.132603 32.851561 \nL 238.191534 32.505049 \nL 239.721 32.808247 \nL 242.779931 32.634991 \nL 245.838862 32.721619 \nL 250.427258 32.245075 \nL 251.956724 33.284791 \nL 253.486189 32.851561 \nL 255.015655 32.591677 \nL 258.074586 32.548363 \nL 259.604052 32.461645 \nL 261.133517 32.505049 \nL 262.662983 32.331703 \nL 265.721914 32.331703 \nL 267.251379 33.284791 \nL 268.780845 36.447161 \nL 270.31031 32.288389 \nL 274.898707 32.245075 \nL 284.0755 32.245075 \nL 285.604965 32.418331 \nL 290.193362 32.375017 \nL 293.252293 32.245075 \nL 299.370155 32.245075 \nL 300.89962 33.198163 \nL 302.429086 32.288389 \nL 303.958551 41.429079 \nL 305.488017 32.418331 \nL 307.017482 32.245075 \nL 314.66481 32.245075 \nL 316.194275 32.505049 \nL 317.723741 32.938189 \nL 319.253206 32.808247 \nL 320.782672 32.331703 \nL 331.48893 32.245075 \nL 333.018396 32.548363 \nL 334.547861 32.505049 \nL 336.077327 32.245075 \nL 342.195189 32.331703 \nL 343.724655 32.418331 \nL 345.25412 32.245075 \nL 348.313051 32.288389 \nL 352.901448 32.245075 \nL 362.078241 32.331703 \nL 363.607706 32.591677 \nL 365.137172 32.634991 \nL 366.666637 32.331703 \nL 369.725568 32.331703 \nL 369.725568 32.331703 \n\" style=\"fill:none;stroke:#ff7f0e;stroke-linecap:square;stroke-width:1.5;\"/>\n   </g>\n   <g id=\"patch_3\">\n    <path d=\"M 50.14375 239.758125 \nL 50.14375 22.318125 \n\" style=\"fill:none;stroke:#000000;stroke-linecap:square;stroke-linejoin:miter;stroke-width:0.8;\"/>\n   </g>\n   <g id=\"patch_4\">\n    <path d=\"M 384.94375 239.758125 \nL 384.94375 22.318125 \n\" style=\"fill:none;stroke:#000000;stroke-linecap:square;stroke-linejoin:miter;stroke-width:0.8;\"/>\n   </g>\n   <g id=\"patch_5\">\n    <path d=\"M 50.14375 239.758125 \nL 384.94375 239.758125 \n\" style=\"fill:none;stroke:#000000;stroke-linecap:square;stroke-linejoin:miter;stroke-width:0.8;\"/>\n   </g>\n   <g id=\"patch_6\">\n    <path d=\"M 50.14375 22.318125 \nL 384.94375 22.318125 \n\" style=\"fill:none;stroke:#000000;stroke-linecap:square;stroke-linejoin:miter;stroke-width:0.8;\"/>\n   </g>\n   <g id=\"text_19\">\n    <!-- Training and validation accuracy -->\n    <defs>\n     <path d=\"M -0.296875 72.90625 \nL 61.375 72.90625 \nL 61.375 64.59375 \nL 35.5 64.59375 \nL 35.5 0 \nL 25.59375 0 \nL 25.59375 64.59375 \nL -0.296875 64.59375 \nz\n\" id=\"DejaVuSans-84\"/>\n     <path d=\"M 9.421875 54.6875 \nL 18.40625 54.6875 \nL 18.40625 0 \nL 9.421875 0 \nz\nM 9.421875 75.984375 \nL 18.40625 75.984375 \nL 18.40625 64.59375 \nL 9.421875 64.59375 \nz\n\" id=\"DejaVuSans-105\"/>\n     <path d=\"M 54.890625 33.015625 \nL 54.890625 0 \nL 45.90625 0 \nL 45.90625 32.71875 \nQ 45.90625 40.484375 42.875 44.328125 \nQ 39.84375 48.1875 33.796875 48.1875 \nQ 26.515625 48.1875 22.3125 43.546875 \nQ 18.109375 38.921875 18.109375 30.90625 \nL 18.109375 0 \nL 9.078125 0 \nL 9.078125 54.6875 \nL 18.109375 54.6875 \nL 18.109375 46.1875 \nQ 21.34375 51.125 25.703125 53.5625 \nQ 30.078125 56 35.796875 56 \nQ 45.21875 56 50.046875 50.171875 \nQ 54.890625 44.34375 54.890625 33.015625 \nz\n\" id=\"DejaVuSans-110\"/>\n     <path d=\"M 45.40625 27.984375 \nQ 45.40625 37.75 41.375 43.109375 \nQ 37.359375 48.484375 30.078125 48.484375 \nQ 22.859375 48.484375 18.828125 43.109375 \nQ 14.796875 37.75 14.796875 27.984375 \nQ 14.796875 18.265625 18.828125 12.890625 \nQ 22.859375 7.515625 30.078125 7.515625 \nQ 37.359375 7.515625 41.375 12.890625 \nQ 45.40625 18.265625 45.40625 27.984375 \nz\nM 54.390625 6.78125 \nQ 54.390625 -7.171875 48.1875 -13.984375 \nQ 42 -20.796875 29.203125 -20.796875 \nQ 24.46875 -20.796875 20.265625 -20.09375 \nQ 16.0625 -19.390625 12.109375 -17.921875 \nL 12.109375 -9.1875 \nQ 16.0625 -11.328125 19.921875 -12.34375 \nQ 23.78125 -13.375 27.78125 -13.375 \nQ 36.625 -13.375 41.015625 -8.765625 \nQ 45.40625 -4.15625 45.40625 5.171875 \nL 45.40625 9.625 \nQ 42.625 4.78125 38.28125 2.390625 \nQ 33.9375 0 27.875 0 \nQ 17.828125 0 11.671875 7.65625 \nQ 5.515625 15.328125 5.515625 27.984375 \nQ 5.515625 40.671875 11.671875 48.328125 \nQ 17.828125 56 27.875 56 \nQ 33.9375 56 38.28125 53.609375 \nQ 42.625 51.21875 45.40625 46.390625 \nL 45.40625 54.6875 \nL 54.390625 54.6875 \nz\n\" id=\"DejaVuSans-103\"/>\n     <path id=\"DejaVuSans-32\"/>\n     <path d=\"M 45.40625 46.390625 \nL 45.40625 75.984375 \nL 54.390625 75.984375 \nL 54.390625 0 \nL 45.40625 0 \nL 45.40625 8.203125 \nQ 42.578125 3.328125 38.25 0.953125 \nQ 33.9375 -1.421875 27.875 -1.421875 \nQ 17.96875 -1.421875 11.734375 6.484375 \nQ 5.515625 14.40625 5.515625 27.296875 \nQ 5.515625 40.1875 11.734375 48.09375 \nQ 17.96875 56 27.875 56 \nQ 33.9375 56 38.25 53.625 \nQ 42.578125 51.265625 45.40625 46.390625 \nz\nM 14.796875 27.296875 \nQ 14.796875 17.390625 18.875 11.75 \nQ 22.953125 6.109375 30.078125 6.109375 \nQ 37.203125 6.109375 41.296875 11.75 \nQ 45.40625 17.390625 45.40625 27.296875 \nQ 45.40625 37.203125 41.296875 42.84375 \nQ 37.203125 48.484375 30.078125 48.484375 \nQ 22.953125 48.484375 18.875 42.84375 \nQ 14.796875 37.203125 14.796875 27.296875 \nz\n\" id=\"DejaVuSans-100\"/>\n     <path d=\"M 2.984375 54.6875 \nL 12.5 54.6875 \nL 29.59375 8.796875 \nL 46.6875 54.6875 \nL 56.203125 54.6875 \nL 35.6875 0 \nL 23.484375 0 \nz\n\" id=\"DejaVuSans-118\"/>\n     <path d=\"M 9.421875 75.984375 \nL 18.40625 75.984375 \nL 18.40625 0 \nL 9.421875 0 \nz\n\" id=\"DejaVuSans-108\"/>\n     <path d=\"M 18.3125 70.21875 \nL 18.3125 54.6875 \nL 36.8125 54.6875 \nL 36.8125 47.703125 \nL 18.3125 47.703125 \nL 18.3125 18.015625 \nQ 18.3125 11.328125 20.140625 9.421875 \nQ 21.96875 7.515625 27.59375 7.515625 \nL 36.8125 7.515625 \nL 36.8125 0 \nL 27.59375 0 \nQ 17.1875 0 13.234375 3.875 \nQ 9.28125 7.765625 9.28125 18.015625 \nL 9.28125 47.703125 \nL 2.6875 47.703125 \nL 2.6875 54.6875 \nL 9.28125 54.6875 \nL 9.28125 70.21875 \nz\n\" id=\"DejaVuSans-116\"/>\n    </defs>\n    <g transform=\"translate(120.251875 16.318125)scale(0.12 -0.12)\">\n     <use xlink:href=\"#DejaVuSans-84\"/>\n     <use x=\"46.333984\" xlink:href=\"#DejaVuSans-114\"/>\n     <use x=\"87.447266\" xlink:href=\"#DejaVuSans-97\"/>\n     <use x=\"148.726562\" xlink:href=\"#DejaVuSans-105\"/>\n     <use x=\"176.509766\" xlink:href=\"#DejaVuSans-110\"/>\n     <use x=\"239.888672\" xlink:href=\"#DejaVuSans-105\"/>\n     <use x=\"267.671875\" xlink:href=\"#DejaVuSans-110\"/>\n     <use x=\"331.050781\" xlink:href=\"#DejaVuSans-103\"/>\n     <use x=\"394.527344\" xlink:href=\"#DejaVuSans-32\"/>\n     <use x=\"426.314453\" xlink:href=\"#DejaVuSans-97\"/>\n     <use x=\"487.59375\" xlink:href=\"#DejaVuSans-110\"/>\n     <use x=\"550.972656\" xlink:href=\"#DejaVuSans-100\"/>\n     <use x=\"614.449219\" xlink:href=\"#DejaVuSans-32\"/>\n     <use x=\"646.236328\" xlink:href=\"#DejaVuSans-118\"/>\n     <use x=\"705.416016\" xlink:href=\"#DejaVuSans-97\"/>\n     <use x=\"766.695312\" xlink:href=\"#DejaVuSans-108\"/>\n     <use x=\"794.478516\" xlink:href=\"#DejaVuSans-105\"/>\n     <use x=\"822.261719\" xlink:href=\"#DejaVuSans-100\"/>\n     <use x=\"885.738281\" xlink:href=\"#DejaVuSans-97\"/>\n     <use x=\"947.017578\" xlink:href=\"#DejaVuSans-116\"/>\n     <use x=\"986.226562\" xlink:href=\"#DejaVuSans-105\"/>\n     <use x=\"1014.009766\" xlink:href=\"#DejaVuSans-111\"/>\n     <use x=\"1075.191406\" xlink:href=\"#DejaVuSans-110\"/>\n     <use x=\"1138.570312\" xlink:href=\"#DejaVuSans-32\"/>\n     <use x=\"1170.357422\" xlink:href=\"#DejaVuSans-97\"/>\n     <use x=\"1231.636719\" xlink:href=\"#DejaVuSans-99\"/>\n     <use x=\"1286.617188\" xlink:href=\"#DejaVuSans-99\"/>\n     <use x=\"1341.597656\" xlink:href=\"#DejaVuSans-117\"/>\n     <use x=\"1404.976562\" xlink:href=\"#DejaVuSans-114\"/>\n     <use x=\"1446.089844\" xlink:href=\"#DejaVuSans-97\"/>\n     <use x=\"1507.369141\" xlink:href=\"#DejaVuSans-99\"/>\n     <use x=\"1562.349609\" xlink:href=\"#DejaVuSans-121\"/>\n    </g>\n   </g>\n   <g id=\"legend_1\">\n    <g id=\"patch_7\">\n     <path d=\"M 272.55 234.758125 \nL 377.94375 234.758125 \nQ 379.94375 234.758125 379.94375 232.758125 \nL 379.94375 203.845625 \nQ 379.94375 201.845625 377.94375 201.845625 \nL 272.55 201.845625 \nQ 270.55 201.845625 270.55 203.845625 \nL 270.55 232.758125 \nQ 270.55 234.758125 272.55 234.758125 \nz\n\" style=\"fill:#ffffff;opacity:0.8;stroke:#cccccc;stroke-linejoin:miter;\"/>\n    </g>\n    <g id=\"line2d_19\">\n     <path d=\"M 274.55 209.944062 \nL 294.55 209.944062 \n\" style=\"fill:none;stroke:#1f77b4;stroke-linecap:square;stroke-width:1.5;\"/>\n    </g>\n    <g id=\"line2d_20\"/>\n    <g id=\"text_20\">\n     <!-- train_accuracy -->\n     <defs>\n      <path d=\"M 50.984375 -16.609375 \nL 50.984375 -23.578125 \nL -0.984375 -23.578125 \nL -0.984375 -16.609375 \nz\n\" id=\"DejaVuSans-95\"/>\n     </defs>\n     <g transform=\"translate(302.55 213.444062)scale(0.1 -0.1)\">\n      <use xlink:href=\"#DejaVuSans-116\"/>\n      <use x=\"39.208984\" xlink:href=\"#DejaVuSans-114\"/>\n      <use x=\"80.322266\" xlink:href=\"#DejaVuSans-97\"/>\n      <use x=\"141.601562\" xlink:href=\"#DejaVuSans-105\"/>\n      <use x=\"169.384766\" xlink:href=\"#DejaVuSans-110\"/>\n      <use x=\"232.763672\" xlink:href=\"#DejaVuSans-95\"/>\n      <use x=\"282.763672\" xlink:href=\"#DejaVuSans-97\"/>\n      <use x=\"344.042969\" xlink:href=\"#DejaVuSans-99\"/>\n      <use x=\"399.023438\" xlink:href=\"#DejaVuSans-99\"/>\n      <use x=\"454.003906\" xlink:href=\"#DejaVuSans-117\"/>\n      <use x=\"517.382812\" xlink:href=\"#DejaVuSans-114\"/>\n      <use x=\"558.496094\" xlink:href=\"#DejaVuSans-97\"/>\n      <use x=\"619.775391\" xlink:href=\"#DejaVuSans-99\"/>\n      <use x=\"674.755859\" xlink:href=\"#DejaVuSans-121\"/>\n     </g>\n    </g>\n    <g id=\"line2d_21\">\n     <path d=\"M 274.55 224.900312 \nL 294.55 224.900312 \n\" style=\"fill:none;stroke:#ff7f0e;stroke-linecap:square;stroke-width:1.5;\"/>\n    </g>\n    <g id=\"line2d_22\"/>\n    <g id=\"text_21\">\n     <!-- val_accuracy -->\n     <g transform=\"translate(302.55 228.400312)scale(0.1 -0.1)\">\n      <use xlink:href=\"#DejaVuSans-118\"/>\n      <use x=\"59.179688\" xlink:href=\"#DejaVuSans-97\"/>\n      <use x=\"120.458984\" xlink:href=\"#DejaVuSans-108\"/>\n      <use x=\"148.242188\" xlink:href=\"#DejaVuSans-95\"/>\n      <use x=\"198.242188\" xlink:href=\"#DejaVuSans-97\"/>\n      <use x=\"259.521484\" xlink:href=\"#DejaVuSans-99\"/>\n      <use x=\"314.501953\" xlink:href=\"#DejaVuSans-99\"/>\n      <use x=\"369.482422\" xlink:href=\"#DejaVuSans-117\"/>\n      <use x=\"432.861328\" xlink:href=\"#DejaVuSans-114\"/>\n      <use x=\"473.974609\" xlink:href=\"#DejaVuSans-97\"/>\n      <use x=\"535.253906\" xlink:href=\"#DejaVuSans-99\"/>\n      <use x=\"590.234375\" xlink:href=\"#DejaVuSans-121\"/>\n     </g>\n    </g>\n   </g>\n  </g>\n </g>\n <defs>\n  <clipPath id=\"pa15d928756\">\n   <rect height=\"217.44\" width=\"334.8\" x=\"50.14375\" y=\"22.318125\"/>\n  </clipPath>\n </defs>\n</svg>\n"
          },
          "metadata": {
            "needs_background": "light"
          }
        }
      ]
    },
    {
      "cell_type": "code",
      "source": [
        "plot_metric(history, 'loss')"
      ],
      "metadata": {
        "colab": {
          "base_uri": "https://localhost:8080/",
          "height": 391
        },
        "id": "RJ4wyi6sQntf",
        "outputId": "712f7ed3-6e06-4795-ef90-b24d7c8ff238"
      },
      "execution_count": 22,
      "outputs": [
        {
          "output_type": "display_data",
          "data": {
            "text/plain": [
              "<Figure size 432x288 with 1 Axes>"
            ],
            "image/svg+xml": "<?xml version=\"1.0\" encoding=\"utf-8\" standalone=\"no\"?>\n<!DOCTYPE svg PUBLIC \"-//W3C//DTD SVG 1.1//EN\"\n  \"http://www.w3.org/Graphics/SVG/1.1/DTD/svg11.dtd\">\n<!-- Created with matplotlib (https://matplotlib.org/) -->\n<svg height=\"277.314375pt\" version=\"1.1\" viewBox=\"0 0 385.78125 277.314375\" width=\"385.78125pt\" xmlns=\"http://www.w3.org/2000/svg\" xmlns:xlink=\"http://www.w3.org/1999/xlink\">\n <defs>\n  <style type=\"text/css\">\n*{stroke-linecap:butt;stroke-linejoin:round;}\n  </style>\n </defs>\n <g id=\"figure_1\">\n  <g id=\"patch_1\">\n   <path d=\"M 0 277.314375 \nL 385.78125 277.314375 \nL 385.78125 0 \nL 0 0 \nz\n\" style=\"fill:none;\"/>\n  </g>\n  <g id=\"axes_1\">\n   <g id=\"patch_2\">\n    <path d=\"M 43.78125 239.758125 \nL 378.58125 239.758125 \nL 378.58125 22.318125 \nL 43.78125 22.318125 \nz\n\" style=\"fill:#ffffff;\"/>\n   </g>\n   <g id=\"matplotlib.axis_1\">\n    <g id=\"xtick_1\">\n     <g id=\"line2d_1\">\n      <defs>\n       <path d=\"M 0 0 \nL 0 3.5 \n\" id=\"md2357a8f19\" style=\"stroke:#000000;stroke-width:0.8;\"/>\n      </defs>\n      <g>\n       <use style=\"stroke:#000000;stroke-width:0.8;\" x=\"57.469966\" xlink:href=\"#md2357a8f19\" y=\"239.758125\"/>\n      </g>\n     </g>\n     <g id=\"text_1\">\n      <!-- 0 -->\n      <defs>\n       <path d=\"M 31.78125 66.40625 \nQ 24.171875 66.40625 20.328125 58.90625 \nQ 16.5 51.421875 16.5 36.375 \nQ 16.5 21.390625 20.328125 13.890625 \nQ 24.171875 6.390625 31.78125 6.390625 \nQ 39.453125 6.390625 43.28125 13.890625 \nQ 47.125 21.390625 47.125 36.375 \nQ 47.125 51.421875 43.28125 58.90625 \nQ 39.453125 66.40625 31.78125 66.40625 \nz\nM 31.78125 74.21875 \nQ 44.046875 74.21875 50.515625 64.515625 \nQ 56.984375 54.828125 56.984375 36.375 \nQ 56.984375 17.96875 50.515625 8.265625 \nQ 44.046875 -1.421875 31.78125 -1.421875 \nQ 19.53125 -1.421875 13.0625 8.265625 \nQ 6.59375 17.96875 6.59375 36.375 \nQ 6.59375 54.828125 13.0625 64.515625 \nQ 19.53125 74.21875 31.78125 74.21875 \nz\n\" id=\"DejaVuSans-48\"/>\n      </defs>\n      <g transform=\"translate(54.288716 254.356562)scale(0.1 -0.1)\">\n       <use xlink:href=\"#DejaVuSans-48\"/>\n      </g>\n     </g>\n    </g>\n    <g id=\"xtick_2\">\n     <g id=\"line2d_2\">\n      <g>\n       <use style=\"stroke:#000000;stroke-width:0.8;\" x=\"95.706604\" xlink:href=\"#md2357a8f19\" y=\"239.758125\"/>\n      </g>\n     </g>\n     <g id=\"text_2\">\n      <!-- 25 -->\n      <defs>\n       <path d=\"M 19.1875 8.296875 \nL 53.609375 8.296875 \nL 53.609375 0 \nL 7.328125 0 \nL 7.328125 8.296875 \nQ 12.9375 14.109375 22.625 23.890625 \nQ 32.328125 33.6875 34.8125 36.53125 \nQ 39.546875 41.84375 41.421875 45.53125 \nQ 43.3125 49.21875 43.3125 52.78125 \nQ 43.3125 58.59375 39.234375 62.25 \nQ 35.15625 65.921875 28.609375 65.921875 \nQ 23.96875 65.921875 18.8125 64.3125 \nQ 13.671875 62.703125 7.8125 59.421875 \nL 7.8125 69.390625 \nQ 13.765625 71.78125 18.9375 73 \nQ 24.125 74.21875 28.421875 74.21875 \nQ 39.75 74.21875 46.484375 68.546875 \nQ 53.21875 62.890625 53.21875 53.421875 \nQ 53.21875 48.921875 51.53125 44.890625 \nQ 49.859375 40.875 45.40625 35.40625 \nQ 44.1875 33.984375 37.640625 27.21875 \nQ 31.109375 20.453125 19.1875 8.296875 \nz\n\" id=\"DejaVuSans-50\"/>\n       <path d=\"M 10.796875 72.90625 \nL 49.515625 72.90625 \nL 49.515625 64.59375 \nL 19.828125 64.59375 \nL 19.828125 46.734375 \nQ 21.96875 47.46875 24.109375 47.828125 \nQ 26.265625 48.1875 28.421875 48.1875 \nQ 40.625 48.1875 47.75 41.5 \nQ 54.890625 34.8125 54.890625 23.390625 \nQ 54.890625 11.625 47.5625 5.09375 \nQ 40.234375 -1.421875 26.90625 -1.421875 \nQ 22.3125 -1.421875 17.546875 -0.640625 \nQ 12.796875 0.140625 7.71875 1.703125 \nL 7.71875 11.625 \nQ 12.109375 9.234375 16.796875 8.0625 \nQ 21.484375 6.890625 26.703125 6.890625 \nQ 35.15625 6.890625 40.078125 11.328125 \nQ 45.015625 15.765625 45.015625 23.390625 \nQ 45.015625 31 40.078125 35.4375 \nQ 35.15625 39.890625 26.703125 39.890625 \nQ 22.75 39.890625 18.8125 39.015625 \nQ 14.890625 38.140625 10.796875 36.28125 \nz\n\" id=\"DejaVuSans-53\"/>\n      </defs>\n      <g transform=\"translate(89.344104 254.356562)scale(0.1 -0.1)\">\n       <use xlink:href=\"#DejaVuSans-50\"/>\n       <use x=\"63.623047\" xlink:href=\"#DejaVuSans-53\"/>\n      </g>\n     </g>\n    </g>\n    <g id=\"xtick_3\">\n     <g id=\"line2d_3\">\n      <g>\n       <use style=\"stroke:#000000;stroke-width:0.8;\" x=\"133.943242\" xlink:href=\"#md2357a8f19\" y=\"239.758125\"/>\n      </g>\n     </g>\n     <g id=\"text_3\">\n      <!-- 50 -->\n      <g transform=\"translate(127.580742 254.356562)scale(0.1 -0.1)\">\n       <use xlink:href=\"#DejaVuSans-53\"/>\n       <use x=\"63.623047\" xlink:href=\"#DejaVuSans-48\"/>\n      </g>\n     </g>\n    </g>\n    <g id=\"xtick_4\">\n     <g id=\"line2d_4\">\n      <g>\n       <use style=\"stroke:#000000;stroke-width:0.8;\" x=\"172.17988\" xlink:href=\"#md2357a8f19\" y=\"239.758125\"/>\n      </g>\n     </g>\n     <g id=\"text_4\">\n      <!-- 75 -->\n      <defs>\n       <path d=\"M 8.203125 72.90625 \nL 55.078125 72.90625 \nL 55.078125 68.703125 \nL 28.609375 0 \nL 18.3125 0 \nL 43.21875 64.59375 \nL 8.203125 64.59375 \nz\n\" id=\"DejaVuSans-55\"/>\n      </defs>\n      <g transform=\"translate(165.81738 254.356562)scale(0.1 -0.1)\">\n       <use xlink:href=\"#DejaVuSans-55\"/>\n       <use x=\"63.623047\" xlink:href=\"#DejaVuSans-53\"/>\n      </g>\n     </g>\n    </g>\n    <g id=\"xtick_5\">\n     <g id=\"line2d_5\">\n      <g>\n       <use style=\"stroke:#000000;stroke-width:0.8;\" x=\"210.416517\" xlink:href=\"#md2357a8f19\" y=\"239.758125\"/>\n      </g>\n     </g>\n     <g id=\"text_5\">\n      <!-- 100 -->\n      <defs>\n       <path d=\"M 12.40625 8.296875 \nL 28.515625 8.296875 \nL 28.515625 63.921875 \nL 10.984375 60.40625 \nL 10.984375 69.390625 \nL 28.421875 72.90625 \nL 38.28125 72.90625 \nL 38.28125 8.296875 \nL 54.390625 8.296875 \nL 54.390625 0 \nL 12.40625 0 \nz\n\" id=\"DejaVuSans-49\"/>\n      </defs>\n      <g transform=\"translate(200.872767 254.356562)scale(0.1 -0.1)\">\n       <use xlink:href=\"#DejaVuSans-49\"/>\n       <use x=\"63.623047\" xlink:href=\"#DejaVuSans-48\"/>\n       <use x=\"127.246094\" xlink:href=\"#DejaVuSans-48\"/>\n      </g>\n     </g>\n    </g>\n    <g id=\"xtick_6\">\n     <g id=\"line2d_6\">\n      <g>\n       <use style=\"stroke:#000000;stroke-width:0.8;\" x=\"248.653155\" xlink:href=\"#md2357a8f19\" y=\"239.758125\"/>\n      </g>\n     </g>\n     <g id=\"text_6\">\n      <!-- 125 -->\n      <g transform=\"translate(239.109405 254.356562)scale(0.1 -0.1)\">\n       <use xlink:href=\"#DejaVuSans-49\"/>\n       <use x=\"63.623047\" xlink:href=\"#DejaVuSans-50\"/>\n       <use x=\"127.246094\" xlink:href=\"#DejaVuSans-53\"/>\n      </g>\n     </g>\n    </g>\n    <g id=\"xtick_7\">\n     <g id=\"line2d_7\">\n      <g>\n       <use style=\"stroke:#000000;stroke-width:0.8;\" x=\"286.889793\" xlink:href=\"#md2357a8f19\" y=\"239.758125\"/>\n      </g>\n     </g>\n     <g id=\"text_7\">\n      <!-- 150 -->\n      <g transform=\"translate(277.346043 254.356562)scale(0.1 -0.1)\">\n       <use xlink:href=\"#DejaVuSans-49\"/>\n       <use x=\"63.623047\" xlink:href=\"#DejaVuSans-53\"/>\n       <use x=\"127.246094\" xlink:href=\"#DejaVuSans-48\"/>\n      </g>\n     </g>\n    </g>\n    <g id=\"xtick_8\">\n     <g id=\"line2d_8\">\n      <g>\n       <use style=\"stroke:#000000;stroke-width:0.8;\" x=\"325.12643\" xlink:href=\"#md2357a8f19\" y=\"239.758125\"/>\n      </g>\n     </g>\n     <g id=\"text_8\">\n      <!-- 175 -->\n      <g transform=\"translate(315.58268 254.356562)scale(0.1 -0.1)\">\n       <use xlink:href=\"#DejaVuSans-49\"/>\n       <use x=\"63.623047\" xlink:href=\"#DejaVuSans-55\"/>\n       <use x=\"127.246094\" xlink:href=\"#DejaVuSans-53\"/>\n      </g>\n     </g>\n    </g>\n    <g id=\"xtick_9\">\n     <g id=\"line2d_9\">\n      <g>\n       <use style=\"stroke:#000000;stroke-width:0.8;\" x=\"363.363068\" xlink:href=\"#md2357a8f19\" y=\"239.758125\"/>\n      </g>\n     </g>\n     <g id=\"text_9\">\n      <!-- 200 -->\n      <g transform=\"translate(353.819318 254.356562)scale(0.1 -0.1)\">\n       <use xlink:href=\"#DejaVuSans-50\"/>\n       <use x=\"63.623047\" xlink:href=\"#DejaVuSans-48\"/>\n       <use x=\"127.246094\" xlink:href=\"#DejaVuSans-48\"/>\n      </g>\n     </g>\n    </g>\n    <g id=\"text_10\">\n     <!-- Epochs -->\n     <defs>\n      <path d=\"M 9.8125 72.90625 \nL 55.90625 72.90625 \nL 55.90625 64.59375 \nL 19.671875 64.59375 \nL 19.671875 43.015625 \nL 54.390625 43.015625 \nL 54.390625 34.71875 \nL 19.671875 34.71875 \nL 19.671875 8.296875 \nL 56.78125 8.296875 \nL 56.78125 0 \nL 9.8125 0 \nz\n\" id=\"DejaVuSans-69\"/>\n      <path d=\"M 18.109375 8.203125 \nL 18.109375 -20.796875 \nL 9.078125 -20.796875 \nL 9.078125 54.6875 \nL 18.109375 54.6875 \nL 18.109375 46.390625 \nQ 20.953125 51.265625 25.265625 53.625 \nQ 29.59375 56 35.59375 56 \nQ 45.5625 56 51.78125 48.09375 \nQ 58.015625 40.1875 58.015625 27.296875 \nQ 58.015625 14.40625 51.78125 6.484375 \nQ 45.5625 -1.421875 35.59375 -1.421875 \nQ 29.59375 -1.421875 25.265625 0.953125 \nQ 20.953125 3.328125 18.109375 8.203125 \nz\nM 48.6875 27.296875 \nQ 48.6875 37.203125 44.609375 42.84375 \nQ 40.53125 48.484375 33.40625 48.484375 \nQ 26.265625 48.484375 22.1875 42.84375 \nQ 18.109375 37.203125 18.109375 27.296875 \nQ 18.109375 17.390625 22.1875 11.75 \nQ 26.265625 6.109375 33.40625 6.109375 \nQ 40.53125 6.109375 44.609375 11.75 \nQ 48.6875 17.390625 48.6875 27.296875 \nz\n\" id=\"DejaVuSans-112\"/>\n      <path d=\"M 30.609375 48.390625 \nQ 23.390625 48.390625 19.1875 42.75 \nQ 14.984375 37.109375 14.984375 27.296875 \nQ 14.984375 17.484375 19.15625 11.84375 \nQ 23.34375 6.203125 30.609375 6.203125 \nQ 37.796875 6.203125 41.984375 11.859375 \nQ 46.1875 17.53125 46.1875 27.296875 \nQ 46.1875 37.015625 41.984375 42.703125 \nQ 37.796875 48.390625 30.609375 48.390625 \nz\nM 30.609375 56 \nQ 42.328125 56 49.015625 48.375 \nQ 55.71875 40.765625 55.71875 27.296875 \nQ 55.71875 13.875 49.015625 6.21875 \nQ 42.328125 -1.421875 30.609375 -1.421875 \nQ 18.84375 -1.421875 12.171875 6.21875 \nQ 5.515625 13.875 5.515625 27.296875 \nQ 5.515625 40.765625 12.171875 48.375 \nQ 18.84375 56 30.609375 56 \nz\n\" id=\"DejaVuSans-111\"/>\n      <path d=\"M 48.78125 52.59375 \nL 48.78125 44.1875 \nQ 44.96875 46.296875 41.140625 47.34375 \nQ 37.3125 48.390625 33.40625 48.390625 \nQ 24.65625 48.390625 19.8125 42.84375 \nQ 14.984375 37.3125 14.984375 27.296875 \nQ 14.984375 17.28125 19.8125 11.734375 \nQ 24.65625 6.203125 33.40625 6.203125 \nQ 37.3125 6.203125 41.140625 7.25 \nQ 44.96875 8.296875 48.78125 10.40625 \nL 48.78125 2.09375 \nQ 45.015625 0.34375 40.984375 -0.53125 \nQ 36.96875 -1.421875 32.421875 -1.421875 \nQ 20.0625 -1.421875 12.78125 6.34375 \nQ 5.515625 14.109375 5.515625 27.296875 \nQ 5.515625 40.671875 12.859375 48.328125 \nQ 20.21875 56 33.015625 56 \nQ 37.15625 56 41.109375 55.140625 \nQ 45.0625 54.296875 48.78125 52.59375 \nz\n\" id=\"DejaVuSans-99\"/>\n      <path d=\"M 54.890625 33.015625 \nL 54.890625 0 \nL 45.90625 0 \nL 45.90625 32.71875 \nQ 45.90625 40.484375 42.875 44.328125 \nQ 39.84375 48.1875 33.796875 48.1875 \nQ 26.515625 48.1875 22.3125 43.546875 \nQ 18.109375 38.921875 18.109375 30.90625 \nL 18.109375 0 \nL 9.078125 0 \nL 9.078125 75.984375 \nL 18.109375 75.984375 \nL 18.109375 46.1875 \nQ 21.34375 51.125 25.703125 53.5625 \nQ 30.078125 56 35.796875 56 \nQ 45.21875 56 50.046875 50.171875 \nQ 54.890625 44.34375 54.890625 33.015625 \nz\n\" id=\"DejaVuSans-104\"/>\n      <path d=\"M 44.28125 53.078125 \nL 44.28125 44.578125 \nQ 40.484375 46.53125 36.375 47.5 \nQ 32.28125 48.484375 27.875 48.484375 \nQ 21.1875 48.484375 17.84375 46.4375 \nQ 14.5 44.390625 14.5 40.28125 \nQ 14.5 37.15625 16.890625 35.375 \nQ 19.28125 33.59375 26.515625 31.984375 \nL 29.59375 31.296875 \nQ 39.15625 29.25 43.1875 25.515625 \nQ 47.21875 21.78125 47.21875 15.09375 \nQ 47.21875 7.46875 41.1875 3.015625 \nQ 35.15625 -1.421875 24.609375 -1.421875 \nQ 20.21875 -1.421875 15.453125 -0.5625 \nQ 10.6875 0.296875 5.421875 2 \nL 5.421875 11.28125 \nQ 10.40625 8.6875 15.234375 7.390625 \nQ 20.0625 6.109375 24.8125 6.109375 \nQ 31.15625 6.109375 34.5625 8.28125 \nQ 37.984375 10.453125 37.984375 14.40625 \nQ 37.984375 18.0625 35.515625 20.015625 \nQ 33.0625 21.96875 24.703125 23.78125 \nL 21.578125 24.515625 \nQ 13.234375 26.265625 9.515625 29.90625 \nQ 5.8125 33.546875 5.8125 39.890625 \nQ 5.8125 47.609375 11.28125 51.796875 \nQ 16.75 56 26.8125 56 \nQ 31.78125 56 36.171875 55.265625 \nQ 40.578125 54.546875 44.28125 53.078125 \nz\n\" id=\"DejaVuSans-115\"/>\n     </defs>\n     <g transform=\"translate(193.265625 268.034687)scale(0.1 -0.1)\">\n      <use xlink:href=\"#DejaVuSans-69\"/>\n      <use x=\"63.183594\" xlink:href=\"#DejaVuSans-112\"/>\n      <use x=\"126.660156\" xlink:href=\"#DejaVuSans-111\"/>\n      <use x=\"187.841797\" xlink:href=\"#DejaVuSans-99\"/>\n      <use x=\"242.822266\" xlink:href=\"#DejaVuSans-104\"/>\n      <use x=\"306.201172\" xlink:href=\"#DejaVuSans-115\"/>\n     </g>\n    </g>\n   </g>\n   <g id=\"matplotlib.axis_2\">\n    <g id=\"ytick_1\">\n     <g id=\"line2d_10\">\n      <defs>\n       <path d=\"M 0 0 \nL -3.5 0 \n\" id=\"mf4b7997061\" style=\"stroke:#000000;stroke-width:0.8;\"/>\n      </defs>\n      <g>\n       <use style=\"stroke:#000000;stroke-width:0.8;\" x=\"43.78125\" xlink:href=\"#mf4b7997061\" y=\"229.87449\"/>\n      </g>\n     </g>\n     <g id=\"text_11\">\n      <!-- 0.0 -->\n      <defs>\n       <path d=\"M 10.6875 12.40625 \nL 21 12.40625 \nL 21 0 \nL 10.6875 0 \nz\n\" id=\"DejaVuSans-46\"/>\n      </defs>\n      <g transform=\"translate(20.878125 233.673708)scale(0.1 -0.1)\">\n       <use xlink:href=\"#DejaVuSans-48\"/>\n       <use x=\"63.623047\" xlink:href=\"#DejaVuSans-46\"/>\n       <use x=\"95.410156\" xlink:href=\"#DejaVuSans-48\"/>\n      </g>\n     </g>\n    </g>\n    <g id=\"ytick_2\">\n     <g id=\"line2d_11\">\n      <g>\n       <use style=\"stroke:#000000;stroke-width:0.8;\" x=\"43.78125\" xlink:href=\"#mf4b7997061\" y=\"202.008245\"/>\n      </g>\n     </g>\n     <g id=\"text_12\">\n      <!-- 0.1 -->\n      <g transform=\"translate(20.878125 205.807463)scale(0.1 -0.1)\">\n       <use xlink:href=\"#DejaVuSans-48\"/>\n       <use x=\"63.623047\" xlink:href=\"#DejaVuSans-46\"/>\n       <use x=\"95.410156\" xlink:href=\"#DejaVuSans-49\"/>\n      </g>\n     </g>\n    </g>\n    <g id=\"ytick_3\">\n     <g id=\"line2d_12\">\n      <g>\n       <use style=\"stroke:#000000;stroke-width:0.8;\" x=\"43.78125\" xlink:href=\"#mf4b7997061\" y=\"174.141999\"/>\n      </g>\n     </g>\n     <g id=\"text_13\">\n      <!-- 0.2 -->\n      <g transform=\"translate(20.878125 177.941218)scale(0.1 -0.1)\">\n       <use xlink:href=\"#DejaVuSans-48\"/>\n       <use x=\"63.623047\" xlink:href=\"#DejaVuSans-46\"/>\n       <use x=\"95.410156\" xlink:href=\"#DejaVuSans-50\"/>\n      </g>\n     </g>\n    </g>\n    <g id=\"ytick_4\">\n     <g id=\"line2d_13\">\n      <g>\n       <use style=\"stroke:#000000;stroke-width:0.8;\" x=\"43.78125\" xlink:href=\"#mf4b7997061\" y=\"146.275754\"/>\n      </g>\n     </g>\n     <g id=\"text_14\">\n      <!-- 0.3 -->\n      <defs>\n       <path d=\"M 40.578125 39.3125 \nQ 47.65625 37.796875 51.625 33 \nQ 55.609375 28.21875 55.609375 21.1875 \nQ 55.609375 10.40625 48.1875 4.484375 \nQ 40.765625 -1.421875 27.09375 -1.421875 \nQ 22.515625 -1.421875 17.65625 -0.515625 \nQ 12.796875 0.390625 7.625 2.203125 \nL 7.625 11.71875 \nQ 11.71875 9.328125 16.59375 8.109375 \nQ 21.484375 6.890625 26.8125 6.890625 \nQ 36.078125 6.890625 40.9375 10.546875 \nQ 45.796875 14.203125 45.796875 21.1875 \nQ 45.796875 27.640625 41.28125 31.265625 \nQ 36.765625 34.90625 28.71875 34.90625 \nL 20.21875 34.90625 \nL 20.21875 43.015625 \nL 29.109375 43.015625 \nQ 36.375 43.015625 40.234375 45.921875 \nQ 44.09375 48.828125 44.09375 54.296875 \nQ 44.09375 59.90625 40.109375 62.90625 \nQ 36.140625 65.921875 28.71875 65.921875 \nQ 24.65625 65.921875 20.015625 65.03125 \nQ 15.375 64.15625 9.8125 62.3125 \nL 9.8125 71.09375 \nQ 15.4375 72.65625 20.34375 73.4375 \nQ 25.25 74.21875 29.59375 74.21875 \nQ 40.828125 74.21875 47.359375 69.109375 \nQ 53.90625 64.015625 53.90625 55.328125 \nQ 53.90625 49.265625 50.4375 45.09375 \nQ 46.96875 40.921875 40.578125 39.3125 \nz\n\" id=\"DejaVuSans-51\"/>\n      </defs>\n      <g transform=\"translate(20.878125 150.074973)scale(0.1 -0.1)\">\n       <use xlink:href=\"#DejaVuSans-48\"/>\n       <use x=\"63.623047\" xlink:href=\"#DejaVuSans-46\"/>\n       <use x=\"95.410156\" xlink:href=\"#DejaVuSans-51\"/>\n      </g>\n     </g>\n    </g>\n    <g id=\"ytick_5\">\n     <g id=\"line2d_14\">\n      <g>\n       <use style=\"stroke:#000000;stroke-width:0.8;\" x=\"43.78125\" xlink:href=\"#mf4b7997061\" y=\"118.409509\"/>\n      </g>\n     </g>\n     <g id=\"text_15\">\n      <!-- 0.4 -->\n      <defs>\n       <path d=\"M 37.796875 64.3125 \nL 12.890625 25.390625 \nL 37.796875 25.390625 \nz\nM 35.203125 72.90625 \nL 47.609375 72.90625 \nL 47.609375 25.390625 \nL 58.015625 25.390625 \nL 58.015625 17.1875 \nL 47.609375 17.1875 \nL 47.609375 0 \nL 37.796875 0 \nL 37.796875 17.1875 \nL 4.890625 17.1875 \nL 4.890625 26.703125 \nz\n\" id=\"DejaVuSans-52\"/>\n      </defs>\n      <g transform=\"translate(20.878125 122.208728)scale(0.1 -0.1)\">\n       <use xlink:href=\"#DejaVuSans-48\"/>\n       <use x=\"63.623047\" xlink:href=\"#DejaVuSans-46\"/>\n       <use x=\"95.410156\" xlink:href=\"#DejaVuSans-52\"/>\n      </g>\n     </g>\n    </g>\n    <g id=\"ytick_6\">\n     <g id=\"line2d_15\">\n      <g>\n       <use style=\"stroke:#000000;stroke-width:0.8;\" x=\"43.78125\" xlink:href=\"#mf4b7997061\" y=\"90.543264\"/>\n      </g>\n     </g>\n     <g id=\"text_16\">\n      <!-- 0.5 -->\n      <g transform=\"translate(20.878125 94.342483)scale(0.1 -0.1)\">\n       <use xlink:href=\"#DejaVuSans-48\"/>\n       <use x=\"63.623047\" xlink:href=\"#DejaVuSans-46\"/>\n       <use x=\"95.410156\" xlink:href=\"#DejaVuSans-53\"/>\n      </g>\n     </g>\n    </g>\n    <g id=\"ytick_7\">\n     <g id=\"line2d_16\">\n      <g>\n       <use style=\"stroke:#000000;stroke-width:0.8;\" x=\"43.78125\" xlink:href=\"#mf4b7997061\" y=\"62.677019\"/>\n      </g>\n     </g>\n     <g id=\"text_17\">\n      <!-- 0.6 -->\n      <defs>\n       <path d=\"M 33.015625 40.375 \nQ 26.375 40.375 22.484375 35.828125 \nQ 18.609375 31.296875 18.609375 23.390625 \nQ 18.609375 15.53125 22.484375 10.953125 \nQ 26.375 6.390625 33.015625 6.390625 \nQ 39.65625 6.390625 43.53125 10.953125 \nQ 47.40625 15.53125 47.40625 23.390625 \nQ 47.40625 31.296875 43.53125 35.828125 \nQ 39.65625 40.375 33.015625 40.375 \nz\nM 52.59375 71.296875 \nL 52.59375 62.3125 \nQ 48.875 64.0625 45.09375 64.984375 \nQ 41.3125 65.921875 37.59375 65.921875 \nQ 27.828125 65.921875 22.671875 59.328125 \nQ 17.53125 52.734375 16.796875 39.40625 \nQ 19.671875 43.65625 24.015625 45.921875 \nQ 28.375 48.1875 33.59375 48.1875 \nQ 44.578125 48.1875 50.953125 41.515625 \nQ 57.328125 34.859375 57.328125 23.390625 \nQ 57.328125 12.15625 50.6875 5.359375 \nQ 44.046875 -1.421875 33.015625 -1.421875 \nQ 20.359375 -1.421875 13.671875 8.265625 \nQ 6.984375 17.96875 6.984375 36.375 \nQ 6.984375 53.65625 15.1875 63.9375 \nQ 23.390625 74.21875 37.203125 74.21875 \nQ 40.921875 74.21875 44.703125 73.484375 \nQ 48.484375 72.75 52.59375 71.296875 \nz\n\" id=\"DejaVuSans-54\"/>\n      </defs>\n      <g transform=\"translate(20.878125 66.476238)scale(0.1 -0.1)\">\n       <use xlink:href=\"#DejaVuSans-48\"/>\n       <use x=\"63.623047\" xlink:href=\"#DejaVuSans-46\"/>\n       <use x=\"95.410156\" xlink:href=\"#DejaVuSans-54\"/>\n      </g>\n     </g>\n    </g>\n    <g id=\"ytick_8\">\n     <g id=\"line2d_17\">\n      <g>\n       <use style=\"stroke:#000000;stroke-width:0.8;\" x=\"43.78125\" xlink:href=\"#mf4b7997061\" y=\"34.810774\"/>\n      </g>\n     </g>\n     <g id=\"text_18\">\n      <!-- 0.7 -->\n      <g transform=\"translate(20.878125 38.609992)scale(0.1 -0.1)\">\n       <use xlink:href=\"#DejaVuSans-48\"/>\n       <use x=\"63.623047\" xlink:href=\"#DejaVuSans-46\"/>\n       <use x=\"95.410156\" xlink:href=\"#DejaVuSans-55\"/>\n      </g>\n     </g>\n    </g>\n    <g id=\"text_19\">\n     <!-- loss -->\n     <defs>\n      <path d=\"M 9.421875 75.984375 \nL 18.40625 75.984375 \nL 18.40625 0 \nL 9.421875 0 \nz\n\" id=\"DejaVuSans-108\"/>\n     </defs>\n     <g transform=\"translate(14.798438 140.695937)rotate(-90)scale(0.1 -0.1)\">\n      <use xlink:href=\"#DejaVuSans-108\"/>\n      <use x=\"27.783203\" xlink:href=\"#DejaVuSans-111\"/>\n      <use x=\"88.964844\" xlink:href=\"#DejaVuSans-115\"/>\n      <use x=\"141.064453\" xlink:href=\"#DejaVuSans-115\"/>\n     </g>\n    </g>\n   </g>\n   <g id=\"line2d_18\">\n    <path clip-path=\"url(#p195bf0a17d)\" d=\"M 58.999432 165.742748 \nL 60.528897 225.433442 \nL 62.058363 226.483487 \nL 63.587828 227.289359 \nL 65.117294 227.59382 \nL 68.176225 228.363819 \nL 71.235156 228.813266 \nL 72.764621 228.6092 \nL 75.823552 229.07523 \nL 77.353018 229.02486 \nL 78.882483 229.769621 \nL 80.411949 228.946958 \nL 81.941414 229.439518 \nL 83.47088 229.084329 \nL 85.000345 229.293316 \nL 86.529811 229.092547 \nL 88.059276 229.561672 \nL 89.588742 229.184708 \nL 91.118208 229.551659 \nL 92.647673 229.645953 \nL 94.177139 229.289314 \nL 95.706604 229.5172 \nL 97.23607 229.518695 \nL 98.765535 229.381408 \nL 101.824466 229.573644 \nL 103.353932 229.870681 \nL 104.883397 229.873719 \nL 106.412863 229.286403 \nL 109.471794 229.639684 \nL 111.001259 229.184054 \nL 112.530725 229.45387 \nL 114.06019 229.408555 \nL 115.589656 229.815237 \nL 117.119121 229.198722 \nL 118.648587 229.755122 \nL 120.178052 229.611094 \nL 121.707518 229.764718 \nL 124.766449 229.431315 \nL 126.295914 229.758706 \nL 127.82538 229.621797 \nL 129.354845 229.851597 \nL 130.884311 229.271302 \nL 132.413776 229.833298 \nL 135.472707 229.874181 \nL 137.002173 229.534491 \nL 138.531638 229.600227 \nL 140.061104 229.794843 \nL 141.590569 229.336291 \nL 143.120035 229.702109 \nL 146.178966 229.498743 \nL 150.767362 229.806793 \nL 152.296828 229.481027 \nL 155.355759 229.541665 \nL 158.41469 229.873198 \nL 159.944155 229.874092 \nL 161.473621 229.665462 \nL 163.003086 229.641737 \nL 164.532552 229.416877 \nL 166.062017 229.869556 \nL 169.120948 229.874037 \nL 170.650414 229.434042 \nL 172.17988 229.718633 \nL 173.709345 229.735025 \nL 175.238811 229.548194 \nL 176.768276 229.872645 \nL 178.297742 229.510481 \nL 179.827207 229.870662 \nL 181.356673 229.474835 \nL 184.415604 229.868767 \nL 185.945069 229.602011 \nL 190.533466 229.869472 \nL 192.062931 229.45422 \nL 195.121862 229.868543 \nL 196.651328 229.873939 \nL 198.180793 229.602553 \nL 199.710259 229.872534 \nL 201.239724 229.873848 \nL 202.76919 229.501596 \nL 204.298655 229.863488 \nL 205.828121 229.728671 \nL 210.416517 229.86463 \nL 211.945983 229.512461 \nL 213.475448 229.872604 \nL 216.534379 229.87422 \nL 218.063845 229.476946 \nL 219.59331 229.87031 \nL 225.711172 229.874467 \nL 227.240638 229.592745 \nL 231.829034 229.871836 \nL 233.3585 229.759201 \nL 234.887965 229.874074 \nL 236.417431 229.650573 \nL 239.476362 229.594271 \nL 241.005827 229.862902 \nL 244.064758 229.874142 \nL 245.594224 229.487489 \nL 247.123689 229.742379 \nL 250.18262 229.87406 \nL 251.712086 229.675446 \nL 253.241552 229.872798 \nL 254.771017 229.874253 \nL 256.300483 229.708517 \nL 257.829948 229.873214 \nL 259.359414 229.688016 \nL 260.888879 229.870794 \nL 262.418345 229.516979 \nL 263.94781 229.766781 \nL 265.477276 229.873044 \nL 267.006741 229.668867 \nL 268.536207 229.871985 \nL 270.065672 229.720839 \nL 271.595138 229.861144 \nL 274.654069 229.706119 \nL 277.713 229.874081 \nL 280.771931 229.612834 \nL 282.301396 229.870347 \nL 283.830862 229.595316 \nL 285.360327 229.872959 \nL 288.419258 229.87433 \nL 289.948724 229.671234 \nL 291.478189 229.688677 \nL 293.007655 229.872805 \nL 294.53712 229.69712 \nL 297.596051 229.734554 \nL 299.125517 229.573167 \nL 300.654982 229.856585 \nL 308.30231 229.874484 \nL 309.831775 229.650292 \nL 312.890706 229.639951 \nL 314.420172 229.862505 \nL 323.596965 229.874489 \nL 325.12643 229.551827 \nL 326.655896 229.728266 \nL 329.714827 229.740349 \nL 331.244292 229.72507 \nL 332.773758 229.871255 \nL 334.303224 229.874077 \nL 335.832689 229.618189 \nL 338.89162 229.869241 \nL 343.480017 229.792949 \nL 348.068413 229.874438 \nL 352.65681 229.874488 \nL 354.186275 229.514012 \nL 355.715741 229.75787 \nL 358.774672 229.839655 \nL 360.304137 229.750442 \nL 361.833603 229.87418 \nL 363.363068 229.874389 \nL 363.363068 229.874389 \n\" style=\"fill:none;stroke:#1f77b4;stroke-linecap:square;stroke-width:1.5;\"/>\n   </g>\n   <g id=\"line2d_19\">\n    <path clip-path=\"url(#p195bf0a17d)\" d=\"M 58.999432 226.050961 \nL 60.528897 229.3403 \nL 62.058363 226.362601 \nL 63.587828 227.698034 \nL 65.117294 229.231811 \nL 66.646759 227.240885 \nL 68.176225 229.190534 \nL 69.70569 229.475634 \nL 71.235156 229.464144 \nL 72.764621 221.003426 \nL 74.294087 229.3642 \nL 75.823552 229.70768 \nL 77.353018 229.728659 \nL 78.882483 32.201761 \nL 80.411949 225.599108 \nL 81.941414 229.836133 \nL 83.47088 229.667369 \nL 85.000345 229.759627 \nL 86.529811 228.141268 \nL 88.059276 229.809832 \nL 89.588742 229.360979 \nL 92.647673 229.860285 \nL 94.177139 229.582986 \nL 98.765535 229.51393 \nL 100.295001 229.744431 \nL 101.824466 229.71886 \nL 104.883397 229.820016 \nL 111.001259 229.834984 \nL 114.06019 229.645122 \nL 115.589656 229.863296 \nL 117.119121 229.549502 \nL 118.648587 229.833357 \nL 120.178052 229.705614 \nL 121.707518 229.800999 \nL 124.766449 229.807818 \nL 126.295914 229.853546 \nL 127.82538 229.717164 \nL 129.354845 229.867597 \nL 132.413776 229.861503 \nL 138.531638 229.838877 \nL 141.590569 229.559717 \nL 143.120035 229.800093 \nL 144.6495 222.456666 \nL 146.178966 229.161992 \nL 147.708431 229.844978 \nL 149.237897 229.259283 \nL 150.767362 229.872958 \nL 153.826293 229.837319 \nL 155.355759 229.478553 \nL 156.885224 229.870827 \nL 161.473621 229.806769 \nL 163.003086 229.73509 \nL 166.062017 229.870878 \nL 170.650414 229.836905 \nL 173.709345 229.701122 \nL 175.238811 229.857104 \nL 176.768276 229.85399 \nL 178.297742 229.676559 \nL 179.827207 229.8106 \nL 181.356673 229.684834 \nL 182.886138 229.838569 \nL 184.415604 229.828843 \nL 185.945069 228.921409 \nL 187.474535 229.685105 \nL 192.062931 229.818123 \nL 193.592397 229.626091 \nL 195.121862 229.798326 \nL 196.651328 229.806059 \nL 198.180793 229.671658 \nL 201.239724 229.736659 \nL 204.298655 229.82666 \nL 205.828121 229.52212 \nL 207.357586 229.712293 \nL 208.887052 229.783404 \nL 210.416517 228.906652 \nL 211.945983 229.799698 \nL 215.004914 229.669206 \nL 216.534379 229.852677 \nL 222.652241 229.717405 \nL 225.711172 229.6276 \nL 227.240638 229.418566 \nL 228.770103 229.478587 \nL 230.299569 229.227686 \nL 231.829034 229.465381 \nL 233.3585 229.307882 \nL 234.887965 229.525343 \nL 236.417431 229.268526 \nL 239.476362 229.526961 \nL 241.005827 229.68251 \nL 244.064758 229.79727 \nL 245.594224 228.914184 \nL 248.653155 229.599266 \nL 251.712086 229.550983 \nL 253.241552 229.690875 \nL 254.771017 229.620761 \nL 257.829948 229.720821 \nL 259.359414 229.637788 \nL 260.888879 229.174645 \nL 262.418345 224.321518 \nL 263.94781 229.751171 \nL 274.654069 229.821914 \nL 286.889793 229.775687 \nL 293.007655 229.825688 \nL 294.53712 229.418714 \nL 296.066586 229.844822 \nL 297.596051 219.954771 \nL 299.125517 229.396969 \nL 300.654982 229.814165 \nL 308.30231 229.830546 \nL 309.831775 229.633899 \nL 311.361241 228.621303 \nL 312.890706 229.457928 \nL 314.420172 229.744031 \nL 317.479103 229.812658 \nL 319.008568 229.678505 \nL 322.067499 229.79314 \nL 326.655896 229.654158 \nL 328.185361 229.567327 \nL 329.714827 229.854484 \nL 337.362155 229.743957 \nL 338.89162 229.850292 \nL 346.538948 229.783801 \nL 355.715741 229.81201 \nL 357.245206 229.438635 \nL 358.774672 229.452762 \nL 360.304137 229.706013 \nL 363.363068 229.749331 \nL 363.363068 229.749331 \n\" style=\"fill:none;stroke:#ff7f0e;stroke-linecap:square;stroke-width:1.5;\"/>\n   </g>\n   <g id=\"patch_3\">\n    <path d=\"M 43.78125 239.758125 \nL 43.78125 22.318125 \n\" style=\"fill:none;stroke:#000000;stroke-linecap:square;stroke-linejoin:miter;stroke-width:0.8;\"/>\n   </g>\n   <g id=\"patch_4\">\n    <path d=\"M 378.58125 239.758125 \nL 378.58125 22.318125 \n\" style=\"fill:none;stroke:#000000;stroke-linecap:square;stroke-linejoin:miter;stroke-width:0.8;\"/>\n   </g>\n   <g id=\"patch_5\">\n    <path d=\"M 43.78125 239.758125 \nL 378.58125 239.758125 \n\" style=\"fill:none;stroke:#000000;stroke-linecap:square;stroke-linejoin:miter;stroke-width:0.8;\"/>\n   </g>\n   <g id=\"patch_6\">\n    <path d=\"M 43.78125 22.318125 \nL 378.58125 22.318125 \n\" style=\"fill:none;stroke:#000000;stroke-linecap:square;stroke-linejoin:miter;stroke-width:0.8;\"/>\n   </g>\n   <g id=\"text_20\">\n    <!-- Training and validation loss -->\n    <defs>\n     <path d=\"M -0.296875 72.90625 \nL 61.375 72.90625 \nL 61.375 64.59375 \nL 35.5 64.59375 \nL 35.5 0 \nL 25.59375 0 \nL 25.59375 64.59375 \nL -0.296875 64.59375 \nz\n\" id=\"DejaVuSans-84\"/>\n     <path d=\"M 41.109375 46.296875 \nQ 39.59375 47.171875 37.8125 47.578125 \nQ 36.03125 48 33.890625 48 \nQ 26.265625 48 22.1875 43.046875 \nQ 18.109375 38.09375 18.109375 28.8125 \nL 18.109375 0 \nL 9.078125 0 \nL 9.078125 54.6875 \nL 18.109375 54.6875 \nL 18.109375 46.1875 \nQ 20.953125 51.171875 25.484375 53.578125 \nQ 30.03125 56 36.53125 56 \nQ 37.453125 56 38.578125 55.875 \nQ 39.703125 55.765625 41.0625 55.515625 \nz\n\" id=\"DejaVuSans-114\"/>\n     <path d=\"M 34.28125 27.484375 \nQ 23.390625 27.484375 19.1875 25 \nQ 14.984375 22.515625 14.984375 16.5 \nQ 14.984375 11.71875 18.140625 8.90625 \nQ 21.296875 6.109375 26.703125 6.109375 \nQ 34.1875 6.109375 38.703125 11.40625 \nQ 43.21875 16.703125 43.21875 25.484375 \nL 43.21875 27.484375 \nz\nM 52.203125 31.203125 \nL 52.203125 0 \nL 43.21875 0 \nL 43.21875 8.296875 \nQ 40.140625 3.328125 35.546875 0.953125 \nQ 30.953125 -1.421875 24.3125 -1.421875 \nQ 15.921875 -1.421875 10.953125 3.296875 \nQ 6 8.015625 6 15.921875 \nQ 6 25.140625 12.171875 29.828125 \nQ 18.359375 34.515625 30.609375 34.515625 \nL 43.21875 34.515625 \nL 43.21875 35.40625 \nQ 43.21875 41.609375 39.140625 45 \nQ 35.0625 48.390625 27.6875 48.390625 \nQ 23 48.390625 18.546875 47.265625 \nQ 14.109375 46.140625 10.015625 43.890625 \nL 10.015625 52.203125 \nQ 14.9375 54.109375 19.578125 55.046875 \nQ 24.21875 56 28.609375 56 \nQ 40.484375 56 46.34375 49.84375 \nQ 52.203125 43.703125 52.203125 31.203125 \nz\n\" id=\"DejaVuSans-97\"/>\n     <path d=\"M 9.421875 54.6875 \nL 18.40625 54.6875 \nL 18.40625 0 \nL 9.421875 0 \nz\nM 9.421875 75.984375 \nL 18.40625 75.984375 \nL 18.40625 64.59375 \nL 9.421875 64.59375 \nz\n\" id=\"DejaVuSans-105\"/>\n     <path d=\"M 54.890625 33.015625 \nL 54.890625 0 \nL 45.90625 0 \nL 45.90625 32.71875 \nQ 45.90625 40.484375 42.875 44.328125 \nQ 39.84375 48.1875 33.796875 48.1875 \nQ 26.515625 48.1875 22.3125 43.546875 \nQ 18.109375 38.921875 18.109375 30.90625 \nL 18.109375 0 \nL 9.078125 0 \nL 9.078125 54.6875 \nL 18.109375 54.6875 \nL 18.109375 46.1875 \nQ 21.34375 51.125 25.703125 53.5625 \nQ 30.078125 56 35.796875 56 \nQ 45.21875 56 50.046875 50.171875 \nQ 54.890625 44.34375 54.890625 33.015625 \nz\n\" id=\"DejaVuSans-110\"/>\n     <path d=\"M 45.40625 27.984375 \nQ 45.40625 37.75 41.375 43.109375 \nQ 37.359375 48.484375 30.078125 48.484375 \nQ 22.859375 48.484375 18.828125 43.109375 \nQ 14.796875 37.75 14.796875 27.984375 \nQ 14.796875 18.265625 18.828125 12.890625 \nQ 22.859375 7.515625 30.078125 7.515625 \nQ 37.359375 7.515625 41.375 12.890625 \nQ 45.40625 18.265625 45.40625 27.984375 \nz\nM 54.390625 6.78125 \nQ 54.390625 -7.171875 48.1875 -13.984375 \nQ 42 -20.796875 29.203125 -20.796875 \nQ 24.46875 -20.796875 20.265625 -20.09375 \nQ 16.0625 -19.390625 12.109375 -17.921875 \nL 12.109375 -9.1875 \nQ 16.0625 -11.328125 19.921875 -12.34375 \nQ 23.78125 -13.375 27.78125 -13.375 \nQ 36.625 -13.375 41.015625 -8.765625 \nQ 45.40625 -4.15625 45.40625 5.171875 \nL 45.40625 9.625 \nQ 42.625 4.78125 38.28125 2.390625 \nQ 33.9375 0 27.875 0 \nQ 17.828125 0 11.671875 7.65625 \nQ 5.515625 15.328125 5.515625 27.984375 \nQ 5.515625 40.671875 11.671875 48.328125 \nQ 17.828125 56 27.875 56 \nQ 33.9375 56 38.28125 53.609375 \nQ 42.625 51.21875 45.40625 46.390625 \nL 45.40625 54.6875 \nL 54.390625 54.6875 \nz\n\" id=\"DejaVuSans-103\"/>\n     <path id=\"DejaVuSans-32\"/>\n     <path d=\"M 45.40625 46.390625 \nL 45.40625 75.984375 \nL 54.390625 75.984375 \nL 54.390625 0 \nL 45.40625 0 \nL 45.40625 8.203125 \nQ 42.578125 3.328125 38.25 0.953125 \nQ 33.9375 -1.421875 27.875 -1.421875 \nQ 17.96875 -1.421875 11.734375 6.484375 \nQ 5.515625 14.40625 5.515625 27.296875 \nQ 5.515625 40.1875 11.734375 48.09375 \nQ 17.96875 56 27.875 56 \nQ 33.9375 56 38.25 53.625 \nQ 42.578125 51.265625 45.40625 46.390625 \nz\nM 14.796875 27.296875 \nQ 14.796875 17.390625 18.875 11.75 \nQ 22.953125 6.109375 30.078125 6.109375 \nQ 37.203125 6.109375 41.296875 11.75 \nQ 45.40625 17.390625 45.40625 27.296875 \nQ 45.40625 37.203125 41.296875 42.84375 \nQ 37.203125 48.484375 30.078125 48.484375 \nQ 22.953125 48.484375 18.875 42.84375 \nQ 14.796875 37.203125 14.796875 27.296875 \nz\n\" id=\"DejaVuSans-100\"/>\n     <path d=\"M 2.984375 54.6875 \nL 12.5 54.6875 \nL 29.59375 8.796875 \nL 46.6875 54.6875 \nL 56.203125 54.6875 \nL 35.6875 0 \nL 23.484375 0 \nz\n\" id=\"DejaVuSans-118\"/>\n     <path d=\"M 18.3125 70.21875 \nL 18.3125 54.6875 \nL 36.8125 54.6875 \nL 36.8125 47.703125 \nL 18.3125 47.703125 \nL 18.3125 18.015625 \nQ 18.3125 11.328125 20.140625 9.421875 \nQ 21.96875 7.515625 27.59375 7.515625 \nL 36.8125 7.515625 \nL 36.8125 0 \nL 27.59375 0 \nQ 17.1875 0 13.234375 3.875 \nQ 9.28125 7.765625 9.28125 18.015625 \nL 9.28125 47.703125 \nL 2.6875 47.703125 \nL 2.6875 54.6875 \nL 9.28125 54.6875 \nL 9.28125 70.21875 \nz\n\" id=\"DejaVuSans-116\"/>\n    </defs>\n    <g transform=\"translate(129.37125 16.318125)scale(0.12 -0.12)\">\n     <use xlink:href=\"#DejaVuSans-84\"/>\n     <use x=\"46.333984\" xlink:href=\"#DejaVuSans-114\"/>\n     <use x=\"87.447266\" xlink:href=\"#DejaVuSans-97\"/>\n     <use x=\"148.726562\" xlink:href=\"#DejaVuSans-105\"/>\n     <use x=\"176.509766\" xlink:href=\"#DejaVuSans-110\"/>\n     <use x=\"239.888672\" xlink:href=\"#DejaVuSans-105\"/>\n     <use x=\"267.671875\" xlink:href=\"#DejaVuSans-110\"/>\n     <use x=\"331.050781\" xlink:href=\"#DejaVuSans-103\"/>\n     <use x=\"394.527344\" xlink:href=\"#DejaVuSans-32\"/>\n     <use x=\"426.314453\" xlink:href=\"#DejaVuSans-97\"/>\n     <use x=\"487.59375\" xlink:href=\"#DejaVuSans-110\"/>\n     <use x=\"550.972656\" xlink:href=\"#DejaVuSans-100\"/>\n     <use x=\"614.449219\" xlink:href=\"#DejaVuSans-32\"/>\n     <use x=\"646.236328\" xlink:href=\"#DejaVuSans-118\"/>\n     <use x=\"705.416016\" xlink:href=\"#DejaVuSans-97\"/>\n     <use x=\"766.695312\" xlink:href=\"#DejaVuSans-108\"/>\n     <use x=\"794.478516\" xlink:href=\"#DejaVuSans-105\"/>\n     <use x=\"822.261719\" xlink:href=\"#DejaVuSans-100\"/>\n     <use x=\"885.738281\" xlink:href=\"#DejaVuSans-97\"/>\n     <use x=\"947.017578\" xlink:href=\"#DejaVuSans-116\"/>\n     <use x=\"986.226562\" xlink:href=\"#DejaVuSans-105\"/>\n     <use x=\"1014.009766\" xlink:href=\"#DejaVuSans-111\"/>\n     <use x=\"1075.191406\" xlink:href=\"#DejaVuSans-110\"/>\n     <use x=\"1138.570312\" xlink:href=\"#DejaVuSans-32\"/>\n     <use x=\"1170.357422\" xlink:href=\"#DejaVuSans-108\"/>\n     <use x=\"1198.140625\" xlink:href=\"#DejaVuSans-111\"/>\n     <use x=\"1259.322266\" xlink:href=\"#DejaVuSans-115\"/>\n     <use x=\"1311.421875\" xlink:href=\"#DejaVuSans-115\"/>\n    </g>\n   </g>\n   <g id=\"legend_1\">\n    <g id=\"patch_7\">\n     <path d=\"M 291.990625 60.230625 \nL 371.58125 60.230625 \nQ 373.58125 60.230625 373.58125 58.230625 \nL 373.58125 29.318125 \nQ 373.58125 27.318125 371.58125 27.318125 \nL 291.990625 27.318125 \nQ 289.990625 27.318125 289.990625 29.318125 \nL 289.990625 58.230625 \nQ 289.990625 60.230625 291.990625 60.230625 \nz\n\" style=\"fill:#ffffff;opacity:0.8;stroke:#cccccc;stroke-linejoin:miter;\"/>\n    </g>\n    <g id=\"line2d_20\">\n     <path d=\"M 293.990625 35.416562 \nL 313.990625 35.416562 \n\" style=\"fill:none;stroke:#1f77b4;stroke-linecap:square;stroke-width:1.5;\"/>\n    </g>\n    <g id=\"line2d_21\"/>\n    <g id=\"text_21\">\n     <!-- train_loss -->\n     <defs>\n      <path d=\"M 50.984375 -16.609375 \nL 50.984375 -23.578125 \nL -0.984375 -23.578125 \nL -0.984375 -16.609375 \nz\n\" id=\"DejaVuSans-95\"/>\n     </defs>\n     <g transform=\"translate(321.990625 38.916562)scale(0.1 -0.1)\">\n      <use xlink:href=\"#DejaVuSans-116\"/>\n      <use x=\"39.208984\" xlink:href=\"#DejaVuSans-114\"/>\n      <use x=\"80.322266\" xlink:href=\"#DejaVuSans-97\"/>\n      <use x=\"141.601562\" xlink:href=\"#DejaVuSans-105\"/>\n      <use x=\"169.384766\" xlink:href=\"#DejaVuSans-110\"/>\n      <use x=\"232.763672\" xlink:href=\"#DejaVuSans-95\"/>\n      <use x=\"282.763672\" xlink:href=\"#DejaVuSans-108\"/>\n      <use x=\"310.546875\" xlink:href=\"#DejaVuSans-111\"/>\n      <use x=\"371.728516\" xlink:href=\"#DejaVuSans-115\"/>\n      <use x=\"423.828125\" xlink:href=\"#DejaVuSans-115\"/>\n     </g>\n    </g>\n    <g id=\"line2d_22\">\n     <path d=\"M 293.990625 50.372812 \nL 313.990625 50.372812 \n\" style=\"fill:none;stroke:#ff7f0e;stroke-linecap:square;stroke-width:1.5;\"/>\n    </g>\n    <g id=\"line2d_23\"/>\n    <g id=\"text_22\">\n     <!-- val_loss -->\n     <g transform=\"translate(321.990625 53.872812)scale(0.1 -0.1)\">\n      <use xlink:href=\"#DejaVuSans-118\"/>\n      <use x=\"59.179688\" xlink:href=\"#DejaVuSans-97\"/>\n      <use x=\"120.458984\" xlink:href=\"#DejaVuSans-108\"/>\n      <use x=\"148.242188\" xlink:href=\"#DejaVuSans-95\"/>\n      <use x=\"198.242188\" xlink:href=\"#DejaVuSans-108\"/>\n      <use x=\"226.025391\" xlink:href=\"#DejaVuSans-111\"/>\n      <use x=\"287.207031\" xlink:href=\"#DejaVuSans-115\"/>\n      <use x=\"339.306641\" xlink:href=\"#DejaVuSans-115\"/>\n     </g>\n    </g>\n   </g>\n  </g>\n </g>\n <defs>\n  <clipPath id=\"p195bf0a17d\">\n   <rect height=\"217.44\" width=\"334.8\" x=\"43.78125\" y=\"22.318125\"/>\n  </clipPath>\n </defs>\n</svg>\n"
          },
          "metadata": {
            "needs_background": "light"
          }
        }
      ]
    },
    {
      "cell_type": "code",
      "source": [
        "model.evaluate(X_test, y_test, verbose=2)"
      ],
      "metadata": {
        "colab": {
          "base_uri": "https://localhost:8080/"
        },
        "id": "FIDPrWgVQpT1",
        "outputId": "a67022cc-65d3-4f5a-ea41-a3935130316a"
      },
      "execution_count": 23,
      "outputs": [
        {
          "output_type": "stream",
          "name": "stdout",
          "text": [
            "1086/1086 - 5s - loss: 3.6407e-05 - accuracy: 1.0000 - 5s/epoch - 4ms/step\n"
          ]
        },
        {
          "output_type": "execute_result",
          "data": {
            "text/plain": [
              "[3.640686554717831e-05, 0.9999712109565735]"
            ]
          },
          "metadata": {},
          "execution_count": 23
        }
      ]
    },
    {
      "cell_type": "code",
      "source": [
        "y_pred = model.predict(X_test)"
      ],
      "metadata": {
        "id": "843KGcKGQuJw"
      },
      "execution_count": 24,
      "outputs": []
    },
    {
      "cell_type": "code",
      "source": [
        "from sklearn.metrics import confusion_matrix\n",
        "matrix = confusion_matrix(y_test.argmax(axis=1), y_pred.argmax(axis=1))\n",
        "print(matrix)"
      ],
      "metadata": {
        "colab": {
          "base_uri": "https://localhost:8080/"
        },
        "id": "UkdGtW0aQwc9",
        "outputId": "6f55b451-d831-4f55-be6d-f049cd531c22"
      },
      "execution_count": 25,
      "outputs": [
        {
          "output_type": "stream",
          "name": "stdout",
          "text": [
            "[[ 4770     0     1     0]\n",
            " [    0  1672     0     0]\n",
            " [    0     0 21461     0]\n",
            " [    0     0     0  6826]]\n"
          ]
        }
      ]
    },
    {
      "cell_type": "code",
      "source": [
        "import seaborn as sns\n",
        "sns.heatmap(matrix, annot=True, fmt='d',  cmap=plt.cm.rainbow)"
      ],
      "metadata": {
        "colab": {
          "base_uri": "https://localhost:8080/",
          "height": 370
        },
        "id": "twPhyOLNQ2A9",
        "outputId": "cb04262a-5fc0-4325-ad6f-3e0ff4222bab"
      },
      "execution_count": 26,
      "outputs": [
        {
          "output_type": "execute_result",
          "data": {
            "text/plain": [
              "<matplotlib.axes._subplots.AxesSubplot at 0x7fbea1cd9310>"
            ]
          },
          "metadata": {},
          "execution_count": 26
        },
        {
          "output_type": "display_data",
          "data": {
            "text/plain": [
              "<Figure size 432x288 with 2 Axes>"
            ],
            "image/svg+xml": "<?xml version=\"1.0\" encoding=\"utf-8\" standalone=\"no\"?>\n<!DOCTYPE svg PUBLIC \"-//W3C//DTD SVG 1.1//EN\"\n  \"http://www.w3.org/Graphics/SVG/1.1/DTD/svg11.dtd\">\n<!-- Created with matplotlib (https://matplotlib.org/) -->\n<svg height=\"248.518125pt\" version=\"1.1\" viewBox=\"0 0 365.342625 248.518125\" width=\"365.342625pt\" xmlns=\"http://www.w3.org/2000/svg\" xmlns:xlink=\"http://www.w3.org/1999/xlink\">\n <defs>\n  <style type=\"text/css\">\n*{stroke-linecap:butt;stroke-linejoin:round;}\n  </style>\n </defs>\n <g id=\"figure_1\">\n  <g id=\"patch_1\">\n   <path d=\"M -0 248.518125 \nL 365.342625 248.518125 \nL 365.342625 0 \nL -0 0 \nz\n\" style=\"fill:none;\"/>\n  </g>\n  <g id=\"axes_1\">\n   <g id=\"patch_2\">\n    <path d=\"M 23.878125 224.64 \nL 291.718125 224.64 \nL 291.718125 7.2 \nL 23.878125 7.2 \nz\n\" style=\"fill:#ffffff;\"/>\n   </g>\n   <g id=\"QuadMesh_1\">\n    <path clip-path=\"url(#p5bb8bd9d0a)\" d=\"M 23.878125 7.2 \nL 90.838125 7.2 \nL 90.838125 61.56 \nL 23.878125 61.56 \nL 23.878125 7.2 \n\" style=\"fill:#10a2f0;\"/>\n    <path clip-path=\"url(#p5bb8bd9d0a)\" d=\"M 90.838125 7.2 \nL 157.798125 7.2 \nL 157.798125 61.56 \nL 90.838125 61.56 \nL 90.838125 7.2 \n\" style=\"fill:#8000ff;\"/>\n    <path clip-path=\"url(#p5bb8bd9d0a)\" d=\"M 157.798125 7.2 \nL 224.758125 7.2 \nL 224.758125 61.56 \nL 157.798125 61.56 \nL 157.798125 7.2 \n\" style=\"fill:#8000ff;\"/>\n    <path clip-path=\"url(#p5bb8bd9d0a)\" d=\"M 224.758125 7.2 \nL 291.718125 7.2 \nL 291.718125 61.56 \nL 224.758125 61.56 \nL 224.758125 7.2 \n\" style=\"fill:#8000ff;\"/>\n    <path clip-path=\"url(#p5bb8bd9d0a)\" d=\"M 23.878125 61.56 \nL 90.838125 61.56 \nL 90.838125 115.92 \nL 23.878125 115.92 \nL 23.878125 61.56 \n\" style=\"fill:#8000ff;\"/>\n    <path clip-path=\"url(#p5bb8bd9d0a)\" d=\"M 90.838125 61.56 \nL 157.798125 61.56 \nL 157.798125 115.92 \nL 90.838125 115.92 \nL 90.838125 61.56 \n\" style=\"fill:#5a3bfd;\"/>\n    <path clip-path=\"url(#p5bb8bd9d0a)\" d=\"M 157.798125 61.56 \nL 224.758125 61.56 \nL 224.758125 115.92 \nL 157.798125 115.92 \nL 157.798125 61.56 \n\" style=\"fill:#8000ff;\"/>\n    <path clip-path=\"url(#p5bb8bd9d0a)\" d=\"M 224.758125 61.56 \nL 291.718125 61.56 \nL 291.718125 115.92 \nL 224.758125 115.92 \nL 224.758125 61.56 \n\" style=\"fill:#8000ff;\"/>\n    <path clip-path=\"url(#p5bb8bd9d0a)\" d=\"M 23.878125 115.92 \nL 90.838125 115.92 \nL 90.838125 170.28 \nL 23.878125 170.28 \nL 23.878125 115.92 \n\" style=\"fill:#8000ff;\"/>\n    <path clip-path=\"url(#p5bb8bd9d0a)\" d=\"M 90.838125 115.92 \nL 157.798125 115.92 \nL 157.798125 170.28 \nL 90.838125 170.28 \nL 90.838125 115.92 \n\" style=\"fill:#8000ff;\"/>\n    <path clip-path=\"url(#p5bb8bd9d0a)\" d=\"M 157.798125 115.92 \nL 224.758125 115.92 \nL 224.758125 170.28 \nL 157.798125 170.28 \nL 157.798125 115.92 \n\" style=\"fill:#ff0000;\"/>\n    <path clip-path=\"url(#p5bb8bd9d0a)\" d=\"M 224.758125 115.92 \nL 291.718125 115.92 \nL 291.718125 170.28 \nL 224.758125 170.28 \nL 224.758125 115.92 \n\" style=\"fill:#8000ff;\"/>\n    <path clip-path=\"url(#p5bb8bd9d0a)\" d=\"M 23.878125 170.28 \nL 90.838125 170.28 \nL 90.838125 224.64 \nL 23.878125 224.64 \nL 23.878125 170.28 \n\" style=\"fill:#8000ff;\"/>\n    <path clip-path=\"url(#p5bb8bd9d0a)\" d=\"M 90.838125 170.28 \nL 157.798125 170.28 \nL 157.798125 224.64 \nL 90.838125 224.64 \nL 90.838125 170.28 \n\" style=\"fill:#8000ff;\"/>\n    <path clip-path=\"url(#p5bb8bd9d0a)\" d=\"M 157.798125 170.28 \nL 224.758125 170.28 \nL 224.758125 224.64 \nL 157.798125 224.64 \nL 157.798125 170.28 \n\" style=\"fill:#8000ff;\"/>\n    <path clip-path=\"url(#p5bb8bd9d0a)\" d=\"M 224.758125 170.28 \nL 291.718125 170.28 \nL 291.718125 224.64 \nL 224.758125 224.64 \nL 224.758125 170.28 \n\" style=\"fill:#22d6e0;\"/>\n   </g>\n   <g id=\"matplotlib.axis_1\">\n    <g id=\"xtick_1\">\n     <g id=\"line2d_1\">\n      <defs>\n       <path d=\"M 0 0 \nL 0 3.5 \n\" id=\"m9ffec25184\" style=\"stroke:#000000;stroke-width:0.8;\"/>\n      </defs>\n      <g>\n       <use style=\"stroke:#000000;stroke-width:0.8;\" x=\"57.358125\" xlink:href=\"#m9ffec25184\" y=\"224.64\"/>\n      </g>\n     </g>\n     <g id=\"text_1\">\n      <!-- 0 -->\n      <defs>\n       <path d=\"M 31.78125 66.40625 \nQ 24.171875 66.40625 20.328125 58.90625 \nQ 16.5 51.421875 16.5 36.375 \nQ 16.5 21.390625 20.328125 13.890625 \nQ 24.171875 6.390625 31.78125 6.390625 \nQ 39.453125 6.390625 43.28125 13.890625 \nQ 47.125 21.390625 47.125 36.375 \nQ 47.125 51.421875 43.28125 58.90625 \nQ 39.453125 66.40625 31.78125 66.40625 \nz\nM 31.78125 74.21875 \nQ 44.046875 74.21875 50.515625 64.515625 \nQ 56.984375 54.828125 56.984375 36.375 \nQ 56.984375 17.96875 50.515625 8.265625 \nQ 44.046875 -1.421875 31.78125 -1.421875 \nQ 19.53125 -1.421875 13.0625 8.265625 \nQ 6.59375 17.96875 6.59375 36.375 \nQ 6.59375 54.828125 13.0625 64.515625 \nQ 19.53125 74.21875 31.78125 74.21875 \nz\n\" id=\"DejaVuSans-48\"/>\n      </defs>\n      <g transform=\"translate(54.176875 239.238437)scale(0.1 -0.1)\">\n       <use xlink:href=\"#DejaVuSans-48\"/>\n      </g>\n     </g>\n    </g>\n    <g id=\"xtick_2\">\n     <g id=\"line2d_2\">\n      <g>\n       <use style=\"stroke:#000000;stroke-width:0.8;\" x=\"124.318125\" xlink:href=\"#m9ffec25184\" y=\"224.64\"/>\n      </g>\n     </g>\n     <g id=\"text_2\">\n      <!-- 1 -->\n      <defs>\n       <path d=\"M 12.40625 8.296875 \nL 28.515625 8.296875 \nL 28.515625 63.921875 \nL 10.984375 60.40625 \nL 10.984375 69.390625 \nL 28.421875 72.90625 \nL 38.28125 72.90625 \nL 38.28125 8.296875 \nL 54.390625 8.296875 \nL 54.390625 0 \nL 12.40625 0 \nz\n\" id=\"DejaVuSans-49\"/>\n      </defs>\n      <g transform=\"translate(121.136875 239.238437)scale(0.1 -0.1)\">\n       <use xlink:href=\"#DejaVuSans-49\"/>\n      </g>\n     </g>\n    </g>\n    <g id=\"xtick_3\">\n     <g id=\"line2d_3\">\n      <g>\n       <use style=\"stroke:#000000;stroke-width:0.8;\" x=\"191.278125\" xlink:href=\"#m9ffec25184\" y=\"224.64\"/>\n      </g>\n     </g>\n     <g id=\"text_3\">\n      <!-- 2 -->\n      <defs>\n       <path d=\"M 19.1875 8.296875 \nL 53.609375 8.296875 \nL 53.609375 0 \nL 7.328125 0 \nL 7.328125 8.296875 \nQ 12.9375 14.109375 22.625 23.890625 \nQ 32.328125 33.6875 34.8125 36.53125 \nQ 39.546875 41.84375 41.421875 45.53125 \nQ 43.3125 49.21875 43.3125 52.78125 \nQ 43.3125 58.59375 39.234375 62.25 \nQ 35.15625 65.921875 28.609375 65.921875 \nQ 23.96875 65.921875 18.8125 64.3125 \nQ 13.671875 62.703125 7.8125 59.421875 \nL 7.8125 69.390625 \nQ 13.765625 71.78125 18.9375 73 \nQ 24.125 74.21875 28.421875 74.21875 \nQ 39.75 74.21875 46.484375 68.546875 \nQ 53.21875 62.890625 53.21875 53.421875 \nQ 53.21875 48.921875 51.53125 44.890625 \nQ 49.859375 40.875 45.40625 35.40625 \nQ 44.1875 33.984375 37.640625 27.21875 \nQ 31.109375 20.453125 19.1875 8.296875 \nz\n\" id=\"DejaVuSans-50\"/>\n      </defs>\n      <g transform=\"translate(188.096875 239.238437)scale(0.1 -0.1)\">\n       <use xlink:href=\"#DejaVuSans-50\"/>\n      </g>\n     </g>\n    </g>\n    <g id=\"xtick_4\">\n     <g id=\"line2d_4\">\n      <g>\n       <use style=\"stroke:#000000;stroke-width:0.8;\" x=\"258.238125\" xlink:href=\"#m9ffec25184\" y=\"224.64\"/>\n      </g>\n     </g>\n     <g id=\"text_4\">\n      <!-- 3 -->\n      <defs>\n       <path d=\"M 40.578125 39.3125 \nQ 47.65625 37.796875 51.625 33 \nQ 55.609375 28.21875 55.609375 21.1875 \nQ 55.609375 10.40625 48.1875 4.484375 \nQ 40.765625 -1.421875 27.09375 -1.421875 \nQ 22.515625 -1.421875 17.65625 -0.515625 \nQ 12.796875 0.390625 7.625 2.203125 \nL 7.625 11.71875 \nQ 11.71875 9.328125 16.59375 8.109375 \nQ 21.484375 6.890625 26.8125 6.890625 \nQ 36.078125 6.890625 40.9375 10.546875 \nQ 45.796875 14.203125 45.796875 21.1875 \nQ 45.796875 27.640625 41.28125 31.265625 \nQ 36.765625 34.90625 28.71875 34.90625 \nL 20.21875 34.90625 \nL 20.21875 43.015625 \nL 29.109375 43.015625 \nQ 36.375 43.015625 40.234375 45.921875 \nQ 44.09375 48.828125 44.09375 54.296875 \nQ 44.09375 59.90625 40.109375 62.90625 \nQ 36.140625 65.921875 28.71875 65.921875 \nQ 24.65625 65.921875 20.015625 65.03125 \nQ 15.375 64.15625 9.8125 62.3125 \nL 9.8125 71.09375 \nQ 15.4375 72.65625 20.34375 73.4375 \nQ 25.25 74.21875 29.59375 74.21875 \nQ 40.828125 74.21875 47.359375 69.109375 \nQ 53.90625 64.015625 53.90625 55.328125 \nQ 53.90625 49.265625 50.4375 45.09375 \nQ 46.96875 40.921875 40.578125 39.3125 \nz\n\" id=\"DejaVuSans-51\"/>\n      </defs>\n      <g transform=\"translate(255.056875 239.238437)scale(0.1 -0.1)\">\n       <use xlink:href=\"#DejaVuSans-51\"/>\n      </g>\n     </g>\n    </g>\n   </g>\n   <g id=\"matplotlib.axis_2\">\n    <g id=\"ytick_1\">\n     <g id=\"line2d_5\">\n      <defs>\n       <path d=\"M 0 0 \nL -3.5 0 \n\" id=\"m6e742823d4\" style=\"stroke:#000000;stroke-width:0.8;\"/>\n      </defs>\n      <g>\n       <use style=\"stroke:#000000;stroke-width:0.8;\" x=\"23.878125\" xlink:href=\"#m6e742823d4\" y=\"34.38\"/>\n      </g>\n     </g>\n     <g id=\"text_5\">\n      <!-- 0 -->\n      <g transform=\"translate(14.798438 37.56125)rotate(-90)scale(0.1 -0.1)\">\n       <use xlink:href=\"#DejaVuSans-48\"/>\n      </g>\n     </g>\n    </g>\n    <g id=\"ytick_2\">\n     <g id=\"line2d_6\">\n      <g>\n       <use style=\"stroke:#000000;stroke-width:0.8;\" x=\"23.878125\" xlink:href=\"#m6e742823d4\" y=\"88.74\"/>\n      </g>\n     </g>\n     <g id=\"text_6\">\n      <!-- 1 -->\n      <g transform=\"translate(14.798438 91.92125)rotate(-90)scale(0.1 -0.1)\">\n       <use xlink:href=\"#DejaVuSans-49\"/>\n      </g>\n     </g>\n    </g>\n    <g id=\"ytick_3\">\n     <g id=\"line2d_7\">\n      <g>\n       <use style=\"stroke:#000000;stroke-width:0.8;\" x=\"23.878125\" xlink:href=\"#m6e742823d4\" y=\"143.1\"/>\n      </g>\n     </g>\n     <g id=\"text_7\">\n      <!-- 2 -->\n      <g transform=\"translate(14.798438 146.28125)rotate(-90)scale(0.1 -0.1)\">\n       <use xlink:href=\"#DejaVuSans-50\"/>\n      </g>\n     </g>\n    </g>\n    <g id=\"ytick_4\">\n     <g id=\"line2d_8\">\n      <g>\n       <use style=\"stroke:#000000;stroke-width:0.8;\" x=\"23.878125\" xlink:href=\"#m6e742823d4\" y=\"197.46\"/>\n      </g>\n     </g>\n     <g id=\"text_8\">\n      <!-- 3 -->\n      <g transform=\"translate(14.798438 200.64125)rotate(-90)scale(0.1 -0.1)\">\n       <use xlink:href=\"#DejaVuSans-51\"/>\n      </g>\n     </g>\n    </g>\n   </g>\n   <g id=\"text_9\">\n    <!-- 4770 -->\n    <defs>\n     <path d=\"M 37.796875 64.3125 \nL 12.890625 25.390625 \nL 37.796875 25.390625 \nz\nM 35.203125 72.90625 \nL 47.609375 72.90625 \nL 47.609375 25.390625 \nL 58.015625 25.390625 \nL 58.015625 17.1875 \nL 47.609375 17.1875 \nL 47.609375 0 \nL 37.796875 0 \nL 37.796875 17.1875 \nL 4.890625 17.1875 \nL 4.890625 26.703125 \nz\n\" id=\"DejaVuSans-52\"/>\n     <path d=\"M 8.203125 72.90625 \nL 55.078125 72.90625 \nL 55.078125 68.703125 \nL 28.609375 0 \nL 18.3125 0 \nL 43.21875 64.59375 \nL 8.203125 64.59375 \nz\n\" id=\"DejaVuSans-55\"/>\n    </defs>\n    <g style=\"fill:#ffffff;\" transform=\"translate(44.633125 37.139375)scale(0.1 -0.1)\">\n     <use xlink:href=\"#DejaVuSans-52\"/>\n     <use x=\"63.623047\" xlink:href=\"#DejaVuSans-55\"/>\n     <use x=\"127.246094\" xlink:href=\"#DejaVuSans-55\"/>\n     <use x=\"190.869141\" xlink:href=\"#DejaVuSans-48\"/>\n    </g>\n   </g>\n   <g id=\"text_10\">\n    <!-- 0 -->\n    <g style=\"fill:#ffffff;\" transform=\"translate(121.136875 37.139375)scale(0.1 -0.1)\">\n     <use xlink:href=\"#DejaVuSans-48\"/>\n    </g>\n   </g>\n   <g id=\"text_11\">\n    <!-- 1 -->\n    <g style=\"fill:#ffffff;\" transform=\"translate(188.096875 37.139375)scale(0.1 -0.1)\">\n     <use xlink:href=\"#DejaVuSans-49\"/>\n    </g>\n   </g>\n   <g id=\"text_12\">\n    <!-- 0 -->\n    <g style=\"fill:#ffffff;\" transform=\"translate(255.056875 37.139375)scale(0.1 -0.1)\">\n     <use xlink:href=\"#DejaVuSans-48\"/>\n    </g>\n   </g>\n   <g id=\"text_13\">\n    <!-- 0 -->\n    <g style=\"fill:#ffffff;\" transform=\"translate(54.176875 91.499375)scale(0.1 -0.1)\">\n     <use xlink:href=\"#DejaVuSans-48\"/>\n    </g>\n   </g>\n   <g id=\"text_14\">\n    <!-- 1672 -->\n    <defs>\n     <path d=\"M 33.015625 40.375 \nQ 26.375 40.375 22.484375 35.828125 \nQ 18.609375 31.296875 18.609375 23.390625 \nQ 18.609375 15.53125 22.484375 10.953125 \nQ 26.375 6.390625 33.015625 6.390625 \nQ 39.65625 6.390625 43.53125 10.953125 \nQ 47.40625 15.53125 47.40625 23.390625 \nQ 47.40625 31.296875 43.53125 35.828125 \nQ 39.65625 40.375 33.015625 40.375 \nz\nM 52.59375 71.296875 \nL 52.59375 62.3125 \nQ 48.875 64.0625 45.09375 64.984375 \nQ 41.3125 65.921875 37.59375 65.921875 \nQ 27.828125 65.921875 22.671875 59.328125 \nQ 17.53125 52.734375 16.796875 39.40625 \nQ 19.671875 43.65625 24.015625 45.921875 \nQ 28.375 48.1875 33.59375 48.1875 \nQ 44.578125 48.1875 50.953125 41.515625 \nQ 57.328125 34.859375 57.328125 23.390625 \nQ 57.328125 12.15625 50.6875 5.359375 \nQ 44.046875 -1.421875 33.015625 -1.421875 \nQ 20.359375 -1.421875 13.671875 8.265625 \nQ 6.984375 17.96875 6.984375 36.375 \nQ 6.984375 53.65625 15.1875 63.9375 \nQ 23.390625 74.21875 37.203125 74.21875 \nQ 40.921875 74.21875 44.703125 73.484375 \nQ 48.484375 72.75 52.59375 71.296875 \nz\n\" id=\"DejaVuSans-54\"/>\n    </defs>\n    <g style=\"fill:#ffffff;\" transform=\"translate(111.593125 91.499375)scale(0.1 -0.1)\">\n     <use xlink:href=\"#DejaVuSans-49\"/>\n     <use x=\"63.623047\" xlink:href=\"#DejaVuSans-54\"/>\n     <use x=\"127.246094\" xlink:href=\"#DejaVuSans-55\"/>\n     <use x=\"190.869141\" xlink:href=\"#DejaVuSans-50\"/>\n    </g>\n   </g>\n   <g id=\"text_15\">\n    <!-- 0 -->\n    <g style=\"fill:#ffffff;\" transform=\"translate(188.096875 91.499375)scale(0.1 -0.1)\">\n     <use xlink:href=\"#DejaVuSans-48\"/>\n    </g>\n   </g>\n   <g id=\"text_16\">\n    <!-- 0 -->\n    <g style=\"fill:#ffffff;\" transform=\"translate(255.056875 91.499375)scale(0.1 -0.1)\">\n     <use xlink:href=\"#DejaVuSans-48\"/>\n    </g>\n   </g>\n   <g id=\"text_17\">\n    <!-- 0 -->\n    <g style=\"fill:#ffffff;\" transform=\"translate(54.176875 145.859375)scale(0.1 -0.1)\">\n     <use xlink:href=\"#DejaVuSans-48\"/>\n    </g>\n   </g>\n   <g id=\"text_18\">\n    <!-- 0 -->\n    <g style=\"fill:#ffffff;\" transform=\"translate(121.136875 145.859375)scale(0.1 -0.1)\">\n     <use xlink:href=\"#DejaVuSans-48\"/>\n    </g>\n   </g>\n   <g id=\"text_19\">\n    <!-- 21461 -->\n    <g style=\"fill:#ffffff;\" transform=\"translate(175.371875 145.859375)scale(0.1 -0.1)\">\n     <use xlink:href=\"#DejaVuSans-50\"/>\n     <use x=\"63.623047\" xlink:href=\"#DejaVuSans-49\"/>\n     <use x=\"127.246094\" xlink:href=\"#DejaVuSans-52\"/>\n     <use x=\"190.869141\" xlink:href=\"#DejaVuSans-54\"/>\n     <use x=\"254.492188\" xlink:href=\"#DejaVuSans-49\"/>\n    </g>\n   </g>\n   <g id=\"text_20\">\n    <!-- 0 -->\n    <g style=\"fill:#ffffff;\" transform=\"translate(255.056875 145.859375)scale(0.1 -0.1)\">\n     <use xlink:href=\"#DejaVuSans-48\"/>\n    </g>\n   </g>\n   <g id=\"text_21\">\n    <!-- 0 -->\n    <g style=\"fill:#ffffff;\" transform=\"translate(54.176875 200.219375)scale(0.1 -0.1)\">\n     <use xlink:href=\"#DejaVuSans-48\"/>\n    </g>\n   </g>\n   <g id=\"text_22\">\n    <!-- 0 -->\n    <g style=\"fill:#ffffff;\" transform=\"translate(121.136875 200.219375)scale(0.1 -0.1)\">\n     <use xlink:href=\"#DejaVuSans-48\"/>\n    </g>\n   </g>\n   <g id=\"text_23\">\n    <!-- 0 -->\n    <g style=\"fill:#ffffff;\" transform=\"translate(188.096875 200.219375)scale(0.1 -0.1)\">\n     <use xlink:href=\"#DejaVuSans-48\"/>\n    </g>\n   </g>\n   <g id=\"text_24\">\n    <!-- 6826 -->\n    <defs>\n     <path d=\"M 31.78125 34.625 \nQ 24.75 34.625 20.71875 30.859375 \nQ 16.703125 27.09375 16.703125 20.515625 \nQ 16.703125 13.921875 20.71875 10.15625 \nQ 24.75 6.390625 31.78125 6.390625 \nQ 38.8125 6.390625 42.859375 10.171875 \nQ 46.921875 13.96875 46.921875 20.515625 \nQ 46.921875 27.09375 42.890625 30.859375 \nQ 38.875 34.625 31.78125 34.625 \nz\nM 21.921875 38.8125 \nQ 15.578125 40.375 12.03125 44.71875 \nQ 8.5 49.078125 8.5 55.328125 \nQ 8.5 64.0625 14.71875 69.140625 \nQ 20.953125 74.21875 31.78125 74.21875 \nQ 42.671875 74.21875 48.875 69.140625 \nQ 55.078125 64.0625 55.078125 55.328125 \nQ 55.078125 49.078125 51.53125 44.71875 \nQ 48 40.375 41.703125 38.8125 \nQ 48.828125 37.15625 52.796875 32.3125 \nQ 56.78125 27.484375 56.78125 20.515625 \nQ 56.78125 9.90625 50.3125 4.234375 \nQ 43.84375 -1.421875 31.78125 -1.421875 \nQ 19.734375 -1.421875 13.25 4.234375 \nQ 6.78125 9.90625 6.78125 20.515625 \nQ 6.78125 27.484375 10.78125 32.3125 \nQ 14.796875 37.15625 21.921875 38.8125 \nz\nM 18.3125 54.390625 \nQ 18.3125 48.734375 21.84375 45.5625 \nQ 25.390625 42.390625 31.78125 42.390625 \nQ 38.140625 42.390625 41.71875 45.5625 \nQ 45.3125 48.734375 45.3125 54.390625 \nQ 45.3125 60.0625 41.71875 63.234375 \nQ 38.140625 66.40625 31.78125 66.40625 \nQ 25.390625 66.40625 21.84375 63.234375 \nQ 18.3125 60.0625 18.3125 54.390625 \nz\n\" id=\"DejaVuSans-56\"/>\n    </defs>\n    <g style=\"fill:#262626;\" transform=\"translate(245.513125 200.219375)scale(0.1 -0.1)\">\n     <use xlink:href=\"#DejaVuSans-54\"/>\n     <use x=\"63.623047\" xlink:href=\"#DejaVuSans-56\"/>\n     <use x=\"127.246094\" xlink:href=\"#DejaVuSans-50\"/>\n     <use x=\"190.869141\" xlink:href=\"#DejaVuSans-54\"/>\n    </g>\n   </g>\n  </g>\n  <g id=\"axes_2\">\n   <g id=\"patch_3\">\n    <path clip-path=\"url(#p316c50b4c0)\" d=\"M 308.458125 224.64 \nL 308.458125 223.790625 \nL 308.458125 8.049375 \nL 308.458125 7.2 \nL 319.330125 7.2 \nL 319.330125 8.049375 \nL 319.330125 223.790625 \nL 319.330125 224.64 \nz\n\" style=\"fill:#ffffff;stroke:#ffffff;stroke-linejoin:miter;stroke-width:0.01;\"/>\n   </g>\n   <image height=\"217\" id=\"image955395afb2\" transform=\"scale(1 -1)translate(0 -217)\" width=\"11\" x=\"308\" xlink:href=\"data:image/png;base64,\niVBORw0KGgoAAAANSUhEUgAAAAsAAADZCAYAAAD2WsoCAAAABHNCSVQICAgIfAhkiAAAAXFJREFUaIHt2MtugzAUhGEbm/at+95tMGTbJd9ipEPVrEdH/1wgSvrXuK528zPPcVfK4gni4yOGUUV8u5M2j88cRhGxpFFlG8BMl9FgCqNIdLk0ljBfWwoDtyGXjRnESwxeZHCnBgUj16BcptUtSePccuOnPYP4NVNDojSwQVodiKekMYS5C/MmzIRhlyUNu9xB3GMG93nKZcDoYhDrlsv9trbNOSgNwojVLZcpurFBGrlSLDoR72KQ6iYMehVsLbU62wYxU4NiMIcxumwjxyyXbfxmEMTUYJHophi0ZzAmppxnW/fF8HddmTS2S76tSGwYJQzaY3WmXgWUhq1OxPOE8dszaMyyurNGGrFSOq0uhrEvScNKEYNymVaHBlPM1mAMYxypuuk7xaJ7YhqrRhpisC3AaMLchBkx5PJL0iCDUneVy5RGEYO0jZzB3ETpMjH/1Bh/LmcymMMocvk/jd9iS+OB4/9+Yt1/O41+tfu/pd8GUktvMhlS3AAAAABJRU5ErkJggg==\" y=\"-7\"/>\n   <g id=\"matplotlib.axis_3\"/>\n   <g id=\"matplotlib.axis_4\">\n    <g id=\"ytick_5\">\n     <g id=\"line2d_9\">\n      <defs>\n       <path d=\"M 0 0 \nL 3.5 0 \n\" id=\"mff61ac885c\" style=\"stroke:#000000;stroke-width:0.8;\"/>\n      </defs>\n      <g>\n       <use style=\"stroke:#000000;stroke-width:0.8;\" x=\"319.330125\" xlink:href=\"#mff61ac885c\" y=\"224.64\"/>\n      </g>\n     </g>\n     <g id=\"text_25\">\n      <!-- 0 -->\n      <g transform=\"translate(326.330125 228.439219)scale(0.1 -0.1)\">\n       <use xlink:href=\"#DejaVuSans-48\"/>\n      </g>\n     </g>\n    </g>\n    <g id=\"ytick_6\">\n     <g id=\"line2d_10\">\n      <g>\n       <use style=\"stroke:#000000;stroke-width:0.8;\" x=\"319.330125\" xlink:href=\"#mff61ac885c\" y=\"199.310332\"/>\n      </g>\n     </g>\n     <g id=\"text_26\">\n      <!-- 2500 -->\n      <defs>\n       <path d=\"M 10.796875 72.90625 \nL 49.515625 72.90625 \nL 49.515625 64.59375 \nL 19.828125 64.59375 \nL 19.828125 46.734375 \nQ 21.96875 47.46875 24.109375 47.828125 \nQ 26.265625 48.1875 28.421875 48.1875 \nQ 40.625 48.1875 47.75 41.5 \nQ 54.890625 34.8125 54.890625 23.390625 \nQ 54.890625 11.625 47.5625 5.09375 \nQ 40.234375 -1.421875 26.90625 -1.421875 \nQ 22.3125 -1.421875 17.546875 -0.640625 \nQ 12.796875 0.140625 7.71875 1.703125 \nL 7.71875 11.625 \nQ 12.109375 9.234375 16.796875 8.0625 \nQ 21.484375 6.890625 26.703125 6.890625 \nQ 35.15625 6.890625 40.078125 11.328125 \nQ 45.015625 15.765625 45.015625 23.390625 \nQ 45.015625 31 40.078125 35.4375 \nQ 35.15625 39.890625 26.703125 39.890625 \nQ 22.75 39.890625 18.8125 39.015625 \nQ 14.890625 38.140625 10.796875 36.28125 \nz\n\" id=\"DejaVuSans-53\"/>\n      </defs>\n      <g transform=\"translate(326.330125 203.109551)scale(0.1 -0.1)\">\n       <use xlink:href=\"#DejaVuSans-50\"/>\n       <use x=\"63.623047\" xlink:href=\"#DejaVuSans-53\"/>\n       <use x=\"127.246094\" xlink:href=\"#DejaVuSans-48\"/>\n       <use x=\"190.869141\" xlink:href=\"#DejaVuSans-48\"/>\n      </g>\n     </g>\n    </g>\n    <g id=\"ytick_7\">\n     <g id=\"line2d_11\">\n      <g>\n       <use style=\"stroke:#000000;stroke-width:0.8;\" x=\"319.330125\" xlink:href=\"#mff61ac885c\" y=\"173.980664\"/>\n      </g>\n     </g>\n     <g id=\"text_27\">\n      <!-- 5000 -->\n      <g transform=\"translate(326.330125 177.779883)scale(0.1 -0.1)\">\n       <use xlink:href=\"#DejaVuSans-53\"/>\n       <use x=\"63.623047\" xlink:href=\"#DejaVuSans-48\"/>\n       <use x=\"127.246094\" xlink:href=\"#DejaVuSans-48\"/>\n       <use x=\"190.869141\" xlink:href=\"#DejaVuSans-48\"/>\n      </g>\n     </g>\n    </g>\n    <g id=\"ytick_8\">\n     <g id=\"line2d_12\">\n      <g>\n       <use style=\"stroke:#000000;stroke-width:0.8;\" x=\"319.330125\" xlink:href=\"#mff61ac885c\" y=\"148.650997\"/>\n      </g>\n     </g>\n     <g id=\"text_28\">\n      <!-- 7500 -->\n      <g transform=\"translate(326.330125 152.450215)scale(0.1 -0.1)\">\n       <use xlink:href=\"#DejaVuSans-55\"/>\n       <use x=\"63.623047\" xlink:href=\"#DejaVuSans-53\"/>\n       <use x=\"127.246094\" xlink:href=\"#DejaVuSans-48\"/>\n       <use x=\"190.869141\" xlink:href=\"#DejaVuSans-48\"/>\n      </g>\n     </g>\n    </g>\n    <g id=\"ytick_9\">\n     <g id=\"line2d_13\">\n      <g>\n       <use style=\"stroke:#000000;stroke-width:0.8;\" x=\"319.330125\" xlink:href=\"#mff61ac885c\" y=\"123.321329\"/>\n      </g>\n     </g>\n     <g id=\"text_29\">\n      <!-- 10000 -->\n      <g transform=\"translate(326.330125 127.120548)scale(0.1 -0.1)\">\n       <use xlink:href=\"#DejaVuSans-49\"/>\n       <use x=\"63.623047\" xlink:href=\"#DejaVuSans-48\"/>\n       <use x=\"127.246094\" xlink:href=\"#DejaVuSans-48\"/>\n       <use x=\"190.869141\" xlink:href=\"#DejaVuSans-48\"/>\n       <use x=\"254.492188\" xlink:href=\"#DejaVuSans-48\"/>\n      </g>\n     </g>\n    </g>\n    <g id=\"ytick_10\">\n     <g id=\"line2d_14\">\n      <g>\n       <use style=\"stroke:#000000;stroke-width:0.8;\" x=\"319.330125\" xlink:href=\"#mff61ac885c\" y=\"97.991661\"/>\n      </g>\n     </g>\n     <g id=\"text_30\">\n      <!-- 12500 -->\n      <g transform=\"translate(326.330125 101.79088)scale(0.1 -0.1)\">\n       <use xlink:href=\"#DejaVuSans-49\"/>\n       <use x=\"63.623047\" xlink:href=\"#DejaVuSans-50\"/>\n       <use x=\"127.246094\" xlink:href=\"#DejaVuSans-53\"/>\n       <use x=\"190.869141\" xlink:href=\"#DejaVuSans-48\"/>\n       <use x=\"254.492188\" xlink:href=\"#DejaVuSans-48\"/>\n      </g>\n     </g>\n    </g>\n    <g id=\"ytick_11\">\n     <g id=\"line2d_15\">\n      <g>\n       <use style=\"stroke:#000000;stroke-width:0.8;\" x=\"319.330125\" xlink:href=\"#mff61ac885c\" y=\"72.661993\"/>\n      </g>\n     </g>\n     <g id=\"text_31\">\n      <!-- 15000 -->\n      <g transform=\"translate(326.330125 76.461212)scale(0.1 -0.1)\">\n       <use xlink:href=\"#DejaVuSans-49\"/>\n       <use x=\"63.623047\" xlink:href=\"#DejaVuSans-53\"/>\n       <use x=\"127.246094\" xlink:href=\"#DejaVuSans-48\"/>\n       <use x=\"190.869141\" xlink:href=\"#DejaVuSans-48\"/>\n       <use x=\"254.492188\" xlink:href=\"#DejaVuSans-48\"/>\n      </g>\n     </g>\n    </g>\n    <g id=\"ytick_12\">\n     <g id=\"line2d_16\">\n      <g>\n       <use style=\"stroke:#000000;stroke-width:0.8;\" x=\"319.330125\" xlink:href=\"#mff61ac885c\" y=\"47.332326\"/>\n      </g>\n     </g>\n     <g id=\"text_32\">\n      <!-- 17500 -->\n      <g transform=\"translate(326.330125 51.131544)scale(0.1 -0.1)\">\n       <use xlink:href=\"#DejaVuSans-49\"/>\n       <use x=\"63.623047\" xlink:href=\"#DejaVuSans-55\"/>\n       <use x=\"127.246094\" xlink:href=\"#DejaVuSans-53\"/>\n       <use x=\"190.869141\" xlink:href=\"#DejaVuSans-48\"/>\n       <use x=\"254.492188\" xlink:href=\"#DejaVuSans-48\"/>\n      </g>\n     </g>\n    </g>\n    <g id=\"ytick_13\">\n     <g id=\"line2d_17\">\n      <g>\n       <use style=\"stroke:#000000;stroke-width:0.8;\" x=\"319.330125\" xlink:href=\"#mff61ac885c\" y=\"22.002658\"/>\n      </g>\n     </g>\n     <g id=\"text_33\">\n      <!-- 20000 -->\n      <g transform=\"translate(326.330125 25.801877)scale(0.1 -0.1)\">\n       <use xlink:href=\"#DejaVuSans-50\"/>\n       <use x=\"63.623047\" xlink:href=\"#DejaVuSans-48\"/>\n       <use x=\"127.246094\" xlink:href=\"#DejaVuSans-48\"/>\n       <use x=\"190.869141\" xlink:href=\"#DejaVuSans-48\"/>\n       <use x=\"254.492188\" xlink:href=\"#DejaVuSans-48\"/>\n      </g>\n     </g>\n    </g>\n   </g>\n   <g id=\"patch_4\">\n    <path d=\"M 308.458125 224.64 \nL 308.458125 223.790625 \nL 308.458125 8.049375 \nL 308.458125 7.2 \nL 319.330125 7.2 \nL 319.330125 8.049375 \nL 319.330125 223.790625 \nL 319.330125 224.64 \nz\n\" style=\"fill:none;\"/>\n   </g>\n  </g>\n </g>\n <defs>\n  <clipPath id=\"p5bb8bd9d0a\">\n   <rect height=\"217.44\" width=\"267.84\" x=\"23.878125\" y=\"7.2\"/>\n  </clipPath>\n  <clipPath id=\"p316c50b4c0\">\n   <rect height=\"217.44\" width=\"10.872\" x=\"308.458125\" y=\"7.2\"/>\n  </clipPath>\n </defs>\n</svg>\n"
          },
          "metadata": {
            "needs_background": "light"
          }
        }
      ]
    },
    {
      "cell_type": "code",
      "source": [
        "import seaborn as sns\n",
        "df_cnf_matrix = pd.DataFrame(matrix, index = ({'Backward':0,'Dampen':1,'Forward':2,'Lateral':3}), columns = ({'Backward':0,'Dampen':1,'Forward':2,'Lateral':3}))\n",
        "sns.heatmap(df_cnf_matrix, annot=True, fmt='d',  cmap=plt.cm.rainbow)"
      ],
      "metadata": {
        "colab": {
          "base_uri": "https://localhost:8080/",
          "height": 370
        },
        "id": "NOLKFdU1Q4p4",
        "outputId": "f44aaf36-4231-4c92-e891-9e7f00c4190c"
      },
      "execution_count": 27,
      "outputs": [
        {
          "output_type": "execute_result",
          "data": {
            "text/plain": [
              "<matplotlib.axes._subplots.AxesSubplot at 0x7fbe9dfac550>"
            ]
          },
          "metadata": {},
          "execution_count": 27
        },
        {
          "output_type": "display_data",
          "data": {
            "text/plain": [
              "<Figure size 432x288 with 2 Axes>"
            ],
            "image/svg+xml": "<?xml version=\"1.0\" encoding=\"utf-8\" standalone=\"no\"?>\n<!DOCTYPE svg PUBLIC \"-//W3C//DTD SVG 1.1//EN\"\n  \"http://www.w3.org/Graphics/SVG/1.1/DTD/svg11.dtd\">\n<!-- Created with matplotlib (https://matplotlib.org/) -->\n<svg height=\"248.518125pt\" version=\"1.1\" viewBox=\"0 0 365.342625 248.518125\" width=\"365.342625pt\" xmlns=\"http://www.w3.org/2000/svg\" xmlns:xlink=\"http://www.w3.org/1999/xlink\">\n <defs>\n  <style type=\"text/css\">\n*{stroke-linecap:butt;stroke-linejoin:round;}\n  </style>\n </defs>\n <g id=\"figure_1\">\n  <g id=\"patch_1\">\n   <path d=\"M 0 248.518125 \nL 365.342625 248.518125 \nL 365.342625 0 \nL 0 0 \nz\n\" style=\"fill:none;\"/>\n  </g>\n  <g id=\"axes_1\">\n   <g id=\"patch_2\">\n    <path d=\"M 23.878125 224.64 \nL 291.718125 224.64 \nL 291.718125 7.2 \nL 23.878125 7.2 \nz\n\" style=\"fill:#ffffff;\"/>\n   </g>\n   <g id=\"QuadMesh_1\">\n    <path clip-path=\"url(#p3c6e3ddf82)\" d=\"M 23.878125 7.2 \nL 90.838125 7.2 \nL 90.838125 61.56 \nL 23.878125 61.56 \nL 23.878125 7.2 \n\" style=\"fill:#10a2f0;\"/>\n    <path clip-path=\"url(#p3c6e3ddf82)\" d=\"M 90.838125 7.2 \nL 157.798125 7.2 \nL 157.798125 61.56 \nL 90.838125 61.56 \nL 90.838125 7.2 \n\" style=\"fill:#8000ff;\"/>\n    <path clip-path=\"url(#p3c6e3ddf82)\" d=\"M 157.798125 7.2 \nL 224.758125 7.2 \nL 224.758125 61.56 \nL 157.798125 61.56 \nL 157.798125 7.2 \n\" style=\"fill:#8000ff;\"/>\n    <path clip-path=\"url(#p3c6e3ddf82)\" d=\"M 224.758125 7.2 \nL 291.718125 7.2 \nL 291.718125 61.56 \nL 224.758125 61.56 \nL 224.758125 7.2 \n\" style=\"fill:#8000ff;\"/>\n    <path clip-path=\"url(#p3c6e3ddf82)\" d=\"M 23.878125 61.56 \nL 90.838125 61.56 \nL 90.838125 115.92 \nL 23.878125 115.92 \nL 23.878125 61.56 \n\" style=\"fill:#8000ff;\"/>\n    <path clip-path=\"url(#p3c6e3ddf82)\" d=\"M 90.838125 61.56 \nL 157.798125 61.56 \nL 157.798125 115.92 \nL 90.838125 115.92 \nL 90.838125 61.56 \n\" style=\"fill:#5a3bfd;\"/>\n    <path clip-path=\"url(#p3c6e3ddf82)\" d=\"M 157.798125 61.56 \nL 224.758125 61.56 \nL 224.758125 115.92 \nL 157.798125 115.92 \nL 157.798125 61.56 \n\" style=\"fill:#8000ff;\"/>\n    <path clip-path=\"url(#p3c6e3ddf82)\" d=\"M 224.758125 61.56 \nL 291.718125 61.56 \nL 291.718125 115.92 \nL 224.758125 115.92 \nL 224.758125 61.56 \n\" style=\"fill:#8000ff;\"/>\n    <path clip-path=\"url(#p3c6e3ddf82)\" d=\"M 23.878125 115.92 \nL 90.838125 115.92 \nL 90.838125 170.28 \nL 23.878125 170.28 \nL 23.878125 115.92 \n\" style=\"fill:#8000ff;\"/>\n    <path clip-path=\"url(#p3c6e3ddf82)\" d=\"M 90.838125 115.92 \nL 157.798125 115.92 \nL 157.798125 170.28 \nL 90.838125 170.28 \nL 90.838125 115.92 \n\" style=\"fill:#8000ff;\"/>\n    <path clip-path=\"url(#p3c6e3ddf82)\" d=\"M 157.798125 115.92 \nL 224.758125 115.92 \nL 224.758125 170.28 \nL 157.798125 170.28 \nL 157.798125 115.92 \n\" style=\"fill:#ff0000;\"/>\n    <path clip-path=\"url(#p3c6e3ddf82)\" d=\"M 224.758125 115.92 \nL 291.718125 115.92 \nL 291.718125 170.28 \nL 224.758125 170.28 \nL 224.758125 115.92 \n\" style=\"fill:#8000ff;\"/>\n    <path clip-path=\"url(#p3c6e3ddf82)\" d=\"M 23.878125 170.28 \nL 90.838125 170.28 \nL 90.838125 224.64 \nL 23.878125 224.64 \nL 23.878125 170.28 \n\" style=\"fill:#8000ff;\"/>\n    <path clip-path=\"url(#p3c6e3ddf82)\" d=\"M 90.838125 170.28 \nL 157.798125 170.28 \nL 157.798125 224.64 \nL 90.838125 224.64 \nL 90.838125 170.28 \n\" style=\"fill:#8000ff;\"/>\n    <path clip-path=\"url(#p3c6e3ddf82)\" d=\"M 157.798125 170.28 \nL 224.758125 170.28 \nL 224.758125 224.64 \nL 157.798125 224.64 \nL 157.798125 170.28 \n\" style=\"fill:#8000ff;\"/>\n    <path clip-path=\"url(#p3c6e3ddf82)\" d=\"M 224.758125 170.28 \nL 291.718125 170.28 \nL 291.718125 224.64 \nL 224.758125 224.64 \nL 224.758125 170.28 \n\" style=\"fill:#22d6e0;\"/>\n   </g>\n   <g id=\"matplotlib.axis_1\">\n    <g id=\"xtick_1\">\n     <g id=\"line2d_1\">\n      <defs>\n       <path d=\"M 0 0 \nL 0 3.5 \n\" id=\"mf5191fc490\" style=\"stroke:#000000;stroke-width:0.8;\"/>\n      </defs>\n      <g>\n       <use style=\"stroke:#000000;stroke-width:0.8;\" x=\"57.358125\" xlink:href=\"#mf5191fc490\" y=\"224.64\"/>\n      </g>\n     </g>\n     <g id=\"text_1\">\n      <!-- Backward -->\n      <defs>\n       <path d=\"M 19.671875 34.8125 \nL 19.671875 8.109375 \nL 35.5 8.109375 \nQ 43.453125 8.109375 47.28125 11.40625 \nQ 51.125 14.703125 51.125 21.484375 \nQ 51.125 28.328125 47.28125 31.5625 \nQ 43.453125 34.8125 35.5 34.8125 \nz\nM 19.671875 64.796875 \nL 19.671875 42.828125 \nL 34.28125 42.828125 \nQ 41.5 42.828125 45.03125 45.53125 \nQ 48.578125 48.25 48.578125 53.8125 \nQ 48.578125 59.328125 45.03125 62.0625 \nQ 41.5 64.796875 34.28125 64.796875 \nz\nM 9.8125 72.90625 \nL 35.015625 72.90625 \nQ 46.296875 72.90625 52.390625 68.21875 \nQ 58.5 63.53125 58.5 54.890625 \nQ 58.5 48.1875 55.375 44.234375 \nQ 52.25 40.28125 46.1875 39.3125 \nQ 53.46875 37.75 57.5 32.78125 \nQ 61.53125 27.828125 61.53125 20.40625 \nQ 61.53125 10.640625 54.890625 5.3125 \nQ 48.25 0 35.984375 0 \nL 9.8125 0 \nz\n\" id=\"DejaVuSans-66\"/>\n       <path d=\"M 34.28125 27.484375 \nQ 23.390625 27.484375 19.1875 25 \nQ 14.984375 22.515625 14.984375 16.5 \nQ 14.984375 11.71875 18.140625 8.90625 \nQ 21.296875 6.109375 26.703125 6.109375 \nQ 34.1875 6.109375 38.703125 11.40625 \nQ 43.21875 16.703125 43.21875 25.484375 \nL 43.21875 27.484375 \nz\nM 52.203125 31.203125 \nL 52.203125 0 \nL 43.21875 0 \nL 43.21875 8.296875 \nQ 40.140625 3.328125 35.546875 0.953125 \nQ 30.953125 -1.421875 24.3125 -1.421875 \nQ 15.921875 -1.421875 10.953125 3.296875 \nQ 6 8.015625 6 15.921875 \nQ 6 25.140625 12.171875 29.828125 \nQ 18.359375 34.515625 30.609375 34.515625 \nL 43.21875 34.515625 \nL 43.21875 35.40625 \nQ 43.21875 41.609375 39.140625 45 \nQ 35.0625 48.390625 27.6875 48.390625 \nQ 23 48.390625 18.546875 47.265625 \nQ 14.109375 46.140625 10.015625 43.890625 \nL 10.015625 52.203125 \nQ 14.9375 54.109375 19.578125 55.046875 \nQ 24.21875 56 28.609375 56 \nQ 40.484375 56 46.34375 49.84375 \nQ 52.203125 43.703125 52.203125 31.203125 \nz\n\" id=\"DejaVuSans-97\"/>\n       <path d=\"M 48.78125 52.59375 \nL 48.78125 44.1875 \nQ 44.96875 46.296875 41.140625 47.34375 \nQ 37.3125 48.390625 33.40625 48.390625 \nQ 24.65625 48.390625 19.8125 42.84375 \nQ 14.984375 37.3125 14.984375 27.296875 \nQ 14.984375 17.28125 19.8125 11.734375 \nQ 24.65625 6.203125 33.40625 6.203125 \nQ 37.3125 6.203125 41.140625 7.25 \nQ 44.96875 8.296875 48.78125 10.40625 \nL 48.78125 2.09375 \nQ 45.015625 0.34375 40.984375 -0.53125 \nQ 36.96875 -1.421875 32.421875 -1.421875 \nQ 20.0625 -1.421875 12.78125 6.34375 \nQ 5.515625 14.109375 5.515625 27.296875 \nQ 5.515625 40.671875 12.859375 48.328125 \nQ 20.21875 56 33.015625 56 \nQ 37.15625 56 41.109375 55.140625 \nQ 45.0625 54.296875 48.78125 52.59375 \nz\n\" id=\"DejaVuSans-99\"/>\n       <path d=\"M 9.078125 75.984375 \nL 18.109375 75.984375 \nL 18.109375 31.109375 \nL 44.921875 54.6875 \nL 56.390625 54.6875 \nL 27.390625 29.109375 \nL 57.625 0 \nL 45.90625 0 \nL 18.109375 26.703125 \nL 18.109375 0 \nL 9.078125 0 \nz\n\" id=\"DejaVuSans-107\"/>\n       <path d=\"M 4.203125 54.6875 \nL 13.1875 54.6875 \nL 24.421875 12.015625 \nL 35.59375 54.6875 \nL 46.1875 54.6875 \nL 57.421875 12.015625 \nL 68.609375 54.6875 \nL 77.59375 54.6875 \nL 63.28125 0 \nL 52.6875 0 \nL 40.921875 44.828125 \nL 29.109375 0 \nL 18.5 0 \nz\n\" id=\"DejaVuSans-119\"/>\n       <path d=\"M 41.109375 46.296875 \nQ 39.59375 47.171875 37.8125 47.578125 \nQ 36.03125 48 33.890625 48 \nQ 26.265625 48 22.1875 43.046875 \nQ 18.109375 38.09375 18.109375 28.8125 \nL 18.109375 0 \nL 9.078125 0 \nL 9.078125 54.6875 \nL 18.109375 54.6875 \nL 18.109375 46.1875 \nQ 20.953125 51.171875 25.484375 53.578125 \nQ 30.03125 56 36.53125 56 \nQ 37.453125 56 38.578125 55.875 \nQ 39.703125 55.765625 41.0625 55.515625 \nz\n\" id=\"DejaVuSans-114\"/>\n       <path d=\"M 45.40625 46.390625 \nL 45.40625 75.984375 \nL 54.390625 75.984375 \nL 54.390625 0 \nL 45.40625 0 \nL 45.40625 8.203125 \nQ 42.578125 3.328125 38.25 0.953125 \nQ 33.9375 -1.421875 27.875 -1.421875 \nQ 17.96875 -1.421875 11.734375 6.484375 \nQ 5.515625 14.40625 5.515625 27.296875 \nQ 5.515625 40.1875 11.734375 48.09375 \nQ 17.96875 56 27.875 56 \nQ 33.9375 56 38.25 53.625 \nQ 42.578125 51.265625 45.40625 46.390625 \nz\nM 14.796875 27.296875 \nQ 14.796875 17.390625 18.875 11.75 \nQ 22.953125 6.109375 30.078125 6.109375 \nQ 37.203125 6.109375 41.296875 11.75 \nQ 45.40625 17.390625 45.40625 27.296875 \nQ 45.40625 37.203125 41.296875 42.84375 \nQ 37.203125 48.484375 30.078125 48.484375 \nQ 22.953125 48.484375 18.875 42.84375 \nQ 14.796875 37.203125 14.796875 27.296875 \nz\n\" id=\"DejaVuSans-100\"/>\n      </defs>\n      <g transform=\"translate(32.92375 239.238437)scale(0.1 -0.1)\">\n       <use xlink:href=\"#DejaVuSans-66\"/>\n       <use x=\"68.603516\" xlink:href=\"#DejaVuSans-97\"/>\n       <use x=\"129.882812\" xlink:href=\"#DejaVuSans-99\"/>\n       <use x=\"184.863281\" xlink:href=\"#DejaVuSans-107\"/>\n       <use x=\"242.773438\" xlink:href=\"#DejaVuSans-119\"/>\n       <use x=\"324.560547\" xlink:href=\"#DejaVuSans-97\"/>\n       <use x=\"385.839844\" xlink:href=\"#DejaVuSans-114\"/>\n       <use x=\"425.203125\" xlink:href=\"#DejaVuSans-100\"/>\n      </g>\n     </g>\n    </g>\n    <g id=\"xtick_2\">\n     <g id=\"line2d_2\">\n      <g>\n       <use style=\"stroke:#000000;stroke-width:0.8;\" x=\"124.318125\" xlink:href=\"#mf5191fc490\" y=\"224.64\"/>\n      </g>\n     </g>\n     <g id=\"text_2\">\n      <!-- Dampen -->\n      <defs>\n       <path d=\"M 19.671875 64.796875 \nL 19.671875 8.109375 \nL 31.59375 8.109375 \nQ 46.6875 8.109375 53.6875 14.9375 \nQ 60.6875 21.78125 60.6875 36.53125 \nQ 60.6875 51.171875 53.6875 57.984375 \nQ 46.6875 64.796875 31.59375 64.796875 \nz\nM 9.8125 72.90625 \nL 30.078125 72.90625 \nQ 51.265625 72.90625 61.171875 64.09375 \nQ 71.09375 55.28125 71.09375 36.53125 \nQ 71.09375 17.671875 61.125 8.828125 \nQ 51.171875 0 30.078125 0 \nL 9.8125 0 \nz\n\" id=\"DejaVuSans-68\"/>\n       <path d=\"M 52 44.1875 \nQ 55.375 50.25 60.0625 53.125 \nQ 64.75 56 71.09375 56 \nQ 79.640625 56 84.28125 50.015625 \nQ 88.921875 44.046875 88.921875 33.015625 \nL 88.921875 0 \nL 79.890625 0 \nL 79.890625 32.71875 \nQ 79.890625 40.578125 77.09375 44.375 \nQ 74.3125 48.1875 68.609375 48.1875 \nQ 61.625 48.1875 57.5625 43.546875 \nQ 53.515625 38.921875 53.515625 30.90625 \nL 53.515625 0 \nL 44.484375 0 \nL 44.484375 32.71875 \nQ 44.484375 40.625 41.703125 44.40625 \nQ 38.921875 48.1875 33.109375 48.1875 \nQ 26.21875 48.1875 22.15625 43.53125 \nQ 18.109375 38.875 18.109375 30.90625 \nL 18.109375 0 \nL 9.078125 0 \nL 9.078125 54.6875 \nL 18.109375 54.6875 \nL 18.109375 46.1875 \nQ 21.1875 51.21875 25.484375 53.609375 \nQ 29.78125 56 35.6875 56 \nQ 41.65625 56 45.828125 52.96875 \nQ 50 49.953125 52 44.1875 \nz\n\" id=\"DejaVuSans-109\"/>\n       <path d=\"M 18.109375 8.203125 \nL 18.109375 -20.796875 \nL 9.078125 -20.796875 \nL 9.078125 54.6875 \nL 18.109375 54.6875 \nL 18.109375 46.390625 \nQ 20.953125 51.265625 25.265625 53.625 \nQ 29.59375 56 35.59375 56 \nQ 45.5625 56 51.78125 48.09375 \nQ 58.015625 40.1875 58.015625 27.296875 \nQ 58.015625 14.40625 51.78125 6.484375 \nQ 45.5625 -1.421875 35.59375 -1.421875 \nQ 29.59375 -1.421875 25.265625 0.953125 \nQ 20.953125 3.328125 18.109375 8.203125 \nz\nM 48.6875 27.296875 \nQ 48.6875 37.203125 44.609375 42.84375 \nQ 40.53125 48.484375 33.40625 48.484375 \nQ 26.265625 48.484375 22.1875 42.84375 \nQ 18.109375 37.203125 18.109375 27.296875 \nQ 18.109375 17.390625 22.1875 11.75 \nQ 26.265625 6.109375 33.40625 6.109375 \nQ 40.53125 6.109375 44.609375 11.75 \nQ 48.6875 17.390625 48.6875 27.296875 \nz\n\" id=\"DejaVuSans-112\"/>\n       <path d=\"M 56.203125 29.59375 \nL 56.203125 25.203125 \nL 14.890625 25.203125 \nQ 15.484375 15.921875 20.484375 11.0625 \nQ 25.484375 6.203125 34.421875 6.203125 \nQ 39.59375 6.203125 44.453125 7.46875 \nQ 49.3125 8.734375 54.109375 11.28125 \nL 54.109375 2.78125 \nQ 49.265625 0.734375 44.1875 -0.34375 \nQ 39.109375 -1.421875 33.890625 -1.421875 \nQ 20.796875 -1.421875 13.15625 6.1875 \nQ 5.515625 13.8125 5.515625 26.8125 \nQ 5.515625 40.234375 12.765625 48.109375 \nQ 20.015625 56 32.328125 56 \nQ 43.359375 56 49.78125 48.890625 \nQ 56.203125 41.796875 56.203125 29.59375 \nz\nM 47.21875 32.234375 \nQ 47.125 39.59375 43.09375 43.984375 \nQ 39.0625 48.390625 32.421875 48.390625 \nQ 24.90625 48.390625 20.390625 44.140625 \nQ 15.875 39.890625 15.1875 32.171875 \nz\n\" id=\"DejaVuSans-101\"/>\n       <path d=\"M 54.890625 33.015625 \nL 54.890625 0 \nL 45.90625 0 \nL 45.90625 32.71875 \nQ 45.90625 40.484375 42.875 44.328125 \nQ 39.84375 48.1875 33.796875 48.1875 \nQ 26.515625 48.1875 22.3125 43.546875 \nQ 18.109375 38.921875 18.109375 30.90625 \nL 18.109375 0 \nL 9.078125 0 \nL 9.078125 54.6875 \nL 18.109375 54.6875 \nL 18.109375 46.1875 \nQ 21.34375 51.125 25.703125 53.5625 \nQ 30.078125 56 35.796875 56 \nQ 45.21875 56 50.046875 50.171875 \nQ 54.890625 44.34375 54.890625 33.015625 \nz\n\" id=\"DejaVuSans-110\"/>\n      </defs>\n      <g transform=\"translate(103.114219 239.238437)scale(0.1 -0.1)\">\n       <use xlink:href=\"#DejaVuSans-68\"/>\n       <use x=\"77.001953\" xlink:href=\"#DejaVuSans-97\"/>\n       <use x=\"138.28125\" xlink:href=\"#DejaVuSans-109\"/>\n       <use x=\"235.693359\" xlink:href=\"#DejaVuSans-112\"/>\n       <use x=\"299.169922\" xlink:href=\"#DejaVuSans-101\"/>\n       <use x=\"360.693359\" xlink:href=\"#DejaVuSans-110\"/>\n      </g>\n     </g>\n    </g>\n    <g id=\"xtick_3\">\n     <g id=\"line2d_3\">\n      <g>\n       <use style=\"stroke:#000000;stroke-width:0.8;\" x=\"191.278125\" xlink:href=\"#mf5191fc490\" y=\"224.64\"/>\n      </g>\n     </g>\n     <g id=\"text_3\">\n      <!-- Forward -->\n      <defs>\n       <path d=\"M 9.8125 72.90625 \nL 51.703125 72.90625 \nL 51.703125 64.59375 \nL 19.671875 64.59375 \nL 19.671875 43.109375 \nL 48.578125 43.109375 \nL 48.578125 34.8125 \nL 19.671875 34.8125 \nL 19.671875 0 \nL 9.8125 0 \nz\n\" id=\"DejaVuSans-70\"/>\n       <path d=\"M 30.609375 48.390625 \nQ 23.390625 48.390625 19.1875 42.75 \nQ 14.984375 37.109375 14.984375 27.296875 \nQ 14.984375 17.484375 19.15625 11.84375 \nQ 23.34375 6.203125 30.609375 6.203125 \nQ 37.796875 6.203125 41.984375 11.859375 \nQ 46.1875 17.53125 46.1875 27.296875 \nQ 46.1875 37.015625 41.984375 42.703125 \nQ 37.796875 48.390625 30.609375 48.390625 \nz\nM 30.609375 56 \nQ 42.328125 56 49.015625 48.375 \nQ 55.71875 40.765625 55.71875 27.296875 \nQ 55.71875 13.875 49.015625 6.21875 \nQ 42.328125 -1.421875 30.609375 -1.421875 \nQ 18.84375 -1.421875 12.171875 6.21875 \nQ 5.515625 13.875 5.515625 27.296875 \nQ 5.515625 40.765625 12.171875 48.375 \nQ 18.84375 56 30.609375 56 \nz\n\" id=\"DejaVuSans-111\"/>\n      </defs>\n      <g transform=\"translate(171.173438 239.238437)scale(0.1 -0.1)\">\n       <use xlink:href=\"#DejaVuSans-70\"/>\n       <use x=\"53.894531\" xlink:href=\"#DejaVuSans-111\"/>\n       <use x=\"115.076172\" xlink:href=\"#DejaVuSans-114\"/>\n       <use x=\"156.189453\" xlink:href=\"#DejaVuSans-119\"/>\n       <use x=\"237.976562\" xlink:href=\"#DejaVuSans-97\"/>\n       <use x=\"299.255859\" xlink:href=\"#DejaVuSans-114\"/>\n       <use x=\"338.619141\" xlink:href=\"#DejaVuSans-100\"/>\n      </g>\n     </g>\n    </g>\n    <g id=\"xtick_4\">\n     <g id=\"line2d_4\">\n      <g>\n       <use style=\"stroke:#000000;stroke-width:0.8;\" x=\"258.238125\" xlink:href=\"#mf5191fc490\" y=\"224.64\"/>\n      </g>\n     </g>\n     <g id=\"text_4\">\n      <!-- Lateral -->\n      <defs>\n       <path d=\"M 9.8125 72.90625 \nL 19.671875 72.90625 \nL 19.671875 8.296875 \nL 55.171875 8.296875 \nL 55.171875 0 \nL 9.8125 0 \nz\n\" id=\"DejaVuSans-76\"/>\n       <path d=\"M 18.3125 70.21875 \nL 18.3125 54.6875 \nL 36.8125 54.6875 \nL 36.8125 47.703125 \nL 18.3125 47.703125 \nL 18.3125 18.015625 \nQ 18.3125 11.328125 20.140625 9.421875 \nQ 21.96875 7.515625 27.59375 7.515625 \nL 36.8125 7.515625 \nL 36.8125 0 \nL 27.59375 0 \nQ 17.1875 0 13.234375 3.875 \nQ 9.28125 7.765625 9.28125 18.015625 \nL 9.28125 47.703125 \nL 2.6875 47.703125 \nL 2.6875 54.6875 \nL 9.28125 54.6875 \nL 9.28125 70.21875 \nz\n\" id=\"DejaVuSans-116\"/>\n       <path d=\"M 9.421875 75.984375 \nL 18.40625 75.984375 \nL 18.40625 0 \nL 9.421875 0 \nz\n\" id=\"DejaVuSans-108\"/>\n      </defs>\n      <g transform=\"translate(240.842813 239.238437)scale(0.1 -0.1)\">\n       <use xlink:href=\"#DejaVuSans-76\"/>\n       <use x=\"55.712891\" xlink:href=\"#DejaVuSans-97\"/>\n       <use x=\"116.992188\" xlink:href=\"#DejaVuSans-116\"/>\n       <use x=\"156.201172\" xlink:href=\"#DejaVuSans-101\"/>\n       <use x=\"217.724609\" xlink:href=\"#DejaVuSans-114\"/>\n       <use x=\"258.837891\" xlink:href=\"#DejaVuSans-97\"/>\n       <use x=\"320.117188\" xlink:href=\"#DejaVuSans-108\"/>\n      </g>\n     </g>\n    </g>\n   </g>\n   <g id=\"matplotlib.axis_2\">\n    <g id=\"ytick_1\">\n     <g id=\"line2d_5\">\n      <defs>\n       <path d=\"M 0 0 \nL -3.5 0 \n\" id=\"m09a4aab4b6\" style=\"stroke:#000000;stroke-width:0.8;\"/>\n      </defs>\n      <g>\n       <use style=\"stroke:#000000;stroke-width:0.8;\" x=\"23.878125\" xlink:href=\"#m09a4aab4b6\" y=\"34.38\"/>\n      </g>\n     </g>\n     <g id=\"text_5\">\n      <!-- Backward -->\n      <g transform=\"translate(14.798438 58.814375)rotate(-90)scale(0.1 -0.1)\">\n       <use xlink:href=\"#DejaVuSans-66\"/>\n       <use x=\"68.603516\" xlink:href=\"#DejaVuSans-97\"/>\n       <use x=\"129.882812\" xlink:href=\"#DejaVuSans-99\"/>\n       <use x=\"184.863281\" xlink:href=\"#DejaVuSans-107\"/>\n       <use x=\"242.773438\" xlink:href=\"#DejaVuSans-119\"/>\n       <use x=\"324.560547\" xlink:href=\"#DejaVuSans-97\"/>\n       <use x=\"385.839844\" xlink:href=\"#DejaVuSans-114\"/>\n       <use x=\"425.203125\" xlink:href=\"#DejaVuSans-100\"/>\n      </g>\n     </g>\n    </g>\n    <g id=\"ytick_2\">\n     <g id=\"line2d_6\">\n      <g>\n       <use style=\"stroke:#000000;stroke-width:0.8;\" x=\"23.878125\" xlink:href=\"#m09a4aab4b6\" y=\"88.74\"/>\n      </g>\n     </g>\n     <g id=\"text_6\">\n      <!-- Dampen -->\n      <g transform=\"translate(14.798438 109.943906)rotate(-90)scale(0.1 -0.1)\">\n       <use xlink:href=\"#DejaVuSans-68\"/>\n       <use x=\"77.001953\" xlink:href=\"#DejaVuSans-97\"/>\n       <use x=\"138.28125\" xlink:href=\"#DejaVuSans-109\"/>\n       <use x=\"235.693359\" xlink:href=\"#DejaVuSans-112\"/>\n       <use x=\"299.169922\" xlink:href=\"#DejaVuSans-101\"/>\n       <use x=\"360.693359\" xlink:href=\"#DejaVuSans-110\"/>\n      </g>\n     </g>\n    </g>\n    <g id=\"ytick_3\">\n     <g id=\"line2d_7\">\n      <g>\n       <use style=\"stroke:#000000;stroke-width:0.8;\" x=\"23.878125\" xlink:href=\"#m09a4aab4b6\" y=\"143.1\"/>\n      </g>\n     </g>\n     <g id=\"text_7\">\n      <!-- Forward -->\n      <g transform=\"translate(14.798438 163.204687)rotate(-90)scale(0.1 -0.1)\">\n       <use xlink:href=\"#DejaVuSans-70\"/>\n       <use x=\"53.894531\" xlink:href=\"#DejaVuSans-111\"/>\n       <use x=\"115.076172\" xlink:href=\"#DejaVuSans-114\"/>\n       <use x=\"156.189453\" xlink:href=\"#DejaVuSans-119\"/>\n       <use x=\"237.976562\" xlink:href=\"#DejaVuSans-97\"/>\n       <use x=\"299.255859\" xlink:href=\"#DejaVuSans-114\"/>\n       <use x=\"338.619141\" xlink:href=\"#DejaVuSans-100\"/>\n      </g>\n     </g>\n    </g>\n    <g id=\"ytick_4\">\n     <g id=\"line2d_8\">\n      <g>\n       <use style=\"stroke:#000000;stroke-width:0.8;\" x=\"23.878125\" xlink:href=\"#m09a4aab4b6\" y=\"197.46\"/>\n      </g>\n     </g>\n     <g id=\"text_8\">\n      <!-- Lateral -->\n      <g transform=\"translate(14.798438 214.855312)rotate(-90)scale(0.1 -0.1)\">\n       <use xlink:href=\"#DejaVuSans-76\"/>\n       <use x=\"55.712891\" xlink:href=\"#DejaVuSans-97\"/>\n       <use x=\"116.992188\" xlink:href=\"#DejaVuSans-116\"/>\n       <use x=\"156.201172\" xlink:href=\"#DejaVuSans-101\"/>\n       <use x=\"217.724609\" xlink:href=\"#DejaVuSans-114\"/>\n       <use x=\"258.837891\" xlink:href=\"#DejaVuSans-97\"/>\n       <use x=\"320.117188\" xlink:href=\"#DejaVuSans-108\"/>\n      </g>\n     </g>\n    </g>\n   </g>\n   <g id=\"text_9\">\n    <!-- 4770 -->\n    <defs>\n     <path d=\"M 37.796875 64.3125 \nL 12.890625 25.390625 \nL 37.796875 25.390625 \nz\nM 35.203125 72.90625 \nL 47.609375 72.90625 \nL 47.609375 25.390625 \nL 58.015625 25.390625 \nL 58.015625 17.1875 \nL 47.609375 17.1875 \nL 47.609375 0 \nL 37.796875 0 \nL 37.796875 17.1875 \nL 4.890625 17.1875 \nL 4.890625 26.703125 \nz\n\" id=\"DejaVuSans-52\"/>\n     <path d=\"M 8.203125 72.90625 \nL 55.078125 72.90625 \nL 55.078125 68.703125 \nL 28.609375 0 \nL 18.3125 0 \nL 43.21875 64.59375 \nL 8.203125 64.59375 \nz\n\" id=\"DejaVuSans-55\"/>\n     <path d=\"M 31.78125 66.40625 \nQ 24.171875 66.40625 20.328125 58.90625 \nQ 16.5 51.421875 16.5 36.375 \nQ 16.5 21.390625 20.328125 13.890625 \nQ 24.171875 6.390625 31.78125 6.390625 \nQ 39.453125 6.390625 43.28125 13.890625 \nQ 47.125 21.390625 47.125 36.375 \nQ 47.125 51.421875 43.28125 58.90625 \nQ 39.453125 66.40625 31.78125 66.40625 \nz\nM 31.78125 74.21875 \nQ 44.046875 74.21875 50.515625 64.515625 \nQ 56.984375 54.828125 56.984375 36.375 \nQ 56.984375 17.96875 50.515625 8.265625 \nQ 44.046875 -1.421875 31.78125 -1.421875 \nQ 19.53125 -1.421875 13.0625 8.265625 \nQ 6.59375 17.96875 6.59375 36.375 \nQ 6.59375 54.828125 13.0625 64.515625 \nQ 19.53125 74.21875 31.78125 74.21875 \nz\n\" id=\"DejaVuSans-48\"/>\n    </defs>\n    <g style=\"fill:#ffffff;\" transform=\"translate(44.633125 37.139375)scale(0.1 -0.1)\">\n     <use xlink:href=\"#DejaVuSans-52\"/>\n     <use x=\"63.623047\" xlink:href=\"#DejaVuSans-55\"/>\n     <use x=\"127.246094\" xlink:href=\"#DejaVuSans-55\"/>\n     <use x=\"190.869141\" xlink:href=\"#DejaVuSans-48\"/>\n    </g>\n   </g>\n   <g id=\"text_10\">\n    <!-- 0 -->\n    <g style=\"fill:#ffffff;\" transform=\"translate(121.136875 37.139375)scale(0.1 -0.1)\">\n     <use xlink:href=\"#DejaVuSans-48\"/>\n    </g>\n   </g>\n   <g id=\"text_11\">\n    <!-- 1 -->\n    <defs>\n     <path d=\"M 12.40625 8.296875 \nL 28.515625 8.296875 \nL 28.515625 63.921875 \nL 10.984375 60.40625 \nL 10.984375 69.390625 \nL 28.421875 72.90625 \nL 38.28125 72.90625 \nL 38.28125 8.296875 \nL 54.390625 8.296875 \nL 54.390625 0 \nL 12.40625 0 \nz\n\" id=\"DejaVuSans-49\"/>\n    </defs>\n    <g style=\"fill:#ffffff;\" transform=\"translate(188.096875 37.139375)scale(0.1 -0.1)\">\n     <use xlink:href=\"#DejaVuSans-49\"/>\n    </g>\n   </g>\n   <g id=\"text_12\">\n    <!-- 0 -->\n    <g style=\"fill:#ffffff;\" transform=\"translate(255.056875 37.139375)scale(0.1 -0.1)\">\n     <use xlink:href=\"#DejaVuSans-48\"/>\n    </g>\n   </g>\n   <g id=\"text_13\">\n    <!-- 0 -->\n    <g style=\"fill:#ffffff;\" transform=\"translate(54.176875 91.499375)scale(0.1 -0.1)\">\n     <use xlink:href=\"#DejaVuSans-48\"/>\n    </g>\n   </g>\n   <g id=\"text_14\">\n    <!-- 1672 -->\n    <defs>\n     <path d=\"M 33.015625 40.375 \nQ 26.375 40.375 22.484375 35.828125 \nQ 18.609375 31.296875 18.609375 23.390625 \nQ 18.609375 15.53125 22.484375 10.953125 \nQ 26.375 6.390625 33.015625 6.390625 \nQ 39.65625 6.390625 43.53125 10.953125 \nQ 47.40625 15.53125 47.40625 23.390625 \nQ 47.40625 31.296875 43.53125 35.828125 \nQ 39.65625 40.375 33.015625 40.375 \nz\nM 52.59375 71.296875 \nL 52.59375 62.3125 \nQ 48.875 64.0625 45.09375 64.984375 \nQ 41.3125 65.921875 37.59375 65.921875 \nQ 27.828125 65.921875 22.671875 59.328125 \nQ 17.53125 52.734375 16.796875 39.40625 \nQ 19.671875 43.65625 24.015625 45.921875 \nQ 28.375 48.1875 33.59375 48.1875 \nQ 44.578125 48.1875 50.953125 41.515625 \nQ 57.328125 34.859375 57.328125 23.390625 \nQ 57.328125 12.15625 50.6875 5.359375 \nQ 44.046875 -1.421875 33.015625 -1.421875 \nQ 20.359375 -1.421875 13.671875 8.265625 \nQ 6.984375 17.96875 6.984375 36.375 \nQ 6.984375 53.65625 15.1875 63.9375 \nQ 23.390625 74.21875 37.203125 74.21875 \nQ 40.921875 74.21875 44.703125 73.484375 \nQ 48.484375 72.75 52.59375 71.296875 \nz\n\" id=\"DejaVuSans-54\"/>\n     <path d=\"M 19.1875 8.296875 \nL 53.609375 8.296875 \nL 53.609375 0 \nL 7.328125 0 \nL 7.328125 8.296875 \nQ 12.9375 14.109375 22.625 23.890625 \nQ 32.328125 33.6875 34.8125 36.53125 \nQ 39.546875 41.84375 41.421875 45.53125 \nQ 43.3125 49.21875 43.3125 52.78125 \nQ 43.3125 58.59375 39.234375 62.25 \nQ 35.15625 65.921875 28.609375 65.921875 \nQ 23.96875 65.921875 18.8125 64.3125 \nQ 13.671875 62.703125 7.8125 59.421875 \nL 7.8125 69.390625 \nQ 13.765625 71.78125 18.9375 73 \nQ 24.125 74.21875 28.421875 74.21875 \nQ 39.75 74.21875 46.484375 68.546875 \nQ 53.21875 62.890625 53.21875 53.421875 \nQ 53.21875 48.921875 51.53125 44.890625 \nQ 49.859375 40.875 45.40625 35.40625 \nQ 44.1875 33.984375 37.640625 27.21875 \nQ 31.109375 20.453125 19.1875 8.296875 \nz\n\" id=\"DejaVuSans-50\"/>\n    </defs>\n    <g style=\"fill:#ffffff;\" transform=\"translate(111.593125 91.499375)scale(0.1 -0.1)\">\n     <use xlink:href=\"#DejaVuSans-49\"/>\n     <use x=\"63.623047\" xlink:href=\"#DejaVuSans-54\"/>\n     <use x=\"127.246094\" xlink:href=\"#DejaVuSans-55\"/>\n     <use x=\"190.869141\" xlink:href=\"#DejaVuSans-50\"/>\n    </g>\n   </g>\n   <g id=\"text_15\">\n    <!-- 0 -->\n    <g style=\"fill:#ffffff;\" transform=\"translate(188.096875 91.499375)scale(0.1 -0.1)\">\n     <use xlink:href=\"#DejaVuSans-48\"/>\n    </g>\n   </g>\n   <g id=\"text_16\">\n    <!-- 0 -->\n    <g style=\"fill:#ffffff;\" transform=\"translate(255.056875 91.499375)scale(0.1 -0.1)\">\n     <use xlink:href=\"#DejaVuSans-48\"/>\n    </g>\n   </g>\n   <g id=\"text_17\">\n    <!-- 0 -->\n    <g style=\"fill:#ffffff;\" transform=\"translate(54.176875 145.859375)scale(0.1 -0.1)\">\n     <use xlink:href=\"#DejaVuSans-48\"/>\n    </g>\n   </g>\n   <g id=\"text_18\">\n    <!-- 0 -->\n    <g style=\"fill:#ffffff;\" transform=\"translate(121.136875 145.859375)scale(0.1 -0.1)\">\n     <use xlink:href=\"#DejaVuSans-48\"/>\n    </g>\n   </g>\n   <g id=\"text_19\">\n    <!-- 21461 -->\n    <g style=\"fill:#ffffff;\" transform=\"translate(175.371875 145.859375)scale(0.1 -0.1)\">\n     <use xlink:href=\"#DejaVuSans-50\"/>\n     <use x=\"63.623047\" xlink:href=\"#DejaVuSans-49\"/>\n     <use x=\"127.246094\" xlink:href=\"#DejaVuSans-52\"/>\n     <use x=\"190.869141\" xlink:href=\"#DejaVuSans-54\"/>\n     <use x=\"254.492188\" xlink:href=\"#DejaVuSans-49\"/>\n    </g>\n   </g>\n   <g id=\"text_20\">\n    <!-- 0 -->\n    <g style=\"fill:#ffffff;\" transform=\"translate(255.056875 145.859375)scale(0.1 -0.1)\">\n     <use xlink:href=\"#DejaVuSans-48\"/>\n    </g>\n   </g>\n   <g id=\"text_21\">\n    <!-- 0 -->\n    <g style=\"fill:#ffffff;\" transform=\"translate(54.176875 200.219375)scale(0.1 -0.1)\">\n     <use xlink:href=\"#DejaVuSans-48\"/>\n    </g>\n   </g>\n   <g id=\"text_22\">\n    <!-- 0 -->\n    <g style=\"fill:#ffffff;\" transform=\"translate(121.136875 200.219375)scale(0.1 -0.1)\">\n     <use xlink:href=\"#DejaVuSans-48\"/>\n    </g>\n   </g>\n   <g id=\"text_23\">\n    <!-- 0 -->\n    <g style=\"fill:#ffffff;\" transform=\"translate(188.096875 200.219375)scale(0.1 -0.1)\">\n     <use xlink:href=\"#DejaVuSans-48\"/>\n    </g>\n   </g>\n   <g id=\"text_24\">\n    <!-- 6826 -->\n    <defs>\n     <path d=\"M 31.78125 34.625 \nQ 24.75 34.625 20.71875 30.859375 \nQ 16.703125 27.09375 16.703125 20.515625 \nQ 16.703125 13.921875 20.71875 10.15625 \nQ 24.75 6.390625 31.78125 6.390625 \nQ 38.8125 6.390625 42.859375 10.171875 \nQ 46.921875 13.96875 46.921875 20.515625 \nQ 46.921875 27.09375 42.890625 30.859375 \nQ 38.875 34.625 31.78125 34.625 \nz\nM 21.921875 38.8125 \nQ 15.578125 40.375 12.03125 44.71875 \nQ 8.5 49.078125 8.5 55.328125 \nQ 8.5 64.0625 14.71875 69.140625 \nQ 20.953125 74.21875 31.78125 74.21875 \nQ 42.671875 74.21875 48.875 69.140625 \nQ 55.078125 64.0625 55.078125 55.328125 \nQ 55.078125 49.078125 51.53125 44.71875 \nQ 48 40.375 41.703125 38.8125 \nQ 48.828125 37.15625 52.796875 32.3125 \nQ 56.78125 27.484375 56.78125 20.515625 \nQ 56.78125 9.90625 50.3125 4.234375 \nQ 43.84375 -1.421875 31.78125 -1.421875 \nQ 19.734375 -1.421875 13.25 4.234375 \nQ 6.78125 9.90625 6.78125 20.515625 \nQ 6.78125 27.484375 10.78125 32.3125 \nQ 14.796875 37.15625 21.921875 38.8125 \nz\nM 18.3125 54.390625 \nQ 18.3125 48.734375 21.84375 45.5625 \nQ 25.390625 42.390625 31.78125 42.390625 \nQ 38.140625 42.390625 41.71875 45.5625 \nQ 45.3125 48.734375 45.3125 54.390625 \nQ 45.3125 60.0625 41.71875 63.234375 \nQ 38.140625 66.40625 31.78125 66.40625 \nQ 25.390625 66.40625 21.84375 63.234375 \nQ 18.3125 60.0625 18.3125 54.390625 \nz\n\" id=\"DejaVuSans-56\"/>\n    </defs>\n    <g style=\"fill:#262626;\" transform=\"translate(245.513125 200.219375)scale(0.1 -0.1)\">\n     <use xlink:href=\"#DejaVuSans-54\"/>\n     <use x=\"63.623047\" xlink:href=\"#DejaVuSans-56\"/>\n     <use x=\"127.246094\" xlink:href=\"#DejaVuSans-50\"/>\n     <use x=\"190.869141\" xlink:href=\"#DejaVuSans-54\"/>\n    </g>\n   </g>\n  </g>\n  <g id=\"axes_2\">\n   <g id=\"patch_3\">\n    <path clip-path=\"url(#p0e8e82b5e2)\" d=\"M 308.458125 224.64 \nL 308.458125 223.790625 \nL 308.458125 8.049375 \nL 308.458125 7.2 \nL 319.330125 7.2 \nL 319.330125 8.049375 \nL 319.330125 223.790625 \nL 319.330125 224.64 \nz\n\" style=\"fill:#ffffff;stroke:#ffffff;stroke-linejoin:miter;stroke-width:0.01;\"/>\n   </g>\n   <image height=\"217\" id=\"imaged810b4a59d\" transform=\"scale(1 -1)translate(0 -217)\" width=\"11\" x=\"308\" xlink:href=\"data:image/png;base64,\niVBORw0KGgoAAAANSUhEUgAAAAsAAADZCAYAAAD2WsoCAAAABHNCSVQICAgIfAhkiAAAAXFJREFUaIHt2MtugzAUhGEbm/at+95tMGTbJd9ipEPVrEdH/1wgSvrXuK528zPPcVfK4gni4yOGUUV8u5M2j88cRhGxpFFlG8BMl9FgCqNIdLk0ljBfWwoDtyGXjRnESwxeZHCnBgUj16BcptUtSePccuOnPYP4NVNDojSwQVodiKekMYS5C/MmzIRhlyUNu9xB3GMG93nKZcDoYhDrlsv9trbNOSgNwojVLZcpurFBGrlSLDoR72KQ6iYMehVsLbU62wYxU4NiMIcxumwjxyyXbfxmEMTUYJHophi0ZzAmppxnW/fF8HddmTS2S76tSGwYJQzaY3WmXgWUhq1OxPOE8dszaMyyurNGGrFSOq0uhrEvScNKEYNymVaHBlPM1mAMYxypuuk7xaJ7YhqrRhpisC3AaMLchBkx5PJL0iCDUneVy5RGEYO0jZzB3ETpMjH/1Bh/LmcymMMocvk/jd9iS+OB4/9+Yt1/O41+tfu/pd8GUktvMhlS3AAAAABJRU5ErkJggg==\" y=\"-7\"/>\n   <g id=\"matplotlib.axis_3\"/>\n   <g id=\"matplotlib.axis_4\">\n    <g id=\"ytick_5\">\n     <g id=\"line2d_9\">\n      <defs>\n       <path d=\"M 0 0 \nL 3.5 0 \n\" id=\"mbd488dee3b\" style=\"stroke:#000000;stroke-width:0.8;\"/>\n      </defs>\n      <g>\n       <use style=\"stroke:#000000;stroke-width:0.8;\" x=\"319.330125\" xlink:href=\"#mbd488dee3b\" y=\"224.64\"/>\n      </g>\n     </g>\n     <g id=\"text_25\">\n      <!-- 0 -->\n      <g transform=\"translate(326.330125 228.439219)scale(0.1 -0.1)\">\n       <use xlink:href=\"#DejaVuSans-48\"/>\n      </g>\n     </g>\n    </g>\n    <g id=\"ytick_6\">\n     <g id=\"line2d_10\">\n      <g>\n       <use style=\"stroke:#000000;stroke-width:0.8;\" x=\"319.330125\" xlink:href=\"#mbd488dee3b\" y=\"199.310332\"/>\n      </g>\n     </g>\n     <g id=\"text_26\">\n      <!-- 2500 -->\n      <defs>\n       <path d=\"M 10.796875 72.90625 \nL 49.515625 72.90625 \nL 49.515625 64.59375 \nL 19.828125 64.59375 \nL 19.828125 46.734375 \nQ 21.96875 47.46875 24.109375 47.828125 \nQ 26.265625 48.1875 28.421875 48.1875 \nQ 40.625 48.1875 47.75 41.5 \nQ 54.890625 34.8125 54.890625 23.390625 \nQ 54.890625 11.625 47.5625 5.09375 \nQ 40.234375 -1.421875 26.90625 -1.421875 \nQ 22.3125 -1.421875 17.546875 -0.640625 \nQ 12.796875 0.140625 7.71875 1.703125 \nL 7.71875 11.625 \nQ 12.109375 9.234375 16.796875 8.0625 \nQ 21.484375 6.890625 26.703125 6.890625 \nQ 35.15625 6.890625 40.078125 11.328125 \nQ 45.015625 15.765625 45.015625 23.390625 \nQ 45.015625 31 40.078125 35.4375 \nQ 35.15625 39.890625 26.703125 39.890625 \nQ 22.75 39.890625 18.8125 39.015625 \nQ 14.890625 38.140625 10.796875 36.28125 \nz\n\" id=\"DejaVuSans-53\"/>\n      </defs>\n      <g transform=\"translate(326.330125 203.109551)scale(0.1 -0.1)\">\n       <use xlink:href=\"#DejaVuSans-50\"/>\n       <use x=\"63.623047\" xlink:href=\"#DejaVuSans-53\"/>\n       <use x=\"127.246094\" xlink:href=\"#DejaVuSans-48\"/>\n       <use x=\"190.869141\" xlink:href=\"#DejaVuSans-48\"/>\n      </g>\n     </g>\n    </g>\n    <g id=\"ytick_7\">\n     <g id=\"line2d_11\">\n      <g>\n       <use style=\"stroke:#000000;stroke-width:0.8;\" x=\"319.330125\" xlink:href=\"#mbd488dee3b\" y=\"173.980664\"/>\n      </g>\n     </g>\n     <g id=\"text_27\">\n      <!-- 5000 -->\n      <g transform=\"translate(326.330125 177.779883)scale(0.1 -0.1)\">\n       <use xlink:href=\"#DejaVuSans-53\"/>\n       <use x=\"63.623047\" xlink:href=\"#DejaVuSans-48\"/>\n       <use x=\"127.246094\" xlink:href=\"#DejaVuSans-48\"/>\n       <use x=\"190.869141\" xlink:href=\"#DejaVuSans-48\"/>\n      </g>\n     </g>\n    </g>\n    <g id=\"ytick_8\">\n     <g id=\"line2d_12\">\n      <g>\n       <use style=\"stroke:#000000;stroke-width:0.8;\" x=\"319.330125\" xlink:href=\"#mbd488dee3b\" y=\"148.650997\"/>\n      </g>\n     </g>\n     <g id=\"text_28\">\n      <!-- 7500 -->\n      <g transform=\"translate(326.330125 152.450215)scale(0.1 -0.1)\">\n       <use xlink:href=\"#DejaVuSans-55\"/>\n       <use x=\"63.623047\" xlink:href=\"#DejaVuSans-53\"/>\n       <use x=\"127.246094\" xlink:href=\"#DejaVuSans-48\"/>\n       <use x=\"190.869141\" xlink:href=\"#DejaVuSans-48\"/>\n      </g>\n     </g>\n    </g>\n    <g id=\"ytick_9\">\n     <g id=\"line2d_13\">\n      <g>\n       <use style=\"stroke:#000000;stroke-width:0.8;\" x=\"319.330125\" xlink:href=\"#mbd488dee3b\" y=\"123.321329\"/>\n      </g>\n     </g>\n     <g id=\"text_29\">\n      <!-- 10000 -->\n      <g transform=\"translate(326.330125 127.120548)scale(0.1 -0.1)\">\n       <use xlink:href=\"#DejaVuSans-49\"/>\n       <use x=\"63.623047\" xlink:href=\"#DejaVuSans-48\"/>\n       <use x=\"127.246094\" xlink:href=\"#DejaVuSans-48\"/>\n       <use x=\"190.869141\" xlink:href=\"#DejaVuSans-48\"/>\n       <use x=\"254.492188\" xlink:href=\"#DejaVuSans-48\"/>\n      </g>\n     </g>\n    </g>\n    <g id=\"ytick_10\">\n     <g id=\"line2d_14\">\n      <g>\n       <use style=\"stroke:#000000;stroke-width:0.8;\" x=\"319.330125\" xlink:href=\"#mbd488dee3b\" y=\"97.991661\"/>\n      </g>\n     </g>\n     <g id=\"text_30\">\n      <!-- 12500 -->\n      <g transform=\"translate(326.330125 101.79088)scale(0.1 -0.1)\">\n       <use xlink:href=\"#DejaVuSans-49\"/>\n       <use x=\"63.623047\" xlink:href=\"#DejaVuSans-50\"/>\n       <use x=\"127.246094\" xlink:href=\"#DejaVuSans-53\"/>\n       <use x=\"190.869141\" xlink:href=\"#DejaVuSans-48\"/>\n       <use x=\"254.492188\" xlink:href=\"#DejaVuSans-48\"/>\n      </g>\n     </g>\n    </g>\n    <g id=\"ytick_11\">\n     <g id=\"line2d_15\">\n      <g>\n       <use style=\"stroke:#000000;stroke-width:0.8;\" x=\"319.330125\" xlink:href=\"#mbd488dee3b\" y=\"72.661993\"/>\n      </g>\n     </g>\n     <g id=\"text_31\">\n      <!-- 15000 -->\n      <g transform=\"translate(326.330125 76.461212)scale(0.1 -0.1)\">\n       <use xlink:href=\"#DejaVuSans-49\"/>\n       <use x=\"63.623047\" xlink:href=\"#DejaVuSans-53\"/>\n       <use x=\"127.246094\" xlink:href=\"#DejaVuSans-48\"/>\n       <use x=\"190.869141\" xlink:href=\"#DejaVuSans-48\"/>\n       <use x=\"254.492188\" xlink:href=\"#DejaVuSans-48\"/>\n      </g>\n     </g>\n    </g>\n    <g id=\"ytick_12\">\n     <g id=\"line2d_16\">\n      <g>\n       <use style=\"stroke:#000000;stroke-width:0.8;\" x=\"319.330125\" xlink:href=\"#mbd488dee3b\" y=\"47.332326\"/>\n      </g>\n     </g>\n     <g id=\"text_32\">\n      <!-- 17500 -->\n      <g transform=\"translate(326.330125 51.131544)scale(0.1 -0.1)\">\n       <use xlink:href=\"#DejaVuSans-49\"/>\n       <use x=\"63.623047\" xlink:href=\"#DejaVuSans-55\"/>\n       <use x=\"127.246094\" xlink:href=\"#DejaVuSans-53\"/>\n       <use x=\"190.869141\" xlink:href=\"#DejaVuSans-48\"/>\n       <use x=\"254.492188\" xlink:href=\"#DejaVuSans-48\"/>\n      </g>\n     </g>\n    </g>\n    <g id=\"ytick_13\">\n     <g id=\"line2d_17\">\n      <g>\n       <use style=\"stroke:#000000;stroke-width:0.8;\" x=\"319.330125\" xlink:href=\"#mbd488dee3b\" y=\"22.002658\"/>\n      </g>\n     </g>\n     <g id=\"text_33\">\n      <!-- 20000 -->\n      <g transform=\"translate(326.330125 25.801877)scale(0.1 -0.1)\">\n       <use xlink:href=\"#DejaVuSans-50\"/>\n       <use x=\"63.623047\" xlink:href=\"#DejaVuSans-48\"/>\n       <use x=\"127.246094\" xlink:href=\"#DejaVuSans-48\"/>\n       <use x=\"190.869141\" xlink:href=\"#DejaVuSans-48\"/>\n       <use x=\"254.492188\" xlink:href=\"#DejaVuSans-48\"/>\n      </g>\n     </g>\n    </g>\n   </g>\n   <g id=\"patch_4\">\n    <path d=\"M 308.458125 224.64 \nL 308.458125 223.790625 \nL 308.458125 8.049375 \nL 308.458125 7.2 \nL 319.330125 7.2 \nL 319.330125 8.049375 \nL 319.330125 223.790625 \nL 319.330125 224.64 \nz\n\" style=\"fill:none;\"/>\n   </g>\n  </g>\n </g>\n <defs>\n  <clipPath id=\"p3c6e3ddf82\">\n   <rect height=\"217.44\" width=\"267.84\" x=\"23.878125\" y=\"7.2\"/>\n  </clipPath>\n  <clipPath id=\"p0e8e82b5e2\">\n   <rect height=\"217.44\" width=\"10.872\" x=\"308.458125\" y=\"7.2\"/>\n  </clipPath>\n </defs>\n</svg>\n"
          },
          "metadata": {
            "needs_background": "light"
          }
        }
      ]
    },
    {
      "cell_type": "code",
      "source": [
        ""
      ],
      "metadata": {
        "id": "R41iuG7mQ7Bi"
      },
      "execution_count": null,
      "outputs": []
    }
  ]
}