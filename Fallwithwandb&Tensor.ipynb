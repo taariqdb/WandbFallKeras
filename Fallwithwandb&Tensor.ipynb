{
  "nbformat": 4,
  "nbformat_minor": 0,
  "metadata": {
    "colab": {
      "name": "Fallwithwandb&Tensor.ipynb",
      "provenance": []
    },
    "kernelspec": {
      "name": "python3",
      "display_name": "Python 3"
    },
    "language_info": {
      "name": "python"
    },
    "accelerator": "GPU"
  },
  "cells": [
    {
      "cell_type": "code",
      "execution_count": 1,
      "metadata": {
        "colab": {
          "base_uri": "https://localhost:8080/"
        },
        "id": "QA-0Apl4iqqO",
        "outputId": "8f091f36-3054-4d2e-820b-092554c0fb55"
      },
      "outputs": [
        {
          "output_type": "stream",
          "name": "stdout",
          "text": [
            "Drive already mounted at /content/MyDrive/; to attempt to forcibly remount, call drive.mount(\"/content/MyDrive/\", force_remount=True).\n"
          ]
        }
      ],
      "source": [
        "from google.colab import drive\n",
        "drive.mount('/content/MyDrive/')"
      ]
    },
    {
      "cell_type": "code",
      "source": [
        "# Select TensorFlow 2.0\n",
        "%tensorflow_version 2.x"
      ],
      "metadata": {
        "id": "vpqXkSoti6b_"
      },
      "execution_count": 2,
      "outputs": []
    },
    {
      "cell_type": "code",
      "source": [
        "# Install Weights and Biases\n",
        "!pip install wandb"
      ],
      "metadata": {
        "colab": {
          "base_uri": "https://localhost:8080/"
        },
        "id": "INUcBzKtjHT4",
        "outputId": "31879b94-4588-431c-9729-8b968a4683b2"
      },
      "execution_count": 3,
      "outputs": [
        {
          "output_type": "stream",
          "name": "stdout",
          "text": [
            "Requirement already satisfied: wandb in /usr/local/lib/python3.7/dist-packages (0.12.11)\n",
            "Requirement already satisfied: requests<3,>=2.0.0 in /usr/local/lib/python3.7/dist-packages (from wandb) (2.23.0)\n",
            "Requirement already satisfied: pathtools in /usr/local/lib/python3.7/dist-packages (from wandb) (0.1.2)\n",
            "Requirement already satisfied: yaspin>=1.0.0 in /usr/local/lib/python3.7/dist-packages (from wandb) (2.1.0)\n",
            "Requirement already satisfied: psutil>=5.0.0 in /usr/local/lib/python3.7/dist-packages (from wandb) (5.4.8)\n",
            "Requirement already satisfied: protobuf>=3.12.0 in /usr/local/lib/python3.7/dist-packages (from wandb) (3.17.3)\n",
            "Requirement already satisfied: Click!=8.0.0,>=7.0 in /usr/local/lib/python3.7/dist-packages (from wandb) (7.1.2)\n",
            "Requirement already satisfied: shortuuid>=0.5.0 in /usr/local/lib/python3.7/dist-packages (from wandb) (1.0.8)\n",
            "Requirement already satisfied: promise<3,>=2.0 in /usr/local/lib/python3.7/dist-packages (from wandb) (2.3)\n",
            "Requirement already satisfied: PyYAML in /usr/local/lib/python3.7/dist-packages (from wandb) (3.13)\n",
            "Requirement already satisfied: setproctitle in /usr/local/lib/python3.7/dist-packages (from wandb) (1.2.2)\n",
            "Requirement already satisfied: GitPython>=1.0.0 in /usr/local/lib/python3.7/dist-packages (from wandb) (3.1.27)\n",
            "Requirement already satisfied: six>=1.13.0 in /usr/local/lib/python3.7/dist-packages (from wandb) (1.15.0)\n",
            "Requirement already satisfied: sentry-sdk>=1.0.0 in /usr/local/lib/python3.7/dist-packages (from wandb) (1.5.8)\n",
            "Requirement already satisfied: docker-pycreds>=0.4.0 in /usr/local/lib/python3.7/dist-packages (from wandb) (0.4.0)\n",
            "Requirement already satisfied: python-dateutil>=2.6.1 in /usr/local/lib/python3.7/dist-packages (from wandb) (2.8.2)\n",
            "Requirement already satisfied: gitdb<5,>=4.0.1 in /usr/local/lib/python3.7/dist-packages (from GitPython>=1.0.0->wandb) (4.0.9)\n",
            "Requirement already satisfied: typing-extensions>=3.7.4.3 in /usr/local/lib/python3.7/dist-packages (from GitPython>=1.0.0->wandb) (3.10.0.2)\n",
            "Requirement already satisfied: smmap<6,>=3.0.1 in /usr/local/lib/python3.7/dist-packages (from gitdb<5,>=4.0.1->GitPython>=1.0.0->wandb) (5.0.0)\n",
            "Requirement already satisfied: idna<3,>=2.5 in /usr/local/lib/python3.7/dist-packages (from requests<3,>=2.0.0->wandb) (2.10)\n",
            "Requirement already satisfied: urllib3!=1.25.0,!=1.25.1,<1.26,>=1.21.1 in /usr/local/lib/python3.7/dist-packages (from requests<3,>=2.0.0->wandb) (1.24.3)\n",
            "Requirement already satisfied: chardet<4,>=3.0.2 in /usr/local/lib/python3.7/dist-packages (from requests<3,>=2.0.0->wandb) (3.0.4)\n",
            "Requirement already satisfied: certifi>=2017.4.17 in /usr/local/lib/python3.7/dist-packages (from requests<3,>=2.0.0->wandb) (2021.10.8)\n",
            "Requirement already satisfied: termcolor<2.0.0,>=1.1.0 in /usr/local/lib/python3.7/dist-packages (from yaspin>=1.0.0->wandb) (1.1.0)\n"
          ]
        }
      ]
    },
    {
      "cell_type": "code",
      "source": [
        "# Imports\n",
        "from tensorflow.keras.callbacks import TensorBoard\n",
        "\n",
        "import wandb\n",
        "from wandb.keras import WandbCallback"
      ],
      "metadata": {
        "id": "Kz95W7F5jJGa"
      },
      "execution_count": 4,
      "outputs": []
    },
    {
      "cell_type": "code",
      "source": [
        "# Login to your W&B account\n",
        "!wandb login"
      ],
      "metadata": {
        "colab": {
          "base_uri": "https://localhost:8080/"
        },
        "id": "GZOx-mOljOEd",
        "outputId": "f63b77e4-3770-414c-c016-96625b53318d"
      },
      "execution_count": 5,
      "outputs": [
        {
          "output_type": "stream",
          "name": "stdout",
          "text": [
            "\u001b[34m\u001b[1mwandb\u001b[0m: Currently logged in as: \u001b[33mtaariqdb\u001b[0m (use `wandb login --relogin` to force relogin)\n"
          ]
        }
      ]
    },
    {
      "cell_type": "code",
      "source": [
        "# Initialize your W&B project allowing it to sync with TensorBoard\n",
        "wandb.init(project=\"tensorboard-integration-partII\", sync_tensorboard=True)\n",
        "config = wandb.config"
      ],
      "metadata": {
        "colab": {
          "base_uri": "https://localhost:8080/",
          "height": 88
        },
        "id": "OyRFDtaJjQb-",
        "outputId": "33514ff8-5577-49b7-d9ab-c59a5ac26d81"
      },
      "execution_count": 6,
      "outputs": [
        {
          "output_type": "stream",
          "name": "stderr",
          "text": [
            "\u001b[34m\u001b[1mwandb\u001b[0m: Currently logged in as: \u001b[33mtaariqdb\u001b[0m (use `wandb login --relogin` to force relogin)\n"
          ]
        },
        {
          "output_type": "display_data",
          "data": {
            "text/plain": [
              "<IPython.core.display.HTML object>"
            ],
            "text/html": [
              "Tracking run with wandb version 0.12.11"
            ]
          },
          "metadata": {}
        },
        {
          "output_type": "display_data",
          "data": {
            "text/plain": [
              "<IPython.core.display.HTML object>"
            ],
            "text/html": [
              "Run data is saved locally in <code>/content/wandb/run-20220331_053350-2vy09g7l</code>"
            ]
          },
          "metadata": {}
        },
        {
          "output_type": "display_data",
          "data": {
            "text/plain": [
              "<IPython.core.display.HTML object>"
            ],
            "text/html": [
              "Syncing run <strong><a href=\"https://wandb.ai/taariqdb/tensorboard-integration-partII/runs/2vy09g7l\" target=\"_blank\">expert-donkey-6</a></strong> to <a href=\"https://wandb.ai/taariqdb/tensorboard-integration-partII\" target=\"_blank\">Weights & Biases</a> (<a href=\"https://wandb.me/run\" target=\"_blank\">docs</a>)<br/>"
            ]
          },
          "metadata": {}
        }
      ]
    },
    {
      "cell_type": "code",
      "source": [
        "import pandas as pd\n",
        "import numpy as np\n",
        "import matplotlib.pyplot as plt\n",
        "%matplotlib inline"
      ],
      "metadata": {
        "id": "hpi6OtERjW31"
      },
      "execution_count": 7,
      "outputs": []
    },
    {
      "cell_type": "code",
      "source": [
        "df = pd.read_csv(\"/content/MyDrive/MyDrive/Allfalltypesnew.csv\")"
      ],
      "metadata": {
        "id": "3WFnmww6j-1a"
      },
      "execution_count": 8,
      "outputs": []
    },
    {
      "cell_type": "code",
      "source": [
        "df = pd.get_dummies(data = df, columns=['DescriptionID'])\n",
        "df = pd.get_dummies(data = df, columns=['FallTypes'])\n",
        "df.columns"
      ],
      "metadata": {
        "colab": {
          "base_uri": "https://localhost:8080/"
        },
        "id": "Mzn7iJKXkBhz",
        "outputId": "0c02bb6d-5d7d-4ee9-d272-823f65e660c2"
      },
      "execution_count": 9,
      "outputs": [
        {
          "output_type": "execute_result",
          "data": {
            "text/plain": [
              "Index(['AccX', 'AccY', 'AccZ', 'GyrX', 'GyrY', 'GyrZ', 'EulerX', 'EulerY',\n",
              "       'EulerZ', 'TrialID', 'TaskID', 'Subject', 'Description', 'FTLabels',\n",
              "       'DescriptionID_1', 'DescriptionID_2', 'DescriptionID_3',\n",
              "       'DescriptionID_4', 'DescriptionID_5', 'DescriptionID_6',\n",
              "       'DescriptionID_7', 'DescriptionID_8', 'DescriptionID_9',\n",
              "       'DescriptionID_10', 'DescriptionID_11', 'DescriptionID_12',\n",
              "       'DescriptionID_13', 'DescriptionID_14', 'DescriptionID_15',\n",
              "       'FallTypes_Backward', 'FallTypes_Dampen', 'FallTypes_Forward',\n",
              "       'FallTypes_Lateral'],\n",
              "      dtype='object')"
            ]
          },
          "metadata": {},
          "execution_count": 9
        }
      ]
    },
    {
      "cell_type": "code",
      "source": [
        "from sklearn.preprocessing import StandardScaler\n",
        "X = df[['AccX', 'AccY', 'AccZ', 'GyrX', 'GyrY', 'GyrZ', 'EulerX', 'EulerY','EulerZ',\n",
        "       'DescriptionID_1', 'DescriptionID_2', 'DescriptionID_3',\n",
        "       'DescriptionID_4', 'DescriptionID_5', 'DescriptionID_6',\n",
        "       'DescriptionID_7', 'DescriptionID_8', 'DescriptionID_9',\n",
        "       'DescriptionID_10', 'DescriptionID_11', 'DescriptionID_12',\n",
        "       'DescriptionID_13', 'DescriptionID_14', 'DescriptionID_15',]]\n",
        "scaler = StandardScaler()\n",
        "scaled_data = scaler.fit_transform(X)      \n",
        "X = np.asarray(X)"
      ],
      "metadata": {
        "id": "CtrPd1atkDjv"
      },
      "execution_count": 10,
      "outputs": []
    },
    {
      "cell_type": "code",
      "source": [
        "y = df[['FallTypes_Backward', 'FallTypes_Dampen', 'FallTypes_Forward','FallTypes_Lateral']]\n",
        "y = np.asarray(y)"
      ],
      "metadata": {
        "id": "fkguWjbokHs_"
      },
      "execution_count": 11,
      "outputs": []
    },
    {
      "cell_type": "code",
      "source": [
        "from sklearn.model_selection import train_test_split\n",
        "X_train, X_test, y_train, y_test = train_test_split(X, y, test_size=0.20)"
      ],
      "metadata": {
        "id": "9Q4jcnslkJx7"
      },
      "execution_count": 12,
      "outputs": []
    },
    {
      "cell_type": "code",
      "source": [
        "from tensorflow.keras.models import Sequential\n",
        "from tensorflow.keras.layers import Dense, BatchNormalization"
      ],
      "metadata": {
        "id": "05MbAGLYkLmK"
      },
      "execution_count": 13,
      "outputs": []
    },
    {
      "cell_type": "code",
      "source": [
        "from sklearn.metrics import confusion_matrix\n",
        "from datetime import datetime\n",
        "import matplotlib.pyplot as plt\n",
        "import tensorflow as tf\n",
        "import numpy as np\n",
        "import itertools\n",
        "import io"
      ],
      "metadata": {
        "id": "rp24d8XIk8Ln"
      },
      "execution_count": 14,
      "outputs": []
    },
    {
      "cell_type": "code",
      "source": [
        "labels = ['Backward','Dampen','Forward','Lateral']"
      ],
      "metadata": {
        "id": "ErKIHDEQImM0"
      },
      "execution_count": 15,
      "outputs": []
    },
    {
      "cell_type": "code",
      "source": [
        "from tensorflow.keras.initializers import RandomNormal, Constant# Model with default batch normalization\n",
        "model = Sequential([\n",
        "    Dense(64, input_shape=(24,), activation=\"relu\"),\n",
        "    BatchNormalization(),\n",
        "    Dense(128, activation='relu'),\n",
        "    BatchNormalization(),\n",
        "    Dense(128, activation='relu'),\n",
        "    BatchNormalization(),\n",
        "    Dense(64, activation='relu'),\n",
        "    BatchNormalization(),\n",
        "    Dense(64, activation='relu'),\n",
        "    BatchNormalization(\n",
        "        momentum=0.95, \n",
        "        epsilon=0.005,\n",
        "        beta_initializer=RandomNormal(mean=0.0, stddev=0.05), \n",
        "        gamma_initializer=Constant(value=0.9)\n",
        "    ),\n",
        "    Dense(4, activation='softmax')\n",
        "]);\n",
        "model.compile(optimizer='adam', loss='categorical_crossentropy', metrics=['accuracy'])\n",
        "model.fit(X_train,y_train,epochs=200,validation_split=0.25,batch_size=40,verbose=2,callbacks=[WandbCallback(),TensorBoard(log_dir=wandb.run.dir)])"
      ],
      "metadata": {
        "colab": {
          "base_uri": "https://localhost:8080/"
        },
        "id": "y9xKuNLHKBPD",
        "outputId": "c85965dc-e4e2-4f8c-8151-6957e4b35e53"
      },
      "execution_count": 18,
      "outputs": [
        {
          "output_type": "stream",
          "name": "stdout",
          "text": [
            "Epoch 1/200\n"
          ]
        },
        {
          "output_type": "stream",
          "name": "stderr",
          "text": [
            "\u001b[34m\u001b[1mwandb\u001b[0m: \u001b[33mWARNING\u001b[0m When using several event log directories, please call wandb.tensorboard.patch(root_logdir=\"...\") before wandb.init\n"
          ]
        },
        {
          "output_type": "stream",
          "name": "stdout",
          "text": [
            "2605/2605 - 10s - loss: 0.2513 - accuracy: 0.9060 - val_loss: 0.0357 - val_accuracy: 0.9883 - _timestamp: 1648704903.0000 - _runtime: 73.0000 - 10s/epoch - 4ms/step\n",
            "Epoch 2/200\n",
            "2605/2605 - 8s - loss: 0.0259 - accuracy: 0.9918 - val_loss: 0.0141 - val_accuracy: 0.9973 - _timestamp: 1648704911.0000 - _runtime: 81.0000 - 8s/epoch - 3ms/step\n",
            "Epoch 3/200\n",
            "2605/2605 - 8s - loss: 0.0130 - accuracy: 0.9963 - val_loss: 0.0012 - val_accuracy: 0.9997 - _timestamp: 1648704919.0000 - _runtime: 89.0000 - 8s/epoch - 3ms/step\n",
            "Epoch 4/200\n",
            "2605/2605 - 8s - loss: 0.0078 - accuracy: 0.9979 - val_loss: 0.0750 - val_accuracy: 0.9773 - _timestamp: 1648704927.0000 - _runtime: 97.0000 - 8s/epoch - 3ms/step\n",
            "Epoch 5/200\n",
            "2605/2605 - 8s - loss: 0.0081 - accuracy: 0.9979 - val_loss: 0.0011 - val_accuracy: 0.9998 - _timestamp: 1648704935.0000 - _runtime: 105.0000 - 8s/epoch - 3ms/step\n",
            "Epoch 6/200\n",
            "2605/2605 - 8s - loss: 0.0061 - accuracy: 0.9982 - val_loss: 0.0041 - val_accuracy: 0.9988 - _timestamp: 1648704942.0000 - _runtime: 112.0000 - 8s/epoch - 3ms/step\n",
            "Epoch 7/200\n",
            "2605/2605 - 8s - loss: 0.0053 - accuracy: 0.9986 - val_loss: 0.0030 - val_accuracy: 0.9991 - _timestamp: 1648704950.0000 - _runtime: 120.0000 - 8s/epoch - 3ms/step\n",
            "Epoch 8/200\n",
            "2605/2605 - 8s - loss: 0.0040 - accuracy: 0.9989 - val_loss: 0.0020 - val_accuracy: 0.9996 - _timestamp: 1648704958.0000 - _runtime: 128.0000 - 8s/epoch - 3ms/step\n",
            "Epoch 9/200\n",
            "2605/2605 - 8s - loss: 0.0046 - accuracy: 0.9987 - val_loss: 8.7385e-04 - val_accuracy: 0.9999 - _timestamp: 1648704966.0000 - _runtime: 136.0000 - 8s/epoch - 3ms/step\n",
            "Epoch 10/200\n",
            "2605/2605 - 9s - loss: 0.0029 - accuracy: 0.9992 - val_loss: 0.0011 - val_accuracy: 0.9997 - _timestamp: 1648704975.0000 - _runtime: 145.0000 - 9s/epoch - 3ms/step\n",
            "Epoch 11/200\n",
            "2605/2605 - 8s - loss: 0.0024 - accuracy: 0.9994 - val_loss: 5.6083e-04 - val_accuracy: 0.9999 - _timestamp: 1648704982.0000 - _runtime: 152.0000 - 8s/epoch - 3ms/step\n",
            "Epoch 12/200\n",
            "2605/2605 - 8s - loss: 0.0030 - accuracy: 0.9991 - val_loss: 4.6983e-04 - val_accuracy: 0.9999 - _timestamp: 1648704990.0000 - _runtime: 160.0000 - 8s/epoch - 3ms/step\n",
            "Epoch 13/200\n",
            "2605/2605 - 8s - loss: 0.0026 - accuracy: 0.9993 - val_loss: 0.0329 - val_accuracy: 0.9885 - _timestamp: 1648704998.0000 - _runtime: 168.0000 - 8s/epoch - 3ms/step\n",
            "Epoch 14/200\n",
            "2605/2605 - 8s - loss: 0.0030 - accuracy: 0.9992 - val_loss: 0.0014 - val_accuracy: 0.9996 - _timestamp: 1648705006.0000 - _runtime: 176.0000 - 8s/epoch - 3ms/step\n",
            "Epoch 15/200\n",
            "2605/2605 - 8s - loss: 0.0011 - accuracy: 0.9996 - val_loss: 1.0915e-04 - val_accuracy: 1.0000 - _timestamp: 1648705014.0000 - _runtime: 184.0000 - 8s/epoch - 3ms/step\n",
            "Epoch 16/200\n",
            "2605/2605 - 8s - loss: 1.6176e-05 - accuracy: 1.0000 - val_loss: 8.4159e-05 - val_accuracy: 0.9999 - _timestamp: 1648705021.0000 - _runtime: 191.0000 - 8s/epoch - 3ms/step\n",
            "Epoch 17/200\n",
            "2605/2605 - 9s - loss: 0.0045 - accuracy: 0.9987 - val_loss: 2.8270e-04 - val_accuracy: 1.0000 - _timestamp: 1648705030.0000 - _runtime: 200.0000 - 9s/epoch - 3ms/step\n",
            "Epoch 18/200\n",
            "2605/2605 - 8s - loss: 0.0012 - accuracy: 0.9997 - val_loss: 4.8707e-05 - val_accuracy: 1.0000 - _timestamp: 1648705038.0000 - _runtime: 208.0000 - 8s/epoch - 3ms/step\n",
            "Epoch 19/200\n",
            "2605/2605 - 8s - loss: 1.5905e-05 - accuracy: 1.0000 - val_loss: 5.5479e-06 - val_accuracy: 1.0000 - _timestamp: 1648705046.0000 - _runtime: 216.0000 - 8s/epoch - 3ms/step\n",
            "Epoch 20/200\n",
            "2605/2605 - 8s - loss: 0.0030 - accuracy: 0.9993 - val_loss: 2.2625e-04 - val_accuracy: 0.9999 - _timestamp: 1648705054.0000 - _runtime: 224.0000 - 8s/epoch - 3ms/step\n",
            "Epoch 21/200\n",
            "2605/2605 - 8s - loss: 0.0019 - accuracy: 0.9995 - val_loss: 4.0748e-04 - val_accuracy: 0.9999 - _timestamp: 1648705062.0000 - _runtime: 232.0000 - 8s/epoch - 3ms/step\n",
            "Epoch 22/200\n",
            "2605/2605 - 8s - loss: 0.0018 - accuracy: 0.9995 - val_loss: 8.3477e-04 - val_accuracy: 0.9997 - _timestamp: 1648705070.0000 - _runtime: 240.0000 - 8s/epoch - 3ms/step\n",
            "Epoch 23/200\n",
            "2605/2605 - 8s - loss: 9.2953e-04 - accuracy: 0.9997 - val_loss: 7.3542e-04 - val_accuracy: 0.9998 - _timestamp: 1648705078.0000 - _runtime: 248.0000 - 8s/epoch - 3ms/step\n",
            "Epoch 24/200\n",
            "2605/2605 - 8s - loss: 0.0017 - accuracy: 0.9995 - val_loss: 2.0909e-04 - val_accuracy: 1.0000 - _timestamp: 1648705085.0000 - _runtime: 255.0000 - 8s/epoch - 3ms/step\n",
            "Epoch 25/200\n",
            "2605/2605 - 8s - loss: 0.0024 - accuracy: 0.9994 - val_loss: 0.0022 - val_accuracy: 0.9994 - _timestamp: 1648705093.0000 - _runtime: 263.0000 - 8s/epoch - 3ms/step\n",
            "Epoch 26/200\n",
            "2605/2605 - 8s - loss: 0.0017 - accuracy: 0.9997 - val_loss: 3.7738e-04 - val_accuracy: 0.9999 - _timestamp: 1648705101.0000 - _runtime: 271.0000 - 8s/epoch - 3ms/step\n",
            "Epoch 27/200\n",
            "2605/2605 - 8s - loss: 0.0012 - accuracy: 0.9997 - val_loss: 3.7061e-04 - val_accuracy: 0.9999 - _timestamp: 1648705109.0000 - _runtime: 279.0000 - 8s/epoch - 3ms/step\n",
            "Epoch 28/200\n",
            "2605/2605 - 8s - loss: 2.2316e-05 - accuracy: 1.0000 - val_loss: 8.4925e-06 - val_accuracy: 1.0000 - _timestamp: 1648705116.0000 - _runtime: 286.0000 - 8s/epoch - 3ms/step\n",
            "Epoch 29/200\n",
            "2605/2605 - 8s - loss: 0.0022 - accuracy: 0.9994 - val_loss: 5.0079e-04 - val_accuracy: 0.9999 - _timestamp: 1648705124.0000 - _runtime: 294.0000 - 8s/epoch - 3ms/step\n",
            "Epoch 30/200\n",
            "2605/2605 - 8s - loss: 0.0016 - accuracy: 0.9996 - val_loss: 1.4111e-04 - val_accuracy: 1.0000 - _timestamp: 1648705132.0000 - _runtime: 302.0000 - 8s/epoch - 3ms/step\n",
            "Epoch 31/200\n",
            "2605/2605 - 8s - loss: 1.9533e-05 - accuracy: 1.0000 - val_loss: 5.7307e-05 - val_accuracy: 1.0000 - _timestamp: 1648705140.0000 - _runtime: 310.0000 - 8s/epoch - 3ms/step\n",
            "Epoch 32/200\n",
            "2605/2605 - 8s - loss: 0.0018 - accuracy: 0.9995 - val_loss: 0.0016 - val_accuracy: 0.9997 - _timestamp: 1648705147.0000 - _runtime: 317.0000 - 8s/epoch - 3ms/step\n",
            "Epoch 33/200\n",
            "2605/2605 - 8s - loss: 0.0021 - accuracy: 0.9995 - val_loss: 4.6743e-04 - val_accuracy: 0.9999 - _timestamp: 1648705155.0000 - _runtime: 325.0000 - 8s/epoch - 3ms/step\n",
            "Epoch 34/200\n",
            "2605/2605 - 8s - loss: 0.0010 - accuracy: 0.9997 - val_loss: 9.0433e-05 - val_accuracy: 1.0000 - _timestamp: 1648705163.0000 - _runtime: 333.0000 - 8s/epoch - 3ms/step\n",
            "Epoch 35/200\n",
            "2605/2605 - 8s - loss: 0.0012 - accuracy: 0.9997 - val_loss: 9.4250e-04 - val_accuracy: 0.9998 - _timestamp: 1648705171.0000 - _runtime: 341.0000 - 8s/epoch - 3ms/step\n",
            "Epoch 36/200\n",
            "2605/2605 - 8s - loss: 1.1551e-04 - accuracy: 1.0000 - val_loss: 1.2158e-04 - val_accuracy: 1.0000 - _timestamp: 1648705178.0000 - _runtime: 348.0000 - 8s/epoch - 3ms/step\n",
            "Epoch 37/200\n",
            "2605/2605 - 8s - loss: 0.0015 - accuracy: 0.9996 - val_loss: 2.8707e-04 - val_accuracy: 1.0000 - _timestamp: 1648705186.0000 - _runtime: 356.0000 - 8s/epoch - 3ms/step\n",
            "Epoch 38/200\n",
            "2605/2605 - 8s - loss: 7.4747e-04 - accuracy: 0.9998 - val_loss: 2.4943e-04 - val_accuracy: 1.0000 - _timestamp: 1648705194.0000 - _runtime: 364.0000 - 8s/epoch - 3ms/step\n",
            "Epoch 39/200\n",
            "2605/2605 - 8s - loss: 0.0018 - accuracy: 0.9996 - val_loss: 9.9426e-04 - val_accuracy: 0.9999 - _timestamp: 1648705201.0000 - _runtime: 371.0000 - 8s/epoch - 3ms/step\n",
            "Epoch 40/200\n",
            "2605/2605 - 8s - loss: 8.0388e-05 - accuracy: 1.0000 - val_loss: 6.0510e-06 - val_accuracy: 1.0000 - _timestamp: 1648705209.0000 - _runtime: 379.0000 - 8s/epoch - 3ms/step\n",
            "Epoch 41/200\n",
            "2605/2605 - 8s - loss: 0.0011 - accuracy: 0.9997 - val_loss: 8.8589e-04 - val_accuracy: 0.9999 - _timestamp: 1648705217.0000 - _runtime: 387.0000 - 8s/epoch - 3ms/step\n",
            "Epoch 42/200\n",
            "2605/2605 - 8s - loss: 0.0011 - accuracy: 0.9997 - val_loss: 0.0043 - val_accuracy: 0.9987 - _timestamp: 1648705225.0000 - _runtime: 395.0000 - 8s/epoch - 3ms/step\n",
            "Epoch 43/200\n",
            "2605/2605 - 8s - loss: 0.0011 - accuracy: 0.9997 - val_loss: 4.0362e-04 - val_accuracy: 0.9999 - _timestamp: 1648705232.0000 - _runtime: 402.0000 - 8s/epoch - 3ms/step\n",
            "Epoch 44/200\n",
            "2605/2605 - 8s - loss: 9.3202e-04 - accuracy: 0.9997 - val_loss: 1.9352e-04 - val_accuracy: 1.0000 - _timestamp: 1648705240.0000 - _runtime: 410.0000 - 8s/epoch - 3ms/step\n",
            "Epoch 45/200\n",
            "2605/2605 - 8s - loss: 0.0012 - accuracy: 0.9997 - val_loss: 2.7773e-04 - val_accuracy: 0.9999 - _timestamp: 1648705248.0000 - _runtime: 418.0000 - 8s/epoch - 3ms/step\n",
            "Epoch 46/200\n",
            "2605/2605 - 8s - loss: 0.0012 - accuracy: 0.9997 - val_loss: 9.2880e-04 - val_accuracy: 0.9998 - _timestamp: 1648705256.0000 - _runtime: 426.0000 - 8s/epoch - 3ms/step\n",
            "Epoch 47/200\n",
            "2605/2605 - 8s - loss: 5.8755e-05 - accuracy: 1.0000 - val_loss: 2.5719e-04 - val_accuracy: 0.9999 - _timestamp: 1648705263.0000 - _runtime: 433.0000 - 8s/epoch - 3ms/step\n",
            "Epoch 48/200\n",
            "2605/2605 - 8s - loss: 3.2817e-06 - accuracy: 1.0000 - val_loss: 2.3805e-04 - val_accuracy: 1.0000 - _timestamp: 1648705271.0000 - _runtime: 441.0000 - 8s/epoch - 3ms/step\n",
            "Epoch 49/200\n",
            "2605/2605 - 8s - loss: 1.5586e-06 - accuracy: 1.0000 - val_loss: 1.7269e-04 - val_accuracy: 1.0000 - _timestamp: 1648705279.0000 - _runtime: 449.0000 - 8s/epoch - 3ms/step\n",
            "Epoch 50/200\n",
            "2605/2605 - 8s - loss: 0.0023 - accuracy: 0.9995 - val_loss: 1.5504e-04 - val_accuracy: 1.0000 - _timestamp: 1648705287.0000 - _runtime: 457.0000 - 8s/epoch - 3ms/step\n",
            "Epoch 51/200\n",
            "2605/2605 - 8s - loss: 0.0015 - accuracy: 0.9996 - val_loss: 0.0020 - val_accuracy: 0.9996 - _timestamp: 1648705294.0000 - _runtime: 464.0000 - 8s/epoch - 3ms/step\n",
            "Epoch 52/200\n",
            "2605/2605 - 8s - loss: 0.0017 - accuracy: 0.9996 - val_loss: 4.1597e-04 - val_accuracy: 0.9999 - _timestamp: 1648705302.0000 - _runtime: 472.0000 - 8s/epoch - 3ms/step\n",
            "Epoch 53/200\n",
            "2605/2605 - 8s - loss: 7.4434e-05 - accuracy: 1.0000 - val_loss: 1.0022e-04 - val_accuracy: 1.0000 - _timestamp: 1648705310.0000 - _runtime: 480.0000 - 8s/epoch - 3ms/step\n",
            "Epoch 54/200\n",
            "2605/2605 - 8s - loss: 5.6832e-06 - accuracy: 1.0000 - val_loss: 2.6051e-05 - val_accuracy: 1.0000 - _timestamp: 1648705317.0000 - _runtime: 487.0000 - 8s/epoch - 3ms/step\n",
            "Epoch 55/200\n",
            "2605/2605 - 8s - loss: 7.9806e-04 - accuracy: 0.9998 - val_loss: 1.3413e-05 - val_accuracy: 1.0000 - _timestamp: 1648705325.0000 - _runtime: 495.0000 - 8s/epoch - 3ms/step\n",
            "Epoch 56/200\n",
            "2605/2605 - 8s - loss: 1.6615e-05 - accuracy: 1.0000 - val_loss: 4.4881e-06 - val_accuracy: 1.0000 - _timestamp: 1648705333.0000 - _runtime: 503.0000 - 8s/epoch - 3ms/step\n",
            "Epoch 57/200\n",
            "2605/2605 - 8s - loss: 1.3345e-06 - accuracy: 1.0000 - val_loss: 1.6667e-06 - val_accuracy: 1.0000 - _timestamp: 1648705341.0000 - _runtime: 511.0000 - 8s/epoch - 3ms/step\n",
            "Epoch 58/200\n",
            "2605/2605 - 8s - loss: 0.0012 - accuracy: 0.9997 - val_loss: 3.0328e-04 - val_accuracy: 0.9999 - _timestamp: 1648705349.0000 - _runtime: 519.0000 - 8s/epoch - 3ms/step\n",
            "Epoch 59/200\n",
            "2605/2605 - 8s - loss: 9.0624e-04 - accuracy: 0.9998 - val_loss: 0.0015 - val_accuracy: 0.9996 - _timestamp: 1648705356.0000 - _runtime: 526.0000 - 8s/epoch - 3ms/step\n",
            "Epoch 60/200\n",
            "2605/2605 - 8s - loss: 3.9567e-04 - accuracy: 0.9999 - val_loss: 2.2088e-04 - val_accuracy: 1.0000 - _timestamp: 1648705364.0000 - _runtime: 534.0000 - 8s/epoch - 3ms/step\n",
            "Epoch 61/200\n",
            "2605/2605 - 8s - loss: 4.3640e-06 - accuracy: 1.0000 - val_loss: 5.0321e-05 - val_accuracy: 1.0000 - _timestamp: 1648705372.0000 - _runtime: 542.0000 - 8s/epoch - 3ms/step\n",
            "Epoch 62/200\n",
            "2605/2605 - 8s - loss: 1.2521e-06 - accuracy: 1.0000 - val_loss: 4.1812e-05 - val_accuracy: 1.0000 - _timestamp: 1648705380.0000 - _runtime: 550.0000 - 8s/epoch - 3ms/step\n",
            "Epoch 63/200\n",
            "2605/2605 - 8s - loss: 0.0016 - accuracy: 0.9996 - val_loss: 5.7799e-05 - val_accuracy: 1.0000 - _timestamp: 1648705388.0000 - _runtime: 558.0000 - 8s/epoch - 3ms/step\n",
            "Epoch 64/200\n",
            "2605/2605 - 8s - loss: 4.0456e-04 - accuracy: 0.9999 - val_loss: 1.9062e-05 - val_accuracy: 1.0000 - _timestamp: 1648705395.0000 - _runtime: 565.0000 - 8s/epoch - 3ms/step\n",
            "Epoch 65/200\n",
            "2605/2605 - 8s - loss: 3.9894e-06 - accuracy: 1.0000 - val_loss: 1.8599e-05 - val_accuracy: 1.0000 - _timestamp: 1648705403.0000 - _runtime: 573.0000 - 8s/epoch - 3ms/step\n",
            "Epoch 66/200\n",
            "2605/2605 - 8s - loss: 0.0012 - accuracy: 0.9997 - val_loss: 0.0022 - val_accuracy: 0.9997 - _timestamp: 1648705411.0000 - _runtime: 581.0000 - 8s/epoch - 3ms/step\n",
            "Epoch 67/200\n",
            "2605/2605 - 8s - loss: 3.3894e-04 - accuracy: 0.9999 - val_loss: 1.1089e-04 - val_accuracy: 0.9999 - _timestamp: 1648705419.0000 - _runtime: 589.0000 - 8s/epoch - 3ms/step\n",
            "Epoch 68/200\n",
            "2605/2605 - 10s - loss: 0.0011 - accuracy: 0.9998 - val_loss: 2.7073e-04 - val_accuracy: 0.9999 - _timestamp: 1648705429.0000 - _runtime: 599.0000 - 10s/epoch - 4ms/step\n",
            "Epoch 69/200\n",
            "2605/2605 - 8s - loss: 9.8838e-06 - accuracy: 1.0000 - val_loss: 6.6606e-05 - val_accuracy: 1.0000 - _timestamp: 1648705437.0000 - _runtime: 607.0000 - 8s/epoch - 3ms/step\n",
            "Epoch 70/200\n",
            "2605/2605 - 8s - loss: 8.4552e-04 - accuracy: 0.9998 - val_loss: 8.2007e-04 - val_accuracy: 0.9999 - _timestamp: 1648705444.0000 - _runtime: 614.0000 - 8s/epoch - 3ms/step\n",
            "Epoch 71/200\n",
            "2605/2605 - 8s - loss: 3.5579e-04 - accuracy: 0.9999 - val_loss: 8.3839e-05 - val_accuracy: 1.0000 - _timestamp: 1648705452.0000 - _runtime: 622.0000 - 8s/epoch - 3ms/step\n",
            "Epoch 72/200\n",
            "2605/2605 - 8s - loss: 6.0433e-04 - accuracy: 0.9999 - val_loss: 8.0285e-04 - val_accuracy: 0.9999 - _timestamp: 1648705460.0000 - _runtime: 630.0000 - 8s/epoch - 3ms/step\n",
            "Epoch 73/200\n",
            "2605/2605 - 8s - loss: 4.8834e-04 - accuracy: 0.9999 - val_loss: 3.4365e-04 - val_accuracy: 0.9999 - _timestamp: 1648705468.0000 - _runtime: 638.0000 - 8s/epoch - 3ms/step\n",
            "Epoch 74/200\n",
            "2605/2605 - 8s - loss: 5.3359e-04 - accuracy: 0.9999 - val_loss: 8.9195e-05 - val_accuracy: 0.9999 - _timestamp: 1648705476.0000 - _runtime: 646.0000 - 8s/epoch - 3ms/step\n",
            "Epoch 75/200\n",
            "2605/2605 - 8s - loss: 9.4640e-04 - accuracy: 0.9998 - val_loss: 2.1737e-04 - val_accuracy: 0.9999 - _timestamp: 1648705483.0000 - _runtime: 653.0000 - 8s/epoch - 3ms/step\n",
            "Epoch 76/200\n",
            "2605/2605 - 8s - loss: 1.1426e-05 - accuracy: 1.0000 - val_loss: 1.4891e-04 - val_accuracy: 0.9999 - _timestamp: 1648705491.0000 - _runtime: 661.0000 - 8s/epoch - 3ms/step\n",
            "Epoch 77/200\n",
            "2605/2605 - 8s - loss: 3.2545e-06 - accuracy: 1.0000 - val_loss: 1.8236e-04 - val_accuracy: 1.0000 - _timestamp: 1648705499.0000 - _runtime: 669.0000 - 8s/epoch - 3ms/step\n",
            "Epoch 78/200\n",
            "2605/2605 - 8s - loss: 0.0014 - accuracy: 0.9997 - val_loss: 0.0042 - val_accuracy: 0.9991 - _timestamp: 1648705507.0000 - _runtime: 677.0000 - 8s/epoch - 3ms/step\n",
            "Epoch 79/200\n",
            "2605/2605 - 8s - loss: 3.2102e-04 - accuracy: 0.9999 - val_loss: 8.2405e-05 - val_accuracy: 1.0000 - _timestamp: 1648705515.0000 - _runtime: 685.0000 - 8s/epoch - 3ms/step\n",
            "Epoch 80/200\n",
            "2605/2605 - 8s - loss: 4.1968e-06 - accuracy: 1.0000 - val_loss: 1.6390e-04 - val_accuracy: 1.0000 - _timestamp: 1648705522.0000 - _runtime: 692.0000 - 8s/epoch - 3ms/step\n",
            "Epoch 81/200\n",
            "2605/2605 - 9s - loss: 0.0011 - accuracy: 0.9997 - val_loss: 6.3476e-04 - val_accuracy: 0.9999 - _timestamp: 1648705531.0000 - _runtime: 701.0000 - 9s/epoch - 4ms/step\n",
            "Epoch 82/200\n",
            "2605/2605 - 8s - loss: 1.7659e-04 - accuracy: 0.9999 - val_loss: 6.0120e-04 - val_accuracy: 0.9999 - _timestamp: 1648705539.0000 - _runtime: 709.0000 - 8s/epoch - 3ms/step\n",
            "Epoch 83/200\n",
            "2605/2605 - 8s - loss: 7.4258e-05 - accuracy: 1.0000 - val_loss: 4.3194e-04 - val_accuracy: 1.0000 - _timestamp: 1648705547.0000 - _runtime: 717.0000 - 8s/epoch - 3ms/step\n",
            "Epoch 84/200\n",
            "2605/2605 - 8s - loss: 1.5601e-06 - accuracy: 1.0000 - val_loss: 6.4080e-04 - val_accuracy: 1.0000 - _timestamp: 1648705555.0000 - _runtime: 725.0000 - 8s/epoch - 3ms/step\n",
            "Epoch 85/200\n",
            "2605/2605 - 8s - loss: 0.0014 - accuracy: 0.9996 - val_loss: 8.6818e-04 - val_accuracy: 1.0000 - _timestamp: 1648705563.0000 - _runtime: 733.0000 - 8s/epoch - 3ms/step\n",
            "Epoch 86/200\n",
            "2605/2605 - 8s - loss: 1.6760e-05 - accuracy: 1.0000 - val_loss: 6.9641e-04 - val_accuracy: 1.0000 - _timestamp: 1648705570.0000 - _runtime: 740.0000 - 8s/epoch - 3ms/step\n",
            "Epoch 87/200\n",
            "2605/2605 - 8s - loss: 3.6758e-06 - accuracy: 1.0000 - val_loss: 6.7339e-04 - val_accuracy: 1.0000 - _timestamp: 1648705578.0000 - _runtime: 748.0000 - 8s/epoch - 3ms/step\n",
            "Epoch 88/200\n",
            "2605/2605 - 8s - loss: 8.8437e-07 - accuracy: 1.0000 - val_loss: 5.1977e-04 - val_accuracy: 1.0000 - _timestamp: 1648705586.0000 - _runtime: 756.0000 - 8s/epoch - 3ms/step\n",
            "Epoch 89/200\n",
            "2605/2605 - 8s - loss: 0.0016 - accuracy: 0.9997 - val_loss: 3.9736e-04 - val_accuracy: 0.9999 - _timestamp: 1648705594.0000 - _runtime: 764.0000 - 8s/epoch - 3ms/step\n",
            "Epoch 90/200\n",
            "2605/2605 - 8s - loss: 9.6061e-04 - accuracy: 0.9998 - val_loss: 1.6120e-04 - val_accuracy: 1.0000 - _timestamp: 1648705602.0000 - _runtime: 772.0000 - 8s/epoch - 3ms/step\n",
            "Epoch 91/200\n",
            "2605/2605 - 8s - loss: 9.4964e-06 - accuracy: 1.0000 - val_loss: 1.0915e-05 - val_accuracy: 1.0000 - _timestamp: 1648705610.0000 - _runtime: 780.0000 - 8s/epoch - 3ms/step\n",
            "Epoch 92/200\n",
            "2605/2605 - 8s - loss: 2.3540e-06 - accuracy: 1.0000 - val_loss: 3.3204e-06 - val_accuracy: 1.0000 - _timestamp: 1648705618.0000 - _runtime: 788.0000 - 8s/epoch - 3ms/step\n",
            "Epoch 93/200\n",
            "2605/2605 - 8s - loss: 7.8419e-07 - accuracy: 1.0000 - val_loss: 5.8469e-06 - val_accuracy: 1.0000 - _timestamp: 1648705625.0000 - _runtime: 795.0000 - 8s/epoch - 3ms/step\n",
            "Epoch 94/200\n",
            "2605/2605 - 8s - loss: 3.4921e-04 - accuracy: 0.9999 - val_loss: 1.8557e-04 - val_accuracy: 0.9999 - _timestamp: 1648705633.0000 - _runtime: 803.0000 - 8s/epoch - 3ms/step\n",
            "Epoch 95/200\n",
            "2605/2605 - 8s - loss: 2.2166e-06 - accuracy: 1.0000 - val_loss: 2.8898e-05 - val_accuracy: 1.0000 - _timestamp: 1648705641.0000 - _runtime: 811.0000 - 8s/epoch - 3ms/step\n",
            "Epoch 96/200\n",
            "2605/2605 - 8s - loss: 5.1379e-07 - accuracy: 1.0000 - val_loss: 2.8586e-05 - val_accuracy: 1.0000 - _timestamp: 1648705649.0000 - _runtime: 819.0000 - 8s/epoch - 3ms/step\n",
            "Epoch 97/200\n",
            "2605/2605 - 8s - loss: 0.0011 - accuracy: 0.9998 - val_loss: 2.8083e-04 - val_accuracy: 0.9998 - _timestamp: 1648705657.0000 - _runtime: 827.0000 - 8s/epoch - 3ms/step\n",
            "Epoch 98/200\n",
            "2605/2605 - 8s - loss: 8.0482e-04 - accuracy: 0.9998 - val_loss: 5.0675e-04 - val_accuracy: 0.9999 - _timestamp: 1648705664.0000 - _runtime: 834.0000 - 8s/epoch - 3ms/step\n",
            "Epoch 99/200\n",
            "2605/2605 - 8s - loss: 3.6593e-04 - accuracy: 0.9999 - val_loss: 7.1769e-05 - val_accuracy: 0.9999 - _timestamp: 1648705672.0000 - _runtime: 842.0000 - 8s/epoch - 3ms/step\n",
            "Epoch 100/200\n",
            "2605/2605 - 8s - loss: 0.0011 - accuracy: 0.9998 - val_loss: 4.0712e-04 - val_accuracy: 0.9999 - _timestamp: 1648705680.0000 - _runtime: 850.0000 - 8s/epoch - 3ms/step\n",
            "Epoch 101/200\n",
            "2605/2605 - 8s - loss: 1.3782e-05 - accuracy: 1.0000 - val_loss: 3.6723e-04 - val_accuracy: 0.9999 - _timestamp: 1648705688.0000 - _runtime: 858.0000 - 8s/epoch - 3ms/step\n",
            "Epoch 102/200\n",
            "2605/2605 - 8s - loss: 1.9127e-06 - accuracy: 1.0000 - val_loss: 4.3263e-04 - val_accuracy: 0.9999 - _timestamp: 1648705695.0000 - _runtime: 865.0000 - 8s/epoch - 3ms/step\n",
            "Epoch 103/200\n",
            "2605/2605 - 8s - loss: 8.0488e-07 - accuracy: 1.0000 - val_loss: 2.7342e-04 - val_accuracy: 1.0000 - _timestamp: 1648705703.0000 - _runtime: 873.0000 - 8s/epoch - 3ms/step\n",
            "Epoch 104/200\n",
            "2605/2605 - 8s - loss: 1.8318e-07 - accuracy: 1.0000 - val_loss: 3.0426e-04 - val_accuracy: 1.0000 - _timestamp: 1648705711.0000 - _runtime: 881.0000 - 8s/epoch - 3ms/step\n",
            "Epoch 105/200\n",
            "2605/2605 - 8s - loss: 0.0013 - accuracy: 0.9998 - val_loss: 0.0022 - val_accuracy: 0.9993 - _timestamp: 1648705719.0000 - _runtime: 889.0000 - 8s/epoch - 3ms/step\n",
            "Epoch 106/200\n",
            "2605/2605 - 8s - loss: 5.8538e-04 - accuracy: 0.9998 - val_loss: 0.0010 - val_accuracy: 0.9997 - _timestamp: 1648705727.0000 - _runtime: 897.0000 - 8s/epoch - 3ms/step\n",
            "Epoch 107/200\n",
            "2605/2605 - 8s - loss: 6.9735e-04 - accuracy: 0.9998 - val_loss: 7.4802e-05 - val_accuracy: 1.0000 - _timestamp: 1648705734.0000 - _runtime: 904.0000 - 8s/epoch - 3ms/step\n",
            "Epoch 108/200\n",
            "2605/2605 - 8s - loss: 4.7376e-04 - accuracy: 0.9999 - val_loss: 1.6860e-04 - val_accuracy: 0.9999 - _timestamp: 1648705742.0000 - _runtime: 912.0000 - 8s/epoch - 3ms/step\n",
            "Epoch 109/200\n",
            "2605/2605 - 8s - loss: 5.8424e-04 - accuracy: 0.9999 - val_loss: 6.2032e-06 - val_accuracy: 1.0000 - _timestamp: 1648705750.0000 - _runtime: 920.0000 - 8s/epoch - 3ms/step\n",
            "Epoch 110/200\n",
            "2605/2605 - 8s - loss: 8.8126e-06 - accuracy: 1.0000 - val_loss: 1.0833e-05 - val_accuracy: 1.0000 - _timestamp: 1648705758.0000 - _runtime: 928.0000 - 8s/epoch - 3ms/step\n",
            "Epoch 111/200\n",
            "2605/2605 - 8s - loss: 1.1511e-06 - accuracy: 1.0000 - val_loss: 1.4638e-06 - val_accuracy: 1.0000 - _timestamp: 1648705766.0000 - _runtime: 936.0000 - 8s/epoch - 3ms/step\n",
            "Epoch 112/200\n",
            "2605/2605 - 8s - loss: 2.7293e-07 - accuracy: 1.0000 - val_loss: 1.5996e-06 - val_accuracy: 1.0000 - _timestamp: 1648705773.0000 - _runtime: 943.0000 - 8s/epoch - 3ms/step\n",
            "Epoch 113/200\n",
            "2605/2605 - 8s - loss: 0.0012 - accuracy: 0.9998 - val_loss: 4.5291e-04 - val_accuracy: 0.9999 - _timestamp: 1648705781.0000 - _runtime: 951.0000 - 8s/epoch - 3ms/step\n",
            "Epoch 114/200\n",
            "2605/2605 - 8s - loss: 9.3657e-04 - accuracy: 0.9998 - val_loss: 1.5271e-04 - val_accuracy: 1.0000 - _timestamp: 1648705789.0000 - _runtime: 959.0000 - 8s/epoch - 3ms/step\n",
            "Epoch 115/200\n",
            "2605/2605 - 8s - loss: 1.2279e-05 - accuracy: 1.0000 - val_loss: 1.0605e-04 - val_accuracy: 1.0000 - _timestamp: 1648705797.0000 - _runtime: 967.0000 - 8s/epoch - 3ms/step\n",
            "Epoch 116/200\n",
            "2605/2605 - 8s - loss: 8.6611e-04 - accuracy: 0.9998 - val_loss: 3.0200e-04 - val_accuracy: 0.9999 - _timestamp: 1648705804.0000 - _runtime: 974.0000 - 8s/epoch - 3ms/step\n",
            "Epoch 117/200\n",
            "2605/2605 - 8s - loss: 4.3036e-06 - accuracy: 1.0000 - val_loss: 2.8054e-04 - val_accuracy: 0.9999 - _timestamp: 1648705812.0000 - _runtime: 982.0000 - 8s/epoch - 3ms/step\n",
            "Epoch 118/200\n",
            "2605/2605 - 8s - loss: 2.1519e-06 - accuracy: 1.0000 - val_loss: 1.3825e-04 - val_accuracy: 0.9999 - _timestamp: 1648705820.0000 - _runtime: 990.0000 - 8s/epoch - 3ms/step\n",
            "Epoch 119/200\n",
            "2605/2605 - 8s - loss: 4.3820e-07 - accuracy: 1.0000 - val_loss: 4.4597e-05 - val_accuracy: 1.0000 - _timestamp: 1648705828.0000 - _runtime: 998.0000 - 8s/epoch - 3ms/step\n",
            "Epoch 120/200\n",
            "2605/2605 - 8s - loss: 3.1385e-04 - accuracy: 1.0000 - val_loss: 0.0768 - val_accuracy: 0.9894 - _timestamp: 1648705836.0000 - _runtime: 1006.0000 - 8s/epoch - 3ms/step\n",
            "Epoch 121/200\n",
            "2605/2605 - 8s - loss: 0.0013 - accuracy: 0.9997 - val_loss: 9.0411e-05 - val_accuracy: 1.0000 - _timestamp: 1648705843.0000 - _runtime: 1013.0000 - 8s/epoch - 3ms/step\n",
            "Epoch 122/200\n",
            "2605/2605 - 8s - loss: 8.0315e-04 - accuracy: 0.9998 - val_loss: 1.8600e-04 - val_accuracy: 1.0000 - _timestamp: 1648705851.0000 - _runtime: 1021.0000 - 8s/epoch - 3ms/step\n",
            "Epoch 123/200\n",
            "2605/2605 - 8s - loss: 5.8205e-06 - accuracy: 1.0000 - val_loss: 1.5251e-04 - val_accuracy: 1.0000 - _timestamp: 1648705859.0000 - _runtime: 1029.0000 - 8s/epoch - 3ms/step\n",
            "Epoch 124/200\n",
            "2605/2605 - 8s - loss: 9.8779e-07 - accuracy: 1.0000 - val_loss: 1.8270e-04 - val_accuracy: 1.0000 - _timestamp: 1648705867.0000 - _runtime: 1037.0000 - 8s/epoch - 3ms/step\n",
            "Epoch 125/200\n",
            "2605/2605 - 8s - loss: 6.1620e-07 - accuracy: 1.0000 - val_loss: 1.0111e-04 - val_accuracy: 1.0000 - _timestamp: 1648705875.0000 - _runtime: 1045.0000 - 8s/epoch - 3ms/step\n",
            "Epoch 126/200\n",
            "2605/2605 - 8s - loss: 1.7206e-07 - accuracy: 1.0000 - val_loss: 1.2725e-04 - val_accuracy: 1.0000 - _timestamp: 1648705883.0000 - _runtime: 1053.0000 - 8s/epoch - 3ms/step\n",
            "Epoch 127/200\n",
            "2605/2605 - 8s - loss: 5.3310e-04 - accuracy: 0.9999 - val_loss: 6.6909e-04 - val_accuracy: 0.9999 - _timestamp: 1648705890.0000 - _runtime: 1060.0000 - 8s/epoch - 3ms/step\n",
            "Epoch 128/200\n",
            "2605/2605 - 8s - loss: 7.9478e-04 - accuracy: 0.9999 - val_loss: 4.0868e-04 - val_accuracy: 0.9999 - _timestamp: 1648705898.0000 - _runtime: 1068.0000 - 8s/epoch - 3ms/step\n",
            "Epoch 129/200\n",
            "2605/2605 - 8s - loss: 5.2938e-06 - accuracy: 1.0000 - val_loss: 4.8655e-04 - val_accuracy: 1.0000 - _timestamp: 1648705906.0000 - _runtime: 1076.0000 - 8s/epoch - 3ms/step\n",
            "Epoch 130/200\n",
            "2605/2605 - 8s - loss: 0.0015 - accuracy: 0.9997 - val_loss: 6.7032e-04 - val_accuracy: 0.9999 - _timestamp: 1648705914.0000 - _runtime: 1084.0000 - 8s/epoch - 3ms/step\n",
            "Epoch 131/200\n",
            "2605/2605 - 8s - loss: 7.0461e-06 - accuracy: 1.0000 - val_loss: 4.6796e-04 - val_accuracy: 0.9999 - _timestamp: 1648705921.0000 - _runtime: 1091.0000 - 8s/epoch - 3ms/step\n",
            "Epoch 132/200\n",
            "2605/2605 - 8s - loss: 1.9140e-06 - accuracy: 1.0000 - val_loss: 4.0582e-04 - val_accuracy: 1.0000 - _timestamp: 1648705929.0000 - _runtime: 1099.0000 - 8s/epoch - 3ms/step\n",
            "Epoch 133/200\n",
            "2605/2605 - 8s - loss: 6.9758e-07 - accuracy: 1.0000 - val_loss: 4.8015e-04 - val_accuracy: 1.0000 - _timestamp: 1648705937.0000 - _runtime: 1107.0000 - 8s/epoch - 3ms/step\n",
            "Epoch 134/200\n",
            "2605/2605 - 8s - loss: 4.9134e-04 - accuracy: 0.9999 - val_loss: 3.8015e-04 - val_accuracy: 1.0000 - _timestamp: 1648705945.0000 - _runtime: 1115.0000 - 8s/epoch - 3ms/step\n",
            "Epoch 135/200\n",
            "2605/2605 - 8s - loss: 6.1519e-04 - accuracy: 0.9999 - val_loss: 9.2900e-04 - val_accuracy: 0.9999 - _timestamp: 1648705952.0000 - _runtime: 1122.0000 - 8s/epoch - 3ms/step\n",
            "Epoch 136/200\n",
            "2605/2605 - 8s - loss: 0.0011 - accuracy: 0.9998 - val_loss: 0.0012 - val_accuracy: 0.9999 - _timestamp: 1648705960.0000 - _runtime: 1130.0000 - 8s/epoch - 3ms/step\n",
            "Epoch 137/200\n",
            "2605/2605 - 8s - loss: 6.1795e-04 - accuracy: 0.9998 - val_loss: 6.8893e-04 - val_accuracy: 0.9999 - _timestamp: 1648705968.0000 - _runtime: 1138.0000 - 8s/epoch - 3ms/step\n",
            "Epoch 138/200\n",
            "2605/2605 - 8s - loss: 4.8951e-04 - accuracy: 0.9999 - val_loss: 0.0016 - val_accuracy: 0.9998 - _timestamp: 1648705976.0000 - _runtime: 1146.0000 - 8s/epoch - 3ms/step\n",
            "Epoch 139/200\n",
            "2605/2605 - 8s - loss: 9.8270e-04 - accuracy: 0.9998 - val_loss: 0.0015 - val_accuracy: 0.9999 - _timestamp: 1648705984.0000 - _runtime: 1154.0000 - 8s/epoch - 3ms/step\n",
            "Epoch 140/200\n",
            "2605/2605 - 8s - loss: 5.1252e-04 - accuracy: 0.9999 - val_loss: 0.0013 - val_accuracy: 0.9998 - _timestamp: 1648705991.0000 - _runtime: 1161.0000 - 8s/epoch - 3ms/step\n",
            "Epoch 141/200\n",
            "2605/2605 - 8s - loss: 4.1342e-04 - accuracy: 0.9999 - val_loss: 5.1951e-04 - val_accuracy: 0.9999 - _timestamp: 1648705999.0000 - _runtime: 1169.0000 - 8s/epoch - 3ms/step\n",
            "Epoch 142/200\n",
            "2605/2605 - 8s - loss: 1.8395e-05 - accuracy: 1.0000 - val_loss: 5.8553e-04 - val_accuracy: 1.0000 - _timestamp: 1648706007.0000 - _runtime: 1177.0000 - 8s/epoch - 3ms/step\n",
            "Epoch 143/200\n",
            "2605/2605 - 8s - loss: 9.1899e-04 - accuracy: 0.9998 - val_loss: 0.0079 - val_accuracy: 0.9988 - _timestamp: 1648706014.0000 - _runtime: 1184.0000 - 8s/epoch - 3ms/step\n",
            "Epoch 144/200\n",
            "2605/2605 - 8s - loss: 1.8894e-04 - accuracy: 1.0000 - val_loss: 5.7658e-04 - val_accuracy: 1.0000 - _timestamp: 1648706022.0000 - _runtime: 1192.0000 - 8s/epoch - 3ms/step\n",
            "Epoch 145/200\n",
            "2605/2605 - 8s - loss: 3.3066e-06 - accuracy: 1.0000 - val_loss: 6.4189e-04 - val_accuracy: 0.9999 - _timestamp: 1648706030.0000 - _runtime: 1200.0000 - 8s/epoch - 3ms/step\n",
            "Epoch 146/200\n",
            "2605/2605 - 8s - loss: 7.4549e-04 - accuracy: 0.9998 - val_loss: 0.0051 - val_accuracy: 0.9990 - _timestamp: 1648706038.0000 - _runtime: 1208.0000 - 8s/epoch - 3ms/step\n",
            "Epoch 147/200\n",
            "2605/2605 - 8s - loss: 3.0584e-04 - accuracy: 1.0000 - val_loss: 0.0011 - val_accuracy: 1.0000 - _timestamp: 1648706046.0000 - _runtime: 1216.0000 - 8s/epoch - 3ms/step\n",
            "Epoch 148/200\n",
            "2605/2605 - 8s - loss: 2.2069e-06 - accuracy: 1.0000 - val_loss: 0.0011 - val_accuracy: 1.0000 - _timestamp: 1648706053.0000 - _runtime: 1223.0000 - 8s/epoch - 3ms/step\n",
            "Epoch 149/200\n",
            "2605/2605 - 8s - loss: 5.7312e-04 - accuracy: 0.9999 - val_loss: 5.1509e-04 - val_accuracy: 0.9999 - _timestamp: 1648706061.0000 - _runtime: 1231.0000 - 8s/epoch - 3ms/step\n",
            "Epoch 150/200\n",
            "2605/2605 - 8s - loss: 8.6208e-06 - accuracy: 1.0000 - val_loss: 9.1819e-04 - val_accuracy: 0.9999 - _timestamp: 1648706069.0000 - _runtime: 1239.0000 - 8s/epoch - 3ms/step\n",
            "Epoch 151/200\n",
            "2605/2605 - 8s - loss: 3.6962e-06 - accuracy: 1.0000 - val_loss: 5.2443e-04 - val_accuracy: 0.9999 - _timestamp: 1648706077.0000 - _runtime: 1247.0000 - 8s/epoch - 3ms/step\n",
            "Epoch 152/200\n",
            "2605/2605 - 8s - loss: 0.0012 - accuracy: 0.9997 - val_loss: 0.0017 - val_accuracy: 0.9998 - _timestamp: 1648706084.0000 - _runtime: 1254.0000 - 8s/epoch - 3ms/step\n",
            "Epoch 153/200\n",
            "2605/2605 - 8s - loss: 3.0442e-05 - accuracy: 1.0000 - val_loss: 6.8720e-04 - val_accuracy: 0.9999 - _timestamp: 1648706092.0000 - _runtime: 1262.0000 - 8s/epoch - 3ms/step\n",
            "Epoch 154/200\n",
            "2605/2605 - 8s - loss: 5.3607e-04 - accuracy: 0.9999 - val_loss: 0.0013 - val_accuracy: 0.9999 - _timestamp: 1648706100.0000 - _runtime: 1270.0000 - 8s/epoch - 3ms/step\n",
            "Epoch 155/200\n",
            "2605/2605 - 8s - loss: 1.2851e-05 - accuracy: 1.0000 - val_loss: 6.6549e-04 - val_accuracy: 0.9999 - _timestamp: 1648706108.0000 - _runtime: 1278.0000 - 8s/epoch - 3ms/step\n",
            "Epoch 156/200\n",
            "2605/2605 - 8s - loss: 2.2254e-06 - accuracy: 1.0000 - val_loss: 7.8871e-04 - val_accuracy: 0.9999 - _timestamp: 1648706116.0000 - _runtime: 1286.0000 - 8s/epoch - 3ms/step\n",
            "Epoch 157/200\n",
            "2605/2605 - 8s - loss: 0.0010 - accuracy: 0.9997 - val_loss: 9.6235e-04 - val_accuracy: 0.9999 - _timestamp: 1648706123.0000 - _runtime: 1293.0000 - 8s/epoch - 3ms/step\n",
            "Epoch 158/200\n",
            "2605/2605 - 8s - loss: 2.7727e-05 - accuracy: 1.0000 - val_loss: 7.3793e-04 - val_accuracy: 0.9999 - _timestamp: 1648706131.0000 - _runtime: 1301.0000 - 8s/epoch - 3ms/step\n",
            "Epoch 159/200\n",
            "2605/2605 - 8s - loss: 4.6772e-04 - accuracy: 0.9999 - val_loss: 0.0013 - val_accuracy: 0.9998 - _timestamp: 1648706139.0000 - _runtime: 1309.0000 - 8s/epoch - 3ms/step\n",
            "Epoch 160/200\n",
            "2605/2605 - 8s - loss: 8.1494e-06 - accuracy: 1.0000 - val_loss: 7.2482e-04 - val_accuracy: 0.9999 - _timestamp: 1648706147.0000 - _runtime: 1317.0000 - 8s/epoch - 3ms/step\n",
            "Epoch 161/200\n",
            "2605/2605 - 8s - loss: 8.5871e-05 - accuracy: 1.0000 - val_loss: 8.5299e-04 - val_accuracy: 0.9999 - _timestamp: 1648706154.0000 - _runtime: 1324.0000 - 8s/epoch - 3ms/step\n",
            "Epoch 162/200\n",
            "2605/2605 - 8s - loss: 0.0013 - accuracy: 0.9998 - val_loss: 0.0015 - val_accuracy: 0.9998 - _timestamp: 1648706162.0000 - _runtime: 1332.0000 - 8s/epoch - 3ms/step\n",
            "Epoch 163/200\n",
            "2605/2605 - 8s - loss: 1.5296e-04 - accuracy: 1.0000 - val_loss: 4.1820e-04 - val_accuracy: 0.9999 - _timestamp: 1648706170.0000 - _runtime: 1340.0000 - 8s/epoch - 3ms/step\n",
            "Epoch 164/200\n",
            "2605/2605 - 8s - loss: 3.7001e-06 - accuracy: 1.0000 - val_loss: 4.4055e-04 - val_accuracy: 0.9999 - _timestamp: 1648706178.0000 - _runtime: 1348.0000 - 8s/epoch - 3ms/step\n",
            "Epoch 165/200\n",
            "2605/2605 - 8s - loss: 5.4386e-04 - accuracy: 0.9999 - val_loss: 4.5195e-04 - val_accuracy: 0.9999 - _timestamp: 1648706186.0000 - _runtime: 1356.0000 - 8s/epoch - 3ms/step\n",
            "Epoch 166/200\n",
            "2605/2605 - 8s - loss: 2.4177e-06 - accuracy: 1.0000 - val_loss: 5.8814e-04 - val_accuracy: 0.9999 - _timestamp: 1648706193.0000 - _runtime: 1363.0000 - 8s/epoch - 3ms/step\n",
            "Epoch 167/200\n",
            "2605/2605 - 8s - loss: 9.2506e-07 - accuracy: 1.0000 - val_loss: 4.6301e-04 - val_accuracy: 0.9999 - _timestamp: 1648706201.0000 - _runtime: 1371.0000 - 8s/epoch - 3ms/step\n",
            "Epoch 168/200\n",
            "2605/2605 - 8s - loss: 3.3427e-07 - accuracy: 1.0000 - val_loss: 5.5268e-04 - val_accuracy: 1.0000 - _timestamp: 1648706209.0000 - _runtime: 1379.0000 - 8s/epoch - 3ms/step\n",
            "Epoch 169/200\n",
            "2605/2605 - 8s - loss: 7.2207e-04 - accuracy: 0.9998 - val_loss: 2.0104e-04 - val_accuracy: 0.9999 - _timestamp: 1648706217.0000 - _runtime: 1387.0000 - 8s/epoch - 3ms/step\n",
            "Epoch 170/200\n",
            "2605/2605 - 8s - loss: 3.4161e-04 - accuracy: 0.9999 - val_loss: 3.8038e-04 - val_accuracy: 1.0000 - _timestamp: 1648706224.0000 - _runtime: 1394.0000 - 8s/epoch - 3ms/step\n",
            "Epoch 171/200\n",
            "2605/2605 - 8s - loss: 7.2778e-04 - accuracy: 0.9998 - val_loss: 0.0010 - val_accuracy: 0.9999 - _timestamp: 1648706232.0000 - _runtime: 1402.0000 - 8s/epoch - 3ms/step\n",
            "Epoch 172/200\n",
            "2605/2605 - 8s - loss: 5.7099e-04 - accuracy: 0.9998 - val_loss: 0.0011 - val_accuracy: 0.9998 - _timestamp: 1648706240.0000 - _runtime: 1410.0000 - 8s/epoch - 3ms/step\n",
            "Epoch 173/200\n",
            "2605/2605 - 8s - loss: 2.5637e-05 - accuracy: 1.0000 - val_loss: 4.5955e-04 - val_accuracy: 1.0000 - _timestamp: 1648706248.0000 - _runtime: 1418.0000 - 8s/epoch - 3ms/step\n",
            "Epoch 174/200\n",
            "2605/2605 - 8s - loss: 3.2828e-06 - accuracy: 1.0000 - val_loss: 2.9645e-04 - val_accuracy: 1.0000 - _timestamp: 1648706256.0000 - _runtime: 1426.0000 - 8s/epoch - 3ms/step\n",
            "Epoch 175/200\n",
            "2605/2605 - 8s - loss: 3.8565e-07 - accuracy: 1.0000 - val_loss: 2.6898e-04 - val_accuracy: 1.0000 - _timestamp: 1648706264.0000 - _runtime: 1434.0000 - 8s/epoch - 3ms/step\n",
            "Epoch 176/200\n",
            "2605/2605 - 8s - loss: 1.8221e-07 - accuracy: 1.0000 - val_loss: 2.5781e-04 - val_accuracy: 1.0000 - _timestamp: 1648706272.0000 - _runtime: 1442.0000 - 8s/epoch - 3ms/step\n",
            "Epoch 177/200\n",
            "2605/2605 - 8s - loss: 7.0016e-08 - accuracy: 1.0000 - val_loss: 3.6378e-04 - val_accuracy: 1.0000 - _timestamp: 1648706279.0000 - _runtime: 1449.0000 - 8s/epoch - 3ms/step\n",
            "Epoch 178/200\n",
            "2605/2605 - 8s - loss: 8.5410e-04 - accuracy: 0.9998 - val_loss: 8.0251e-04 - val_accuracy: 1.0000 - _timestamp: 1648706287.0000 - _runtime: 1457.0000 - 8s/epoch - 3ms/step\n",
            "Epoch 179/200\n",
            "2605/2605 - 8s - loss: 2.3091e-04 - accuracy: 1.0000 - val_loss: 0.0017 - val_accuracy: 0.9999 - _timestamp: 1648706295.0000 - _runtime: 1465.0000 - 8s/epoch - 3ms/step\n",
            "Epoch 180/200\n",
            "2605/2605 - 8s - loss: 9.3528e-04 - accuracy: 0.9998 - val_loss: 5.9914e-04 - val_accuracy: 1.0000 - _timestamp: 1648706303.0000 - _runtime: 1473.0000 - 8s/epoch - 3ms/step\n",
            "Epoch 181/200\n",
            "2605/2605 - 8s - loss: 9.6138e-04 - accuracy: 0.9998 - val_loss: 5.3245e-04 - val_accuracy: 0.9999 - _timestamp: 1648706311.0000 - _runtime: 1481.0000 - 8s/epoch - 3ms/step\n",
            "Epoch 182/200\n",
            "2605/2605 - 8s - loss: 3.0722e-05 - accuracy: 1.0000 - val_loss: 9.1840e-06 - val_accuracy: 1.0000 - _timestamp: 1648706319.0000 - _runtime: 1489.0000 - 8s/epoch - 3ms/step\n",
            "Epoch 183/200\n",
            "2605/2605 - 8s - loss: 1.5883e-06 - accuracy: 1.0000 - val_loss: 1.0919e-05 - val_accuracy: 1.0000 - _timestamp: 1648706326.0000 - _runtime: 1496.0000 - 8s/epoch - 3ms/step\n",
            "Epoch 184/200\n",
            "2605/2605 - 8s - loss: 6.9249e-04 - accuracy: 0.9998 - val_loss: 2.3585e-04 - val_accuracy: 1.0000 - _timestamp: 1648706334.0000 - _runtime: 1504.0000 - 8s/epoch - 3ms/step\n",
            "Epoch 185/200\n",
            "2605/2605 - 8s - loss: 5.0133e-04 - accuracy: 0.9999 - val_loss: 2.0396e-04 - val_accuracy: 1.0000 - _timestamp: 1648706342.0000 - _runtime: 1512.0000 - 8s/epoch - 3ms/step\n",
            "Epoch 186/200\n",
            "2605/2605 - 8s - loss: 4.9653e-06 - accuracy: 1.0000 - val_loss: 2.1213e-04 - val_accuracy: 1.0000 - _timestamp: 1648706350.0000 - _runtime: 1520.0000 - 8s/epoch - 3ms/step\n",
            "Epoch 187/200\n",
            "2605/2605 - 8s - loss: 7.6887e-05 - accuracy: 1.0000 - val_loss: 1.9437e-04 - val_accuracy: 0.9999 - _timestamp: 1648706358.0000 - _runtime: 1528.0000 - 8s/epoch - 3ms/step\n",
            "Epoch 188/200\n",
            "2605/2605 - 8s - loss: 6.7742e-04 - accuracy: 0.9999 - val_loss: 3.9569e-05 - val_accuracy: 1.0000 - _timestamp: 1648706365.0000 - _runtime: 1535.0000 - 8s/epoch - 3ms/step\n",
            "Epoch 189/200\n",
            "2605/2605 - 8s - loss: 8.0711e-06 - accuracy: 1.0000 - val_loss: 3.4932e-05 - val_accuracy: 1.0000 - _timestamp: 1648706373.0000 - _runtime: 1543.0000 - 8s/epoch - 3ms/step\n",
            "Epoch 190/200\n",
            "2605/2605 - 8s - loss: 6.5603e-07 - accuracy: 1.0000 - val_loss: 2.8016e-05 - val_accuracy: 1.0000 - _timestamp: 1648706381.0000 - _runtime: 1551.0000 - 8s/epoch - 3ms/step\n",
            "Epoch 191/200\n",
            "2605/2605 - 8s - loss: 4.2995e-04 - accuracy: 0.9999 - val_loss: 4.4745e-04 - val_accuracy: 0.9999 - _timestamp: 1648706389.0000 - _runtime: 1559.0000 - 8s/epoch - 3ms/step\n",
            "Epoch 192/200\n",
            "2605/2605 - 8s - loss: 0.0012 - accuracy: 0.9997 - val_loss: 2.9035e-04 - val_accuracy: 0.9999 - _timestamp: 1648706396.0000 - _runtime: 1566.0000 - 8s/epoch - 3ms/step\n",
            "Epoch 193/200\n",
            "2605/2605 - 8s - loss: 2.8206e-05 - accuracy: 1.0000 - val_loss: 1.1326e-04 - val_accuracy: 1.0000 - _timestamp: 1648706404.0000 - _runtime: 1574.0000 - 8s/epoch - 3ms/step\n",
            "Epoch 194/200\n",
            "2605/2605 - 8s - loss: 1.3042e-04 - accuracy: 1.0000 - val_loss: 8.4649e-05 - val_accuracy: 1.0000 - _timestamp: 1648706412.0000 - _runtime: 1582.0000 - 8s/epoch - 3ms/step\n",
            "Epoch 195/200\n",
            "2605/2605 - 8s - loss: 1.6291e-06 - accuracy: 1.0000 - val_loss: 9.6344e-05 - val_accuracy: 1.0000 - _timestamp: 1648706420.0000 - _runtime: 1590.0000 - 8s/epoch - 3ms/step\n",
            "Epoch 196/200\n",
            "2605/2605 - 8s - loss: 8.6568e-07 - accuracy: 1.0000 - val_loss: 0.0011 - val_accuracy: 0.9997 - _timestamp: 1648706428.0000 - _runtime: 1598.0000 - 8s/epoch - 3ms/step\n",
            "Epoch 197/200\n",
            "2605/2605 - 8s - loss: 9.7128e-04 - accuracy: 0.9998 - val_loss: 2.8934e-04 - val_accuracy: 0.9999 - _timestamp: 1648706435.0000 - _runtime: 1605.0000 - 8s/epoch - 3ms/step\n",
            "Epoch 198/200\n",
            "2605/2605 - 8s - loss: 6.8466e-06 - accuracy: 1.0000 - val_loss: 1.4117e-04 - val_accuracy: 1.0000 - _timestamp: 1648706443.0000 - _runtime: 1613.0000 - 8s/epoch - 3ms/step\n",
            "Epoch 199/200\n",
            "2605/2605 - 8s - loss: 6.7556e-07 - accuracy: 1.0000 - val_loss: 1.3494e-04 - val_accuracy: 1.0000 - _timestamp: 1648706451.0000 - _runtime: 1621.0000 - 8s/epoch - 3ms/step\n",
            "Epoch 200/200\n",
            "2605/2605 - 8s - loss: 1.5139e-04 - accuracy: 1.0000 - val_loss: 0.0137 - val_accuracy: 0.9973 - _timestamp: 1648706459.0000 - _runtime: 1629.0000 - 8s/epoch - 3ms/step\n"
          ]
        },
        {
          "output_type": "execute_result",
          "data": {
            "text/plain": [
              "<keras.callbacks.History at 0x7f9329c32310>"
            ]
          },
          "metadata": {},
          "execution_count": 18
        }
      ]
    },
    {
      "cell_type": "code",
      "source": [
        "#using lstm model\n",
        "from sklearn.metrics import confusion_matrix\n",
        "from sklearn.metrics import accuracy_score\n",
        "pred=model.predict(X_test)\n",
        "accuracy=model.evaluate(X_test,y_test)\n",
        "print(\"accuracy is {}\".format(accuracy[1]))\n",
        "wandb.sklearn.plot_confusion_matrix(y_test.argmax(axis=1), pred.argmax(axis=1),labels)\n",
        "wandb.termlog('Logged confusion matrix.')\n",
        "wandb.sklearn.plot_class_proportions(y_train.argmax(axis=1), y_test.argmax(axis=1),['Forward','Lateral','Backward','Dampen'])\n",
        "wandb.termlog('Logged class proportions.')"
      ],
      "metadata": {
        "colab": {
          "base_uri": "https://localhost:8080/"
        },
        "id": "ITQ_YUuOLVfk",
        "outputId": "ae312d0c-fbe7-4ea1-9966-cbb407af5d46"
      },
      "execution_count": 21,
      "outputs": [
        {
          "output_type": "stream",
          "name": "stdout",
          "text": [
            "1086/1086 [==============================] - 2s 2ms/step - loss: 0.0134 - accuracy: 0.9976\n",
            "accuracy is 0.9975525736808777\n"
          ]
        },
        {
          "output_type": "stream",
          "name": "stderr",
          "text": [
            "\u001b[34m\u001b[1mwandb\u001b[0m: Logged confusion matrix.\n",
            "\u001b[34m\u001b[1mwandb\u001b[0m: Logged class proportions.\n"
          ]
        }
      ]
    },
    {
      "cell_type": "code",
      "source": [
        ""
      ],
      "metadata": {
        "id": "rR1ry-ZCkVhZ"
      },
      "execution_count": null,
      "outputs": []
    }
  ]
}